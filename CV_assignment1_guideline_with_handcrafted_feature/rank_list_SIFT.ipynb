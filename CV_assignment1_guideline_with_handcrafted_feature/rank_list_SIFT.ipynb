{
 "cells": [
  {
   "cell_type": "code",
   "execution_count": 1,
   "id": "2a23afb4",
   "metadata": {},
   "outputs": [],
   "source": [
    "import numpy as np \n",
    "import cv2 \n",
    "import pandas as pd\n",
    "import glob\n",
    "import time \n",
    "from tqdm import tqdm\n",
    "from sklearn.metrics.pairwise import cosine_similarity\n",
    "\n",
    "def extract_sift_des(image):\n",
    "    sift = cv2.ORB_create()\n",
    "    kp, des = sift.detectAndCompute(image, None)\n",
    "    return des\n",
    "\n",
    "def read_bounding_box(path):\n",
    "    boundary_file = open(path, 'r')\n",
    "    boundary = boundary_file.readline().strip().split(' ')\n",
    "    boundary = [int(b) for b in boundary]\n",
    "    boundary_file.close()\n",
    "    return boundary"
   ]
  },
  {
   "cell_type": "code",
   "execution_count": 2,
   "id": "61bae164",
   "metadata": {
    "scrolled": true
   },
   "outputs": [
    {
     "name": "stderr",
     "output_type": "stream",
     "text": [
      "5000it [03:03, 27.19it/s]\n"
     ]
    }
   ],
   "source": [
    "download_path='C:/Users/IV/Desktop/CityU' # change to your own download path\n",
    "path_query=download_path+'/query_4186'\n",
    "path_query_txt=download_path+'/query_txt_4186'\n",
    "\n",
    "# path_query_txt is the directory to the bounding box information of the instance(s) for the query images\n",
    "path_gallery=download_path+'/gallery_4186'\n",
    "\n",
    "name_query=glob.glob(path_query+'/*.jpg')\n",
    "num_query=len(name_query)\n",
    "name_gallery=glob.glob(path_gallery+'/*.jpg')\n",
    "num_gallery=len(name_gallery)\n",
    "record_all=np.zeros((num_query,len(name_gallery)))\n",
    "query_imgs_no = [x.split('\\\\')[-1] for x in glob.glob(path_query+'/*.jpg')]\n",
    "query_imgs_no = [x[:-4] for x in query_imgs_no]\n",
    "\n",
    "gallery_imgs_no = [x.split('\\\\')[-1] for x in glob.glob(path_gallery+'/*.jpg')]\n",
    "gallery_imgs_no = [x[:-4] for x in gallery_imgs_no]\n",
    "\n",
    "gallery_des = []\n",
    "\n",
    "for i, gallery_img_no in tqdm(enumerate(gallery_imgs_no)):\n",
    "    per_gallery_name = path_gallery+'/'+str(gallery_img_no)+'.jpg'\n",
    "    per_gallery=cv2.imread(per_gallery_name)\n",
    "    # Image pre-processing\n",
    "    per_gallery = cv2.GaussianBlur(per_gallery,(3,3),0)\n",
    "    per_gallery = cv2.cvtColor(per_gallery,cv2.COLOR_BGR2YUV)\n",
    "    per_gallery[:,:,0] = cv2.equalizeHist(per_gallery[:,:,0])\n",
    "    per_gallery = cv2.cvtColor(per_gallery,cv2.COLOR_YUV2BGR)\n",
    "    # feature extraction for per gallery\n",
    "    per_gallery_des = extract_sift_des(per_gallery)\n",
    "    gallery_des.append(per_gallery_des)"
   ]
  },
  {
   "cell_type": "code",
   "execution_count": 3,
   "id": "c2968b28",
   "metadata": {
    "scrolled": false
   },
   "outputs": [
    {
     "name": "stderr",
     "output_type": "stream",
     "text": [
      "Processing query part 0: 5000it [00:11, 450.85it/s]\n",
      "1it [00:19, 19.09s/it]"
     ]
    },
    {
     "name": "stdout",
     "output_type": "stream",
     "text": [
      "retrieval time for query 1258 is 19.088042974472046s\n",
      "For query image No. 1258, the top 10 ranked similar image No. are 2403 3831 2726 3960 91 3612 2408 734 3679 4937\n"
     ]
    },
    {
     "name": "stderr",
     "output_type": "stream",
     "text": [
      "Processing query part 1: 5000it [00:10, 486.14it/s]\n",
      "2it [00:37, 18.56s/it]"
     ]
    },
    {
     "name": "stdout",
     "output_type": "stream",
     "text": [
      "retrieval time for query 1656 is 18.18750834465027s\n",
      "For query image No. 1656, the top 10 ranked similar image No. are 2003 339 3748 4042 4209 3034 1938 3945 772 1227\n"
     ]
    },
    {
     "name": "stderr",
     "output_type": "stream",
     "text": [
      "Processing query part 2: 5000it [00:09, 509.96it/s]\n",
      "3it [00:55, 18.20s/it]"
     ]
    },
    {
     "name": "stdout",
     "output_type": "stream",
     "text": [
      "retrieval time for query 1709 is 17.772496938705444s\n",
      "For query image No. 1709, the top 10 ranked similar image No. are 177 3162 634 1073 960 4500 2847 2726 3284 4411\n"
     ]
    },
    {
     "name": "stderr",
     "output_type": "stream",
     "text": [
      "Processing query part 3: 5000it [00:07, 643.04it/s]\n",
      "4it [01:10, 17.14s/it]"
     ]
    },
    {
     "name": "stdout",
     "output_type": "stream",
     "text": [
      "retrieval time for query 2032 is 15.516194343566895s\n",
      "For query image No. 2032, the top 10 ranked similar image No. are 770 3660 4838 4056 21 1318 4098 2522 3344 3692\n"
     ]
    },
    {
     "name": "stderr",
     "output_type": "stream",
     "text": [
      "Processing query part 4: 5000it [00:09, 512.87it/s]\n",
      "5it [01:28, 17.29s/it]"
     ]
    },
    {
     "name": "stdout",
     "output_type": "stream",
     "text": [
      "retrieval time for query 2040 is 17.563448429107666s\n",
      "For query image No. 2040, the top 10 ranked similar image No. are 2240 2118 1973 2900 4615 2170 2316 3705 977 2536\n"
     ]
    },
    {
     "name": "stderr",
     "output_type": "stream",
     "text": [
      "Processing query part 5: 5000it [00:08, 570.74it/s]\n",
      "6it [01:45, 17.22s/it]"
     ]
    },
    {
     "name": "stdout",
     "output_type": "stream",
     "text": [
      "retrieval time for query 2176 is 17.081005096435547s\n",
      "For query image No. 2176, the top 10 ranked similar image No. are 2215 632 2553 439 655 3225 1513 380 3548 4790\n"
     ]
    },
    {
     "name": "stderr",
     "output_type": "stream",
     "text": [
      "Processing query part 6: 5000it [00:10, 499.15it/s]\n",
      "7it [02:03, 17.49s/it]"
     ]
    },
    {
     "name": "stdout",
     "output_type": "stream",
     "text": [
      "retrieval time for query 2461 is 18.03589367866516s\n",
      "For query image No. 2461, the top 10 ranked similar image No. are 343 4098 3171 3361 4298 466 151 1724 2557 2893\n"
     ]
    },
    {
     "name": "stderr",
     "output_type": "stream",
     "text": [
      "Processing query part 7: 5000it [00:08, 557.35it/s]\n",
      "8it [02:20, 17.43s/it]"
     ]
    },
    {
     "name": "stdout",
     "output_type": "stream",
     "text": [
      "retrieval time for query 27 is 17.31149959564209s\n",
      "For query image No. 27, the top 10 ranked similar image No. are 3457 26 2656 558 4079 3336 3945 1302 4193 65\n"
     ]
    },
    {
     "name": "stderr",
     "output_type": "stream",
     "text": [
      "Processing query part 8: 5000it [00:08, 558.05it/s]\n",
      "9it [02:37, 17.27s/it]"
     ]
    },
    {
     "name": "stdout",
     "output_type": "stream",
     "text": [
      "retrieval time for query 2714 is 16.90504288673401s\n",
      "For query image No. 2714, the top 10 ranked similar image No. are 4256 2955 4340 2588 4557 3375 422 2575 1293 3612\n"
     ]
    },
    {
     "name": "stderr",
     "output_type": "stream",
     "text": [
      "Processing query part 9: 5000it [00:08, 568.12it/s]\n",
      "10it [02:54, 17.15s/it]"
     ]
    },
    {
     "name": "stdout",
     "output_type": "stream",
     "text": [
      "retrieval time for query 316 is 16.88684368133545s\n",
      "For query image No. 316, the top 10 ranked similar image No. are 3113 3302 3835 1384 3083 2631 3934 992 3594 985\n"
     ]
    },
    {
     "name": "stderr",
     "output_type": "stream",
     "text": [
      "Processing query part 10: 5000it [00:09, 505.79it/s]\n",
      "11it [03:12, 17.60s/it]"
     ]
    },
    {
     "name": "stdout",
     "output_type": "stream",
     "text": [
      "retrieval time for query 35 is 18.623727560043335s\n",
      "For query image No. 35, the top 10 ranked similar image No. are 86 2424 1238 203 4523 4175 1860 1559 4249 4754\n"
     ]
    },
    {
     "name": "stderr",
     "output_type": "stream",
     "text": [
      "Processing query part 11: 5000it [00:09, 530.41it/s]\n",
      "12it [03:30, 17.57s/it]"
     ]
    },
    {
     "name": "stdout",
     "output_type": "stream",
     "text": [
      "retrieval time for query 3502 is 17.502586364746094s\n",
      "For query image No. 3502, the top 10 ranked similar image No. are 3331 990 4713 1725 4473 3493 2715 1128 3038 4271\n"
     ]
    },
    {
     "name": "stderr",
     "output_type": "stream",
     "text": [
      "Processing query part 12: 5000it [00:10, 495.35it/s]\n",
      "13it [03:48, 17.76s/it]"
     ]
    },
    {
     "name": "stdout",
     "output_type": "stream",
     "text": [
      "retrieval time for query 3557 is 18.202712059020996s\n",
      "For query image No. 3557, the top 10 ranked similar image No. are 4325 932 3921 3758 4978 810 3730 4948 3228 187\n"
     ]
    },
    {
     "name": "stderr",
     "output_type": "stream",
     "text": [
      "Processing query part 13: 5000it [00:06, 815.13it/s]\n",
      "14it [04:02, 16.60s/it]"
     ]
    },
    {
     "name": "stdout",
     "output_type": "stream",
     "text": [
      "retrieval time for query 3833 is 13.901559114456177s\n",
      "For query image No. 3833, the top 10 ranked similar image No. are 1038 2656 4674 3619 571 4514 4223 2815 4979 88\n"
     ]
    },
    {
     "name": "stderr",
     "output_type": "stream",
     "text": [
      "Processing query part 14: 5000it [00:05, 934.09it/s]\n",
      "15it [04:15, 15.42s/it]"
     ]
    },
    {
     "name": "stdout",
     "output_type": "stream",
     "text": [
      "retrieval time for query 3906 is 12.698879480361938s\n",
      "For query image No. 3906, the top 10 ranked similar image No. are 456 3168 3866 204 765 2097 982 1845 4262 2134\n"
     ]
    },
    {
     "name": "stderr",
     "output_type": "stream",
     "text": [
      "Processing query part 15: 5000it [00:10, 483.47it/s]\n",
      "16it [04:34, 16.43s/it]"
     ]
    },
    {
     "name": "stdout",
     "output_type": "stream",
     "text": [
      "retrieval time for query 4354 is 18.761903524398804s\n",
      "For query image No. 4354, the top 10 ranked similar image No. are 2 67 1392 444 4047 183 4323 2998 1818 827\n"
     ]
    },
    {
     "name": "stderr",
     "output_type": "stream",
     "text": [
      "Processing query part 16: 5000it [00:10, 491.40it/s]\n",
      "17it [04:53, 17.27s/it]"
     ]
    },
    {
     "name": "stdout",
     "output_type": "stream",
     "text": [
      "retrieval time for query 4445 is 19.222631216049194s\n",
      "For query image No. 4445, the top 10 ranked similar image No. are 649 1710 4473 1900 2007 2722 2987 819 4792 1350\n"
     ]
    },
    {
     "name": "stderr",
     "output_type": "stream",
     "text": [
      "Processing query part 17: 5000it [00:10, 498.72it/s]\n",
      "18it [05:11, 17.53s/it]"
     ]
    },
    {
     "name": "stdout",
     "output_type": "stream",
     "text": [
      "retrieval time for query 4716 is 18.149714469909668s\n",
      "For query image No. 4716, the top 10 ranked similar image No. are 4286 4184 1884 2807 4332 1459 654 691 3345 465\n"
     ]
    },
    {
     "name": "stderr",
     "output_type": "stream",
     "text": [
      "Processing query part 18: 5000it [00:09, 505.57it/s]\n",
      "19it [05:29, 17.66s/it]"
     ]
    },
    {
     "name": "stdout",
     "output_type": "stream",
     "text": [
      "retrieval time for query 4929 is 17.95368456840515s\n",
      "For query image No. 4929, the top 10 ranked similar image No. are 4080 3661 2238 3945 123 2138 4964 655 3749 4358\n"
     ]
    },
    {
     "name": "stderr",
     "output_type": "stream",
     "text": [
      "Processing query part 19: 5000it [00:06, 815.22it/s]\n",
      "20it [05:43, 17.16s/it]"
     ]
    },
    {
     "name": "stdout",
     "output_type": "stream",
     "text": [
      "retrieval time for query 776 is 13.771233320236206s\n",
      "For query image No. 776, the top 10 ranked similar image No. are 110 1583 3219 504 2292 4456 1032 2427 647 3460\n"
     ]
    },
    {
     "name": "stderr",
     "output_type": "stream",
     "text": [
      "\n"
     ]
    }
   ],
   "source": [
    "for i, query_img_no in tqdm(enumerate(query_imgs_no[0:20])):\n",
    "    time_s = time.time()\n",
    "    dist_record=[]\n",
    "    gallery_imgs_no_desc=[]\n",
    "    per_query_name=path_query+'/'+str(query_img_no)+'.jpg'\n",
    "    per_query=cv2.imread(per_query_name)\n",
    "    \n",
    "    # read boundary from text file\n",
    "    queryfilename = path_query_txt+'/'+str(query_img_no)+'.txt'\n",
    "    \n",
    "    # crop the image\n",
    "    boundary = read_bounding_box(queryfilename)\n",
    "    x ,y, w, h = boundary\n",
    "    query_boundary = per_query[y:y+h, x:x+w]\n",
    "\n",
    "    # Image pre-processing\n",
    "    query_boundary = cv2.GaussianBlur(query_boundary,(3,3),0)\n",
    "    query_boundary=cv2.cvtColor(query_boundary,cv2.COLOR_BGR2YUV)\n",
    "    query_boundary[:,:,0] = cv2.equalizeHist(query_boundary[:,:,0])\n",
    "    query_boundary = cv2.cvtColor(query_boundary,cv2.COLOR_YUV2BGR)\n",
    "\n",
    "    # feature extraction for per query\n",
    "    per_query_des = extract_sift_des(query_boundary)\n",
    "\n",
    "    # the iteration loop for gallery\n",
    "    for j, gallery_img_no in tqdm(enumerate(gallery_imgs_no), desc=f\"Processing query part {i}\"):\n",
    "        # Compute similarity score\n",
    "        sim_score = cosine_similarity(per_query_des, gallery_des[j])\n",
    "        dist_record.append(sim_score)\n",
    "\n",
    "    # find the indexes with descending similarity order\n",
    "    ascend_index=sorted(range(len(dist_record)), key=lambda k: np.max(dist_record[k]),reverse=True)\n",
    "\n",
    "    # update the results for one query\n",
    "    for k in range(len(ascend_index)):\n",
    "        gallery_imgs_no_desc.append(np.array(gallery_imgs_no)[ascend_index[k]])\n",
    "\n",
    "    record_all[i,:]= gallery_imgs_no_desc\n",
    "    time_e = time.time()\n",
    "    print('retrieval time for query {} is {}s'.format(query_img_no, time_e-time_s))\n",
    "    query_idx = i\n",
    "    print(f'For query image No. {query_imgs_no[query_idx]}, the top 10 ranked similar image No. are {gallery_imgs_no_desc[0]} {gallery_imgs_no_desc[1]} {gallery_imgs_no_desc[2]} {gallery_imgs_no_desc[3]} {gallery_imgs_no_desc[4]} {gallery_imgs_no_desc[5]} {gallery_imgs_no_desc[6]} {gallery_imgs_no_desc[7]} {gallery_imgs_no_desc[8]} {gallery_imgs_no_desc[9] }')"
   ]
  },
  {
   "cell_type": "code",
   "execution_count": 4,
   "id": "5e5c8170",
   "metadata": {},
   "outputs": [],
   "source": [
    "# write the output file following the example\n",
    "f=open(r'./rank_list_SIFT.txt','w')\n",
    "for i in range(num_query):\n",
    "    f.write('Q'+str(i+1)+': ')\n",
    "    for j in range(len(name_gallery)):\n",
    "        f.write(str(np.int32(record_all[i,j]))+' ')\n",
    "    f.write('\\n')\n",
    "f.close()"
   ]
  }
 ],
 "metadata": {
  "kernelspec": {
   "display_name": "Python 3 (ipykernel)",
   "language": "python",
   "name": "python3"
  },
  "language_info": {
   "codemirror_mode": {
    "name": "ipython",
    "version": 3
   },
   "file_extension": ".py",
   "mimetype": "text/x-python",
   "name": "python",
   "nbconvert_exporter": "python",
   "pygments_lexer": "ipython3",
   "version": "3.9.13"
  },
  "vscode": {
   "interpreter": {
    "hash": "8b2d73d4b82cc14c417df58dd9b0408f5dc9e19d8140e817ad73a42d32222677"
   }
  }
 },
 "nbformat": 4,
 "nbformat_minor": 5
}
