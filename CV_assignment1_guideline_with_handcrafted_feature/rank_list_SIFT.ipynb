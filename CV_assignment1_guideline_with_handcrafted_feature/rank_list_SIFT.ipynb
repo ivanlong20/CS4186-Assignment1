{
 "cells": [
  {
   "cell_type": "code",
   "execution_count": null,
   "id": "2a23afb4",
   "metadata": {},
   "outputs": [],
   "source": [
    "import numpy as np \n",
    "import cv2 \n",
    "import pandas as pd\n",
    "import glob\n",
    "import time \n",
    "from tqdm import tqdm\n",
    "from sklearn.metrics.pairwise import cosine_similarity"
   ]
  },
  {
   "cell_type": "code",
   "execution_count": null,
   "id": "61bae164",
   "metadata": {
    "scrolled": true
   },
   "outputs": [],
   "source": [
    "download_path='C:/Users/IV/Desktop/CityU' # change to your own download path\n",
    "path_query=download_path+'/query_4186'\n",
    "path_query_txt=download_path+'/query_txt_4186'\n",
    "\n",
    "# path_query_txt is the directory to the bounding box information of the instance(s) for the query images\n",
    "path_gallery=download_path+'/gallery_4186'\n",
    "\n",
    "name_query=glob.glob(path_query+'/*.jpg')\n",
    "num_query=len(name_query)\n",
    "name_gallery=glob.glob(path_gallery+'/*.jpg')\n",
    "num_gallery=len(name_gallery)\n",
    "\n",
    "sift = cv2.ORB_create()\n",
    "bf = cv2.BFMatcher()\n",
    "\n",
    "record_all=np.zeros((num_query,len(name_gallery)))\n",
    "\n",
    "query_imgs_no = [x.split('\\\\')[-1] for x in glob.glob(path_query+'/*.jpg')]\n",
    "query_imgs_no = [x[:-4] for x in query_imgs_no]\n",
    "\n",
    "gallery_imgs_no = [x.split('\\\\')[-1] for x in glob.glob(path_gallery+'/*.jpg')]\n",
    "gallery_imgs_no = [x[:-4] for x in gallery_imgs_no]\n",
    "\n",
    "gallery_kp = []\n",
    "gallery_des = []\n",
    "\n",
    "for i, gallery_img_no in tqdm(enumerate(gallery_imgs_no)):\n",
    "    per_gallery_name = path_gallery+'/'+str(gallery_img_no)+'.jpg'\n",
    "    per_gallery=cv2.imread(per_gallery_name)\n",
    "    # Image pre-processing\n",
    "    per_gallery = cv2.GaussianBlur(per_gallery,(3,3),0)\n",
    "    per_gallery = cv2.cvtColor(per_gallery,cv2.COLOR_BGR2YUV)\n",
    "    per_gallery[:,:,0] = cv2.equalizeHist(per_gallery[:,:,0])\n",
    "    per_gallery = cv2.cvtColor(per_gallery,cv2.COLOR_YUV2BGR)\n",
    "    # feature extraction for per gallery\n",
    "    per_gallery_kp, per_gallery_des = sift.detectAndCompute(per_gallery,None)\n",
    "    gallery_kp.append(per_gallery_kp)\n",
    "    gallery_des.append(per_gallery_des)"
   ]
  },
  {
   "cell_type": "code",
   "execution_count": null,
   "id": "c2968b28",
   "metadata": {
    "scrolled": false
   },
   "outputs": [],
   "source": [
    "for i, query_img_no in tqdm(enumerate(query_imgs_no[0:20])):\n",
    "    time_s = time.time()\n",
    "    dist_record=[]\n",
    "    per_query_name=path_query+'/'+str(query_img_no)+'.jpg'\n",
    "    per_query=cv2.imread(per_query_name)\n",
    "    gallery_imgs_no_desc=[]\n",
    "    \n",
    "    # read boundary from text file\n",
    "    queryfilename = path_query_txt+'/'+str(query_img_no)+'.txt'\n",
    "    boundary_file = open(queryfilename, 'r')\n",
    "    boundary = boundary_file.readline().strip().split(' ')\n",
    "    boundary = [int(b) for b in boundary]\n",
    "    boundary_file.close()\n",
    "    \n",
    "    # crop the image\n",
    "    x ,y, w, h = boundary\n",
    "    query_boundary = per_query[y:y+h, x:x+w]\n",
    "\n",
    "    # Image pre-processing\n",
    "    query_boundary = cv2.GaussianBlur(query_boundary,(3,3),0)\n",
    "    query_boundary=cv2.cvtColor(query_boundary,cv2.COLOR_BGR2YUV)\n",
    "    query_boundary[:,:,0] = cv2.equalizeHist(query_boundary[:,:,0])\n",
    "    query_boundary = cv2.cvtColor(query_boundary,cv2.COLOR_YUV2BGR)\n",
    "    # feature extraction for per query\n",
    "    per_query_kp, per_query_des = sift.detectAndCompute(query_boundary,None)\n",
    "    # the iteration loop for gallery\n",
    "    for j, gallery_img_no in tqdm(enumerate(gallery_imgs_no), desc=f\"Processing query part {i}\"):\n",
    "        matches = bf.knnMatch(per_query_des.astype(np.float32),gallery_des[j].astype(np.float32),k=2)\n",
    "        # Compute similarity score\n",
    "        sim_score = cosine_similarity(per_query_des, gallery_des[j])\n",
    "        dist_record.append(sim_score)\n",
    "        # find the indexes with descending similarity order\n",
    "    ascend_index=sorted(range(len(dist_record)), key=lambda k: np.max(dist_record[k]),reverse=True)\n",
    "    # update the results for one query\n",
    "    for k in range(len(ascend_index)):\n",
    "        gallery_imgs_no_desc.append(np.array(gallery_imgs_no)[ascend_index[k]])\n",
    "    record_all[i,:]= gallery_imgs_no_desc\n",
    "    time_e = time.time()\n",
    "    print('retrieval time for query {} is {}s'.format(query_img_no, time_e-time_s))\n",
    "    query_idx = i\n",
    "    print(f'For query image No. {query_imgs_no[query_idx]}, the top ranked similar image No. is {gallery_imgs_no_desc[0]}.')"
   ]
  },
  {
   "cell_type": "code",
   "execution_count": null,
   "id": "5e5c8170",
   "metadata": {},
   "outputs": [],
   "source": [
    "# write the output file following the example\n",
    "f=open(r'./rank_list_SIFT.txt','w')\n",
    "for i in range(num_query):\n",
    "    f.write('Q'+str(i+1)+': ')\n",
    "    for j in range(len(name_gallery)):\n",
    "        f.write(str(np.int32(record_all[i,j]))+' ')\n",
    "    f.write('\\n')\n",
    "f.close()"
   ]
  }
 ],
 "metadata": {
  "kernelspec": {
   "display_name": "Python 3 (ipykernel)",
   "language": "python",
   "name": "python3"
  },
  "language_info": {
   "codemirror_mode": {
    "name": "ipython",
    "version": 3
   },
   "file_extension": ".py",
   "mimetype": "text/x-python",
   "name": "python",
   "nbconvert_exporter": "python",
   "pygments_lexer": "ipython3",
   "version": "3.9.13"
  },
  "vscode": {
   "interpreter": {
    "hash": "8b2d73d4b82cc14c417df58dd9b0408f5dc9e19d8140e817ad73a42d32222677"
   }
  }
 },
 "nbformat": 4,
 "nbformat_minor": 5
}
