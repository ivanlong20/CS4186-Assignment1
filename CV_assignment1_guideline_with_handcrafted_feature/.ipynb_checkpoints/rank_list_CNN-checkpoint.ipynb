{
 "cells": [
  {
   "cell_type": "markdown",
   "id": "f22e4061",
   "metadata": {},
   "source": [
    "**Simple example for Asg1 with handcrafted feature**\n",
    "\n",
    "An example diagram for instance search.\n",
    "Please read the slide \"Information for Asg1\" first.\n",
    "\n",
    "In every bounding box file (the txt files), each line records the coordinates of one bounding box in format: x of top-left point, y of top-left point, width, height.\n",
    "\n",
    "The bounding box information is only provided for the query images.\n",
    "\n",
    "Notes: it's possible that there are more than one instances in a query image (see the annotation(s) in the corresponding txt file), you should find the most similar image rank list in the gallery by considering all the instances."
   ]
  },
  {
   "cell_type": "code",
   "execution_count": 222,
   "id": "2a23afb4",
   "metadata": {},
   "outputs": [],
   "source": [
    "import numpy as np \n",
    "import cv2 \n",
    "import pandas as pd\n",
    "import glob\n",
    "import time \n",
    "import matplotlib.pyplot as plt\n",
    "from tqdm import tqdm\n"
   ]
  },
  {
   "cell_type": "markdown",
   "id": "e51e5e91",
   "metadata": {},
   "source": [
    " Download the dataset from this linke [onedrive link](https://portland-my.sharepoint.com/:u:/g/personal/srwang3-c_my_cityu_edu_hk/EZ0BIZatMIJMoiCG4-uy6okBSlXLJD7TUyIDG1lbKUJ0eA?e=lbKz4a).\n",
    "And unzip the downloaded file into some path. \n",
    "> In this tutorial, the path is `/Users/txsing/datasets_4186`, please replace to your own accordingly.\n",
    "\n",
    "Initialize the necessary parameters, including paths, feature extractors."
   ]
  },
  {
   "cell_type": "code",
   "execution_count": 223,
   "id": "61bae164",
   "metadata": {
    "scrolled": true
   },
   "outputs": [],
   "source": [
    "download_path='D:/Users/KLIVANCHAN/Desktop/CityU' # change to your own download path\n",
    "path_query=download_path+'/query_4186'\n",
    "path_query_txt=download_path+'/query_txt_4186'\n",
    "\n",
    "# path_query_txt is the directory to the bounding box information of the instance(s) for the query images\n",
    "path_gallery=download_path+'/gallery_4186'\n",
    "\n",
    "name_query=glob.glob(path_query+'/*.jpg')\n",
    "num_query=len(name_query)\n",
    "name_gallery=glob.glob(path_gallery+'/*.jpg')\n",
    "num_gallery=len(name_gallery)\n",
    "\n",
    "sift = cv2.ORB_create()\n",
    "# bf = cv2.BFMatcher()\n",
    "\n",
    "FLANN_INDEX_KDTREE = 1\n",
    "index_params = dict(algorithm = FLANN_INDEX_KDTREE, trees = 5)\n",
    "# search_params = dict(checks=50)\n",
    "flann = cv2.FlannBasedMatcher(index_params,{})\n",
    "\n",
    "record_all=np.zeros((num_query,len(name_gallery)))\n",
    "\n",
    "query_imgs_no = [x.split('\\\\')[-1] for x in glob.glob(path_query+'/*.jpg')]\n",
    "query_imgs_no = [x[:-4] for x in query_imgs_no]\n",
    "\n",
    "gallery_imgs_no = [x.split('\\\\')[-1] for x in glob.glob(path_gallery+'/*.jpg')]\n",
    "gallery_imgs_no = [x[:-4] for x in gallery_imgs_no]"
   ]
  },
  {
   "cell_type": "markdown",
   "id": "33233d03",
   "metadata": {},
   "source": [
    "Process\n",
    "\n",
    "Feature extraction -> calculate distance -> compare"
   ]
  },
  {
   "cell_type": "code",
   "execution_count": 224,
   "id": "c2968b28",
   "metadata": {
    "scrolled": true
   },
   "outputs": [
    {
     "name": "stderr",
     "output_type": "stream",
     "text": [
      "Processing query part 0: 4it [00:00, 29.57it/s]"
     ]
    },
    {
     "name": "stdout",
     "output_type": "stream",
     "text": [
      "0 4122.573625283447\n",
      "1 4088.8088151927436\n",
      "10 4135.047689909297\n",
      "100 4271.086380385487\n",
      "1000 4049.517431972789\n",
      "1001 4121.810445011338\n",
      "1002 4080.474560657596\n"
     ]
    },
    {
     "name": "stderr",
     "output_type": "stream",
     "text": [
      "Processing query part 0: 12it [00:00, 30.27it/s]"
     ]
    },
    {
     "name": "stdout",
     "output_type": "stream",
     "text": [
      "1003 4283.208333333333\n",
      "1004 3882.876558956916\n",
      "1005 4064.795493197279\n",
      "1006 4343.199263038548\n",
      "1007 4005.770975056689\n",
      "1008 3855.732001133787\n",
      "1009 4087.6639739229026\n"
     ]
    },
    {
     "name": "stderr",
     "output_type": "stream",
     "text": [
      "Processing query part 0: 20it [00:00, 33.10it/s]"
     ]
    },
    {
     "name": "stdout",
     "output_type": "stream",
     "text": [
      "101 4127.405683106576\n",
      "1010 4208.810515873016\n",
      "1011 4181.621952947846\n",
      "1012 4026.853528911565\n",
      "1013 3988.924319727891\n",
      "1014 3900.923469387755\n",
      "1015 3921.6622732426304\n"
     ]
    },
    {
     "name": "stderr",
     "output_type": "stream",
     "text": [
      "Processing query part 0: 28it [00:00, 33.51it/s]"
     ]
    },
    {
     "name": "stdout",
     "output_type": "stream",
     "text": [
      "1016 4075.443806689342\n",
      "1017 4145.023526077098\n",
      "1018 3795.0558390022675\n",
      "1019 4212.798327664399\n",
      "102 4220.625921201814\n",
      "1020 4089.4608843537417\n",
      "1021 4020.440547052154\n"
     ]
    },
    {
     "name": "stderr",
     "output_type": "stream",
     "text": [
      "\r",
      "Processing query part 0: 32it [00:00, 33.85it/s]"
     ]
    },
    {
     "name": "stdout",
     "output_type": "stream",
     "text": [
      "1022 3996.1335742630386\n",
      "1023 4108.981717687075\n",
      "1024 4104.319727891157\n",
      "1025 3879.845663265306\n",
      "1026 4262.621882086168\n",
      "1027 4283.557043650793\n",
      "1028 3960.4462159863947\n"
     ]
    },
    {
     "name": "stderr",
     "output_type": "stream",
     "text": [
      "Processing query part 0: 40it [00:01, 32.47it/s]"
     ]
    },
    {
     "name": "stdout",
     "output_type": "stream",
     "text": [
      "1029 4108.59481292517\n",
      "103 4160.035714285715\n",
      "1030 4094.193310657596\n",
      "1031 4346.948837868481\n",
      "1032 4134.259424603175\n",
      "1033 4099.194444444444\n",
      "1034 4092.0241638321995\n"
     ]
    },
    {
     "name": "stderr",
     "output_type": "stream",
     "text": [
      "Processing query part 0: 48it [00:01, 32.77it/s]"
     ]
    },
    {
     "name": "stdout",
     "output_type": "stream",
     "text": [
      "1035 4310.327947845805\n",
      "1036 4158.888888888889\n",
      "1037 3866.1631944444443\n",
      "1038 3886.016227324263\n",
      "1039 4008.228032879819\n",
      "104 3892.495606575964\n",
      "1040 4137.293650793651\n",
      "1041 3915.781108276644\n"
     ]
    },
    {
     "name": "stderr",
     "output_type": "stream",
     "text": [
      "Processing query part 0: 56it [00:01, 33.60it/s]"
     ]
    },
    {
     "name": "stdout",
     "output_type": "stream",
     "text": [
      "1042 4313.898809523809\n",
      "1043 4273.661139455782\n",
      "1044 4238.237670068027\n",
      "1045 4305.7731717687075\n",
      "1046 3938.168367346939\n",
      "1047 4264.300099206349\n",
      "1048 4229.228741496599\n",
      "1049 4074.5560515873017\n"
     ]
    },
    {
     "name": "stderr",
     "output_type": "stream",
     "text": [
      "Processing query part 0: 64it [00:01, 33.59it/s]"
     ]
    },
    {
     "name": "stdout",
     "output_type": "stream",
     "text": [
      "105 4026.4650651927436\n",
      "1050 4164.722151360545\n",
      "1051 3962.18360260771\n",
      "1052 4269.472789115646\n",
      "1053 4224.65589569161\n",
      "1054 3973.612740929705\n"
     ]
    },
    {
     "name": "stderr",
     "output_type": "stream",
     "text": [
      "\r",
      "Processing query part 0: 68it [00:02, 31.53it/s]"
     ]
    },
    {
     "name": "stdout",
     "output_type": "stream",
     "text": [
      "1055 4172.06179138322\n",
      "1056 4287.891723356009\n",
      "1057 4093.3351757369614\n",
      "1058 4119.206774376417\n",
      "1059 4148.1918225623585\n",
      "106 4210.5705073696145\n",
      "1060 3977.46591553288\n"
     ]
    },
    {
     "name": "stderr",
     "output_type": "stream",
     "text": [
      "Processing query part 0: 76it [00:02, 32.74it/s]"
     ]
    },
    {
     "name": "stdout",
     "output_type": "stream",
     "text": [
      "1061 4025.843962585034\n",
      "1062 4119.347930839002\n",
      "1063 4139.643920068027\n",
      "1064 4143.28727324263\n",
      "1065 4188.870181405896\n",
      "1066 4055.682610544218\n",
      "1067 4071.560445011338\n"
     ]
    },
    {
     "name": "stderr",
     "output_type": "stream",
     "text": [
      "Processing query part 0: 84it [00:02, 32.73it/s]"
     ]
    },
    {
     "name": "stdout",
     "output_type": "stream",
     "text": [
      "1068 4302.672193877551\n",
      "1069 4000.7916666666665\n",
      "107 4101.695932539683\n",
      "1070 3902.547831632653\n",
      "1071 4340.642998866213\n",
      "1072 4198.990575396825\n",
      "1073 4070.651431405896\n",
      "1074 4202.888605442177\n"
     ]
    },
    {
     "name": "stderr",
     "output_type": "stream",
     "text": [
      "Processing query part 0: 92it [00:02, 33.71it/s]"
     ]
    },
    {
     "name": "stdout",
     "output_type": "stream",
     "text": [
      "1075 4568.145762471655\n",
      "1076 4222.264172335601\n",
      "1077 3978.205711451247\n",
      "1078 4045.4367913832198\n",
      "1079 3940.326672335601\n",
      "108 4141.290036848072\n",
      "1080 4255.379535147393\n"
     ]
    },
    {
     "name": "stderr",
     "output_type": "stream",
     "text": [
      "Processing query part 0: 100it [00:03, 34.06it/s]"
     ]
    },
    {
     "name": "stdout",
     "output_type": "stream",
     "text": [
      "1081 4062.5661848072564\n",
      "1082 3975.34410430839\n",
      "1083 3839.4367913832198\n",
      "1084 3956.8204365079364\n",
      "1085 4335.843183106576\n",
      "1086 4264.453585600907\n",
      "1087 4095.608064058957\n",
      "1088 4116.09375\n"
     ]
    },
    {
     "name": "stderr",
     "output_type": "stream",
     "text": [
      "Processing query part 0: 108it [00:03, 33.99it/s]"
     ]
    },
    {
     "name": "stdout",
     "output_type": "stream",
     "text": [
      "1089 4082.7737386621316\n",
      "109 4212.514384920635\n",
      "1090 4076.7743764172337\n",
      "1091 3894.843324829932\n",
      "1092 4098.692885487529\n",
      "1093 4119.3811649659865\n",
      "1094 4115.364937641723\n"
     ]
    },
    {
     "name": "stderr",
     "output_type": "stream",
     "text": [
      "\r",
      "Processing query part 0: 112it [00:03, 34.17it/s]"
     ]
    },
    {
     "name": "stdout",
     "output_type": "stream",
     "text": [
      "1095 4489.786635487529\n",
      "1096 4019.686862244898\n",
      "1097 4145.238945578231\n",
      "1098 4043.892148526077\n",
      "1099 4067.502054988662\n",
      "11 4401.145053854875\n",
      "110 3998.684594671202\n"
     ]
    },
    {
     "name": "stderr",
     "output_type": "stream",
     "text": [
      "Processing query part 0: 120it [00:03, 34.04it/s]"
     ]
    },
    {
     "name": "stdout",
     "output_type": "stream",
     "text": [
      "1100 3809.3978174603176\n",
      "1101 4048.9021400226757\n",
      "1102 4061.519982993197\n",
      "1103 4206.788903061224\n",
      "1104 3984.592120181406\n",
      "1105 4276.212868480726\n",
      "1106 3894.097151360544\n"
     ]
    },
    {
     "name": "stderr",
     "output_type": "stream",
     "text": [
      "Processing query part 0: 128it [00:03, 32.37it/s]"
     ]
    },
    {
     "name": "stdout",
     "output_type": "stream",
     "text": [
      "1107 4221.351190476191\n",
      "1108 3946.2215136054424\n",
      "1109 4080.3019416099773\n",
      "111 4000.59658446712\n",
      "1110 3877.795705782313\n",
      "1111 4253.23830782313\n",
      "1112 4326.015164399093\n",
      "1113 4242.52628968254\n"
     ]
    },
    {
     "name": "stderr",
     "output_type": "stream",
     "text": [
      "Processing query part 0: 136it [00:04, 32.28it/s]"
     ]
    },
    {
     "name": "stdout",
     "output_type": "stream",
     "text": [
      "1114 4143.540603741497\n",
      "1115 4080.7410005668935\n",
      "1116 4036.1696428571427\n",
      "1117 4098.679776077098\n",
      "1118 4224.880102040816\n",
      "1119 4245.707553854875\n",
      "112 4062.2928004535147\n"
     ]
    },
    {
     "name": "stderr",
     "output_type": "stream",
     "text": [
      "Processing query part 0: 144it [00:04, 33.31it/s]"
     ]
    },
    {
     "name": "stdout",
     "output_type": "stream",
     "text": [
      "1120 4216.0327380952385\n",
      "1121 4226.539824263038\n",
      "1122 4098.930272108843\n",
      "1123 4115.174248866213\n",
      "1124 4160.63669217687\n",
      "1125 4252.677225056689\n",
      "1126 4088.751984126984\n"
     ]
    },
    {
     "name": "stderr",
     "output_type": "stream",
     "text": [
      "Processing query part 0: 152it [00:04, 32.87it/s]"
     ]
    },
    {
     "name": "stdout",
     "output_type": "stream",
     "text": [
      "1127 4458.999858276644\n",
      "1128 4282.347434807256\n",
      "1129 4227.049957482993\n",
      "113 4053.0397534013605\n",
      "1130 3409.2104591836733\n",
      "1131 3914.0386904761904\n",
      "1132 3999.0754676870747\n",
      "1133 4174.405328798186\n"
     ]
    },
    {
     "name": "stderr",
     "output_type": "stream",
     "text": [
      "\r",
      "Processing query part 0: 156it [00:04, 32.08it/s]"
     ]
    },
    {
     "name": "stdout",
     "output_type": "stream",
     "text": [
      "1134 4198.090844671202\n",
      "1135 4152.361607142857\n",
      "1136 4073.6179846938776\n",
      "1137 4258.560445011338\n",
      "1138 4257.185870181406\n",
      "1139 4035.677225056689\n",
      "114 3999.2296626984125\n"
     ]
    },
    {
     "name": "stderr",
     "output_type": "stream",
     "text": [
      "Processing query part 0: 164it [00:05, 32.15it/s]"
     ]
    },
    {
     "name": "stdout",
     "output_type": "stream",
     "text": [
      "1140 3953.8534580498867\n",
      "1141 4023.746031746032\n",
      "1142 3987.3832908163267\n",
      "1143 4238.286706349207\n",
      "1144 3924.68643707483\n",
      "1145 3942.3842120181407\n",
      "1146 4010.7448270975055\n"
     ]
    },
    {
     "name": "stderr",
     "output_type": "stream",
     "text": [
      "Processing query part 0: 172it [00:05, 31.10it/s]"
     ]
    },
    {
     "name": "stdout",
     "output_type": "stream",
     "text": [
      "1147 4161.873795351474\n",
      "1148 4144.9581207483\n",
      "1149 4367.194090136054\n",
      "115 3959.171060090703\n",
      "1150 4216.861607142857\n",
      "1151 4186.354237528345\n",
      "1152 3949.99716553288\n"
     ]
    },
    {
     "name": "stderr",
     "output_type": "stream",
     "text": [
      "Processing query part 0: 180it [00:05, 32.61it/s]"
     ]
    },
    {
     "name": "stdout",
     "output_type": "stream",
     "text": [
      "1153 4101.560870181406\n",
      "1154 4305.869047619048\n",
      "1155 4124.905399659864\n",
      "1156 4143.163123582766\n",
      "1157 4119.861961451247\n",
      "1158 3841.468324829932\n",
      "1159 3928.5391865079364\n"
     ]
    },
    {
     "name": "stderr",
     "output_type": "stream",
     "text": [
      "\r",
      "Processing query part 0: 184it [00:05, 30.16it/s]"
     ]
    },
    {
     "name": "stdout",
     "output_type": "stream",
     "text": [
      "116 4009.53089569161\n",
      "1160 4106.828585600907\n",
      "1161 4131.207199546485\n",
      "1162 4174.0231717687075\n",
      "1163 4214.49681122449\n"
     ]
    },
    {
     "name": "stderr",
     "output_type": "stream",
     "text": [
      "Processing query part 0: 192it [00:05, 31.70it/s]"
     ]
    },
    {
     "name": "stdout",
     "output_type": "stream",
     "text": [
      "1164 4009.661139455782\n",
      "1165 3989.200821995465\n",
      "1166 4145.824263038548\n",
      "1167 4259.872448979592\n",
      "1168 3954.3714569160998\n",
      "1169 4258.182681405896\n",
      "117 4310.802012471655\n"
     ]
    },
    {
     "name": "stderr",
     "output_type": "stream",
     "text": [
      "\r",
      "Processing query part 0: 196it [00:06, 31.51it/s]"
     ]
    },
    {
     "name": "stdout",
     "output_type": "stream",
     "text": [
      "1170 4286.266227324263\n",
      "1171 4080.6804846938776\n",
      "1172 4135.439200680272\n",
      "1173 4097.827876984127\n",
      "1174 4266.061649659864\n",
      "1175 4376.510345804989\n",
      "1176 4117.602820294785\n"
     ]
    },
    {
     "name": "stderr",
     "output_type": "stream",
     "text": [
      "Processing query part 0: 204it [00:06, 31.27it/s]"
     ]
    },
    {
     "name": "stdout",
     "output_type": "stream",
     "text": [
      "1177 4257.958900226758\n",
      "1178 4415.369401927438\n",
      "1179 3892.5754676870747\n",
      "118 3935.4314058956916\n",
      "1180 3848.6352040816328\n",
      "1181 4070.558035714286\n",
      "1182 4076.90625\n"
     ]
    },
    {
     "name": "stderr",
     "output_type": "stream",
     "text": [
      "Processing query part 0: 212it [00:06, 33.16it/s]"
     ]
    },
    {
     "name": "stdout",
     "output_type": "stream",
     "text": [
      "1183 4268.959963151928\n",
      "1184 4187.845734126984\n",
      "1185 3941.9164540816328\n",
      "1186 4029.583971088435\n",
      "1187 4201.081065759638\n",
      "1188 4069.6550453514737\n",
      "1189 3889.4440901360545\n",
      "119 4176.9445861678005\n"
     ]
    },
    {
     "name": "stderr",
     "output_type": "stream",
     "text": [
      "Processing query part 0: 220it [00:06, 33.73it/s]"
     ]
    },
    {
     "name": "stdout",
     "output_type": "stream",
     "text": [
      "1190 3836.12393707483\n",
      "1191 3960.921839569161\n",
      "1192 4051.3854875283446\n",
      "1193 4196.472434807256\n",
      "1194 4104.582199546485\n",
      "1195 4653.674390589569\n",
      "1196 4127.055980725623\n"
     ]
    },
    {
     "name": "stderr",
     "output_type": "stream",
     "text": [
      "Processing query part 0: 228it [00:07, 32.84it/s]"
     ]
    },
    {
     "name": "stdout",
     "output_type": "stream",
     "text": [
      "1197 4177.4370039682535\n",
      "1198 4141.0033304988665\n",
      "1199 4364.77806122449\n",
      "12 4105.4540816326535\n",
      "120 4033.6994047619046\n",
      "1200 4171.264101473923\n",
      "1201 4001.096797052154\n"
     ]
    },
    {
     "name": "stderr",
     "output_type": "stream",
     "text": [
      "\r",
      "Processing query part 0: 232it [00:07, 33.44it/s]"
     ]
    },
    {
     "name": "stdout",
     "output_type": "stream",
     "text": [
      "1202 4089.371669501134\n",
      "1203 4074.0270691609976\n",
      "1204 4187.634778911564\n",
      "1205 3955.7648809523807\n",
      "1206 4043.168863378685\n",
      "1207 4137.91227324263\n",
      "1208 4161.420068027211\n"
     ]
    },
    {
     "name": "stderr",
     "output_type": "stream",
     "text": [
      "Processing query part 0: 240it [00:07, 31.95it/s]"
     ]
    },
    {
     "name": "stdout",
     "output_type": "stream",
     "text": [
      "1209 4231.958049886622\n",
      "121 4054.3772675736964\n",
      "1210 4016.126346371882\n",
      "1211 3961.155116213152\n",
      "1212 3999.607071995465\n",
      "1213 3946.027919501134\n",
      "1214 3893.375425170068\n"
     ]
    },
    {
     "name": "stderr",
     "output_type": "stream",
     "text": [
      "Processing query part 0: 248it [00:07, 31.94it/s]"
     ]
    },
    {
     "name": "stdout",
     "output_type": "stream",
     "text": [
      "1215 4175.317531179138\n",
      "1216 4058.6780045351475\n",
      "1217 4656.020904195011\n",
      "1218 4089.657171201814\n",
      "1219 4088.9612386621316\n",
      "122 4162.648384353742\n",
      "1220 4391.245464852607\n",
      "1221 3985.0380527210887\n"
     ]
    },
    {
     "name": "stderr",
     "output_type": "stream",
     "text": [
      "Processing query part 0: 256it [00:07, 32.63it/s]"
     ]
    },
    {
     "name": "stdout",
     "output_type": "stream",
     "text": [
      "1222 3854.6957908163267\n",
      "1223 3983.5749716553287\n",
      "1224 3940.0712159863947\n",
      "1225 4303.076530612245\n",
      "1226 4312.648100907029\n",
      "1227 3945.906746031746\n"
     ]
    },
    {
     "name": "stderr",
     "output_type": "stream",
     "text": [
      "Processing query part 0: 264it [00:08, 31.61it/s]"
     ]
    },
    {
     "name": "stdout",
     "output_type": "stream",
     "text": [
      "1228 4094.300807823129\n",
      "1229 4021.5582482993195\n",
      "123 3931.1929563492063\n",
      "1230 4170.392290249433\n",
      "1231 4171.9048327664395\n",
      "1232 4008.4141865079364\n",
      "1233 3998.236181972789\n",
      "1234 4198.218183106576\n"
     ]
    },
    {
     "name": "stderr",
     "output_type": "stream",
     "text": [
      "\r",
      "Processing query part 0: 268it [00:08, 31.88it/s]"
     ]
    },
    {
     "name": "stdout",
     "output_type": "stream",
     "text": [
      "1235 3977.3504818594106\n",
      "1236 4035.579648526077\n",
      "1237 4351.00106292517\n",
      "1238 4027.402423469388\n",
      "1239 3988.7582908163267\n",
      "124 3987.782879818594\n",
      "1240 3938.1350623582766\n"
     ]
    },
    {
     "name": "stderr",
     "output_type": "stream",
     "text": [
      "Processing query part 0: 276it [00:08, 30.98it/s]"
     ]
    },
    {
     "name": "stdout",
     "output_type": "stream",
     "text": [
      "1241 4187.134495464853\n",
      "1242 4170.28408446712\n",
      "1243 4041.2078373015875\n",
      "1244 4142.582766439909\n",
      "1245 4288.863945578231\n",
      "1246 4337.18537414966\n",
      "1247 4050.2370323129253\n"
     ]
    },
    {
     "name": "stderr",
     "output_type": "stream",
     "text": [
      "Processing query part 0: 284it [00:08, 31.43it/s]"
     ]
    },
    {
     "name": "stdout",
     "output_type": "stream",
     "text": [
      "1248 4092.610189909297\n",
      "1249 4079.8313492063494\n",
      "125 4177.369472789115\n",
      "1250 3959.3302862811793\n",
      "1251 3911.051232993197\n",
      "1252 4175.1699263038545\n"
     ]
    },
    {
     "name": "stderr",
     "output_type": "stream",
     "text": [
      "\r",
      "Processing query part 0: 288it [00:08, 31.87it/s]"
     ]
    },
    {
     "name": "stdout",
     "output_type": "stream",
     "text": [
      "1253 4106.822278911564\n",
      "1254 4126.432327097506\n",
      "1255 4117.655612244898\n",
      "1256 4010.5700113378684\n",
      "1257 4225.719954648526\n",
      "1259 3987.0537131519272\n",
      "126 4320.065547052154\n"
     ]
    },
    {
     "name": "stderr",
     "output_type": "stream",
     "text": [
      "Processing query part 0: 296it [00:09, 30.32it/s]"
     ]
    },
    {
     "name": "stdout",
     "output_type": "stream",
     "text": [
      "1260 4068.9021400226757\n",
      "1261 4315.548965419501\n",
      "1262 4047.5407454648525\n",
      "1263 4165.8072562358275\n",
      "1264 4092.5749716553287\n",
      "1265 4109.563492063492\n",
      "1266 4034.1062216553287\n"
     ]
    },
    {
     "name": "stderr",
     "output_type": "stream",
     "text": [
      "Processing query part 0: 304it [00:09, 32.18it/s]"
     ]
    },
    {
     "name": "stdout",
     "output_type": "stream",
     "text": [
      "1267 3838.971655328798\n",
      "1268 4125.105867346939\n",
      "1269 4236.251346371882\n",
      "127 4126.631235827665\n",
      "1270 3969.8948412698414\n",
      "1271 3966.7068452380954\n",
      "1272 4047.6442035147393\n"
     ]
    },
    {
     "name": "stderr",
     "output_type": "stream",
     "text": [
      "\r",
      "Processing query part 0: 308it [00:09, 31.51it/s]"
     ]
    },
    {
     "name": "stdout",
     "output_type": "stream",
     "text": [
      "1273 3998.715773809524\n",
      "1274 4292.339569160998\n",
      "1275 3974.9112811791383\n",
      "1276 4310.926091269841\n",
      "1277 4020.1824688208617\n",
      "1278 3811.6673752834467\n",
      "1279 4158.823200113378\n"
     ]
    },
    {
     "name": "stderr",
     "output_type": "stream",
     "text": [
      "Processing query part 0: 316it [00:09, 32.66it/s]"
     ]
    },
    {
     "name": "stdout",
     "output_type": "stream",
     "text": [
      "128 3881.0556972789113\n",
      "1280 4264.974844104308\n",
      "1281 4193.830357142857\n",
      "1282 4016.2593537414964\n",
      "1283 4071.934027777778\n",
      "1284 4107.6794217687075\n",
      "1285 4302.207199546485\n",
      "1286 4192.42580782313\n"
     ]
    },
    {
     "name": "stderr",
     "output_type": "stream",
     "text": [
      "Processing query part 0: 328it [00:10, 32.79it/s]"
     ]
    },
    {
     "name": "stdout",
     "output_type": "stream",
     "text": [
      "1287 4130.080144557823\n",
      "1288 4165.453656462585\n",
      "1289 4056.392077664399\n",
      "129 3968.3674178004535\n",
      "1290 3984.9437358276646\n",
      "1291 4240.544288548753\n",
      "1292 3976.21839569161\n",
      "1293 4021.3629535147393\n"
     ]
    },
    {
     "name": "stderr",
     "output_type": "stream",
     "text": [
      "Processing query part 0: 336it [00:10, 34.02it/s]"
     ]
    },
    {
     "name": "stdout",
     "output_type": "stream",
     "text": [
      "1294 4118.383928571428\n",
      "1295 4427.044217687075\n",
      "1296 4378.966765873016\n",
      "1297 4060.558673469388\n",
      "1298 3946.076955782313\n",
      "1299 4053.224560657596\n",
      "13 3843.139526643991\n",
      "130 4040.146471088435\n"
     ]
    },
    {
     "name": "stderr",
     "output_type": "stream",
     "text": [
      "\r",
      "Processing query part 0: 340it [00:10, 32.87it/s]"
     ]
    },
    {
     "name": "stdout",
     "output_type": "stream",
     "text": [
      "1300 4235.002338435374\n",
      "1301 4241.420847505669\n",
      "1302 3996.563279478458\n",
      "1303 4223.764030612245\n",
      "1304 4101.208971088436\n",
      "1305 3917.9744897959185\n",
      "1306 3880.297264739229\n"
     ]
    },
    {
     "name": "stderr",
     "output_type": "stream",
     "text": [
      "Processing query part 0: 348it [00:10, 31.12it/s]"
     ]
    },
    {
     "name": "stdout",
     "output_type": "stream",
     "text": [
      "1307 4144.041737528345\n",
      "1308 4229.448696145125\n",
      "1309 4102.79010770975\n",
      "131 3982.5680272108843\n",
      "1310 3983.8692602040815\n",
      "1311 4102.839285714285\n",
      "1312 4099.873653628118\n"
     ]
    },
    {
     "name": "stderr",
     "output_type": "stream",
     "text": [
      "Processing query part 0: 356it [00:11, 33.02it/s]"
     ]
    },
    {
     "name": "stdout",
     "output_type": "stream",
     "text": [
      "1313 4111.109906462585\n",
      "1314 4052.455498866213\n",
      "1315 4071.091765873016\n",
      "1316 4125.193239795918\n",
      "1317 4152.477324263038\n",
      "1318 3951.548185941043\n",
      "1319 4202.449404761905\n",
      "132 4523.152990362812\n"
     ]
    },
    {
     "name": "stderr",
     "output_type": "stream",
     "text": [
      "Processing query part 0: 364it [00:11, 33.45it/s]"
     ]
    },
    {
     "name": "stdout",
     "output_type": "stream",
     "text": [
      "1320 4108.523384353742\n",
      "1321 4041.0340136054424\n",
      "1322 3879.181618480726\n",
      "1323 3905.012613378685\n",
      "1324 4241.536777210885\n",
      "1325 4098.284722222223\n",
      "1326 4102.809523809524\n"
     ]
    },
    {
     "name": "stderr",
     "output_type": "stream",
     "text": [
      "Processing query part 0: 372it [00:11, 31.86it/s]"
     ]
    },
    {
     "name": "stdout",
     "output_type": "stream",
     "text": [
      "1327 4170.577310090703\n",
      "1328 3900.6195436507937\n",
      "1329 4017.466411564626\n",
      "133 4098.511054421769\n",
      "1330 4086.0335175736964\n",
      "1331 4141.708475056689\n",
      "1332 4031.169855442177\n",
      "1333 4083.313633786848\n"
     ]
    },
    {
     "name": "stderr",
     "output_type": "stream",
     "text": [
      "Processing query part 0: 380it [00:11, 30.82it/s]"
     ]
    },
    {
     "name": "stdout",
     "output_type": "stream",
     "text": [
      "1334 4247.340986394558\n",
      "1335 4201.628613945578\n",
      "1336 4100.982142857143\n",
      "1337 4038.62322845805\n",
      "1338 4089.1349206349205\n",
      "1339 4076.6631944444443\n",
      "134 3962.3475056689344\n"
     ]
    },
    {
     "name": "stderr",
     "output_type": "stream",
     "text": [
      "\r",
      "Processing query part 0: 384it [00:11, 31.29it/s]"
     ]
    },
    {
     "name": "stdout",
     "output_type": "stream",
     "text": [
      "1340 4149.366284013606\n",
      "1341 3944.8083900226757\n",
      "1342 4120.828443877551\n",
      "1343 4136.295138888889\n",
      "1344 3980.735048185941\n",
      "1345 3847.0984268707484\n",
      "1346 4290.101899092971\n"
     ]
    },
    {
     "name": "stderr",
     "output_type": "stream",
     "text": [
      "Processing query part 0: 392it [00:12, 32.11it/s]"
     ]
    },
    {
     "name": "stdout",
     "output_type": "stream",
     "text": [
      "1347 4370.632865646258\n",
      "1348 3933.8025793650795\n",
      "1349 4020.4103599773243\n",
      "135 4005.9591836734694\n",
      "1350 3913.894132653061\n",
      "1351 4231.718679138322\n",
      "1352 4023.90518707483\n"
     ]
    },
    {
     "name": "stderr",
     "output_type": "stream",
     "text": [
      "Processing query part 0: 400it [00:12, 31.81it/s]"
     ]
    },
    {
     "name": "stdout",
     "output_type": "stream",
     "text": [
      "1353 3895.0695861678005\n",
      "1354 4206.896258503401\n",
      "1355 4610.1765873015875\n",
      "1356 4081.830569727891\n",
      "1357 3834.2076955782313\n",
      "1358 4114.392290249433\n",
      "1359 3930.8489229024945\n",
      "136 3804.1618480725624\n"
     ]
    },
    {
     "name": "stderr",
     "output_type": "stream",
     "text": [
      "Processing query part 0: 408it [00:12, 33.25it/s]"
     ]
    },
    {
     "name": "stdout",
     "output_type": "stream",
     "text": [
      "1360 4199.307185374149\n",
      "1361 3907.219883786848\n",
      "1362 4051.8228458049884\n",
      "1363 3995.2274659863947\n",
      "1364 4014.0807823129253\n",
      "1365 4056.8200821995465\n",
      "1366 4018.8054138321995\n",
      "1367 3964.371527777778\n",
      "1368 4000.517431972789\n"
     ]
    },
    {
     "name": "stderr",
     "output_type": "stream",
     "text": [
      "Processing query part 0: 416it [00:12, 33.63it/s]"
     ]
    },
    {
     "name": "stdout",
     "output_type": "stream",
     "text": [
      "1369 3989.1740362811793\n",
      "137 3991.062358276644\n",
      "1370 4261.6765873015875\n",
      "1371 4112.982709750567\n",
      "1372 3924.1163548752834\n",
      "1373 4443.402423469388\n",
      "1374 4180.3139172335605\n",
      "1375 4165.445790816327\n"
     ]
    },
    {
     "name": "stderr",
     "output_type": "stream",
     "text": [
      "Processing query part 0: 424it [00:13, 34.08it/s]"
     ]
    },
    {
     "name": "stdout",
     "output_type": "stream",
     "text": [
      "1376 4185.867346938776\n",
      "1377 4226.467049319728\n",
      "1378 4331.672193877551\n",
      "1379 4057.8672052154193\n",
      "138 4065.0719246031745\n",
      "1380 3926.846797052154\n",
      "1381 4041.026856575964\n",
      "1382 4057.8156179138323\n"
     ]
    },
    {
     "name": "stderr",
     "output_type": "stream",
     "text": [
      "Processing query part 0: 432it [00:13, 34.68it/s]"
     ]
    },
    {
     "name": "stdout",
     "output_type": "stream",
     "text": [
      "1383 4204.370110544218\n",
      "1384 3830.4604591836733\n",
      "1385 4014.138605442177\n",
      "1386 4207.147463151928\n",
      "1387 4105.833191609977\n",
      "1388 4071.844033446712\n",
      "1389 4181.643849206349\n",
      "139 3957.473072562358\n"
     ]
    },
    {
     "name": "stderr",
     "output_type": "stream",
     "text": [
      "Processing query part 0: 440it [00:13, 32.70it/s]"
     ]
    },
    {
     "name": "stdout",
     "output_type": "stream",
     "text": [
      "1390 4139.8480017006805\n",
      "1391 4130.343891723356\n",
      "1392 4098.536068594104\n",
      "1393 4055.9163123582766\n",
      "1394 4184.40660430839\n",
      "1395 4085.659155328798\n",
      "1396 4096.834254535147\n"
     ]
    },
    {
     "name": "stderr",
     "output_type": "stream",
     "text": [
      "Processing query part 0: 448it [00:13, 33.78it/s]"
     ]
    },
    {
     "name": "stdout",
     "output_type": "stream",
     "text": [
      "1397 4080.8465136054424\n",
      "1398 3905.2512046485263\n",
      "1399 3920.062712585034\n",
      "14 4131.719387755102\n",
      "140 4436.631235827665\n",
      "1400 3981.4590419501133\n",
      "1401 4068.907242063492\n",
      "1402 4056.4904336734694\n"
     ]
    },
    {
     "name": "stderr",
     "output_type": "stream",
     "text": [
      "Processing query part 0: 456it [00:14, 32.80it/s]"
     ]
    },
    {
     "name": "stdout",
     "output_type": "stream",
     "text": [
      "1403 3902.6505810657595\n",
      "1404 4252.0625\n",
      "1405 4124.478245464853\n",
      "1406 4209.5108418367345\n",
      "1407 3974.7752267573696\n",
      "1408 4062.0803571428573\n",
      "1409 4267.209325396825\n"
     ]
    },
    {
     "name": "stderr",
     "output_type": "stream",
     "text": [
      "Processing query part 0: 465it [00:14, 34.73it/s]"
     ]
    },
    {
     "name": "stdout",
     "output_type": "stream",
     "text": [
      "141 4062.4725056689344\n",
      "1410 4230.145762471655\n",
      "1411 4108.811366213152\n",
      "1412 4142.315263605442\n",
      "1413 4077.549744897959\n",
      "1414 4053.1369756235827\n",
      "1415 4168.121882086168\n",
      "1416 4126.317885487529\n"
     ]
    },
    {
     "name": "stderr",
     "output_type": "stream",
     "text": [
      "\r",
      "Processing query part 0: 469it [00:14, 34.22it/s]"
     ]
    },
    {
     "name": "stdout",
     "output_type": "stream",
     "text": [
      "1417 3968.0403202947846\n",
      "1418 3993.3202239229026\n",
      "1419 4070.424461451247\n",
      "142 4142.563846371882\n",
      "1420 3784.998866213152\n",
      "1421 4183.616354875284\n"
     ]
    },
    {
     "name": "stderr",
     "output_type": "stream",
     "text": [
      "Processing query part 0: 477it [00:14, 33.35it/s]"
     ]
    },
    {
     "name": "stdout",
     "output_type": "stream",
     "text": [
      "1422 4144.961026077098\n",
      "1423 4106.244047619048\n",
      "1424 4012.700184240363\n",
      "1425 4158.6235119047615\n",
      "1426 4170.66191893424\n",
      "1427 4073.2155612244896\n"
     ]
    },
    {
     "name": "stderr",
     "output_type": "stream",
     "text": [
      "Processing query part 0: 485it [00:14, 33.06it/s]"
     ]
    },
    {
     "name": "stdout",
     "output_type": "stream",
     "text": [
      "1428 3999.5486111111113\n",
      "1429 3995.906675170068\n",
      "143 4083.223639455782\n",
      "1430 4181.601261337869\n",
      "1431 3934.8557256235827\n",
      "1432 4223.126629818594\n",
      "1433 3941.2101757369614\n",
      "1434 4313.247378117914\n"
     ]
    },
    {
     "name": "stderr",
     "output_type": "stream",
     "text": [
      "\r",
      "Processing query part 0: 489it [00:15, 32.35it/s]"
     ]
    },
    {
     "name": "stdout",
     "output_type": "stream",
     "text": [
      "1435 4389.6160005668935\n",
      "1436 4356.879676870748\n",
      "1437 4224.772534013606\n",
      "1438 3870.06639739229\n",
      "1439 4039.1008361678005\n",
      "144 3904.12464569161\n",
      "1440 4078.4725056689344\n"
     ]
    },
    {
     "name": "stderr",
     "output_type": "stream",
     "text": [
      "Processing query part 0: 497it [00:15, 32.41it/s]"
     ]
    },
    {
     "name": "stdout",
     "output_type": "stream",
     "text": [
      "1441 3974.5056689342405\n",
      "1442 3963.0735544217687\n",
      "1443 3849.0389030612246\n",
      "1444 4355.263321995465\n",
      "1445 3923.798752834467\n",
      "1446 4217.884353741497\n",
      "1447 3928.6930980725624\n",
      "1448 3917.2047902494332\n"
     ]
    },
    {
     "name": "stderr",
     "output_type": "stream",
     "text": [
      "Processing query part 0: 505it [00:15, 32.28it/s]"
     ]
    },
    {
     "name": "stdout",
     "output_type": "stream",
     "text": [
      "1449 3997.77947845805\n",
      "145 4282.855229591837\n",
      "1450 4028.2478032879817\n",
      "1451 4234.231079931973\n",
      "1452 4072.1350623582766\n",
      "1453 4027.951247165533\n",
      "1454 3996.1979166666665\n"
     ]
    },
    {
     "name": "stderr",
     "output_type": "stream",
     "text": [
      "Processing query part 0: 513it [00:15, 33.02it/s]"
     ]
    },
    {
     "name": "stdout",
     "output_type": "stream",
     "text": [
      "1455 4339.074475623583\n",
      "1456 3847.361961451247\n",
      "1457 4196.162910997732\n",
      "1458 4138.461876417234\n",
      "1459 4115.745960884354\n",
      "146 4261.0999149659865\n",
      "1460 4080.1081349206347\n",
      "1461 4113.9956774376415\n"
     ]
    },
    {
     "name": "stderr",
     "output_type": "stream",
     "text": [
      "Processing query part 0: 521it [00:16, 33.73it/s]"
     ]
    },
    {
     "name": "stdout",
     "output_type": "stream",
     "text": [
      "1462 4141.014384920635\n",
      "1463 4179.907596371882\n",
      "1464 4116.488095238095\n",
      "1465 4180.585813492064\n",
      "1466 4077.312641723356\n",
      "1467 4186.39951814059\n",
      "1468 3745.316468253968\n"
     ]
    },
    {
     "name": "stderr",
     "output_type": "stream",
     "text": [
      "Processing query part 0: 529it [00:16, 33.08it/s]"
     ]
    },
    {
     "name": "stdout",
     "output_type": "stream",
     "text": [
      "1469 4110.201318027211\n",
      "147 4212.914469954649\n",
      "1470 4110.351615646258\n",
      "1471 3939.619189342404\n",
      "1472 3984.8809523809523\n",
      "1473 4004.6345663265306\n",
      "1474 4045.0362103174602\n"
     ]
    },
    {
     "name": "stderr",
     "output_type": "stream",
     "text": [
      "\r",
      "Processing query part 0: 533it [00:16, 33.32it/s]"
     ]
    },
    {
     "name": "stdout",
     "output_type": "stream",
     "text": [
      "1475 4109.879818594104\n",
      "1476 4112.191964285715\n",
      "1477 3982.8207199546487\n",
      "1478 3996.061224489796\n",
      "1479 4020.9348781179137\n",
      "148 4099.020053854875\n",
      "1480 4227.91191893424\n"
     ]
    },
    {
     "name": "stderr",
     "output_type": "stream",
     "text": [
      "Processing query part 0: 541it [00:16, 33.13it/s]"
     ]
    },
    {
     "name": "stdout",
     "output_type": "stream",
     "text": [
      "1481 4248.947916666667\n",
      "1482 3895.5274943310656\n",
      "1483 4171.327451814059\n",
      "1484 3823.921910430839\n",
      "1485 3987.12251984127\n",
      "1486 3903.9309098639455\n",
      "1487 3938.3771967120183\n",
      "1488 3923.6359126984125\n"
     ]
    },
    {
     "name": "stderr",
     "output_type": "stream",
     "text": [
      "Processing query part 0: 549it [00:16, 33.12it/s]"
     ]
    },
    {
     "name": "stdout",
     "output_type": "stream",
     "text": [
      "1489 4009.519557823129\n",
      "149 4137.779336734694\n",
      "1490 4112.896825396825\n",
      "1491 4315.599064625851\n",
      "1492 3906.0970096371884\n",
      "1493 4239.325821995465\n",
      "1494 4164.9956774376415\n",
      "1495 3938.892573696145\n"
     ]
    },
    {
     "name": "stderr",
     "output_type": "stream",
     "text": [
      "Processing query part 0: 557it [00:17, 32.89it/s]"
     ]
    },
    {
     "name": "stdout",
     "output_type": "stream",
     "text": [
      "1496 4086.7147108843537\n",
      "1497 4146.889455782313\n",
      "1498 4007.5068735827663\n",
      "1499 4089.009778911565\n",
      "15 4215.858985260771\n",
      "150 4355.393069727891\n",
      "1500 4068.6789257369614\n"
     ]
    },
    {
     "name": "stderr",
     "output_type": "stream",
     "text": [
      "Processing query part 0: 565it [00:17, 31.21it/s]"
     ]
    },
    {
     "name": "stdout",
     "output_type": "stream",
     "text": [
      "1501 4298.466411564626\n",
      "1502 4119.90518707483\n",
      "1503 4042.381306689342\n",
      "1504 4153.552862811792\n",
      "1505 4195.525510204082\n",
      "1506 4226.781179138322\n",
      "1507 4230.7172619047615\n"
     ]
    },
    {
     "name": "stderr",
     "output_type": "stream",
     "text": [
      "Processing query part 0: 573it [00:17, 32.57it/s]"
     ]
    },
    {
     "name": "stdout",
     "output_type": "stream",
     "text": [
      "1508 4250.775368480726\n",
      "1509 4048.7761479591836\n",
      "151 4290.466128117914\n",
      "1510 4215.265022675737\n",
      "1511 3867.5749716553287\n",
      "1512 4274.912344104308\n",
      "1513 4073.3854875283446\n",
      "1514 4059.503472222222\n"
     ]
    },
    {
     "name": "stderr",
     "output_type": "stream",
     "text": [
      "Processing query part 0: 581it [00:17, 31.81it/s]"
     ]
    },
    {
     "name": "stdout",
     "output_type": "stream",
     "text": [
      "1515 4170.469600340136\n",
      "1516 3959.377551020408\n",
      "1517 4006.4079506802723\n",
      "1518 4173.5885062358275\n",
      "1519 4069.955498866213\n",
      "152 3981.1403769841268\n",
      "1520 4168.894628684808\n"
     ]
    },
    {
     "name": "stderr",
     "output_type": "stream",
     "text": [
      "\r",
      "Processing query part 0: 585it [00:18, 30.99it/s]"
     ]
    },
    {
     "name": "stdout",
     "output_type": "stream",
     "text": [
      "1521 4025.9136904761904\n",
      "1522 3844.731434240363\n",
      "1523 3954.3097363945576\n",
      "1524 4185.451601473923\n",
      "1525 3951.2298752834467\n",
      "1526 3944.4899376417234\n",
      "1527 4212.507369614513\n"
     ]
    },
    {
     "name": "stderr",
     "output_type": "stream",
     "text": [
      "Processing query part 0: 593it [00:18, 31.31it/s]"
     ]
    },
    {
     "name": "stdout",
     "output_type": "stream",
     "text": [
      "1528 4086.6043792517007\n",
      "1529 3982.5514455782313\n",
      "153 4239.368409863946\n",
      "1530 3910.4472080498867\n",
      "1531 4189.344600340136\n",
      "1532 4046.4007936507937\n",
      "1533 4204.811862244898\n"
     ]
    },
    {
     "name": "stderr",
     "output_type": "stream",
     "text": [
      "Processing query part 0: 601it [00:18, 32.47it/s]"
     ]
    },
    {
     "name": "stdout",
     "output_type": "stream",
     "text": [
      "1534 4235.454506802721\n",
      "1535 3952.564058956916\n",
      "1536 3934.784651360544\n",
      "1537 4251.3622448979595\n",
      "1538 4537.831703514739\n",
      "1539 3889.1493055555557\n",
      "154 3927.7600623582766\n"
     ]
    },
    {
     "name": "stderr",
     "output_type": "stream",
     "text": [
      "Processing query part 0: 609it [00:18, 32.82it/s]"
     ]
    },
    {
     "name": "stdout",
     "output_type": "stream",
     "text": [
      "1540 3970.143494897959\n",
      "1541 3976.543013038549\n",
      "1542 4040.842120181406\n",
      "1543 3877.375637755102\n",
      "1544 3948.5120464852607\n",
      "1545 4272.43785430839\n",
      "1546 4305.527210884354\n"
     ]
    },
    {
     "name": "stderr",
     "output_type": "stream",
     "text": [
      "Processing query part 0: 617it [00:19, 32.88it/s]"
     ]
    },
    {
     "name": "stdout",
     "output_type": "stream",
     "text": [
      "1547 4172.193877551021\n",
      "1548 4043.2416383219957\n",
      "1549 4138.434594671202\n",
      "155 4082.587939342404\n",
      "1550 4249.687925170068\n",
      "1551 3938.573837868481\n",
      "1552 3906.4435232426304\n",
      "1553 3947.956916099773\n"
     ]
    },
    {
     "name": "stderr",
     "output_type": "stream",
     "text": [
      "Processing query part 0: 625it [00:19, 34.09it/s]"
     ]
    },
    {
     "name": "stdout",
     "output_type": "stream",
     "text": [
      "1554 4211.619543650793\n",
      "1555 3978.050382653061\n",
      "1556 4178.449546485261\n",
      "1557 4093.3072562358275\n",
      "1558 3770.2902494331065\n",
      "1559 4293.434594671202\n",
      "156 3959.190830498866\n",
      "1560 4044.2536139455783\n"
     ]
    },
    {
     "name": "stderr",
     "output_type": "stream",
     "text": [
      "\r",
      "Processing query part 0: 629it [00:19, 33.62it/s]"
     ]
    },
    {
     "name": "stdout",
     "output_type": "stream",
     "text": [
      "1561 4062.074333900227\n",
      "1562 4042.809523809524\n",
      "1563 4285.714781746032\n",
      "1564 4109.038548752835\n",
      "1565 3906.7253401360545\n",
      "1566 3766.5972930839002\n"
     ]
    },
    {
     "name": "stderr",
     "output_type": "stream",
     "text": [
      "Processing query part 0: 637it [00:19, 33.95it/s]"
     ]
    },
    {
     "name": "stdout",
     "output_type": "stream",
     "text": [
      "1567 4037.953656462585\n",
      "1568 3953.1062925170068\n",
      "1569 4244.282596371882\n",
      "157 4127.329506802721\n",
      "1570 4156.266723356009\n",
      "1571 4138.087301587301\n",
      "1572 3996.984339569161\n",
      "1573 4270.876913265306\n"
     ]
    },
    {
     "name": "stderr",
     "output_type": "stream",
     "text": [
      "Processing query part 0: 645it [00:19, 34.62it/s]"
     ]
    },
    {
     "name": "stdout",
     "output_type": "stream",
     "text": [
      "1574 3993.362244897959\n",
      "1575 4011.1272675736964\n",
      "1576 3920.8675595238096\n",
      "1577 4150.035076530612\n",
      "1578 3841.057681405896\n",
      "1579 4202.2400793650795\n",
      "158 3996.6726190476193\n"
     ]
    },
    {
     "name": "stderr",
     "output_type": "stream",
     "text": [
      "Processing query part 0: 653it [00:20, 32.49it/s]"
     ]
    },
    {
     "name": "stdout",
     "output_type": "stream",
     "text": [
      "1580 4359.618055555556\n",
      "1581 4134.540462018141\n",
      "1582 4102.3669926303855\n",
      "1583 3926.8049886621316\n",
      "1584 4096.530045351474\n",
      "1585 4311.540958049886\n",
      "1586 4301.9947562358275\n",
      "1587 4112.555201247165\n"
     ]
    },
    {
     "name": "stderr",
     "output_type": "stream",
     "text": [
      "Processing query part 0: 661it [00:20, 33.53it/s]"
     ]
    },
    {
     "name": "stdout",
     "output_type": "stream",
     "text": [
      "1588 4055.296485260771\n",
      "1589 4191.3650793650795\n",
      "159 4109.065617913832\n",
      "1590 4287.6747448979595\n",
      "1591 4183.415391156463\n",
      "1592 4100.547689909297\n",
      "1593 3843.6198979591836\n",
      "1594 4084.52947845805\n"
     ]
    },
    {
     "name": "stderr",
     "output_type": "stream",
     "text": [
      "Processing query part 0: 669it [00:20, 35.22it/s]"
     ]
    },
    {
     "name": "stdout",
     "output_type": "stream",
     "text": [
      "1595 4192.610260770975\n",
      "1596 4281.904407596372\n",
      "1597 4196.806901927438\n",
      "1598 4031.3039257369614\n",
      "1599 4053.3044926303855\n",
      "16 3858.9293509070294\n",
      "160 3836.920847505669\n",
      "1600 4072.5243055555557\n"
     ]
    },
    {
     "name": "stderr",
     "output_type": "stream",
     "text": [
      "Processing query part 0: 677it [00:20, 34.47it/s]"
     ]
    },
    {
     "name": "stdout",
     "output_type": "stream",
     "text": [
      "1601 4059.1911848072564\n",
      "1602 4078.362174036281\n",
      "1603 4356.472930839002\n",
      "1604 3796.687570861678\n",
      "1605 3993.1453373015875\n",
      "1606 3965.487670068027\n",
      "1607 3958.713364512472\n"
     ]
    },
    {
     "name": "stderr",
     "output_type": "stream",
     "text": [
      "\r",
      "Processing query part 0: 681it [00:20, 34.37it/s]"
     ]
    },
    {
     "name": "stdout",
     "output_type": "stream",
     "text": [
      "1608 4061.3146967120183\n",
      "1609 3798.515022675737\n",
      "161 4043.722718253968\n",
      "1610 4283.758290816327\n",
      "1611 4006.593183106576\n",
      "1612 4051.1208191609976\n",
      "1613 3927.9123441043084\n"
     ]
    },
    {
     "name": "stderr",
     "output_type": "stream",
     "text": [
      "Processing query part 0: 689it [00:21, 34.57it/s]"
     ]
    },
    {
     "name": "stdout",
     "output_type": "stream",
     "text": [
      "1614 4165.309382086168\n",
      "1615 4153.189696712018\n",
      "1616 4233.332270408163\n",
      "1617 4093.576814058957\n",
      "1618 4116.636904761905\n",
      "1619 3938.2936507936506\n",
      "162 4103.037060657596\n",
      "1620 3907.666028911565\n"
     ]
    },
    {
     "name": "stderr",
     "output_type": "stream",
     "text": [
      "Processing query part 0: 697it [00:21, 35.73it/s]"
     ]
    },
    {
     "name": "stdout",
     "output_type": "stream",
     "text": [
      "1621 4045.2254109977325\n",
      "1622 4028.4665532879817\n",
      "1623 4034.7417800453513\n",
      "1624 4234.811507936508\n",
      "1625 3974.487740929705\n",
      "1626 4097.912344104308\n",
      "1627 4097.002905328798\n",
      "1628 4068.655116213152\n"
     ]
    },
    {
     "name": "stderr",
     "output_type": "stream",
     "text": [
      "Processing query part 0: 705it [00:21, 35.05it/s]"
     ]
    },
    {
     "name": "stdout",
     "output_type": "stream",
     "text": [
      "1629 4256.424815759638\n",
      "163 4481.37606292517\n",
      "1630 4290.189129818594\n",
      "1631 3978.422548185941\n",
      "1632 4104.919146825397\n",
      "1633 4045.6519982993195\n",
      "1634 4110.769345238095\n",
      "1635 3975.50035430839\n"
     ]
    },
    {
     "name": "stderr",
     "output_type": "stream",
     "text": [
      "Processing query part 0: 713it [00:21, 34.71it/s]"
     ]
    },
    {
     "name": "stdout",
     "output_type": "stream",
     "text": [
      "1636 4172.607071995465\n",
      "1637 3987.6825396825398\n",
      "1638 4109.045351473923\n",
      "1639 3936.7273242630386\n",
      "164 3979.1838860544217\n",
      "1640 3991.4563492063494\n",
      "1641 4730.886337868481\n",
      "1642 4131.762613378684\n"
     ]
    },
    {
     "name": "stderr",
     "output_type": "stream",
     "text": [
      "Processing query part 0: 721it [00:22, 34.85it/s]"
     ]
    },
    {
     "name": "stdout",
     "output_type": "stream",
     "text": [
      "1643 3937.8624574829932\n",
      "1644 4173.982355442177\n",
      "1645 3912.1940192743764\n",
      "1646 4194.331774376417\n",
      "1647 4023.955924036281\n",
      "1648 4108.756590136054\n",
      "1649 4262.994189342404\n",
      "165 3932.9754818594106\n"
     ]
    },
    {
     "name": "stderr",
     "output_type": "stream",
     "text": [
      "Processing query part 0: 729it [00:22, 33.87it/s]"
     ]
    },
    {
     "name": "stdout",
     "output_type": "stream",
     "text": [
      "1650 4050.1828939909296\n",
      "1651 3955.8853458049884\n",
      "1652 4148.355938208617\n",
      "1653 4248.9795918367345\n",
      "1654 4067.562074829932\n",
      "1655 3972.091907596372\n",
      "1657 4135.598285147393\n"
     ]
    },
    {
     "name": "stderr",
     "output_type": "stream",
     "text": [
      "Processing query part 0: 737it [00:22, 33.17it/s]"
     ]
    },
    {
     "name": "stdout",
     "output_type": "stream",
     "text": [
      "1658 4200.3035005668935\n",
      "1659 4286.617417800454\n",
      "166 4080.487244897959\n",
      "1660 4257.176374716553\n",
      "1661 4014.355442176871\n",
      "1662 4130.28054138322\n",
      "1663 4268.483560090703\n",
      "1664 3952.736961451247\n"
     ]
    },
    {
     "name": "stderr",
     "output_type": "stream",
     "text": [
      "Processing query part 0: 745it [00:22, 33.92it/s]"
     ]
    },
    {
     "name": "stdout",
     "output_type": "stream",
     "text": [
      "1665 4143.41404478458\n",
      "1666 4059.357426303855\n",
      "1667 4107.419430272109\n",
      "1668 3819.1569586167802\n",
      "1669 4246.068452380952\n",
      "167 4003.3059807256236\n",
      "1670 4103.472222222223\n",
      "1671 3939.225056689342\n"
     ]
    },
    {
     "name": "stderr",
     "output_type": "stream",
     "text": [
      "Processing query part 0: 754it [00:23, 34.89it/s]"
     ]
    },
    {
     "name": "stdout",
     "output_type": "stream",
     "text": [
      "1672 4166.133361678005\n",
      "1673 4191.1955782312925\n",
      "1674 4048.6950821995465\n",
      "1675 4185.156320861678\n",
      "1676 4049.2951388888887\n",
      "1677 4146.221726190476\n",
      "1678 3893.2222930839002\n",
      "1679 3977.7126558956916\n",
      "168 3737.3800311791383\n"
     ]
    },
    {
     "name": "stderr",
     "output_type": "stream",
     "text": [
      "Processing query part 0: 762it [00:23, 34.73it/s]"
     ]
    },
    {
     "name": "stdout",
     "output_type": "stream",
     "text": [
      "1680 4058.671556122449\n",
      "1681 4123.7485827664395\n",
      "1682 4191.774022108843\n",
      "1683 4196.890235260771\n",
      "1684 4109.220379818594\n",
      "1685 3975.5260062358275\n",
      "1686 4262.009070294785\n",
      "1687 4115.708475056689\n"
     ]
    },
    {
     "name": "stderr",
     "output_type": "stream",
     "text": [
      "Processing query part 0: 770it [00:23, 33.30it/s]"
     ]
    },
    {
     "name": "stdout",
     "output_type": "stream",
     "text": [
      "1688 3822.175311791383\n",
      "1689 4630.8205782312925\n",
      "169 4022.5724914965986\n",
      "1690 4260.87216553288\n",
      "1691 3970.734268707483\n",
      "1692 4163.377621882086\n",
      "1693 4226.6813350340135\n",
      "1694 3904.2599206349205\n"
     ]
    },
    {
     "name": "stderr",
     "output_type": "stream",
     "text": [
      "Processing query part 0: 778it [00:23, 34.77it/s]"
     ]
    },
    {
     "name": "stdout",
     "output_type": "stream",
     "text": [
      "1695 3986.4755527210887\n",
      "1696 4556.16298185941\n",
      "1697 4031.513321995465\n",
      "1698 4007.8854875283446\n",
      "1699 4100.318239795918\n",
      "17 3955.160643424036\n",
      "170 4285.8527494331065\n",
      "1700 4136.212939342404\n"
     ]
    },
    {
     "name": "stderr",
     "output_type": "stream",
     "text": [
      "Processing query part 0: 786it [00:23, 32.25it/s]"
     ]
    },
    {
     "name": "stdout",
     "output_type": "stream",
     "text": [
      "1701 4148.79010770975\n",
      "1702 4029.9171626984125\n",
      "1703 3856.8338293650795\n",
      "1704 3990.458049886621\n",
      "1705 4142.534155328798\n",
      "1706 4240.0894982993195\n"
     ]
    },
    {
     "name": "stderr",
     "output_type": "stream",
     "text": [
      "\r",
      "Processing query part 0: 790it [00:24, 32.93it/s]"
     ]
    },
    {
     "name": "stdout",
     "output_type": "stream",
     "text": [
      "1707 4055.9954648526077\n",
      "1708 4032.2592120181407\n",
      "171 4095.033659297052\n",
      "1710 4106.893636621316\n",
      "1711 4246.1955782312925\n",
      "1712 4661.412769274377\n"
     ]
    },
    {
     "name": "stderr",
     "output_type": "stream",
     "text": [
      "Processing query part 0: 798it [00:24, 33.85it/s]"
     ]
    },
    {
     "name": "stdout",
     "output_type": "stream",
     "text": [
      "1713 3946.623157596372\n",
      "1714 4122.924886621316\n",
      "1715 3898.943310657596\n",
      "1716 4157.759141156463\n",
      "1717 4030.3645124716554\n",
      "1718 4050.3089569160998\n",
      "1719 4432.485473356009\n",
      "172 3911.3635204081634\n"
     ]
    },
    {
     "name": "stderr",
     "output_type": "stream",
     "text": [
      "Processing query part 0: 806it [00:24, 33.33it/s]"
     ]
    },
    {
     "name": "stdout",
     "output_type": "stream",
     "text": [
      "1720 4423.020195578231\n",
      "1721 4184.619401927438\n",
      "1722 4248.835175736962\n",
      "1723 4048.532808956916\n",
      "1724 4075.673469387755\n",
      "1725 3870.175170068027\n",
      "1726 4024.3991638321995\n"
     ]
    },
    {
     "name": "stderr",
     "output_type": "stream",
     "text": [
      "Processing query part 0: 814it [00:24, 33.99it/s]"
     ]
    },
    {
     "name": "stdout",
     "output_type": "stream",
     "text": [
      "1727 4150.321995464853\n",
      "1728 4111.418792517007\n",
      "1729 4294.931901927438\n",
      "173 3901.3625283446713\n",
      "1730 3846.3192318594106\n",
      "1731 3804.4923469387754\n",
      "1732 4015.8217120181407\n",
      "1733 4046.561507936508\n"
     ]
    },
    {
     "name": "stderr",
     "output_type": "stream",
     "text": [
      "Processing query part 0: 822it [00:25, 33.89it/s]"
     ]
    },
    {
     "name": "stdout",
     "output_type": "stream",
     "text": [
      "1734 4126.551091269841\n",
      "1735 4019.6213860544217\n",
      "1736 3913.1916099773243\n",
      "1737 3978.9880952380954\n",
      "1738 4258.87216553288\n",
      "1739 3944.6958616780043\n",
      "174 4128.663548752835\n"
     ]
    },
    {
     "name": "stderr",
     "output_type": "stream",
     "text": [
      "\r",
      "Processing query part 0: 827it [00:25, 35.24it/s]"
     ]
    },
    {
     "name": "stdout",
     "output_type": "stream",
     "text": [
      "1740 4158.891085600907\n",
      "1741 4011.718112244898\n",
      "1742 3895.231859410431\n",
      "1743 4266.674886621316\n",
      "1744 4166.496315192744\n",
      "1745 4057.948270975057\n",
      "1746 3970.7003968253966\n",
      "1747 4132.942035147393\n"
     ]
    },
    {
     "name": "stderr",
     "output_type": "stream",
     "text": [
      "Processing query part 0: 835it [00:25, 34.61it/s]"
     ]
    },
    {
     "name": "stdout",
     "output_type": "stream",
     "text": [
      "1748 3881.2609835600906\n",
      "1749 4023.5202664399094\n",
      "175 4166.547193877551\n",
      "1750 4148.171697845805\n",
      "1751 4062.8042800453513\n",
      "1752 4169.255598072562\n",
      "1753 4031.2084041950116\n"
     ]
    },
    {
     "name": "stderr",
     "output_type": "stream",
     "text": [
      "Processing query part 0: 843it [00:25, 34.25it/s]"
     ]
    },
    {
     "name": "stdout",
     "output_type": "stream",
     "text": [
      "1754 4042.9002976190477\n",
      "1755 4161.071003401361\n",
      "1756 3946.556193310658\n",
      "1757 4050.827522675737\n",
      "1758 3979.6180555555557\n",
      "1759 3825.8718820861677\n",
      "176 4083.985260770975\n"
     ]
    },
    {
     "name": "stderr",
     "output_type": "stream",
     "text": [
      "Processing query part 0: 851it [00:25, 34.36it/s]"
     ]
    },
    {
     "name": "stdout",
     "output_type": "stream",
     "text": [
      "1760 3716.9084467120183\n",
      "1761 4199.729024943311\n",
      "1762 4467.827947845805\n",
      "1763 4121.713364512471\n",
      "1764 4177.993055555556\n",
      "1765 4269.748866213152\n",
      "1766 3899.4548611111113\n",
      "1767 4019.748157596372\n"
     ]
    },
    {
     "name": "stderr",
     "output_type": "stream",
     "text": [
      "Processing query part 0: 859it [00:26, 33.00it/s]"
     ]
    },
    {
     "name": "stdout",
     "output_type": "stream",
     "text": [
      "1768 4215.05789399093\n",
      "1769 4271.574688208617\n",
      "177 4064.3015164399094\n",
      "1770 4250.986819727891\n",
      "1771 4097.749007936508\n",
      "1772 4134.265022675737\n",
      "1773 3962.797831632653\n"
     ]
    },
    {
     "name": "stderr",
     "output_type": "stream",
     "text": [
      "\r",
      "Processing query part 0: 863it [00:26, 33.43it/s]"
     ]
    },
    {
     "name": "stdout",
     "output_type": "stream",
     "text": [
      "1774 4319.849985827665\n",
      "1775 3934.7914540816328\n",
      "1776 4160.351686507936\n",
      "1777 4052.8830073696145\n",
      "1778 4018.1307397959185\n",
      "1779 4100.110969387755\n",
      "178 4191.658517573696\n"
     ]
    },
    {
     "name": "stderr",
     "output_type": "stream",
     "text": [
      "Processing query part 0: 871it [00:26, 34.13it/s]"
     ]
    },
    {
     "name": "stdout",
     "output_type": "stream",
     "text": [
      "1780 4148.712655895692\n",
      "1781 4056.9932681405894\n",
      "1782 4173.9966695011335\n",
      "1783 4025.297760770975\n",
      "1784 4029.751842403628\n",
      "1785 4065.933673469388\n",
      "1786 4269.163194444444\n",
      "1787 3878.734268707483\n"
     ]
    },
    {
     "name": "stderr",
     "output_type": "stream",
     "text": [
      "Processing query part 0: 879it [00:26, 34.16it/s]"
     ]
    },
    {
     "name": "stdout",
     "output_type": "stream",
     "text": [
      "1788 4256.680342970521\n",
      "1789 4026.064909297052\n",
      "179 4064.423469387755\n",
      "1790 4236.084183673469\n",
      "1791 3991.8677012471653\n",
      "1792 4030.6820436507937\n",
      "1793 3828.3908730158732\n",
      "1794 3859.970379818594\n"
     ]
    },
    {
     "name": "stderr",
     "output_type": "stream",
     "text": [
      "Processing query part 0: 887it [00:26, 34.56it/s]"
     ]
    },
    {
     "name": "stdout",
     "output_type": "stream",
     "text": [
      "1795 4144.183035714285\n",
      "1796 4234.439058956916\n",
      "1797 3941.6194727891157\n",
      "1798 4122.407879818594\n",
      "1799 3905.5240929705215\n",
      "18 3926.763038548753\n",
      "180 3836.3992346938776\n",
      "1800 4110.361678004535\n"
     ]
    },
    {
     "name": "stderr",
     "output_type": "stream",
     "text": [
      "Processing query part 0: 895it [00:27, 33.95it/s]"
     ]
    },
    {
     "name": "stdout",
     "output_type": "stream",
     "text": [
      "1801 4115.4672619047615\n",
      "1802 4020.500283446712\n",
      "1803 4017.8543083900227\n",
      "1804 3988.4936224489797\n",
      "1805 4177.780470521542\n",
      "1806 3896.1636904761904\n",
      "1807 4125.164682539683\n",
      "1808 3947.965419501134\n"
     ]
    },
    {
     "name": "stderr",
     "output_type": "stream",
     "text": [
      "Processing query part 0: 903it [00:27, 34.55it/s]"
     ]
    },
    {
     "name": "stdout",
     "output_type": "stream",
     "text": [
      "1809 3906.124858276644\n",
      "181 4621.547760770975\n",
      "1810 4133.939554988662\n",
      "1811 4235.726119614513\n",
      "1812 4151.986252834467\n",
      "1813 4446.629039115646\n",
      "1814 3864.753968253968\n"
     ]
    },
    {
     "name": "stderr",
     "output_type": "stream",
     "text": [
      "Processing query part 0: 911it [00:27, 33.82it/s]"
     ]
    },
    {
     "name": "stdout",
     "output_type": "stream",
     "text": [
      "1815 4131.527069160998\n",
      "1816 3890.922052154195\n",
      "1817 4020.8653628117913\n",
      "1818 4274.612740929705\n",
      "1819 3882.90873015873\n",
      "182 4211.02735260771\n",
      "1820 3909.8836451247166\n"
     ]
    },
    {
     "name": "stderr",
     "output_type": "stream",
     "text": [
      "Processing query part 0: 919it [00:27, 31.41it/s]"
     ]
    },
    {
     "name": "stdout",
     "output_type": "stream",
     "text": [
      "1821 4062.924248866213\n",
      "1822 4065.56498015873\n",
      "1823 4034.6491638321995\n",
      "1824 3937.830073696145\n",
      "1825 3818.343466553288\n",
      "1826 4151.1832482993195\n",
      "1827 4368.8195861678005\n"
     ]
    },
    {
     "name": "stderr",
     "output_type": "stream",
     "text": [
      "\r",
      "Processing query part 0: 923it [00:28, 33.10it/s]"
     ]
    },
    {
     "name": "stdout",
     "output_type": "stream",
     "text": [
      "1828 3963.995535714286\n",
      "1829 4037.354024943311\n",
      "183 4023.40483276644\n",
      "1830 3920.473072562358\n",
      "1831 3955.922264739229\n",
      "1832 4050.9181547619046\n",
      "1833 4323.893069727891\n"
     ]
    },
    {
     "name": "stderr",
     "output_type": "stream",
     "text": [
      "Processing query part 0: 931it [00:28, 33.65it/s]"
     ]
    },
    {
     "name": "stdout",
     "output_type": "stream",
     "text": [
      "1834 4004.5729166666665\n",
      "1835 3871.656887755102\n",
      "1836 4673.446712018141\n",
      "1837 4186.193098072562\n",
      "1838 4169.433460884354\n",
      "1839 3901.2718253968255\n",
      "184 4209.7144274376415\n",
      "1840 3972.311366213152\n"
     ]
    },
    {
     "name": "stderr",
     "output_type": "stream",
     "text": [
      "Processing query part 0: 939it [00:28, 32.34it/s]"
     ]
    },
    {
     "name": "stdout",
     "output_type": "stream",
     "text": [
      "1841 3990.5504535147393\n",
      "1842 4203.0317460317465\n",
      "1843 4117.911068594104\n",
      "1844 4129.898526077098\n",
      "1845 4080.8635912698414\n",
      "1846 4148.772675736962\n"
     ]
    },
    {
     "name": "stderr",
     "output_type": "stream",
     "text": [
      "Processing query part 0: 947it [00:28, 32.35it/s]"
     ]
    },
    {
     "name": "stdout",
     "output_type": "stream",
     "text": [
      "1847 3974.576530612245\n",
      "1848 4418.712514172335\n",
      "1849 4226.446641156463\n",
      "185 3882.5022675736964\n",
      "1850 4184.514526643991\n",
      "1851 4064.6989795918366\n",
      "1852 4329.045493197279\n"
     ]
    },
    {
     "name": "stderr",
     "output_type": "stream",
     "text": [
      "Processing query part 0: 955it [00:28, 33.98it/s]"
     ]
    },
    {
     "name": "stdout",
     "output_type": "stream",
     "text": [
      "1853 3974.9964569160998\n",
      "1854 3926.0667517006805\n",
      "1855 4395.099064625851\n",
      "1856 4341.302862811792\n",
      "1857 3973.6960034013605\n",
      "1858 4280.839994331066\n",
      "1859 4131.217403628118\n",
      "186 3982.3331916099773\n"
     ]
    },
    {
     "name": "stderr",
     "output_type": "stream",
     "text": [
      "Processing query part 0: 963it [00:29, 33.37it/s]"
     ]
    },
    {
     "name": "stdout",
     "output_type": "stream",
     "text": [
      "1860 4036.849631519274\n",
      "1861 4032.53160430839\n",
      "1862 4007.62535430839\n",
      "1863 3979.844246031746\n",
      "1864 3939.4914257369614\n",
      "1865 4367.46272675737\n",
      "1866 4106.973214285715\n",
      "1867 4048.178217120181\n"
     ]
    },
    {
     "name": "stderr",
     "output_type": "stream",
     "text": [
      "\r",
      "Processing query part 0: 967it [00:29, 32.88it/s]"
     ]
    },
    {
     "name": "stdout",
     "output_type": "stream",
     "text": [
      "1868 3965.6986252834467\n",
      "1869 4298.8300736961455\n",
      "187 4304.3499149659865\n",
      "1870 4056.390802154195\n",
      "1871 4024.874220521542\n",
      "1872 3968.2927295918366\n",
      "1873 3989.797052154195\n"
     ]
    },
    {
     "name": "stderr",
     "output_type": "stream",
     "text": [
      "Processing query part 0: 975it [00:29, 31.39it/s]"
     ]
    },
    {
     "name": "stdout",
     "output_type": "stream",
     "text": [
      "1874 4046.831065759637\n",
      "1875 4083.952026643991\n",
      "1876 4045.705640589569\n",
      "1877 3900.7444019274376\n",
      "1878 4255.810303287982\n",
      "1879 4064.9727891156463\n",
      "188 4200.634141156463\n"
     ]
    },
    {
     "name": "stderr",
     "output_type": "stream",
     "text": [
      "Processing query part 0: 983it [00:29, 31.84it/s]"
     ]
    },
    {
     "name": "stdout",
     "output_type": "stream",
     "text": [
      "1880 4010.9948979591836\n",
      "1881 4062.5381944444443\n",
      "1882 4272.989866780045\n",
      "1883 4043.8449546485263\n",
      "1884 4160.626346371882\n",
      "1885 3920.9206349206347\n",
      "1886 4027.4548611111113\n"
     ]
    },
    {
     "name": "stderr",
     "output_type": "stream",
     "text": [
      "Processing query part 0: 991it [00:30, 31.10it/s]"
     ]
    },
    {
     "name": "stdout",
     "output_type": "stream",
     "text": [
      "1887 4068.123157596372\n",
      "1888 4154.623370181406\n",
      "1889 4349.488378684808\n",
      "189 4227.31037414966\n",
      "1890 4224.435657596372\n",
      "1891 4119.450113378684\n",
      "1892 3961.276431405896\n"
     ]
    },
    {
     "name": "stderr",
     "output_type": "stream",
     "text": [
      "\r",
      "Processing query part 0: 995it [00:30, 30.78it/s]"
     ]
    },
    {
     "name": "stdout",
     "output_type": "stream",
     "text": [
      "1893 4057.0243055555557\n",
      "1894 3997.684027777778\n",
      "1895 4391.279620181406\n",
      "1896 3976.5490362811793\n",
      "1897 4143.372803287982\n",
      "1898 4023.8088860544217\n",
      "1899 3771.637755102041\n"
     ]
    },
    {
     "name": "stderr",
     "output_type": "stream",
     "text": [
      "Processing query part 0: 1003it [00:30, 31.36it/s]"
     ]
    },
    {
     "name": "stdout",
     "output_type": "stream",
     "text": [
      "19 4242.1850907029475\n",
      "190 4118.58595521542\n",
      "1900 4006.6660997732424\n",
      "1901 3881.5710742630386\n",
      "1902 4396.199121315192\n",
      "1903 4477.885770975056\n",
      "1904 4153.001204648526\n"
     ]
    },
    {
     "name": "stderr",
     "output_type": "stream",
     "text": [
      "Processing query part 0: 1011it [00:30, 29.51it/s]"
     ]
    },
    {
     "name": "stdout",
     "output_type": "stream",
     "text": [
      "1905 4067.205994897959\n",
      "1906 3988.7115221088434\n",
      "1907 3953.7867772108843\n",
      "1908 4362.644061791383\n",
      "1909 4239.166241496599\n",
      "191 4093.635770975057\n",
      "1910 4193.402069160998\n"
     ]
    },
    {
     "name": "stderr",
     "output_type": "stream",
     "text": [
      "\r",
      "Processing query part 0: 1015it [00:30, 29.53it/s]"
     ]
    },
    {
     "name": "stdout",
     "output_type": "stream",
     "text": [
      "1911 4357.484764739229\n",
      "1912 4360.067814625851\n",
      "1913 3998.452026643991\n",
      "1914 4260.886550453515\n",
      "1915 4425.957979024944\n",
      "1916 4215.4418225623585\n",
      "1917 4319.182327097506\n"
     ]
    },
    {
     "name": "stderr",
     "output_type": "stream",
     "text": [
      "Processing query part 0: 1023it [00:31, 30.95it/s]"
     ]
    },
    {
     "name": "stdout",
     "output_type": "stream",
     "text": [
      "1918 4476.758928571428\n",
      "1919 3920.016581632653\n",
      "192 4187.415816326531\n",
      "1920 3881.081136621315\n",
      "1921 4075.411139455782\n",
      "1922 4204.58489229025\n",
      "1923 3879.0196286848072\n"
     ]
    },
    {
     "name": "stderr",
     "output_type": "stream",
     "text": [
      "Processing query part 0: 1031it [00:31, 31.56it/s]"
     ]
    },
    {
     "name": "stdout",
     "output_type": "stream",
     "text": [
      "1924 4088.8548044217687\n",
      "1925 3944.28266723356\n",
      "1926 3904.2395833333335\n",
      "1927 4048.3533163265306\n",
      "1928 4160.079719387755\n",
      "1929 3914.313421201814\n",
      "193 4168.032100340136\n"
     ]
    },
    {
     "name": "stderr",
     "output_type": "stream",
     "text": [
      "Processing query part 0: 1039it [00:31, 30.46it/s]"
     ]
    },
    {
     "name": "stdout",
     "output_type": "stream",
     "text": [
      "1930 3976.6975623582766\n",
      "1931 4069.843253968254\n",
      "1932 4468.860048185941\n",
      "1933 4187.025014172335\n",
      "1934 3958.6498724489797\n",
      "1935 4332.239725056689\n",
      "1936 4294.264101473923\n"
     ]
    },
    {
     "name": "stderr",
     "output_type": "stream",
     "text": [
      "Processing query part 0: 1047it [00:31, 31.61it/s]"
     ]
    },
    {
     "name": "stdout",
     "output_type": "stream",
     "text": [
      "1937 4055.68927154195\n",
      "1938 4041.122448979592\n",
      "1939 4613.363874716553\n",
      "194 4119.866780045351\n",
      "1940 4024.613803854875\n",
      "1941 3947.625\n",
      "1942 4059.0364937641725\n"
     ]
    },
    {
     "name": "stderr",
     "output_type": "stream",
     "text": [
      "\r",
      "Processing query part 0: 1051it [00:32, 30.85it/s]"
     ]
    },
    {
     "name": "stdout",
     "output_type": "stream",
     "text": [
      "1943 4520.827947845805\n",
      "1944 3959.793083900227\n",
      "1945 4039.391652494331\n",
      "1946 3938.699759070295\n",
      "1947 4093.4759778911566\n",
      "1948 4065.3533163265306\n"
     ]
    },
    {
     "name": "stderr",
     "output_type": "stream",
     "text": [
      "Processing query part 0: 1059it [00:32, 32.28it/s]"
     ]
    },
    {
     "name": "stdout",
     "output_type": "stream",
     "text": [
      "1949 4020.6782879818593\n",
      "195 3976.888038548753\n",
      "1950 4160.116213151928\n",
      "1951 4039.2927295918366\n",
      "1952 3862.076601473923\n",
      "1953 4280.871173469388\n",
      "1954 4121.436649659864\n"
     ]
    },
    {
     "name": "stderr",
     "output_type": "stream",
     "text": [
      "Processing query part 0: 1067it [00:32, 32.74it/s]"
     ]
    },
    {
     "name": "stdout",
     "output_type": "stream",
     "text": [
      "1955 3869.81285430839\n",
      "1956 3974.919571995465\n",
      "1957 3958.676729024943\n",
      "1958 4073.275368480726\n",
      "1959 4160.823696145125\n",
      "196 4216.963860544218\n",
      "1960 4393.158517573696\n"
     ]
    },
    {
     "name": "stderr",
     "output_type": "stream",
     "text": [
      "\r",
      "Processing query part 0: 1071it [00:32, 33.20it/s]"
     ]
    },
    {
     "name": "stdout",
     "output_type": "stream",
     "text": [
      "1961 4105.08772675737\n",
      "1962 4066.997945011338\n",
      "1963 3903.090348639456\n",
      "1964 3888.09339569161\n",
      "1965 4129.665887188208\n",
      "1966 4143.869614512471\n",
      "1967 3954.405824829932\n"
     ]
    },
    {
     "name": "stderr",
     "output_type": "stream",
     "text": [
      "Processing query part 0: 1079it [00:32, 31.61it/s]"
     ]
    },
    {
     "name": "stdout",
     "output_type": "stream",
     "text": [
      "1968 4100.515731292517\n",
      "1969 3966.848072562358\n",
      "197 3882.5725623582766\n",
      "1970 3943.4464994331065\n",
      "1971 3895.5530045351475\n",
      "1972 4097.857851473923\n",
      "1973 3975.00389739229\n"
     ]
    },
    {
     "name": "stderr",
     "output_type": "stream",
     "text": [
      "Processing query part 0: 1087it [00:33, 32.84it/s]"
     ]
    },
    {
     "name": "stdout",
     "output_type": "stream",
     "text": [
      "1974 3950.9114229024945\n",
      "1975 3990.0229591836733\n",
      "1976 4015.594529478458\n",
      "1977 4201.986607142857\n",
      "1978 3807.1057964852607\n",
      "1979 3960.139455782313\n",
      "198 4066.204506802721\n"
     ]
    },
    {
     "name": "stderr",
     "output_type": "stream",
     "text": [
      "Processing query part 0: 1095it [00:33, 32.46it/s]"
     ]
    },
    {
     "name": "stdout",
     "output_type": "stream",
     "text": [
      "1980 4364.090632086168\n",
      "1981 4069.858276643991\n",
      "1982 4091.734693877551\n",
      "1983 4233.016369047619\n",
      "1984 4234.470804988662\n",
      "1985 4128.872803287982\n",
      "1986 3894.2492913832198\n"
     ]
    },
    {
     "name": "stderr",
     "output_type": "stream",
     "text": [
      "\r",
      "Processing query part 0: 1099it [00:33, 31.17it/s]"
     ]
    },
    {
     "name": "stdout",
     "output_type": "stream",
     "text": [
      "1987 3933.65873015873\n",
      "1988 4039.3861252834467\n",
      "1989 4142.247236394558\n",
      "199 4033.800807823129\n",
      "1990 4048.62535430839\n",
      "1991 4163.543154761905\n"
     ]
    },
    {
     "name": "stderr",
     "output_type": "stream",
     "text": [
      "Processing query part 0: 1107it [00:33, 31.41it/s]"
     ]
    },
    {
     "name": "stdout",
     "output_type": "stream",
     "text": [
      "1992 3919.592403628118\n",
      "1993 4027.422193877551\n",
      "1994 3966.496669501134\n",
      "1995 4092.7743764172337\n",
      "1996 4277.722222222223\n",
      "1997 4391.379464285715\n",
      "1998 3917.450184240363\n",
      "1999 4400.704435941043\n"
     ]
    },
    {
     "name": "stderr",
     "output_type": "stream",
     "text": [
      "Processing query part 0: 1115it [00:34, 34.04it/s]"
     ]
    },
    {
     "name": "stdout",
     "output_type": "stream",
     "text": [
      "2 4153.31143707483\n",
      "20 4006.9421060090704\n",
      "200 4111.1235827664395\n",
      "2000 4349.379818594104\n",
      "2001 4204.020904195011\n",
      "2002 4109.024659863946\n",
      "2003 3914.5859552154193\n",
      "2004 3871.3943452380954\n"
     ]
    },
    {
     "name": "stderr",
     "output_type": "stream",
     "text": [
      "Processing query part 0: 1123it [00:34, 34.75it/s]"
     ]
    },
    {
     "name": "stdout",
     "output_type": "stream",
     "text": [
      "2005 4054.948837868481\n",
      "2006 4034.5661139455783\n",
      "2007 3959.6480300453513\n",
      "2008 4264.215065192744\n",
      "2009 3863.2591411564626\n",
      "201 4680.941255668934\n",
      "2010 3942.808177437642\n",
      "2011 4085.1398809523807\n"
     ]
    },
    {
     "name": "stderr",
     "output_type": "stream",
     "text": [
      "Processing query part 0: 1131it [00:34, 33.88it/s]"
     ]
    },
    {
     "name": "stdout",
     "output_type": "stream",
     "text": [
      "2012 3942.1976332199547\n",
      "2013 4113.553571428572\n",
      "2014 4057.4007227891157\n",
      "2015 3944.3656462585036\n",
      "2016 4026.075255102041\n",
      "2017 3833.1940901360545\n",
      "2018 3994.3293650793653\n",
      "2019 3905.152919501134\n"
     ]
    },
    {
     "name": "stderr",
     "output_type": "stream",
     "text": [
      "Processing query part 0: 1139it [00:34, 33.88it/s]"
     ]
    },
    {
     "name": "stdout",
     "output_type": "stream",
     "text": [
      "202 4145.19139739229\n",
      "2020 3915.9939058956916\n",
      "2021 4337.274730725623\n",
      "2022 4118.280683106576\n",
      "2023 4357.920422335601\n",
      "2024 4004.764455782313\n",
      "2025 4061.1200396825398\n"
     ]
    },
    {
     "name": "stderr",
     "output_type": "stream",
     "text": [
      "Processing query part 0: 1147it [00:35, 33.32it/s]"
     ]
    },
    {
     "name": "stdout",
     "output_type": "stream",
     "text": [
      "2026 4258.591553287982\n",
      "2027 4159.986394557823\n",
      "2028 4195.286989795918\n",
      "2029 3869.389101473923\n",
      "203 4020.9490504535147\n",
      "2030 4074.1195436507937\n",
      "2031 3947.170847505669\n"
     ]
    },
    {
     "name": "stderr",
     "output_type": "stream",
     "text": [
      "\r",
      "Processing query part 0: 1151it [00:35, 33.16it/s]"
     ]
    },
    {
     "name": "stdout",
     "output_type": "stream",
     "text": [
      "2033 4025.2424886621316\n",
      "2034 4047.139526643991\n",
      "2035 4023.468537414966\n",
      "2036 4188.586734693878\n",
      "2037 4039.031320861678\n",
      "2038 4387.636904761905\n"
     ]
    },
    {
     "name": "stderr",
     "output_type": "stream",
     "text": [
      "Processing query part 0: 1160it [00:35, 33.02it/s]"
     ]
    },
    {
     "name": "stdout",
     "output_type": "stream",
     "text": [
      "2039 4205.177650226758\n",
      "204 4255.457766439909\n",
      "2041 4308.125141723356\n",
      "2042 4103.6577380952385\n",
      "2043 4021.717474489796\n",
      "2044 3853.1984126984125\n",
      "2045 4314.075042517007\n",
      "2046 4172.886621315192\n"
     ]
    },
    {
     "name": "stderr",
     "output_type": "stream",
     "text": [
      "Processing query part 0: 1168it [00:35, 33.21it/s]"
     ]
    },
    {
     "name": "stdout",
     "output_type": "stream",
     "text": [
      "2047 4271.666454081633\n",
      "2048 4157.222009637188\n",
      "2049 4294.060870181406\n",
      "205 3896.0868764172337\n",
      "2050 4059.3635912698414\n",
      "2051 4064.907738095238\n",
      "2052 4617.870819160998\n"
     ]
    },
    {
     "name": "stderr",
     "output_type": "stream",
     "text": [
      "Processing query part 0: 1176it [00:35, 34.16it/s]"
     ]
    },
    {
     "name": "stdout",
     "output_type": "stream",
     "text": [
      "2053 3976.5915532879817\n",
      "2054 3947.467757936508\n",
      "2055 4332.36897675737\n",
      "2056 4190.8338293650795\n",
      "2057 4046.462443310658\n",
      "2058 3942.9407596371884\n",
      "2059 3959.90766723356\n",
      "206 4213.204010770975\n"
     ]
    },
    {
     "name": "stderr",
     "output_type": "stream",
     "text": [
      "Processing query part 0: 1184it [00:36, 34.65it/s]"
     ]
    },
    {
     "name": "stdout",
     "output_type": "stream",
     "text": [
      "2060 4166.694869614513\n",
      "2061 4123.967191043084\n",
      "2062 3932.6764455782313\n",
      "2063 4055.3460175736964\n",
      "2064 3872.9299886621316\n",
      "2065 4058.0362103174602\n",
      "2066 4650.187570861678\n",
      "2067 4169.069373582766\n"
     ]
    },
    {
     "name": "stderr",
     "output_type": "stream",
     "text": [
      "\r",
      "Processing query part 0: 1188it [00:36, 33.82it/s]"
     ]
    },
    {
     "name": "stdout",
     "output_type": "stream",
     "text": [
      "2068 4326.930909863946\n",
      "2069 4087.333049886621\n",
      "207 4228.544855442177\n",
      "2070 4116.369968820862\n",
      "2071 4101.605017006803\n",
      "2072 4247.023313492064\n",
      "2073 4168.40412414966\n",
      "2074 3842.2279620181407\n"
     ]
    },
    {
     "name": "stderr",
     "output_type": "stream",
     "text": [
      "Processing query part 0: 1196it [00:36, 34.89it/s]"
     ]
    },
    {
     "name": "stdout",
     "output_type": "stream",
     "text": [
      "2075 4067.6341411564626\n",
      "2076 4308.565901360545\n",
      "2077 4152.020124716553\n",
      "2078 4112.1889172335605\n",
      "2079 4156.760345804989\n",
      "208 4192.731575963719\n",
      "2080 4104.761763038548\n"
     ]
    },
    {
     "name": "stderr",
     "output_type": "stream",
     "text": [
      "Processing query part 0: 1204it [00:36, 32.51it/s]"
     ]
    },
    {
     "name": "stdout",
     "output_type": "stream",
     "text": [
      "2081 4145.763038548753\n",
      "2082 3967.6286139455783\n",
      "2083 4275.69068877551\n",
      "2084 3712.041028911565\n",
      "2085 3944.2609126984125\n",
      "2086 4336.442176870748\n",
      "2087 3988.629464285714\n"
     ]
    },
    {
     "name": "stderr",
     "output_type": "stream",
     "text": [
      "Processing query part 0: 1212it [00:36, 32.93it/s]"
     ]
    },
    {
     "name": "stdout",
     "output_type": "stream",
     "text": [
      "2088 3933.4952522675735\n",
      "2089 3929.1663832199547\n",
      "209 4145.833262471655\n",
      "2090 3957.9421768707484\n",
      "2091 3896.113662131519\n",
      "2092 4317.413761337869\n",
      "2093 4270.470096371882\n",
      "2094 4048.670989229025\n"
     ]
    },
    {
     "name": "stderr",
     "output_type": "stream",
     "text": [
      "Processing query part 0: 1220it [00:37, 34.01it/s]"
     ]
    },
    {
     "name": "stdout",
     "output_type": "stream",
     "text": [
      "2095 4060.7879109977325\n",
      "2096 3971.9826388888887\n",
      "2097 3929.706136621315\n",
      "2098 3926.1968537414964\n",
      "2099 4214.933106575963\n",
      "21 3919.6332908163267\n",
      "210 4117.132015306122\n"
     ]
    },
    {
     "name": "stderr",
     "output_type": "stream",
     "text": [
      "Processing query part 0: 1228it [00:37, 34.21it/s]"
     ]
    },
    {
     "name": "stdout",
     "output_type": "stream",
     "text": [
      "2100 3948.4725056689344\n",
      "2101 3957.720379818594\n",
      "2102 3973.0565476190477\n",
      "2103 4278.696570294785\n",
      "2104 3875.9275793650795\n",
      "2105 4223.360473356009\n",
      "2106 4156.813704648526\n"
     ]
    },
    {
     "name": "stderr",
     "output_type": "stream",
     "text": [
      "Processing query part 0: 1236it [00:37, 34.91it/s]"
     ]
    },
    {
     "name": "stdout",
     "output_type": "stream",
     "text": [
      "2107 4065.438279478458\n",
      "2108 4265.1661706349205\n",
      "2109 3926.825751133787\n",
      "211 3985.5916241496598\n",
      "2110 4116.034226190476\n",
      "2111 3951.6482426303855\n",
      "2112 3960.671697845805\n",
      "2113 3948.7867772108843\n"
     ]
    },
    {
     "name": "stderr",
     "output_type": "stream",
     "text": [
      "Processing query part 0: 1244it [00:37, 34.34it/s]"
     ]
    },
    {
     "name": "stdout",
     "output_type": "stream",
     "text": [
      "2114 4195.908517573696\n",
      "2115 4278.744189342404\n",
      "2116 4149.139030612245\n",
      "2117 4085.484764739229\n",
      "2118 4134.815759637188\n",
      "2119 4145.170138888889\n",
      "212 4323.3300736961455\n",
      "2120 3984.9000850340135\n"
     ]
    },
    {
     "name": "stderr",
     "output_type": "stream",
     "text": [
      "\r",
      "Processing query part 0: 1248it [00:38, 31.87it/s]"
     ]
    },
    {
     "name": "stdout",
     "output_type": "stream",
     "text": [
      "2121 4351.603174603175\n",
      "2122 4289.456986961452\n",
      "2123 4002.1985544217687\n",
      "2124 4103.667446145125\n",
      "2125 3978.6053004535147\n",
      "2126 4143.111040249433\n",
      "2127 4207.74397675737\n"
     ]
    },
    {
     "name": "stderr",
     "output_type": "stream",
     "text": [
      "Processing query part 0: 1256it [00:38, 32.29it/s]"
     ]
    },
    {
     "name": "stdout",
     "output_type": "stream",
     "text": [
      "2128 4007.7411422902496\n",
      "2129 4271.791099773242\n",
      "213 3945.513109410431\n",
      "2130 4418.8195861678005\n",
      "2131 4063.3998015873017\n",
      "2132 3948.21839569161\n",
      "2133 4309.565901360545\n"
     ]
    },
    {
     "name": "stderr",
     "output_type": "stream",
     "text": [
      "Processing query part 0: 1264it [00:38, 32.01it/s]"
     ]
    },
    {
     "name": "stdout",
     "output_type": "stream",
     "text": [
      "2134 4027.1447704081634\n",
      "2135 4080.4134778911566\n",
      "2136 4187.723497732426\n",
      "2137 3986.093253968254\n",
      "2138 3919.8815901360545\n",
      "2139 4075.5829081632655\n",
      "214 3978.3717403628116\n"
     ]
    },
    {
     "name": "stderr",
     "output_type": "stream",
     "text": [
      "Processing query part 0: 1272it [00:38, 32.87it/s]"
     ]
    },
    {
     "name": "stdout",
     "output_type": "stream",
     "text": [
      "2140 4068.0428004535147\n",
      "2141 3949.6769416099773\n",
      "2142 3910.4783163265306\n",
      "2143 3903.1116071428573\n",
      "2144 3977.8492772108843\n",
      "2145 4008.4912840136053\n",
      "2146 4013.672548185941\n"
     ]
    },
    {
     "name": "stderr",
     "output_type": "stream",
     "text": [
      "\r",
      "Processing query part 0: 1276it [00:38, 31.99it/s]"
     ]
    },
    {
     "name": "stdout",
     "output_type": "stream",
     "text": [
      "2147 4121.2286706349205\n",
      "2148 4321.61614229025\n",
      "2149 4001.24716553288\n",
      "215 4045.0395408163267\n",
      "2150 4077.698200113379\n",
      "2151 4139.781462585034\n",
      "2152 4286.093820861678\n"
     ]
    },
    {
     "name": "stderr",
     "output_type": "stream",
     "text": [
      "Processing query part 0: 1284it [00:39, 34.46it/s]"
     ]
    },
    {
     "name": "stdout",
     "output_type": "stream",
     "text": [
      "2153 4234.1527069161\n",
      "2154 4208.710813492064\n",
      "2155 3938.6935941043084\n",
      "2156 4116.483914399093\n",
      "2157 4119.272604875284\n",
      "2158 4200.262117346939\n",
      "2159 4255.050949546485\n",
      "216 4086.8827239229026\n"
     ]
    },
    {
     "name": "stderr",
     "output_type": "stream",
     "text": [
      "Processing query part 0: 1292it [00:39, 34.72it/s]"
     ]
    },
    {
     "name": "stdout",
     "output_type": "stream",
     "text": [
      "2160 4140.737457482993\n",
      "2161 3985.121952947846\n",
      "2162 3944.6257086167802\n",
      "2163 3955.799319727891\n",
      "2164 3900.327310090703\n",
      "2165 4371.057681405896\n",
      "2166 3963.9499007936506\n",
      "2167 4204.8856292517\n"
     ]
    },
    {
     "name": "stderr",
     "output_type": "stream",
     "text": [
      "Processing query part 0: 1300it [00:39, 32.77it/s]"
     ]
    },
    {
     "name": "stdout",
     "output_type": "stream",
     "text": [
      "2168 3814.7569444444443\n",
      "2169 4230.159367913832\n",
      "217 3943.3804563492063\n",
      "2170 3755.8957624716554\n",
      "2171 3970.7437641723354\n",
      "2172 4071.8781887755104\n",
      "2173 4156.660289115646\n"
     ]
    },
    {
     "name": "stderr",
     "output_type": "stream",
     "text": [
      "Processing query part 0: 1308it [00:39, 33.93it/s]"
     ]
    },
    {
     "name": "stdout",
     "output_type": "stream",
     "text": [
      "2174 4124.749078798186\n",
      "2175 4213.414753401361\n",
      "2177 3949.8676303854877\n",
      "2178 4472.596088435374\n",
      "2179 4145.903911564626\n",
      "218 3812.8181689342405\n",
      "2180 3987.0245890022675\n",
      "2181 4126.842828798186\n"
     ]
    },
    {
     "name": "stderr",
     "output_type": "stream",
     "text": [
      "Processing query part 0: 1316it [00:40, 34.22it/s]"
     ]
    },
    {
     "name": "stdout",
     "output_type": "stream",
     "text": [
      "2182 4076.402919501134\n",
      "2183 4202.678713151928\n",
      "2184 4275.744189342404\n",
      "2185 4171.885770975056\n",
      "2186 3995.339427437642\n",
      "2187 4005.152848639456\n",
      "2188 4144.696924603175\n",
      "2189 4048.230442176871\n"
     ]
    },
    {
     "name": "stderr",
     "output_type": "stream",
     "text": [
      "Processing query part 0: 1324it [00:40, 32.74it/s]"
     ]
    },
    {
     "name": "stdout",
     "output_type": "stream",
     "text": [
      "219 4187.515447845805\n",
      "2190 4029.750141723356\n",
      "2191 3934.0339427437643\n",
      "2192 4165.26955782313\n",
      "2193 4059.754393424036\n",
      "2194 3845.953727324263\n",
      "2195 4072.487244897959\n",
      "2196 4209.510204081633\n"
     ]
    },
    {
     "name": "stderr",
     "output_type": "stream",
     "text": [
      "Processing query part 0: 1332it [00:40, 34.22it/s]"
     ]
    },
    {
     "name": "stdout",
     "output_type": "stream",
     "text": [
      "2197 4167.730229591837\n",
      "2198 4112.363732993197\n",
      "2199 3978.891723356009\n",
      "22 3955.860260770975\n",
      "220 4043.8156179138323\n",
      "2200 3953.701105442177\n",
      "2201 4195.417729591837\n",
      "2202 4180.568239795918\n"
     ]
    },
    {
     "name": "stderr",
     "output_type": "stream",
     "text": [
      "Processing query part 0: 1340it [00:40, 35.01it/s]"
     ]
    },
    {
     "name": "stdout",
     "output_type": "stream",
     "text": [
      "2203 4140.2182539682535\n",
      "2204 3932.8313492063494\n",
      "2205 4202.222363945578\n",
      "2206 4074.9655612244896\n",
      "2207 4066.0843253968255\n",
      "2208 4238.932964852607\n",
      "2209 4159.206845238095\n"
     ]
    },
    {
     "name": "stderr",
     "output_type": "stream",
     "text": [
      "\r",
      "Processing query part 0: 1344it [00:40, 33.27it/s]"
     ]
    },
    {
     "name": "stdout",
     "output_type": "stream",
     "text": [
      "221 3958.3015164399094\n",
      "2210 4172.5317460317465\n",
      "2211 4072.9411139455783\n",
      "2212 4092.482001133787\n",
      "2213 4298.22335600907\n",
      "2214 4119.99964569161\n",
      "2215 3982.6794217687075\n"
     ]
    },
    {
     "name": "stderr",
     "output_type": "stream",
     "text": [
      "Processing query part 0: 1353it [00:41, 33.12it/s]"
     ]
    },
    {
     "name": "stdout",
     "output_type": "stream",
     "text": [
      "2216 4136.507582199546\n",
      "2217 4172.562216553288\n",
      "2218 3973.6834608843537\n",
      "2219 4086.297548185941\n",
      "222 4696.404195011338\n",
      "2220 3975.762755102041\n",
      "2221 3978.6076388888887\n"
     ]
    },
    {
     "name": "stderr",
     "output_type": "stream",
     "text": [
      "Processing query part 0: 1361it [00:41, 33.85it/s]"
     ]
    },
    {
     "name": "stdout",
     "output_type": "stream",
     "text": [
      "2222 4299.659934807256\n",
      "2223 4077.599631519274\n",
      "2224 3968.972718253968\n",
      "2225 4220.233276643991\n",
      "2226 4429.295847505669\n",
      "2227 3816.5984977324265\n",
      "2228 3896.9790958049884\n",
      "2229 3993.3823696145123\n"
     ]
    },
    {
     "name": "stderr",
     "output_type": "stream",
     "text": [
      "Processing query part 0: 1369it [00:41, 33.98it/s]"
     ]
    },
    {
     "name": "stdout",
     "output_type": "stream",
     "text": [
      "223 4396.131235827665\n",
      "2230 4314.758432539683\n",
      "2231 3874.5499574829932\n",
      "2232 3976.2740929705215\n",
      "2233 4215.961026077098\n",
      "2234 3903.542446145125\n",
      "2235 3989.830144557823\n",
      "2236 4132.564838435374\n"
     ]
    },
    {
     "name": "stderr",
     "output_type": "stream",
     "text": [
      "Processing query part 0: 1377it [00:41, 34.57it/s]"
     ]
    },
    {
     "name": "stdout",
     "output_type": "stream",
     "text": [
      "2237 4196.2847930839\n",
      "2238 4029.156037414966\n",
      "2239 4050.5925453514737\n",
      "224 4098.112599206349\n",
      "2240 3937.9483418367345\n",
      "2241 3925.1473214285716\n",
      "2242 3956.9915674603176\n"
     ]
    },
    {
     "name": "stderr",
     "output_type": "stream",
     "text": [
      "Processing query part 0: 1385it [00:42, 34.73it/s]"
     ]
    },
    {
     "name": "stdout",
     "output_type": "stream",
     "text": [
      "2243 4202.708333333333\n",
      "2244 3769.542446145125\n",
      "2245 3945.162060657596\n",
      "2246 4008.416950113379\n",
      "2247 4016.7268282312925\n",
      "2248 3859.7903202947846\n",
      "2249 4059.141723356009\n",
      "225 4066.292587868481\n"
     ]
    },
    {
     "name": "stderr",
     "output_type": "stream",
     "text": [
      "Processing query part 0: 1393it [00:42, 32.93it/s]"
     ]
    },
    {
     "name": "stdout",
     "output_type": "stream",
     "text": [
      "2250 4035.888818027211\n",
      "2251 4043.969671201814\n",
      "2252 4247.5374149659865\n",
      "2253 4013.3381519274376\n",
      "2254 3946.1319444444443\n",
      "2255 4147.3063350340135\n",
      "2256 4164.503117913832\n"
     ]
    },
    {
     "name": "stderr",
     "output_type": "stream",
     "text": [
      "\r",
      "Processing query part 0: 1397it [00:42, 33.33it/s]"
     ]
    },
    {
     "name": "stdout",
     "output_type": "stream",
     "text": [
      "2257 4265.629676870748\n",
      "2258 3958.083049886621\n",
      "2259 4076.7238520408164\n",
      "226 3962.8540958049884\n",
      "2260 3985.801162131519\n",
      "2261 4135.46839569161\n",
      "2262 4396.099489795918\n"
     ]
    },
    {
     "name": "stderr",
     "output_type": "stream",
     "text": [
      "Processing query part 0: 1405it [00:42, 33.01it/s]"
     ]
    },
    {
     "name": "stdout",
     "output_type": "stream",
     "text": [
      "2263 4063.2311507936506\n",
      "2264 4282.61897675737\n",
      "2265 5139.251913265306\n",
      "2266 4279.580853174603\n",
      "2267 3991.4773951247166\n",
      "2268 4169.5932539682535\n",
      "2269 4300.195436507936\n"
     ]
    },
    {
     "name": "stderr",
     "output_type": "stream",
     "text": [
      "Processing query part 0: 1413it [00:42, 32.52it/s]"
     ]
    },
    {
     "name": "stdout",
     "output_type": "stream",
     "text": [
      "227 4085.6291099773243\n",
      "2270 4333.985827664399\n",
      "2271 4079.409226190476\n",
      "2272 4224.162202380952\n",
      "2273 4005.624929138322\n",
      "2274 4392.223426870748\n"
     ]
    },
    {
     "name": "stderr",
     "output_type": "stream",
     "text": [
      "\r",
      "Processing query part 0: 1417it [00:43, 33.07it/s]"
     ]
    },
    {
     "name": "stdout",
     "output_type": "stream",
     "text": [
      "2275 4069.547760770975\n",
      "2276 3963.5758928571427\n",
      "2277 4002.0592403628116\n",
      "2278 4084.2619756235827\n",
      "2279 3982.7222930839002\n",
      "228 4297.592403628118\n",
      "2280 4393.507653061224\n"
     ]
    },
    {
     "name": "stderr",
     "output_type": "stream",
     "text": [
      "Processing query part 0: 1425it [00:43, 33.29it/s]"
     ]
    },
    {
     "name": "stdout",
     "output_type": "stream",
     "text": [
      "2281 4226.0204081632655\n",
      "2282 4109.979450113378\n",
      "2283 4225.981292517007\n",
      "2284 4284.658871882086\n",
      "2285 4260.81746031746\n",
      "2286 4019.467970521542\n",
      "2287 4179.634708049886\n",
      "2288 3930.5537840136053\n"
     ]
    },
    {
     "name": "stderr",
     "output_type": "stream",
     "text": [
      "Processing query part 0: 1433it [00:43, 34.31it/s]"
     ]
    },
    {
     "name": "stdout",
     "output_type": "stream",
     "text": [
      "2289 4196.268069727891\n",
      "229 4149.996882086168\n",
      "2290 3825.8535997732424\n",
      "2291 4176.232355442177\n",
      "2292 3902.2395833333335\n",
      "2293 3956.5267148526077\n",
      "2294 3987.6989795918366\n",
      "2295 4231.833191609977\n"
     ]
    },
    {
     "name": "stderr",
     "output_type": "stream",
     "text": [
      "Processing query part 0: 1441it [00:43, 33.29it/s]"
     ]
    },
    {
     "name": "stdout",
     "output_type": "stream",
     "text": [
      "2296 4143.759708049886\n",
      "2297 4083.4617346938776\n",
      "2298 4027.9333191609976\n",
      "2299 4155.827806122449\n",
      "23 4272.802083333333\n",
      "230 3973.314838435374\n",
      "2300 3945.889030612245\n"
     ]
    },
    {
     "name": "stderr",
     "output_type": "stream",
     "text": [
      "Processing query part 0: 1449it [00:44, 33.79it/s]"
     ]
    },
    {
     "name": "stdout",
     "output_type": "stream",
     "text": [
      "2301 4122.964002267574\n",
      "2302 4081.2033730158732\n",
      "2303 3987.4931972789113\n",
      "2304 3943.9440901360545\n",
      "2305 3999.785714285714\n",
      "2306 3953.497590702948\n",
      "2307 4066.0870181405894\n",
      "2308 3940.5500992063494\n"
     ]
    },
    {
     "name": "stderr",
     "output_type": "stream",
     "text": [
      "Processing query part 0: 1457it [00:44, 33.87it/s]"
     ]
    },
    {
     "name": "stdout",
     "output_type": "stream",
     "text": [
      "2309 4183.6974206349205\n",
      "231 4126.693948412699\n",
      "2310 4180.974489795918\n",
      "2311 4204.919146825397\n",
      "2312 3905.651856575964\n",
      "2313 4314.27451814059\n",
      "2314 3944.250850340136\n",
      "2315 4193.520053854875\n"
     ]
    },
    {
     "name": "stderr",
     "output_type": "stream",
     "text": [
      "Processing query part 0: 1465it [00:44, 34.40it/s]"
     ]
    },
    {
     "name": "stdout",
     "output_type": "stream",
     "text": [
      "2316 4255.960246598639\n",
      "2317 3954.1687925170068\n",
      "2318 4070.7112386621316\n",
      "2319 4127.3319160997735\n",
      "232 4027.84906462585\n",
      "2320 4154.944798752835\n",
      "2321 3871.200609410431\n",
      "2322 3999.953443877551\n"
     ]
    },
    {
     "name": "stderr",
     "output_type": "stream",
     "text": [
      "Processing query part 0: 1473it [00:44, 32.55it/s]"
     ]
    },
    {
     "name": "stdout",
     "output_type": "stream",
     "text": [
      "2323 4064.9978741496598\n",
      "2324 3983.8458758503402\n",
      "2325 3928.151856575964\n",
      "2326 4150.215773809524\n",
      "2327 4300.168863378684\n",
      "2328 4273.410997732426\n"
     ]
    },
    {
     "name": "stderr",
     "output_type": "stream",
     "text": [
      "\r",
      "Processing query part 0: 1477it [00:44, 32.18it/s]"
     ]
    },
    {
     "name": "stdout",
     "output_type": "stream",
     "text": [
      "2329 4000.889526643991\n",
      "233 4120.151218820862\n",
      "2330 4140.903486394558\n",
      "2331 4126.620110544218\n",
      "2332 4228.957624716553\n",
      "2333 4201.854946145125\n"
     ]
    },
    {
     "name": "stderr",
     "output_type": "stream",
     "text": [
      "Processing query part 0: 1486it [00:45, 33.09it/s]"
     ]
    },
    {
     "name": "stdout",
     "output_type": "stream",
     "text": [
      "2334 4140.081490929705\n",
      "2335 4206.715844671202\n",
      "2336 3969.4992913832198\n",
      "2337 4426.7163407029475\n",
      "2338 4040.8874007936506\n",
      "2339 3957.4462868480728\n",
      "234 4198.928358843537\n",
      "2340 4143.366850907029\n"
     ]
    },
    {
     "name": "stderr",
     "output_type": "stream",
     "text": [
      "Processing query part 0: 1494it [00:45, 33.65it/s]"
     ]
    },
    {
     "name": "stdout",
     "output_type": "stream",
     "text": [
      "2341 4053.958475056689\n",
      "2342 3912.7951388888887\n",
      "2343 4269.835034013606\n",
      "2344 3997.0567602040815\n",
      "2345 4228.464569160998\n",
      "2346 3859.140022675737\n",
      "2347 4031.43998015873\n",
      "2348 3939.545918367347\n"
     ]
    },
    {
     "name": "stderr",
     "output_type": "stream",
     "text": [
      "Processing query part 0: 1502it [00:45, 34.57it/s]"
     ]
    },
    {
     "name": "stdout",
     "output_type": "stream",
     "text": [
      "2349 3929.1437074829932\n",
      "235 4137.701955782313\n",
      "2350 3890.6202522675735\n",
      "2351 4180.8603316326535\n",
      "2352 3981.9074546485263\n",
      "2353 4018.2301587301586\n",
      "2354 4533.521825396825\n",
      "2355 4281.219883786848\n"
     ]
    },
    {
     "name": "stderr",
     "output_type": "stream",
     "text": [
      "Processing query part 0: 1510it [00:45, 34.82it/s]"
     ]
    },
    {
     "name": "stdout",
     "output_type": "stream",
     "text": [
      "2356 3812.535218253968\n",
      "2357 4386.110260770975\n",
      "2358 4078.6901927437643\n",
      "2359 4275.238803854875\n",
      "236 3931.9150368480728\n",
      "2360 4156.004464285715\n",
      "2361 4026.218679138322\n",
      "2362 4346.570790816327\n"
     ]
    },
    {
     "name": "stderr",
     "output_type": "stream",
     "text": [
      "Processing query part 0: 1518it [00:46, 34.43it/s]"
     ]
    },
    {
     "name": "stdout",
     "output_type": "stream",
     "text": [
      "2363 4120.21591553288\n",
      "2364 4044.12641723356\n",
      "2365 3972.7874858276646\n",
      "2366 4054.500850340136\n",
      "2367 4008.9959608843537\n",
      "2368 3914.482922335601\n",
      "2369 4197.825396825397\n"
     ]
    },
    {
     "name": "stderr",
     "output_type": "stream",
     "text": [
      "\r",
      "Processing query part 0: 1522it [00:46, 33.81it/s]"
     ]
    },
    {
     "name": "stdout",
     "output_type": "stream",
     "text": [
      "237 4085.151431405896\n",
      "2370 3949.3870464852607\n",
      "2371 4080.2932964852607\n",
      "2372 4018.1364087301586\n",
      "2373 4442.195365646258\n",
      "2374 4183.534863945578\n",
      "2375 4136.643990929705\n"
     ]
    },
    {
     "name": "stderr",
     "output_type": "stream",
     "text": [
      "Processing query part 0: 1530it [00:46, 33.49it/s]"
     ]
    },
    {
     "name": "stdout",
     "output_type": "stream",
     "text": [
      "2376 4173.028769841269\n",
      "2377 3900.748441043084\n",
      "2378 4073.3430413832198\n",
      "2379 4208.113945578231\n",
      "238 4027.18927154195\n",
      "2380 4210.654265873016\n",
      "2381 3993.981363378685\n",
      "2382 4031.9932681405894\n"
     ]
    },
    {
     "name": "stderr",
     "output_type": "stream",
     "text": [
      "Processing query part 0: 1538it [00:46, 34.34it/s]"
     ]
    },
    {
     "name": "stdout",
     "output_type": "stream",
     "text": [
      "2383 3963.030116213152\n",
      "2384 4059.8531746031745\n",
      "2385 4152.343537414966\n",
      "2386 4095.0252267573696\n",
      "2387 4094.544288548753\n",
      "2388 4082.936366213152\n",
      "2389 4175.192531179138\n",
      "239 3827.5344387755104\n"
     ]
    },
    {
     "name": "stderr",
     "output_type": "stream",
     "text": [
      "Processing query part 0: 1546it [00:46, 35.82it/s]"
     ]
    },
    {
     "name": "stdout",
     "output_type": "stream",
     "text": [
      "2390 4143.535005668934\n",
      "2391 3987.344316893424\n",
      "2392 4067.728528911565\n",
      "2393 3971.1809098639455\n",
      "2394 4004.754322562358\n",
      "2395 4024.3630952380954\n",
      "2396 4135.375637755102\n",
      "2397 4153.416099773242\n"
     ]
    },
    {
     "name": "stderr",
     "output_type": "stream",
     "text": [
      "Processing query part 0: 1554it [00:47, 34.81it/s]"
     ]
    },
    {
     "name": "stdout",
     "output_type": "stream",
     "text": [
      "2398 4111.755172902494\n",
      "2399 4319.699475623583\n",
      "24 3956.697774943311\n",
      "240 4251.471017573696\n",
      "2400 3790.455711451247\n",
      "2401 4009.318806689342\n",
      "2402 4462.537344104308\n",
      "2403 3995.3830073696145\n"
     ]
    },
    {
     "name": "stderr",
     "output_type": "stream",
     "text": [
      "Processing query part 0: 1562it [00:47, 34.24it/s]"
     ]
    },
    {
     "name": "stdout",
     "output_type": "stream",
     "text": [
      "2404 4008.8488520408164\n",
      "2405 3984.421910430839\n",
      "2406 4196.7750850340135\n",
      "2407 4058.4954648526077\n",
      "2408 4097.954648526077\n",
      "2409 4120.494614512471\n",
      "241 3968.1489512471653\n",
      "2410 4132.698270975056\n"
     ]
    },
    {
     "name": "stderr",
     "output_type": "stream",
     "text": [
      "Processing query part 0: 1570it [00:47, 33.94it/s]"
     ]
    },
    {
     "name": "stdout",
     "output_type": "stream",
     "text": [
      "2411 4052.0949546485263\n",
      "2412 3895.8202239229026\n",
      "2413 4009.8366638321995\n",
      "2414 3832.8601190476193\n",
      "2415 4204.242063492064\n",
      "2416 3973.278273809524\n",
      "2417 4221.756519274377\n",
      "2418 4080.2214427437643\n"
     ]
    },
    {
     "name": "stderr",
     "output_type": "stream",
     "text": [
      "Processing query part 0: 1578it [00:47, 34.72it/s]"
     ]
    },
    {
     "name": "stdout",
     "output_type": "stream",
     "text": [
      "2419 4046.029974489796\n",
      "242 4188.844529478458\n",
      "2420 4175.355654761905\n",
      "2421 3925.9759070294785\n",
      "2422 4131.880031179138\n",
      "2423 4220.512188208617\n",
      "2424 4086.8156179138323\n",
      "2425 4063.2576530612246\n"
     ]
    },
    {
     "name": "stderr",
     "output_type": "stream",
     "text": [
      "Processing query part 0: 1586it [00:48, 31.88it/s]"
     ]
    },
    {
     "name": "stdout",
     "output_type": "stream",
     "text": [
      "2426 4039.015589569161\n",
      "2427 3957.611961451247\n",
      "2428 4070.7453231292516\n",
      "2429 4104.5989937641725\n",
      "243 4235.8820861678005\n",
      "2430 4319.666099773242\n",
      "2431 4320.687641723356\n",
      "2432 3896.027777777778\n"
     ]
    },
    {
     "name": "stderr",
     "output_type": "stream",
     "text": [
      "Processing query part 0: 1594it [00:48, 33.86it/s]"
     ]
    },
    {
     "name": "stdout",
     "output_type": "stream",
     "text": [
      "2433 4016.545705782313\n",
      "2434 4153.569515306122\n",
      "2435 4162.877905328798\n",
      "2436 4128.920564058957\n",
      "2437 4054.968679138322\n",
      "2438 4064.924815759637\n",
      "2439 4311.513463718821\n",
      "244 4096.166383219955\n"
     ]
    },
    {
     "name": "stderr",
     "output_type": "stream",
     "text": [
      "Processing query part 0: 1602it [00:48, 33.05it/s]"
     ]
    },
    {
     "name": "stdout",
     "output_type": "stream",
     "text": [
      "2440 3970.998866213152\n",
      "2441 4130.028486394558\n",
      "2442 4209.475127551021\n",
      "2443 3927.9655612244896\n",
      "2444 3988.920493197279\n",
      "2445 4309.725552721088\n",
      "2446 4206.907242063492\n"
     ]
    },
    {
     "name": "stderr",
     "output_type": "stream",
     "text": [
      "Processing query part 0: 1610it [00:48, 31.22it/s]"
     ]
    },
    {
     "name": "stdout",
     "output_type": "stream",
     "text": [
      "2447 4122.012825963719\n",
      "2448 4098.618764172335\n",
      "2449 4127.626204648526\n",
      "245 4086.3368055555557\n",
      "2450 3934.5530753968255\n",
      "2451 4203.259566326531\n"
     ]
    },
    {
     "name": "stderr",
     "output_type": "stream",
     "text": [
      "Processing query part 0: 1618it [00:49, 32.74it/s]"
     ]
    },
    {
     "name": "stdout",
     "output_type": "stream",
     "text": [
      "2452 4286.653557256236\n",
      "2453 3834.514951814059\n",
      "2454 3859.6794217687075\n",
      "2455 4469.804067460317\n",
      "2456 3835.0890731292516\n",
      "2457 3984.435445011338\n",
      "2458 4184.240008503401\n",
      "2459 4016.7403628117913\n"
     ]
    },
    {
     "name": "stderr",
     "output_type": "stream",
     "text": [
      "\r",
      "Processing query part 0: 1622it [00:49, 32.23it/s]"
     ]
    },
    {
     "name": "stdout",
     "output_type": "stream",
     "text": [
      "246 4062.6875\n",
      "2460 3997.517573696145\n",
      "2462 4050.7717545351475\n",
      "2463 4191.6018282312925\n",
      "2464 4067.095663265306\n",
      "2465 4083.3653628117913\n",
      "2466 4247.057468820862\n"
     ]
    },
    {
     "name": "stderr",
     "output_type": "stream",
     "text": [
      "Processing query part 0: 1630it [00:49, 32.85it/s]"
     ]
    },
    {
     "name": "stdout",
     "output_type": "stream",
     "text": [
      "2467 4439.35048185941\n",
      "2468 4023.889951814059\n",
      "2469 4418.1860827664395\n",
      "247 4150.999433106576\n",
      "2470 4268.727891156463\n",
      "2471 4167.228812358277\n",
      "2472 4168.393920068027\n"
     ]
    },
    {
     "name": "stderr",
     "output_type": "stream",
     "text": [
      "Processing query part 0: 1638it [00:49, 28.57it/s]"
     ]
    },
    {
     "name": "stdout",
     "output_type": "stream",
     "text": [
      "2473 4011.389455782313\n",
      "2474 3977.641156462585\n",
      "2475 4001.4302012471653\n",
      "2476 4236.013605442177\n",
      "2477 4152.026218820862\n",
      "2478 4098.462372448979\n"
     ]
    },
    {
     "name": "stderr",
     "output_type": "stream",
     "text": [
      "Processing query part 0: 1645it [00:50, 29.60it/s]"
     ]
    },
    {
     "name": "stdout",
     "output_type": "stream",
     "text": [
      "2479 3954.2108134920636\n",
      "248 4145.56816893424\n",
      "2480 4295.888888888889\n",
      "2481 4083.3049178004535\n",
      "2482 4395.951247165533\n",
      "2483 3857.4812216553287\n",
      "2484 4036.4553571428573\n"
     ]
    },
    {
     "name": "stderr",
     "output_type": "stream",
     "text": [
      "\r",
      "Processing query part 0: 1649it [00:50, 30.87it/s]"
     ]
    },
    {
     "name": "stdout",
     "output_type": "stream",
     "text": [
      "2485 4053.7744472789113\n",
      "2486 4005.5026927437643\n",
      "2487 4041.3224206349205\n",
      "2488 4275.59941893424\n",
      "2489 4072.236465419501\n",
      "249 3969.8702522675735\n",
      "2490 3967.5415958049884\n"
     ]
    },
    {
     "name": "stderr",
     "output_type": "stream",
     "text": [
      "Processing query part 0: 1657it [00:50, 32.22it/s]"
     ]
    },
    {
     "name": "stdout",
     "output_type": "stream",
     "text": [
      "2491 3953.6833191609976\n",
      "2492 3997.2210175736964\n",
      "2493 4348.914469954649\n",
      "2494 4070.6301020408164\n",
      "2495 4080.002905328798\n",
      "2496 4387.53054138322\n",
      "2497 3984.123015873016\n"
     ]
    },
    {
     "name": "stderr",
     "output_type": "stream",
     "text": [
      "Processing query part 0: 1665it [00:50, 31.95it/s]"
     ]
    },
    {
     "name": "stdout",
     "output_type": "stream",
     "text": [
      "2498 3820.575184240363\n",
      "2499 4047.592261904762\n",
      "25 3922.231363378685\n",
      "250 4230.731575963719\n",
      "2500 4128.49716553288\n",
      "2501 3907.6067176870747\n",
      "2502 4114.082341269841\n",
      "2503 3983.124858276644\n"
     ]
    },
    {
     "name": "stderr",
     "output_type": "stream",
     "text": [
      "Processing query part 0: 1673it [00:50, 33.34it/s]"
     ]
    },
    {
     "name": "stdout",
     "output_type": "stream",
     "text": [
      "2504 3953.0977891156463\n",
      "2505 3967.8331207482993\n",
      "2506 3959.3359552154193\n",
      "2507 4389.752338435374\n",
      "2508 4181.488449546485\n",
      "2509 3975.417942176871\n",
      "251 3940.419926303855\n"
     ]
    },
    {
     "name": "stderr",
     "output_type": "stream",
     "text": [
      "Processing query part 0: 1681it [00:51, 32.36it/s]"
     ]
    },
    {
     "name": "stdout",
     "output_type": "stream",
     "text": [
      "2510 4013.6164257369614\n",
      "2511 4404.28514739229\n",
      "2512 4157.960530045351\n",
      "2513 4598.7485827664395\n",
      "2514 4091.7232851473923\n",
      "2515 3884.5062358276646\n",
      "2516 4056.9817176870747\n",
      "2517 3907.981434240363\n"
     ]
    },
    {
     "name": "stderr",
     "output_type": "stream",
     "text": [
      "Processing query part 0: 1689it [00:51, 33.77it/s]"
     ]
    },
    {
     "name": "stdout",
     "output_type": "stream",
     "text": [
      "2518 4294.198837868481\n",
      "2519 4108.092120181406\n",
      "252 4189.547123015873\n",
      "2520 3985.076743197279\n",
      "2521 4237.848568594104\n",
      "2522 3870.606363378685\n",
      "2523 4039.439909297052\n"
     ]
    },
    {
     "name": "stderr",
     "output_type": "stream",
     "text": [
      "Processing query part 0: 1697it [00:51, 34.18it/s]"
     ]
    },
    {
     "name": "stdout",
     "output_type": "stream",
     "text": [
      "2524 4071.3359552154193\n",
      "2525 3837.483914399093\n",
      "2526 4105.353883219955\n",
      "2527 4188.08772675737\n",
      "2528 4088.685870181406\n",
      "2529 3832.19033446712\n",
      "253 4031.6802721088434\n",
      "2530 4109.097222222223\n"
     ]
    },
    {
     "name": "stderr",
     "output_type": "stream",
     "text": [
      "\r",
      "Processing query part 0: 1701it [00:51, 35.21it/s]"
     ]
    },
    {
     "name": "stdout",
     "output_type": "stream",
     "text": [
      "2531 4602.992772108843\n",
      "2532 4148.71308106576\n",
      "2533 4370.989441609977\n",
      "2534 4002.797973356009\n",
      "2535 4154.2078373015875\n",
      "2536 4073.6328656462583\n",
      "2537 4180.715490362812\n"
     ]
    },
    {
     "name": "stderr",
     "output_type": "stream",
     "text": [
      "Processing query part 0: 1709it [00:51, 33.76it/s]"
     ]
    },
    {
     "name": "stdout",
     "output_type": "stream",
     "text": [
      "2538 4096.718537414966\n",
      "2539 3959.511337868481\n",
      "254 4085.3694727891157\n",
      "2540 4071.8480017006805\n",
      "2541 4135.852111678005\n",
      "2542 3995.0054563492063\n",
      "2543 3987.5537131519272\n",
      "2544 3987.078089569161\n"
     ]
    },
    {
     "name": "stderr",
     "output_type": "stream",
     "text": [
      "Processing query part 0: 1717it [00:52, 33.15it/s]"
     ]
    },
    {
     "name": "stdout",
     "output_type": "stream",
     "text": [
      "2545 4044.405257936508\n",
      "2546 4094.0163690476193\n",
      "2547 4025.8088151927436\n",
      "2548 4281.543013038548\n",
      "2549 3868.0289824263036\n",
      "255 4019.861181972789\n",
      "2550 4061.686933106576\n",
      "2551 4076.699263038549\n"
     ]
    },
    {
     "name": "stderr",
     "output_type": "stream",
     "text": [
      "Processing query part 0: 1725it [00:52, 33.50it/s]"
     ]
    },
    {
     "name": "stdout",
     "output_type": "stream",
     "text": [
      "2552 3999.250779478458\n",
      "2553 4145.750850340136\n",
      "2554 4020.160218253968\n",
      "2555 4190.367134353742\n",
      "2556 3987.7101048752834\n",
      "2557 4316.994827097506\n",
      "2558 3911.5080782312925\n"
     ]
    },
    {
     "name": "stderr",
     "output_type": "stream",
     "text": [
      "Processing query part 0: 1733it [00:52, 32.00it/s]"
     ]
    },
    {
     "name": "stdout",
     "output_type": "stream",
     "text": [
      "2559 4011.407383786848\n",
      "256 4053.8889597505668\n",
      "2560 3916.327310090703\n",
      "2561 4109.001275510204\n",
      "2562 4223.930059523809\n",
      "2563 4192.400651927438\n",
      "2564 4050.981930272109\n"
     ]
    },
    {
     "name": "stderr",
     "output_type": "stream",
     "text": [
      "Processing query part 0: 1741it [00:52, 32.21it/s]"
     ]
    },
    {
     "name": "stdout",
     "output_type": "stream",
     "text": [
      "2565 4120.568310657596\n",
      "2566 4223.011267006803\n",
      "2567 4209.687358276644\n",
      "2568 4474.1500850340135\n",
      "2569 4084.5178571428573\n",
      "257 3851.5\n",
      "2570 4197.772321428572\n"
     ]
    },
    {
     "name": "stderr",
     "output_type": "stream",
     "text": [
      "\r",
      "Processing query part 0: 1745it [00:53, 32.64it/s]"
     ]
    },
    {
     "name": "stdout",
     "output_type": "stream",
     "text": [
      "2571 4279.940972222223\n",
      "2572 4528.964923469388\n",
      "2573 4067.3035005668935\n",
      "2574 4060.202168367347\n",
      "2575 4057.9906462585036\n",
      "2576 4011.6038123582766\n",
      "2577 4278.142998866213\n",
      "2578 4002.440901360544\n"
     ]
    },
    {
     "name": "stderr",
     "output_type": "stream",
     "text": [
      "Processing query part 0: 1753it [00:53, 32.59it/s]"
     ]
    },
    {
     "name": "stdout",
     "output_type": "stream",
     "text": [
      "2579 3830.139526643991\n",
      "258 3924.3031462585036\n",
      "2580 4085.145549886621\n",
      "2581 4112.795280612245\n",
      "2582 3941.873866213152\n",
      "2583 4097.5336592970525\n",
      "2584 3997.423681972789\n"
     ]
    },
    {
     "name": "stderr",
     "output_type": "stream",
     "text": [
      "Processing query part 0: 1761it [00:53, 32.01it/s]"
     ]
    },
    {
     "name": "stdout",
     "output_type": "stream",
     "text": [
      "2585 4028.200821995465\n",
      "2586 4114.333900226758\n",
      "2587 3926.9462159863947\n",
      "2588 3927.309027777778\n",
      "2589 4056.1792091836733\n",
      "259 3901.68218537415\n",
      "2590 4044.9742772108843\n"
     ]
    },
    {
     "name": "stderr",
     "output_type": "stream",
     "text": [
      "Processing query part 0: 1769it [00:53, 33.52it/s]"
     ]
    },
    {
     "name": "stdout",
     "output_type": "stream",
     "text": [
      "2591 3942.94139739229\n",
      "2592 4060.0260062358275\n",
      "2593 4180.964781746032\n",
      "2594 3834.999007936508\n",
      "2595 3970.047973356009\n",
      "2596 4242.5695861678005\n",
      "2597 4218.680626417234\n",
      "2598 4248.322704081633\n"
     ]
    },
    {
     "name": "stderr",
     "output_type": "stream",
     "text": [
      "Processing query part 0: 1777it [00:54, 34.07it/s]"
     ]
    },
    {
     "name": "stdout",
     "output_type": "stream",
     "text": [
      "2599 4046.9430272108843\n",
      "26 4050.746952947846\n",
      "260 3944.816822562358\n",
      "2600 3973.9201388888887\n",
      "2601 4075.3151927437643\n",
      "2602 4077.375\n",
      "2603 4033.1646116780043\n",
      "2604 4140.561366213152\n"
     ]
    },
    {
     "name": "stderr",
     "output_type": "stream",
     "text": [
      "Processing query part 0: 1786it [00:54, 33.76it/s]"
     ]
    },
    {
     "name": "stdout",
     "output_type": "stream",
     "text": [
      "2605 4020.996527777778\n",
      "2606 4030.7092545351475\n",
      "2607 4144.923115079365\n",
      "2608 3978.857568027211\n",
      "2609 4129.087939342404\n",
      "261 4202.160926870748\n",
      "2610 3900.853528911565\n",
      "2611 4066.739725056689\n",
      "2612 4133.881660997732\n"
     ]
    },
    {
     "name": "stderr",
     "output_type": "stream",
     "text": [
      "Processing query part 0: 1794it [00:54, 34.42it/s]"
     ]
    },
    {
     "name": "stdout",
     "output_type": "stream",
     "text": [
      "2613 4127.058035714285\n",
      "2614 3881.996527777778\n",
      "2615 4075.078018707483\n",
      "2616 4140.453869047619\n",
      "2617 4007.1207482993195\n",
      "2618 4011.0376984126983\n",
      "2619 3982.706916099773\n",
      "262 4231.447916666667\n"
     ]
    },
    {
     "name": "stderr",
     "output_type": "stream",
     "text": [
      "Processing query part 0: 1802it [00:54, 33.17it/s]"
     ]
    },
    {
     "name": "stdout",
     "output_type": "stream",
     "text": [
      "2620 4433.590773809524\n",
      "2621 3796.0831207482993\n",
      "2622 4031.033092403628\n",
      "2623 4033.3411281179137\n",
      "2624 4045.1911848072564\n",
      "2625 3868.8202239229026\n",
      "2626 4285.400864512471\n",
      "2627 4063.9130527210887\n"
     ]
    },
    {
     "name": "stderr",
     "output_type": "stream",
     "text": [
      "Processing query part 0: 1810it [00:54, 33.87it/s]"
     ]
    },
    {
     "name": "stdout",
     "output_type": "stream",
     "text": [
      "2628 4091.5697278911566\n",
      "2629 4168.916808390023\n",
      "263 4316.240929705215\n",
      "2630 4017.5080782312925\n",
      "2631 4349.204223356009\n",
      "2632 4080.3698979591836\n",
      "2633 3936.081420068027\n",
      "2634 4083.860898526077\n"
     ]
    },
    {
     "name": "stderr",
     "output_type": "stream",
     "text": [
      "Processing query part 0: 1819it [00:55, 34.87it/s]"
     ]
    },
    {
     "name": "stdout",
     "output_type": "stream",
     "text": [
      "2635 4209.364016439909\n",
      "2636 3906.904407596372\n",
      "2637 4097.109268707483\n",
      "2638 4259.687358276644\n",
      "2639 3974.81391723356\n",
      "264 3936.250141723356\n",
      "2640 4189.964640022676\n",
      "2641 3711.5768849206347\n",
      "2642 4061.3410572562357\n"
     ]
    },
    {
     "name": "stderr",
     "output_type": "stream",
     "text": [
      "Processing query part 0: 1827it [00:55, 34.65it/s]"
     ]
    },
    {
     "name": "stdout",
     "output_type": "stream",
     "text": [
      "2643 4383.706065759638\n",
      "2644 4111.481079931973\n",
      "2645 3964.666950113379\n",
      "2646 4149.557823129252\n",
      "2647 4075.7390164399094\n",
      "2648 3925.316326530612\n",
      "2649 3992.9784580498867\n"
     ]
    },
    {
     "name": "stderr",
     "output_type": "stream",
     "text": [
      "Processing query part 0: 1835it [00:55, 33.75it/s]"
     ]
    },
    {
     "name": "stdout",
     "output_type": "stream",
     "text": [
      "265 4272.555272108843\n",
      "2650 4129.929988662131\n",
      "2651 4390.867984693878\n",
      "2652 3943.433035714286\n",
      "2653 4047.606434240363\n",
      "2654 3912.4134070294785\n",
      "2655 4138.899801587301\n"
     ]
    },
    {
     "name": "stderr",
     "output_type": "stream",
     "text": [
      "Processing query part 0: 1843it [00:55, 33.72it/s]"
     ]
    },
    {
     "name": "stdout",
     "output_type": "stream",
     "text": [
      "2656 3995.9790958049884\n",
      "2657 4110.270195578231\n",
      "2658 4227.981788548753\n",
      "2659 4531.2706207483\n",
      "266 4174.919642857143\n",
      "2660 3817.65376984127\n",
      "2661 3977.4898667800453\n",
      "2662 4100.289682539683\n"
     ]
    },
    {
     "name": "stderr",
     "output_type": "stream",
     "text": [
      "\r",
      "Processing query part 0: 1847it [00:56, 33.97it/s]"
     ]
    },
    {
     "name": "stdout",
     "output_type": "stream",
     "text": [
      "2663 4129.3328373015875\n",
      "2664 4168.4606717687075\n",
      "2665 4073.09091553288\n",
      "2666 3922.9470663265306\n",
      "2667 4005.951601473923\n",
      "2668 3883.6066468253966\n",
      "2669 4255.553571428572\n"
     ]
    },
    {
     "name": "stderr",
     "output_type": "stream",
     "text": [
      "Processing query part 0: 1856it [00:56, 35.18it/s]"
     ]
    },
    {
     "name": "stdout",
     "output_type": "stream",
     "text": [
      "267 4051.6646116780043\n",
      "2670 4048.356079931973\n",
      "2671 4175.761763038548\n",
      "2672 4182.115433673469\n",
      "2673 3937.7473072562357\n",
      "2674 3979.1793509070294\n",
      "2675 3980.300736961451\n",
      "2676 4123.010700113378\n"
     ]
    },
    {
     "name": "stderr",
     "output_type": "stream",
     "text": [
      "Processing query part 0: 1865it [00:56, 35.97it/s]"
     ]
    },
    {
     "name": "stdout",
     "output_type": "stream",
     "text": [
      "2677 3966.1614229024945\n",
      "2678 3948.5374149659865\n",
      "2679 4016.5369897959185\n",
      "268 3659.738236961451\n",
      "2680 3890.167587868481\n",
      "2681 3984.5901360544217\n",
      "2682 4036.9299178004535\n",
      "2683 4202.384282879819\n",
      "2684 4213.047406462585\n"
     ]
    },
    {
     "name": "stderr",
     "output_type": "stream",
     "text": [
      "Processing query part 0: 1873it [00:56, 34.18it/s]"
     ]
    },
    {
     "name": "stdout",
     "output_type": "stream",
     "text": [
      "2685 3945.7517006802723\n",
      "2686 3929.047477324263\n",
      "2687 4248.9445861678005\n",
      "2688 4145.702593537415\n",
      "2689 4118.844954648526\n",
      "269 4144.992772108843\n",
      "2690 4237.280328798186\n",
      "2691 4069.7151360544217\n"
     ]
    },
    {
     "name": "stderr",
     "output_type": "stream",
     "text": [
      "Processing query part 0: 1881it [00:57, 33.75it/s]"
     ]
    },
    {
     "name": "stdout",
     "output_type": "stream",
     "text": [
      "2692 3980.4562074829932\n",
      "2693 4363.05860260771\n",
      "2694 4013.814129818594\n",
      "2695 4022.0080782312925\n",
      "2696 4015.3021541950116\n",
      "2697 4095.818381519274\n",
      "2698 4098.830002834467\n",
      "2699 4355.504109977324\n"
     ]
    },
    {
     "name": "stderr",
     "output_type": "stream",
     "text": [
      "Processing query part 0: 1889it [00:57, 33.04it/s]"
     ]
    },
    {
     "name": "stdout",
     "output_type": "stream",
     "text": [
      "270 3955.2849348072564\n",
      "2700 4143.270053854875\n",
      "2701 4153.490646258503\n",
      "2702 3889.238803854875\n",
      "2703 3989.093608276644\n",
      "2704 3826.1183390022675\n",
      "2705 4018.221655328798\n"
     ]
    },
    {
     "name": "stderr",
     "output_type": "stream",
     "text": [
      "Processing query part 0: 1897it [00:57, 31.35it/s]"
     ]
    },
    {
     "name": "stdout",
     "output_type": "stream",
     "text": [
      "2706 4513.105796485261\n",
      "2707 4121.162698412699\n",
      "2708 3963.3654336734694\n",
      "2709 4242.445790816327\n",
      "271 4018.232071995465\n",
      "2710 4106.13066893424\n",
      "2711 4090.628826530612\n"
     ]
    },
    {
     "name": "stderr",
     "output_type": "stream",
     "text": [
      "\r",
      "Processing query part 0: 1901it [00:57, 31.06it/s]"
     ]
    },
    {
     "name": "stdout",
     "output_type": "stream",
     "text": [
      "2712 3989.768494897959\n",
      "2713 3967.2532596371884\n",
      "2715 3783.2312216553287\n",
      "2716 4221.076105442177\n",
      "2717 3997.982851473923\n",
      "2718 4204.763251133787\n",
      "2719 4542.091411564626\n"
     ]
    },
    {
     "name": "stderr",
     "output_type": "stream",
     "text": [
      "Processing query part 0: 1909it [00:57, 32.25it/s]"
     ]
    },
    {
     "name": "stdout",
     "output_type": "stream",
     "text": [
      "272 4179.776502267574\n",
      "2720 3991.2923752834467\n",
      "2721 4117.294997165533\n",
      "2722 4180.393849206349\n",
      "2723 4105.947704081633\n",
      "2724 4260.077664399093\n",
      "2725 4106.204931972789\n"
     ]
    },
    {
     "name": "stderr",
     "output_type": "stream",
     "text": [
      "Processing query part 0: 1917it [00:58, 32.23it/s]"
     ]
    },
    {
     "name": "stdout",
     "output_type": "stream",
     "text": [
      "2726 4060.812712585034\n",
      "2727 4136.984268707483\n",
      "2728 3981.8489937641725\n",
      "2729 4185.308035714285\n",
      "273 4068.3704648526077\n",
      "2730 4463.294288548753\n",
      "2731 3849.4623724489797\n"
     ]
    },
    {
     "name": "stderr",
     "output_type": "stream",
     "text": [
      "Processing query part 0: 1925it [00:58, 32.19it/s]"
     ]
    },
    {
     "name": "stdout",
     "output_type": "stream",
     "text": [
      "2732 3873.377054988662\n",
      "2733 4279.788123582766\n",
      "2734 4156.212159863946\n",
      "2735 4173.677508503401\n",
      "2736 4108.017715419501\n",
      "2737 4339.142431972789\n",
      "2738 3961.4420351473923\n"
     ]
    },
    {
     "name": "stderr",
     "output_type": "stream",
     "text": [
      "\r",
      "Processing query part 0: 1929it [00:58, 31.64it/s]"
     ]
    },
    {
     "name": "stdout",
     "output_type": "stream",
     "text": [
      "2739 4139.403698979592\n",
      "274 3734.3984552154193\n",
      "2740 4715.769061791383\n",
      "2741 3963.6487386621316\n",
      "2742 4008.107497165533\n",
      "2743 3996.5525793650795\n",
      "2744 3996.5333758503402\n"
     ]
    },
    {
     "name": "stderr",
     "output_type": "stream",
     "text": [
      "Processing query part 0: 1937it [00:58, 31.63it/s]"
     ]
    },
    {
     "name": "stdout",
     "output_type": "stream",
     "text": [
      "2745 4240.441468253968\n",
      "2746 4210.807185374149\n",
      "2747 4063.878330498866\n",
      "2748 4084.050807823129\n",
      "2749 4148.218820861678\n",
      "275 4131.220663265306\n",
      "2750 4268.072774943311\n"
     ]
    },
    {
     "name": "stderr",
     "output_type": "stream",
     "text": [
      "\r",
      "Processing query part 0: 1941it [00:58, 31.07it/s]"
     ]
    },
    {
     "name": "stdout",
     "output_type": "stream",
     "text": [
      "2751 4027.8698979591836\n",
      "2752 4116.271754535147\n",
      "2753 4138.075751133787\n",
      "2754 3903.8236252834467\n",
      "2755 4199.648030045351\n"
     ]
    },
    {
     "name": "stderr",
     "output_type": "stream",
     "text": [
      "Processing query part 0: 1948it [00:59, 26.24it/s]"
     ]
    },
    {
     "name": "stdout",
     "output_type": "stream",
     "text": [
      "2756 4137.983560090703\n",
      "2757 3983.8577097505668\n",
      "2758 4025.7738095238096\n",
      "2759 4281.0902069161\n",
      "276 4300.956845238095\n",
      "2760 4090.4045493197277\n"
     ]
    },
    {
     "name": "stderr",
     "output_type": "stream",
     "text": [
      "Processing query part 0: 1957it [00:59, 27.36it/s]"
     ]
    },
    {
     "name": "stdout",
     "output_type": "stream",
     "text": [
      "2761 4064.5032596371884\n",
      "2762 4029.6130243764173\n",
      "2763 4123.5347930839\n",
      "2764 4174.045422335601\n",
      "2765 4030.1160714285716\n",
      "2766 3949.1155753968255\n",
      "2767 3953.236323696145\n"
     ]
    },
    {
     "name": "stderr",
     "output_type": "stream",
     "text": [
      "Processing query part 0: 1964it [00:59, 30.08it/s]"
     ]
    },
    {
     "name": "stdout",
     "output_type": "stream",
     "text": [
      "2768 4008.9343112244896\n",
      "2769 3792.18998015873\n",
      "277 4189.659863945578\n",
      "2770 4119.63102324263\n",
      "2771 4345.645124716553\n",
      "2772 4125.527140022676\n",
      "2773 3946.931689342404\n",
      "2774 4015.5367772108843\n"
     ]
    },
    {
     "name": "stderr",
     "output_type": "stream",
     "text": [
      "Processing query part 0: 1972it [01:00, 31.86it/s]"
     ]
    },
    {
     "name": "stdout",
     "output_type": "stream",
     "text": [
      "2775 4110.40837585034\n",
      "2776 3921.732780612245\n",
      "2777 4279.237457482993\n",
      "2778 4142.031533446712\n",
      "2779 4211.426941609977\n",
      "278 4194.4484126984125\n",
      "2780 4229.457979024944\n"
     ]
    },
    {
     "name": "stderr",
     "output_type": "stream",
     "text": [
      "\r",
      "Processing query part 0: 1976it [01:00, 32.33it/s]"
     ]
    },
    {
     "name": "stdout",
     "output_type": "stream",
     "text": [
      "2781 3956.525864512472\n",
      "2782 4090.1330782312925\n",
      "2783 4044.5220379818593\n",
      "2784 4103.747307256236\n",
      "2785 4112.591482426304\n",
      "2786 4233.250425170068\n",
      "2787 4139.549532312925\n"
     ]
    },
    {
     "name": "stderr",
     "output_type": "stream",
     "text": [
      "Processing query part 0: 1984it [01:00, 32.75it/s]"
     ]
    },
    {
     "name": "stdout",
     "output_type": "stream",
     "text": [
      "2788 3975.3391439909296\n",
      "2789 4316.6454081632655\n",
      "279 3992.7683531746034\n",
      "2790 3997.9610969387754\n",
      "2791 3955.583049886621\n",
      "2792 3971.6301020408164\n",
      "2793 4772.304067460317\n",
      "2794 4201.269912131519\n"
     ]
    },
    {
     "name": "stderr",
     "output_type": "stream",
     "text": [
      "Processing query part 0: 1992it [01:00, 33.01it/s]"
     ]
    },
    {
     "name": "stdout",
     "output_type": "stream",
     "text": [
      "2795 4059.456420068027\n",
      "2796 3924.9276502267576\n",
      "2797 4032.268424036281\n",
      "2798 4034.066822562358\n",
      "2799 4158.72193877551\n",
      "28 3883.9779620181407\n",
      "280 4078.3151218820863\n"
     ]
    },
    {
     "name": "stderr",
     "output_type": "stream",
     "text": [
      "Processing query part 0: 2000it [01:00, 33.86it/s]"
     ]
    },
    {
     "name": "stdout",
     "output_type": "stream",
     "text": [
      "2800 4143.594883786848\n",
      "2801 4019.231434240363\n",
      "2802 3895.972576530612\n",
      "2803 4215.756306689343\n",
      "2804 4063.0699404761904\n",
      "2805 3988.2247732426304\n",
      "2806 3960.1144416099773\n"
     ]
    },
    {
     "name": "stderr",
     "output_type": "stream",
     "text": [
      "Processing query part 0: 2008it [01:01, 31.67it/s]"
     ]
    },
    {
     "name": "stdout",
     "output_type": "stream",
     "text": [
      "2807 4109.419359410431\n",
      "2808 4290.968962585034\n",
      "2809 4202.529407596372\n",
      "281 4236.855229591837\n",
      "2810 3993.130385487528\n",
      "2811 4298.348922902494\n",
      "2812 4134.742630385487\n"
     ]
    },
    {
     "name": "stderr",
     "output_type": "stream",
     "text": [
      "Processing query part 0: 2016it [01:01, 33.09it/s]"
     ]
    },
    {
     "name": "stdout",
     "output_type": "stream",
     "text": [
      "2813 4126.877480158731\n",
      "2814 3971.656391723356\n",
      "2815 3982.1045918367345\n",
      "2816 4226.209679705215\n",
      "2817 3811.9766865079364\n",
      "2818 4393.711096938776\n",
      "2819 4099.985473356009\n",
      "282 4192.284297052154\n"
     ]
    },
    {
     "name": "stderr",
     "output_type": "stream",
     "text": [
      "\r",
      "Processing query part 0: 2020it [01:01, 32.13it/s]"
     ]
    },
    {
     "name": "stdout",
     "output_type": "stream",
     "text": [
      "2820 4655.426374716553\n",
      "2821 4593.387259070295\n",
      "2822 3804.3338293650795\n",
      "2823 4048.0843253968255\n",
      "2824 4003.4443735827663\n",
      "2825 4020.22052154195\n",
      "2826 4191.224206349207\n"
     ]
    },
    {
     "name": "stderr",
     "output_type": "stream",
     "text": [
      "Processing query part 0: 2028it [01:01, 32.11it/s]"
     ]
    },
    {
     "name": "stdout",
     "output_type": "stream",
     "text": [
      "2827 4008.024943310658\n",
      "2828 4101.8044926303855\n",
      "2829 4536.323696145125\n",
      "283 4264.848852040816\n",
      "2830 4062.97264739229\n",
      "2831 4066.712443310658\n",
      "2832 4297.736394557823\n"
     ]
    },
    {
     "name": "stderr",
     "output_type": "stream",
     "text": [
      "Processing query part 0: 2036it [01:02, 30.07it/s]"
     ]
    },
    {
     "name": "stdout",
     "output_type": "stream",
     "text": [
      "2833 4118.025155895692\n",
      "2834 4180.907029478458\n",
      "2835 4067.375212585034\n",
      "2836 4154.202876984127\n",
      "2837 4196.922052154195\n",
      "2838 4260.78585600907\n",
      "2839 4212.045847505669\n"
     ]
    },
    {
     "name": "stderr",
     "output_type": "stream",
     "text": [
      "Processing query part 0: 2044it [01:02, 30.30it/s]"
     ]
    },
    {
     "name": "stdout",
     "output_type": "stream",
     "text": [
      "284 4315.760700113378\n",
      "2840 3879.9738520408164\n",
      "2841 4104.953585600907\n",
      "2842 4215.280683106576\n",
      "2843 4039.3350340136053\n",
      "2844 4211.336734693878\n",
      "2845 4626.9964569161\n"
     ]
    },
    {
     "name": "stderr",
     "output_type": "stream",
     "text": [
      "\r",
      "Processing query part 0: 2048it [01:02, 31.36it/s]"
     ]
    },
    {
     "name": "stdout",
     "output_type": "stream",
     "text": [
      "2846 3882.362740929705\n",
      "2847 4083.485048185941\n",
      "2848 4198.766723356009\n",
      "2849 4200.911422902494\n",
      "285 4054.1649659863947\n",
      "2850 4119.808815192744\n",
      "2851 4126.160076530612\n"
     ]
    },
    {
     "name": "stderr",
     "output_type": "stream",
     "text": [
      "Processing query part 0: 2056it [01:02, 31.74it/s]"
     ]
    },
    {
     "name": "stdout",
     "output_type": "stream",
     "text": [
      "2852 4256.259353741497\n",
      "2853 4232.368693310657\n",
      "2854 3886.5082199546487\n",
      "2855 4277.771967120181\n",
      "2856 4132.663690476191\n",
      "2857 4174.567956349207\n",
      "2858 4257.371386054422\n"
     ]
    },
    {
     "name": "stderr",
     "output_type": "stream",
     "text": [
      "Processing query part 0: 2064it [01:02, 30.35it/s]"
     ]
    },
    {
     "name": "stdout",
     "output_type": "stream",
     "text": [
      "2859 3890.31143707483\n",
      "286 4206.079435941043\n",
      "2860 4387.47654478458\n",
      "2861 3828.0229591836733\n",
      "2862 3840.5588151927436\n",
      "2863 4110.526714852607\n",
      "2864 4291.677508503401\n"
     ]
    },
    {
     "name": "stderr",
     "output_type": "stream",
     "text": [
      "Processing query part 0: 2072it [01:03, 31.64it/s]"
     ]
    },
    {
     "name": "stdout",
     "output_type": "stream",
     "text": [
      "2865 4170.417871315192\n",
      "2866 4213.01169217687\n",
      "2867 3715.3368764172337\n",
      "2868 3991.0846797052154\n",
      "2869 4146.389526643991\n",
      "287 4246.317035147393\n",
      "2870 4243.99433106576\n"
     ]
    },
    {
     "name": "stderr",
     "output_type": "stream",
     "text": [
      "\r",
      "Processing query part 0: 2077it [01:03, 32.47it/s]"
     ]
    },
    {
     "name": "stdout",
     "output_type": "stream",
     "text": [
      "2871 4000.1451247165533\n",
      "2872 4142.406533446712\n",
      "2873 4049.7209467120183\n",
      "2874 3884.93856292517\n",
      "2875 4079.9036281179137\n",
      "2876 4053.314554988662\n",
      "2877 3972.7438350340135\n"
     ]
    },
    {
     "name": "stderr",
     "output_type": "stream",
     "text": [
      "Processing query part 0: 2085it [01:03, 32.98it/s]"
     ]
    },
    {
     "name": "stdout",
     "output_type": "stream",
     "text": [
      "2878 4047.8093820861677\n",
      "2879 3999.5079365079364\n",
      "288 4242.681264172335\n",
      "2880 3959.5802862811793\n",
      "2881 3987.9182256235827\n",
      "2882 4103.33985260771\n",
      "2883 3998.778202947846\n",
      "2884 4219.075680272109\n"
     ]
    },
    {
     "name": "stderr",
     "output_type": "stream",
     "text": [
      "Processing query part 0: 2094it [01:03, 33.47it/s]"
     ]
    },
    {
     "name": "stdout",
     "output_type": "stream",
     "text": [
      "2885 4230.8868339002265\n",
      "2886 3937.454010770975\n",
      "2887 3714.0082199546487\n",
      "2888 4031.250496031746\n",
      "2889 4109.2855725623585\n",
      "289 4199.961876417234\n",
      "2890 4175.310657596372\n",
      "2891 4023.4476332199547\n"
     ]
    },
    {
     "name": "stderr",
     "output_type": "stream",
     "text": [
      "Processing query part 0: 2102it [01:04, 33.88it/s]"
     ]
    },
    {
     "name": "stdout",
     "output_type": "stream",
     "text": [
      "2892 4040.6636196145123\n",
      "2893 3991.3192318594106\n",
      "2894 3931.9577664399094\n",
      "2895 4015.8688350340135\n",
      "2896 4107.81214569161\n",
      "2897 3947.577239229025\n",
      "2898 4019.1651785714284\n"
     ]
    },
    {
     "name": "stderr",
     "output_type": "stream",
     "text": [
      "Processing query part 0: 2110it [01:04, 31.96it/s]"
     ]
    },
    {
     "name": "stdout",
     "output_type": "stream",
     "text": [
      "2899 4201.763038548753\n",
      "29 4192.923469387755\n",
      "290 4030.041524943311\n",
      "2900 5298.816539115646\n",
      "2901 4516.94316893424\n",
      "2902 3949.657596371882\n",
      "2903 4200.24681122449\n",
      "2904 3953.6970663265306\n"
     ]
    },
    {
     "name": "stderr",
     "output_type": "stream",
     "text": [
      "\r",
      "Processing query part 0: 2114it [01:04, 30.88it/s]"
     ]
    },
    {
     "name": "stdout",
     "output_type": "stream",
     "text": [
      "2905 4092.611394557823\n",
      "2906 4620.425028344671\n",
      "2907 4072.6301729024945\n",
      "2908 3986.402777777778\n",
      "2909 4040.1422902494332\n",
      "291 4201.134637188208\n"
     ]
    },
    {
     "name": "stderr",
     "output_type": "stream",
     "text": [
      "Processing query part 0: 2122it [01:04, 31.40it/s]"
     ]
    },
    {
     "name": "stdout",
     "output_type": "stream",
     "text": [
      "2910 3949.426232993197\n",
      "2911 3992.6016156462583\n",
      "2912 4060.3837159863947\n",
      "2913 4128.789186507936\n",
      "2914 4137.276502267574\n",
      "2915 4023.350056689342\n",
      "2916 4167.155966553288\n"
     ]
    },
    {
     "name": "stderr",
     "output_type": "stream",
     "text": [
      "\r",
      "Processing query part 0: 2126it [01:04, 31.74it/s]"
     ]
    },
    {
     "name": "stdout",
     "output_type": "stream",
     "text": [
      "2917 4095.3677721088434\n",
      "2918 4020.8241213151928\n",
      "2919 4324.950184240362\n",
      "292 4205.6576672335605\n",
      "2920 4355.6482426303855\n",
      "2921 3934.6162131519272\n",
      "2922 4103.662840136054\n"
     ]
    },
    {
     "name": "stderr",
     "output_type": "stream",
     "text": [
      "Processing query part 0: 2138it [01:05, 30.50it/s]"
     ]
    },
    {
     "name": "stdout",
     "output_type": "stream",
     "text": [
      "2923 4034.4446570294785\n",
      "2924 4347.545776643991\n",
      "2925 4205.704435941043\n",
      "2926 3892.646967120181\n",
      "2927 3932.4280753968255\n",
      "2928 4320.53195861678\n",
      "2929 4092.232497165533\n",
      "293 4249.3856292517\n"
     ]
    },
    {
     "name": "stderr",
     "output_type": "stream",
     "text": [
      "Processing query part 0: 2146it [01:05, 33.04it/s]"
     ]
    },
    {
     "name": "stdout",
     "output_type": "stream",
     "text": [
      "2930 4001.3516156462583\n",
      "2931 3911.420422335601\n",
      "2932 4097.012046485261\n",
      "2933 3990.9292091836733\n",
      "2934 3871.160572562358\n",
      "2935 4098.6330782312925\n",
      "2936 4194.410076530612\n",
      "2937 4249.527281746032\n"
     ]
    },
    {
     "name": "stderr",
     "output_type": "stream",
     "text": [
      "\r",
      "Processing query part 0: 2150it [01:05, 33.49it/s]"
     ]
    },
    {
     "name": "stdout",
     "output_type": "stream",
     "text": [
      "2938 4083.221726190476\n",
      "2939 4087.4733560090704\n",
      "294 4223.764951814059\n",
      "2940 4302.635062358277\n",
      "2941 3905.545351473923\n",
      "2942 3869.517502834467\n",
      "2943 4114.781108276644\n",
      "2944 4584.670705782313\n"
     ]
    },
    {
     "name": "stderr",
     "output_type": "stream",
     "text": [
      "Processing query part 0: 2158it [01:05, 34.77it/s]"
     ]
    },
    {
     "name": "stdout",
     "output_type": "stream",
     "text": [
      "2945 4051.901785714286\n",
      "2946 4141.252267573696\n",
      "2947 3911.9636479591836\n",
      "2948 4075.294784580499\n",
      "2949 4222.344316893424\n",
      "295 4144.720663265306\n",
      "2950 3995.606859410431\n"
     ]
    },
    {
     "name": "stderr",
     "output_type": "stream",
     "text": [
      "Processing query part 0: 2167it [01:06, 33.82it/s]"
     ]
    },
    {
     "name": "stdout",
     "output_type": "stream",
     "text": [
      "2951 4057.059098639456\n",
      "2952 3976.68927154195\n",
      "2953 4315.114512471655\n",
      "2954 4040.109481292517\n",
      "2955 4053.685870181406\n",
      "2956 4337.225127551021\n",
      "2957 4036.574617346939\n",
      "2958 3842.646471088435\n"
     ]
    },
    {
     "name": "stderr",
     "output_type": "stream",
     "text": [
      "Processing query part 0: 2175it [01:06, 33.78it/s]"
     ]
    },
    {
     "name": "stdout",
     "output_type": "stream",
     "text": [
      "2959 3871.892998866213\n",
      "296 4100.730725623583\n",
      "2960 4017.4275085034014\n",
      "2961 4307.914469954649\n",
      "2962 3849.967828798186\n",
      "2963 4160.09056122449\n",
      "2964 4100.756590136054\n",
      "2965 4205.796060090703\n"
     ]
    },
    {
     "name": "stderr",
     "output_type": "stream",
     "text": [
      "Processing query part 0: 2183it [01:06, 33.85it/s]"
     ]
    },
    {
     "name": "stdout",
     "output_type": "stream",
     "text": [
      "2966 4000.6651785714284\n",
      "2967 4224.1785005668935\n",
      "2968 4259.7353316326535\n",
      "2969 4165.287769274377\n",
      "297 4101.261621315192\n",
      "2970 4275.672335600907\n",
      "2971 4003.2047902494332\n",
      "2972 4228.851119614513\n"
     ]
    },
    {
     "name": "stderr",
     "output_type": "stream",
     "text": [
      "Processing query part 0: 2191it [01:06, 32.61it/s]"
     ]
    },
    {
     "name": "stdout",
     "output_type": "stream",
     "text": [
      "2973 4372.526360544218\n",
      "2974 4064.4722930839002\n",
      "2975 4009.1456207482993\n",
      "2976 3946.626346371882\n",
      "2977 4063.6618480725624\n",
      "2978 4141.8877551020405\n",
      "2979 4143.333971088436\n"
     ]
    },
    {
     "name": "stderr",
     "output_type": "stream",
     "text": [
      "Processing query part 0: 2199it [01:07, 32.28it/s]"
     ]
    },
    {
     "name": "stdout",
     "output_type": "stream",
     "text": [
      "298 3996.2234977324265\n",
      "2980 4324.8830782312925\n",
      "2981 4091.331986961451\n",
      "2982 4289.1140873015875\n",
      "2983 4009.253472222222\n",
      "2984 3843.3672052154193\n",
      "2985 3993.2234977324265\n",
      "2986 4221.858914399093\n"
     ]
    },
    {
     "name": "stderr",
     "output_type": "stream",
     "text": [
      "Processing query part 0: 2207it [01:07, 33.87it/s]"
     ]
    },
    {
     "name": "stdout",
     "output_type": "stream",
     "text": [
      "2987 4355.414824263038\n",
      "2988 4250.013109410431\n",
      "2989 4039.6838860544217\n",
      "299 3880.494118480726\n",
      "2990 4021.7859977324265\n",
      "2991 3964.6203939909296\n",
      "2992 4177.3309948979595\n"
     ]
    },
    {
     "name": "stderr",
     "output_type": "stream",
     "text": [
      "\r",
      "Processing query part 0: 2211it [01:07, 32.18it/s]"
     ]
    },
    {
     "name": "stdout",
     "output_type": "stream",
     "text": [
      "2993 3878.9632227891157\n",
      "2994 4017.693381519274\n",
      "2995 4175.289895124716\n",
      "2996 3957.7867772108843\n",
      "2997 4092.2914540816328\n",
      "2998 3927.456561791383\n",
      "2999 3948.7114512471653\n"
     ]
    },
    {
     "name": "stderr",
     "output_type": "stream",
     "text": [
      "Processing query part 0: 2219it [01:07, 32.66it/s]"
     ]
    },
    {
     "name": "stdout",
     "output_type": "stream",
     "text": [
      "3 4137.296130952381\n",
      "30 4007.7762188208617\n",
      "300 4036.7160572562357\n",
      "3000 4102.952947845805\n",
      "3001 4115.520124716553\n",
      "3002 4016.9715136054424\n",
      "3003 4060.718466553288\n",
      "3004 4052.453656462585\n"
     ]
    },
    {
     "name": "stderr",
     "output_type": "stream",
     "text": [
      "Processing query part 0: 2227it [01:07, 34.06it/s]"
     ]
    },
    {
     "name": "stdout",
     "output_type": "stream",
     "text": [
      "3005 4193.605300453515\n",
      "3006 4350.723143424037\n",
      "3007 4350.910218253968\n",
      "3008 3917.486678004535\n",
      "3009 4109.457624716553\n",
      "301 4201.896896258503\n",
      "3010 4223.175170068027\n"
     ]
    },
    {
     "name": "stderr",
     "output_type": "stream",
     "text": [
      "Processing query part 0: 2235it [01:08, 34.98it/s]"
     ]
    },
    {
     "name": "stdout",
     "output_type": "stream",
     "text": [
      "3011 4353.527069160998\n",
      "3012 4102.410359977324\n",
      "3013 4174.197774943311\n",
      "3014 4014.6614229024945\n",
      "3015 4232.729946145125\n",
      "3016 4007.879464285714\n",
      "3017 4122.00318877551\n",
      "3018 4095.3025793650795\n"
     ]
    },
    {
     "name": "stderr",
     "output_type": "stream",
     "text": [
      "Processing query part 0: 2243it [01:08, 32.40it/s]"
     ]
    },
    {
     "name": "stdout",
     "output_type": "stream",
     "text": [
      "3019 4043.5032596371884\n",
      "302 4342.017715419501\n",
      "3020 4037.2521258503402\n",
      "3021 4105.103245464853\n",
      "3022 4054.499078798186\n",
      "3023 3991.8762046485263\n",
      "3024 3909.153202947846\n",
      "3025 4041.591411564626\n"
     ]
    },
    {
     "name": "stderr",
     "output_type": "stream",
     "text": [
      "Processing query part 0: 2251it [01:08, 33.38it/s]"
     ]
    },
    {
     "name": "stdout",
     "output_type": "stream",
     "text": [
      "3026 4089.264526643991\n",
      "3027 4053.049886621315\n",
      "3028 4142.892786281179\n",
      "3029 3965.425666099773\n",
      "303 4170.602111678005\n",
      "3030 4279.6860827664395\n",
      "3031 4112.666028911564\n"
     ]
    },
    {
     "name": "stderr",
     "output_type": "stream",
     "text": [
      "Processing query part 0: 2259it [01:08, 33.11it/s]"
     ]
    },
    {
     "name": "stdout",
     "output_type": "stream",
     "text": [
      "3032 4159.203018707483\n",
      "3033 4316.142715419501\n",
      "3034 3899.5807823129253\n",
      "3035 3876.268069727891\n",
      "3036 4105.845592403628\n",
      "3037 4472.893282312925\n",
      "3038 3835.3526077097504\n"
     ]
    },
    {
     "name": "stderr",
     "output_type": "stream",
     "text": [
      "\r",
      "Processing query part 0: 2263it [01:09, 32.25it/s]"
     ]
    },
    {
     "name": "stdout",
     "output_type": "stream",
     "text": [
      "3039 4145.490787981859\n",
      "304 4101.422689909297\n",
      "3040 4058.03408446712\n",
      "3041 4336.091128117914\n",
      "3042 3825.7942176870747\n",
      "3043 4138.694160997732\n",
      "3044 3951.7256235827663\n"
     ]
    },
    {
     "name": "stderr",
     "output_type": "stream",
     "text": [
      "Processing query part 0: 2271it [01:09, 32.03it/s]"
     ]
    },
    {
     "name": "stdout",
     "output_type": "stream",
     "text": [
      "3045 4318.357780612245\n",
      "3046 4049.578727324263\n",
      "3047 3970.2140731292516\n",
      "3048 4001.864725056689\n",
      "3049 4093.4302721088434\n",
      "305 4081.9480583900227\n",
      "3050 4096.971017573696\n",
      "3051 3860.2374574829932\n"
     ]
    },
    {
     "name": "stderr",
     "output_type": "stream",
     "text": [
      "Processing query part 0: 2279it [01:09, 32.82it/s]"
     ]
    },
    {
     "name": "stdout",
     "output_type": "stream",
     "text": [
      "3052 4028.249574829932\n",
      "3053 4132.227395124716\n",
      "3054 4232.793509070295\n",
      "3055 3932.013818027211\n",
      "3056 4327.696570294785\n",
      "3057 4040.5393282312925\n",
      "3058 4351.511196145125\n",
      "3059 4000.3898809523807\n"
     ]
    },
    {
     "name": "stderr",
     "output_type": "stream",
     "text": [
      "Processing query part 0: 2287it [01:09, 32.33it/s]"
     ]
    },
    {
     "name": "stdout",
     "output_type": "stream",
     "text": [
      "306 4143.920422335601\n",
      "3060 4155.091907596372\n",
      "3061 3954.436720521542\n",
      "3062 4309.382511337869\n",
      "3063 4088.309169501134\n",
      "3064 4172.127692743764\n",
      "3065 3915.3988803854877\n"
     ]
    },
    {
     "name": "stderr",
     "output_type": "stream",
     "text": [
      "Processing query part 0: 2295it [01:10, 33.61it/s]"
     ]
    },
    {
     "name": "stdout",
     "output_type": "stream",
     "text": [
      "3066 4170.699050453515\n",
      "3067 4195.47158446712\n",
      "3068 4015.313279478458\n",
      "3069 3831.668934240363\n",
      "307 4055.8219246031745\n",
      "3070 4109.8139172335605\n",
      "3071 3875.2588577097504\n",
      "3072 3862.6749574829932\n"
     ]
    },
    {
     "name": "stderr",
     "output_type": "stream",
     "text": [
      "Processing query part 0: 2303it [01:10, 33.91it/s]"
     ]
    },
    {
     "name": "stdout",
     "output_type": "stream",
     "text": [
      "3073 3973.973639455782\n",
      "3074 4063.716340702948\n",
      "3075 3935.347151360544\n",
      "3076 4165.732780612245\n",
      "3077 4267.413973922902\n",
      "3078 3969.4098639455783\n",
      "3079 3995.9472080498867\n",
      "308 4074.4015731292516\n"
     ]
    },
    {
     "name": "stderr",
     "output_type": "stream",
     "text": [
      "Processing query part 0: 2311it [01:10, 35.74it/s]"
     ]
    },
    {
     "name": "stdout",
     "output_type": "stream",
     "text": [
      "3080 3846.985756802721\n",
      "3081 3910.4124149659865\n",
      "3082 3835.5101332199547\n",
      "3083 4078.143920068027\n",
      "3084 4076.9907879818593\n",
      "3085 4255.403132086168\n",
      "3086 3966.806618480726\n"
     ]
    },
    {
     "name": "stderr",
     "output_type": "stream",
     "text": [
      "Processing query part 0: 2319it [01:10, 33.94it/s]"
     ]
    },
    {
     "name": "stdout",
     "output_type": "stream",
     "text": [
      "3087 4012.1651785714284\n",
      "3088 4198.010983560091\n",
      "3089 4275.654195011338\n",
      "309 4061.468820861678\n",
      "3090 3962.270549886621\n",
      "3091 3995.0231717687075\n",
      "3092 4349.014314058957\n"
     ]
    },
    {
     "name": "stderr",
     "output_type": "stream",
     "text": [
      "\r",
      "Processing query part 0: 2323it [01:10, 32.81it/s]"
     ]
    },
    {
     "name": "stdout",
     "output_type": "stream",
     "text": [
      "3093 4027.2260487528347\n",
      "3094 4180.933390022676\n",
      "3095 4515.562925170068\n",
      "3096 4123.025439342404\n",
      "3097 4323.405399659864\n",
      "3098 3995.8484268707484\n",
      "3099 3983.6320861678005\n"
     ]
    },
    {
     "name": "stderr",
     "output_type": "stream",
     "text": [
      "Processing query part 0: 2331it [01:11, 33.30it/s]"
     ]
    },
    {
     "name": "stdout",
     "output_type": "stream",
     "text": [
      "31 4563.940192743764\n",
      "310 3999.40766723356\n",
      "3100 4032.0547052154193\n",
      "3101 4002.998441043084\n",
      "3102 4057.703585600907\n",
      "3103 4321.756590136054\n",
      "3104 4278.4067460317465\n"
     ]
    },
    {
     "name": "stderr",
     "output_type": "stream",
     "text": [
      "Processing query part 0: 2339it [01:11, 34.15it/s]"
     ]
    },
    {
     "name": "stdout",
     "output_type": "stream",
     "text": [
      "3105 4044.7293083900227\n",
      "3106 4182.928713151928\n",
      "3107 4213.6860827664395\n",
      "3108 4132.178287981859\n",
      "3109 3993.980513038549\n",
      "311 4258.120464852607\n",
      "3110 4261.597576530612\n",
      "3111 4274.452239229025\n"
     ]
    },
    {
     "name": "stderr",
     "output_type": "stream",
     "text": [
      "Processing query part 0: 2347it [01:11, 34.26it/s]"
     ]
    },
    {
     "name": "stdout",
     "output_type": "stream",
     "text": [
      "3112 3957.5997023809523\n",
      "3113 3914.083049886621\n",
      "3114 4050.15093537415\n",
      "3115 4153.708687641723\n",
      "3116 4214.923681972789\n",
      "3117 4035.4460034013605\n",
      "3118 3927.423185941043\n"
     ]
    },
    {
     "name": "stderr",
     "output_type": "stream",
     "text": [
      "Processing query part 0: 2355it [01:11, 34.60it/s]"
     ]
    },
    {
     "name": "stdout",
     "output_type": "stream",
     "text": [
      "3119 4223.516439909297\n",
      "312 3916.3762046485263\n",
      "3120 4139.299107142857\n",
      "3121 4161.4768282312925\n",
      "3122 4354.59056122449\n",
      "3123 4003.952664399093\n",
      "3124 4168.952522675737\n",
      "3125 4232.052437641723\n"
     ]
    },
    {
     "name": "stderr",
     "output_type": "stream",
     "text": [
      "Processing query part 0: 2363it [01:12, 34.16it/s]"
     ]
    },
    {
     "name": "stdout",
     "output_type": "stream",
     "text": [
      "3126 4092.545280612245\n",
      "3127 4076.5896400226757\n",
      "3128 3976.592120181406\n",
      "3129 4193.53514739229\n",
      "313 3987.9299178004535\n",
      "3130 4149.430130385487\n",
      "3131 4278.151785714285\n"
     ]
    },
    {
     "name": "stderr",
     "output_type": "stream",
     "text": [
      "\r",
      "Processing query part 0: 2367it [01:12, 32.86it/s]"
     ]
    },
    {
     "name": "stdout",
     "output_type": "stream",
     "text": [
      "3132 4032.824333900227\n",
      "3133 4075.7164824263036\n",
      "3134 4023.134778911565\n",
      "3135 4037.342757936508\n",
      "3136 3900.2247732426304\n",
      "3137 4090.4755527210887\n",
      "3138 3879.361323696145\n"
     ]
    },
    {
     "name": "stderr",
     "output_type": "stream",
     "text": [
      "Processing query part 0: 2375it [01:12, 33.72it/s]"
     ]
    },
    {
     "name": "stdout",
     "output_type": "stream",
     "text": [
      "3139 3960.4468537414964\n",
      "314 4098.650935374149\n",
      "3140 4285.50673185941\n",
      "3141 3831.8051303854877\n",
      "3142 4285.235544217687\n",
      "3143 4373.554634353742\n",
      "3144 4036.921556122449\n"
     ]
    },
    {
     "name": "stderr",
     "output_type": "stream",
     "text": [
      "Processing query part 0: 2383it [01:12, 33.65it/s]"
     ]
    },
    {
     "name": "stdout",
     "output_type": "stream",
     "text": [
      "3145 3949.8703939909296\n",
      "3146 3881.3037131519272\n",
      "3147 4083.2130102040815\n",
      "3148 3870.2298752834467\n",
      "3149 4224.866709183673\n",
      "315 4158.136196145125\n",
      "3150 4039.013534580499\n"
     ]
    },
    {
     "name": "stderr",
     "output_type": "stream",
     "text": [
      "Processing query part 0: 2391it [01:12, 32.75it/s]"
     ]
    },
    {
     "name": "stdout",
     "output_type": "stream",
     "text": [
      "3151 3910.3532454648525\n",
      "3152 4041.1940901360545\n",
      "3153 4262.1993339002265\n",
      "3154 4084.167587868481\n",
      "3155 3965.5031179138323\n",
      "3156 4229.355654761905\n",
      "3157 4281.651785714285\n",
      "3158 4171.075821995465\n"
     ]
    },
    {
     "name": "stderr",
     "output_type": "stream",
     "text": [
      "Processing query part 0: 2399it [01:13, 34.42it/s]"
     ]
    },
    {
     "name": "stdout",
     "output_type": "stream",
     "text": [
      "3159 4005.862882653061\n",
      "3160 4150.900864512471\n",
      "3161 4660.27628968254\n",
      "3162 4208.969529478458\n",
      "3163 4071.7278911564626\n",
      "3164 3980.990221088435\n",
      "3165 3917.3875425170068\n",
      "3166 4340.004535147393\n"
     ]
    },
    {
     "name": "stderr",
     "output_type": "stream",
     "text": [
      "Processing query part 0: 2407it [01:13, 33.41it/s]"
     ]
    },
    {
     "name": "stdout",
     "output_type": "stream",
     "text": [
      "3167 3995.4025651927436\n",
      "3168 4160.705498866213\n",
      "3169 4108.552366780045\n",
      "317 3937.1829648526077\n",
      "3170 4221.114795918367\n",
      "3171 3880.609693877551\n",
      "3172 4370.894274376417\n",
      "3173 4013.9781746031745\n"
     ]
    },
    {
     "name": "stderr",
     "output_type": "stream",
     "text": [
      "Processing query part 0: 2415it [01:13, 32.97it/s]"
     ]
    },
    {
     "name": "stdout",
     "output_type": "stream",
     "text": [
      "3174 4206.524872448979\n",
      "3175 3755.2565901360545\n",
      "3176 3960.1375425170068\n",
      "3177 4293.990929705215\n",
      "3178 3902.481363378685\n",
      "3179 3993.6944444444443\n",
      "318 4004.0651218820863\n",
      "3180 4348.107709750567\n"
     ]
    },
    {
     "name": "stderr",
     "output_type": "stream",
     "text": [
      "Processing query part 0: 2423it [01:13, 34.21it/s]"
     ]
    },
    {
     "name": "stdout",
     "output_type": "stream",
     "text": [
      "3181 3851.8525368480728\n",
      "3182 4308.238591269841\n",
      "3183 4129.137117346939\n",
      "3184 4249.546556122449\n",
      "3185 4257.911422902494\n",
      "3186 4074.807114512472\n",
      "3187 4022.5778769841268\n"
     ]
    },
    {
     "name": "stderr",
     "output_type": "stream",
     "text": [
      "\r",
      "Processing query part 0: 2427it [01:13, 33.65it/s]"
     ]
    },
    {
     "name": "stdout",
     "output_type": "stream",
     "text": [
      "3188 3271.904903628118\n",
      "3189 4169.8139172335605\n",
      "319 4545.714002267574\n",
      "3190 4240.716198979592\n",
      "3191 4133.983701814059\n",
      "3192 4629.413265306122\n"
     ]
    },
    {
     "name": "stderr",
     "output_type": "stream",
     "text": [
      "Processing query part 0: 2435it [01:14, 30.48it/s]"
     ]
    },
    {
     "name": "stdout",
     "output_type": "stream",
     "text": [
      "3193 4068.627409297052\n",
      "3194 4086.521471088435\n",
      "3195 4110.263605442177\n",
      "3196 4315.272604875284\n",
      "3197 4258.938350340136\n",
      "3198 3914.0579648526077\n"
     ]
    },
    {
     "name": "stderr",
     "output_type": "stream",
     "text": [
      "Processing query part 0: 2443it [01:14, 32.33it/s]"
     ]
    },
    {
     "name": "stdout",
     "output_type": "stream",
     "text": [
      "3199 4052.862882653061\n",
      "32 4101.448767006803\n",
      "320 4118.21945861678\n",
      "3200 3846.4002976190477\n",
      "3201 3919.220804988662\n",
      "3202 4125.360827664399\n",
      "3203 4110.569657029479\n",
      "3204 3945.56639739229\n"
     ]
    },
    {
     "name": "stderr",
     "output_type": "stream",
     "text": [
      "\r",
      "Processing query part 0: 2447it [01:14, 30.50it/s]"
     ]
    },
    {
     "name": "stdout",
     "output_type": "stream",
     "text": [
      "3205 4000.7915958049884\n",
      "3206 4004.199333900227\n",
      "3207 3836.571782879819\n",
      "3208 4268.298044217687\n",
      "3209 4214.53337585034\n",
      "321 4237.139101473923\n",
      "3210 4255.148384353742\n"
     ]
    },
    {
     "name": "stderr",
     "output_type": "stream",
     "text": [
      "Processing query part 0: 2455it [01:14, 29.85it/s]"
     ]
    },
    {
     "name": "stdout",
     "output_type": "stream",
     "text": [
      "3211 4075.660076530612\n",
      "3212 4113.925878684808\n",
      "3213 4051.901360544218\n",
      "3214 4185.549036281179\n",
      "3215 4200.632936507936\n",
      "3216 4256.940759637188\n",
      "3217 4031.5526502267576\n"
     ]
    },
    {
     "name": "stderr",
     "output_type": "stream",
     "text": [
      "Processing query part 0: 2463it [01:15, 32.09it/s]"
     ]
    },
    {
     "name": "stdout",
     "output_type": "stream",
     "text": [
      "3218 4034.465348639456\n",
      "3219 4135.553358843537\n",
      "322 4214.9029195011335\n",
      "3220 4187.27806122449\n",
      "3221 4209.711309523809\n",
      "3222 4263.975198412699\n",
      "3223 4383.480654761905\n"
     ]
    },
    {
     "name": "stderr",
     "output_type": "stream",
     "text": [
      "Processing query part 0: 2471it [01:15, 31.92it/s]"
     ]
    },
    {
     "name": "stdout",
     "output_type": "stream",
     "text": [
      "3224 3995.248866213152\n",
      "3225 4136.7731717687075\n",
      "3226 4196.2201672335605\n",
      "3227 4034.9895124716554\n",
      "3228 3932.410572562358\n",
      "3229 4091.2638888888887\n",
      "323 4016.7390873015875\n",
      "3230 4121.838010204082\n"
     ]
    },
    {
     "name": "stderr",
     "output_type": "stream",
     "text": [
      "Processing query part 0: 2479it [01:15, 32.46it/s]"
     ]
    },
    {
     "name": "stdout",
     "output_type": "stream",
     "text": [
      "3231 3928.122590702948\n",
      "3232 4193.803996598639\n",
      "3233 4005.639739229025\n",
      "3234 3915.016298185941\n",
      "3235 4097.368339002268\n",
      "3236 4046.27593537415\n",
      "3237 3873.689554988662\n",
      "3238 4105.318948412699\n"
     ]
    },
    {
     "name": "stderr",
     "output_type": "stream",
     "text": [
      "Processing query part 0: 2487it [01:15, 33.34it/s]"
     ]
    },
    {
     "name": "stdout",
     "output_type": "stream",
     "text": [
      "3239 3855.625992063492\n",
      "324 4173.46945861678\n",
      "3240 3938.7428429705215\n",
      "3241 4435.993693310657\n",
      "3242 4113.183673469388\n",
      "3243 3985.439129818594\n",
      "3244 4058.048327664399\n",
      "3245 4187.83808106576\n"
     ]
    },
    {
     "name": "stderr",
     "output_type": "stream",
     "text": [
      "Processing query part 0: 2495it [01:16, 33.30it/s]"
     ]
    },
    {
     "name": "stdout",
     "output_type": "stream",
     "text": [
      "3246 4027.1322278911566\n",
      "3247 4155.850056689343\n",
      "3248 4109.222930839002\n",
      "3249 3999.5695153061224\n",
      "325 4242.023667800454\n",
      "3250 4283.407454648526\n",
      "3251 4084.968891723356\n",
      "3252 4506.414399092971\n"
     ]
    },
    {
     "name": "stderr",
     "output_type": "stream",
     "text": [
      "Processing query part 0: 2503it [01:16, 32.98it/s]"
     ]
    },
    {
     "name": "stdout",
     "output_type": "stream",
     "text": [
      "3253 4036.345238095238\n",
      "3254 4028.736394557823\n",
      "3255 4087.5369897959185\n",
      "3256 4054.951814058957\n",
      "3257 3843.3586309523807\n",
      "3258 4262.902565192744\n",
      "3259 4052.3562925170068\n",
      "326 3926.112244897959\n"
     ]
    },
    {
     "name": "stderr",
     "output_type": "stream",
     "text": [
      "Processing query part 0: 2511it [01:16, 32.92it/s]"
     ]
    },
    {
     "name": "stdout",
     "output_type": "stream",
     "text": [
      "3260 4030.2886196145123\n",
      "3261 3884.6960742630386\n",
      "3262 4103.157950680272\n",
      "3263 4012.5012046485263\n",
      "3264 4188.754393424037\n",
      "3265 4015.531746031746\n",
      "3266 4121.065051020408\n"
     ]
    },
    {
     "name": "stderr",
     "output_type": "stream",
     "text": [
      "\r",
      "Processing query part 0: 2515it [01:16, 33.03it/s]"
     ]
    },
    {
     "name": "stdout",
     "output_type": "stream",
     "text": [
      "3267 4292.925736961452\n",
      "3268 3798.798823696145\n",
      "3269 4018.686011904762\n",
      "327 3982.7266156462583\n",
      "3270 4011.2912414965986\n",
      "3271 4167.28054138322\n",
      "3272 4121.90306122449\n",
      "3273 4128.522321428572\n"
     ]
    },
    {
     "name": "stderr",
     "output_type": "stream",
     "text": [
      "Processing query part 0: 2523it [01:16, 31.84it/s]"
     ]
    },
    {
     "name": "stdout",
     "output_type": "stream",
     "text": [
      "3274 4119.275155895692\n",
      "3275 4148.882015306122\n",
      "3276 3998.7478032879817\n",
      "3277 4185.299957482993\n",
      "3278 4137.714356575963\n",
      "3279 4035.140447845805\n",
      "328 4315.171485260771\n"
     ]
    },
    {
     "name": "stderr",
     "output_type": "stream",
     "text": [
      "Processing query part 0: 2531it [01:17, 32.56it/s]"
     ]
    },
    {
     "name": "stdout",
     "output_type": "stream",
     "text": [
      "3280 4083.156816893424\n",
      "3281 4167.811862244898\n",
      "3282 4374.096726190476\n",
      "3283 3929.1940901360545\n",
      "3284 4094.2048611111113\n",
      "3285 4164.6140873015875\n",
      "3286 3998.1048044217687\n",
      "3287 4000.1438492063494\n"
     ]
    },
    {
     "name": "stderr",
     "output_type": "stream",
     "text": [
      "Processing query part 0: 2539it [01:17, 32.39it/s]"
     ]
    },
    {
     "name": "stdout",
     "output_type": "stream",
     "text": [
      "3288 4091.364229024943\n",
      "3289 4280.909863945578\n",
      "329 4037.361961451247\n",
      "3290 3854.060161564626\n",
      "3291 4195.572491496599\n",
      "3292 4180.7293792517\n",
      "3293 4002.0833333333335\n"
     ]
    },
    {
     "name": "stderr",
     "output_type": "stream",
     "text": [
      "Processing query part 0: 2547it [01:17, 31.71it/s]"
     ]
    },
    {
     "name": "stdout",
     "output_type": "stream",
     "text": [
      "3294 3983.1924603174602\n",
      "3295 4150.5430839002265\n",
      "3296 3968.9795918367345\n",
      "3297 4703.669784580499\n",
      "3298 4167.2107426303855\n",
      "3299 3961.234977324263\n"
     ]
    },
    {
     "name": "stderr",
     "output_type": "stream",
     "text": [
      "\r",
      "Processing query part 0: 2551it [01:17, 31.23it/s]"
     ]
    },
    {
     "name": "stdout",
     "output_type": "stream",
     "text": [
      "33 4267.673327664399\n",
      "330 4218.796981292517\n",
      "3300 3929.2847930839002\n",
      "3301 4156.250921201814\n",
      "3302 3895.810090702948\n",
      "3303 3838.063421201814\n"
     ]
    },
    {
     "name": "stderr",
     "output_type": "stream",
     "text": [
      "Processing query part 0: 2559it [01:18, 30.19it/s]"
     ]
    },
    {
     "name": "stdout",
     "output_type": "stream",
     "text": [
      "3304 3989.7745890022675\n",
      "3305 4207.888747165533\n",
      "3306 4013.662060657596\n",
      "3307 4092.8475056689344\n",
      "3308 3971.8264597505668\n",
      "3309 4018.073270975057\n"
     ]
    },
    {
     "name": "stderr",
     "output_type": "stream",
     "text": [
      "\r",
      "Processing query part 0: 2563it [01:18, 28.81it/s]"
     ]
    },
    {
     "name": "stdout",
     "output_type": "stream",
     "text": [
      "331 4331.617984693878\n",
      "3310 3912.02947845805\n",
      "3311 4242.0771683673465\n",
      "3312 4108.947208049886\n",
      "3313 4100.117772108843\n",
      "3314 4059.261833900227\n",
      "3315 4081.4494756235827\n"
     ]
    },
    {
     "name": "stderr",
     "output_type": "stream",
     "text": [
      "Processing query part 0: 2569it [01:18, 29.08it/s]"
     ]
    },
    {
     "name": "stdout",
     "output_type": "stream",
     "text": [
      "3316 4205.864795918367\n",
      "3317 4287.982568027211\n",
      "3318 4056.026360544218\n",
      "3319 4144.441184807256\n",
      "332 4199.3110827664395\n",
      "3320 4104.4964569161\n"
     ]
    },
    {
     "name": "stderr",
     "output_type": "stream",
     "text": [
      "Processing query part 0: 2576it [01:18, 29.39it/s]"
     ]
    },
    {
     "name": "stdout",
     "output_type": "stream",
     "text": [
      "3321 3998.9900085034014\n",
      "3322 4288.547123015873\n",
      "3323 3915.2886904761904\n",
      "3324 4283.18714569161\n",
      "3325 4017.417517006803\n",
      "3326 4144.937570861678\n"
     ]
    },
    {
     "name": "stderr",
     "output_type": "stream",
     "text": [
      "Processing query part 0: 2582it [01:18, 28.53it/s]"
     ]
    },
    {
     "name": "stdout",
     "output_type": "stream",
     "text": [
      "3327 3940.7795493197277\n",
      "3328 4307.080144557823\n",
      "3329 3933.1952947845807\n",
      "333 4009.535218253968\n",
      "3330 3998.4420351473923\n",
      "3331 4065.53373015873\n",
      "3332 4286.5250850340135\n"
     ]
    },
    {
     "name": "stderr",
     "output_type": "stream",
     "text": [
      "Processing query part 0: 2590it [01:19, 31.20it/s]"
     ]
    },
    {
     "name": "stdout",
     "output_type": "stream",
     "text": [
      "3333 4182.715986394558\n",
      "3334 4250.40589569161\n",
      "3335 4444.698837868481\n",
      "3336 3942.411635487528\n",
      "3337 4341.658942743764\n",
      "3338 4413.075113378684\n",
      "3339 3971.8650793650795\n"
     ]
    },
    {
     "name": "stderr",
     "output_type": "stream",
     "text": [
      "Processing query part 0: 2598it [01:19, 31.28it/s]"
     ]
    },
    {
     "name": "stdout",
     "output_type": "stream",
     "text": [
      "334 4110.6074263038545\n",
      "3340 4173.06427154195\n",
      "3341 4146.031391723356\n",
      "3342 3918.7554563492063\n",
      "3343 4040.4978032879817\n",
      "3344 3981.063846371882\n",
      "3345 4306.588931405896\n"
     ]
    },
    {
     "name": "stderr",
     "output_type": "stream",
     "text": [
      "Processing query part 0: 2606it [01:19, 32.08it/s]"
     ]
    },
    {
     "name": "stdout",
     "output_type": "stream",
     "text": [
      "3346 4467.435870181406\n",
      "3347 3847.690972222222\n",
      "3348 4236.6045918367345\n",
      "3349 4453.241780045351\n",
      "335 3872.040532879819\n",
      "3350 4027.517219387755\n",
      "3351 3911.5660430839002\n",
      "3352 3990.442318594104\n"
     ]
    },
    {
     "name": "stderr",
     "output_type": "stream",
     "text": [
      "Processing query part 0: 2614it [01:19, 33.28it/s]"
     ]
    },
    {
     "name": "stdout",
     "output_type": "stream",
     "text": [
      "3353 4148.532383786848\n",
      "3354 3928.081136621315\n",
      "3355 3918.0735544217687\n",
      "3356 3871.875496031746\n",
      "3357 4098.428429705215\n",
      "3358 4075.028840702948\n",
      "3359 4468.2485827664395\n",
      "336 4212.065192743764\n"
     ]
    },
    {
     "name": "stderr",
     "output_type": "stream",
     "text": [
      "Processing query part 0: 2622it [01:20, 33.39it/s]"
     ]
    },
    {
     "name": "stdout",
     "output_type": "stream",
     "text": [
      "3360 4115.905045351474\n",
      "3361 3993.3629535147393\n",
      "3362 4071.358701814059\n",
      "3363 3886.143920068027\n",
      "3364 4212.496598639455\n",
      "3365 3994.061153628118\n",
      "3366 4892.181122448979\n"
     ]
    },
    {
     "name": "stderr",
     "output_type": "stream",
     "text": [
      "\r",
      "Processing query part 0: 2626it [01:20, 32.19it/s]"
     ]
    },
    {
     "name": "stdout",
     "output_type": "stream",
     "text": [
      "3367 4265.219033446712\n",
      "3368 3851.9665532879817\n",
      "3369 3919.684169501134\n",
      "337 4120.3735827664395\n",
      "3370 3975.796981292517\n",
      "3371 4131.937358276644\n",
      "3372 4095.9250283446713\n"
     ]
    },
    {
     "name": "stderr",
     "output_type": "stream",
     "text": [
      "Processing query part 0: 2634it [01:20, 33.66it/s]"
     ]
    },
    {
     "name": "stdout",
     "output_type": "stream",
     "text": [
      "3373 3963.2867063492063\n",
      "3374 4012.5133928571427\n",
      "3375 3726.2072704081634\n",
      "3376 4069.701034580499\n",
      "3377 4213.24114229025\n",
      "3378 4030.4909297052154\n",
      "3379 3982.6096230158732\n",
      "338 4061.8161848072564\n"
     ]
    },
    {
     "name": "stderr",
     "output_type": "stream",
     "text": [
      "Processing query part 0: 2642it [01:20, 34.15it/s]"
     ]
    },
    {
     "name": "stdout",
     "output_type": "stream",
     "text": [
      "3380 4357.242134353742\n",
      "3381 4126.576530612245\n",
      "3382 4151.832128684808\n",
      "3383 3847.8497732426304\n",
      "3384 4103.9142573696145\n",
      "3385 3805.6480300453513\n",
      "3386 4167.072704081633\n",
      "3387 3839.281391723356\n"
     ]
    },
    {
     "name": "stderr",
     "output_type": "stream",
     "text": [
      "Processing query part 0: 2650it [01:20, 34.46it/s]"
     ]
    },
    {
     "name": "stdout",
     "output_type": "stream",
     "text": [
      "3388 4205.986465419501\n",
      "3389 3871.2414965986395\n",
      "339 4094.736748866213\n",
      "3390 4104.015802154195\n",
      "3391 4375.758432539683\n",
      "3392 4138.873015873016\n",
      "3393 4026.7209467120183\n",
      "3394 3948.514243197279\n"
     ]
    },
    {
     "name": "stderr",
     "output_type": "stream",
     "text": [
      "Processing query part 0: 2658it [01:21, 34.62it/s]"
     ]
    },
    {
     "name": "stdout",
     "output_type": "stream",
     "text": [
      "3395 4168.790887188208\n",
      "3396 4299.4481292517\n",
      "3397 3946.5411706349205\n",
      "3398 3867.548044217687\n",
      "3399 4157.041666666667\n",
      "34 4145.750425170068\n",
      "340 4064.5284863945576\n",
      "3400 4082.904336734694\n"
     ]
    },
    {
     "name": "stderr",
     "output_type": "stream",
     "text": [
      "Processing query part 0: 2666it [01:21, 33.60it/s]"
     ]
    },
    {
     "name": "stdout",
     "output_type": "stream",
     "text": [
      "3401 4418.072774943311\n",
      "3402 4112.257440476191\n",
      "3403 4042.827593537415\n",
      "3404 3988.2062783446713\n",
      "3405 4255.543863378684\n",
      "3406 4134.898526077098\n",
      "3407 4201.173185941043\n"
     ]
    },
    {
     "name": "stderr",
     "output_type": "stream",
     "text": [
      "Processing query part 0: 2674it [01:21, 32.23it/s]"
     ]
    },
    {
     "name": "stdout",
     "output_type": "stream",
     "text": [
      "3408 4102.912344104308\n",
      "3409 4003.9562074829932\n",
      "341 3871.5833333333335\n",
      "3410 3933.122094671202\n",
      "3411 4091.2360402494332\n",
      "3412 4064.187641723356\n",
      "3413 4161.12216553288\n"
     ]
    },
    {
     "name": "stderr",
     "output_type": "stream",
     "text": [
      "Processing query part 0: 2682it [01:21, 33.07it/s]"
     ]
    },
    {
     "name": "stdout",
     "output_type": "stream",
     "text": [
      "3414 4214.1046626984125\n",
      "3415 4176.264243197279\n",
      "3416 4187.7286706349205\n",
      "3417 4101.568735827665\n",
      "3418 3930.6901218820863\n",
      "3419 4233.695932539683\n",
      "342 4084.9119897959185\n"
     ]
    },
    {
     "name": "stderr",
     "output_type": "stream",
     "text": [
      "Processing query part 0: 2690it [01:22, 34.29it/s]"
     ]
    },
    {
     "name": "stdout",
     "output_type": "stream",
     "text": [
      "3420 4276.5572562358275\n",
      "3421 4108.841198979592\n",
      "3422 4183.789399092971\n",
      "3423 4179.484056122449\n",
      "3424 3885.811011904762\n",
      "3425 3940.1667375283446\n",
      "3426 4036.5284863945576\n",
      "3427 4043.9494756235827\n"
     ]
    },
    {
     "name": "stderr",
     "output_type": "stream",
     "text": [
      "\r",
      "Processing query part 0: 2694it [01:22, 34.20it/s]"
     ]
    },
    {
     "name": "stdout",
     "output_type": "stream",
     "text": [
      "3428 3923.219246031746\n",
      "3429 3966.30966553288\n",
      "343 3881.2683531746034\n",
      "3430 4079.5423044217687\n",
      "3431 4026.518636621315\n",
      "3432 3944.3786848072564\n",
      "3433 4623.109693877551\n"
     ]
    },
    {
     "name": "stderr",
     "output_type": "stream",
     "text": [
      "Processing query part 0: 2702it [01:22, 32.85it/s]"
     ]
    },
    {
     "name": "stdout",
     "output_type": "stream",
     "text": [
      "3434 4224.3338293650795\n",
      "3435 4137.30683106576\n",
      "3436 4014.328798185941\n",
      "3437 4367.115929705215\n",
      "3438 3957.280683106576\n",
      "3439 3987.5183531746034\n",
      "344 4263.920422335601\n"
     ]
    },
    {
     "name": "stderr",
     "output_type": "stream",
     "text": [
      "Processing query part 0: 2710it [01:22, 31.21it/s]"
     ]
    },
    {
     "name": "stdout",
     "output_type": "stream",
     "text": [
      "3440 4167.321924603175\n",
      "3441 4070.3053429705215\n",
      "3442 4593.003117913832\n",
      "3443 4340.972718253968\n",
      "3444 4043.217970521542\n",
      "3445 4220.632227891157\n",
      "3446 3975.7270408163267\n"
     ]
    },
    {
     "name": "stderr",
     "output_type": "stream",
     "text": [
      "Processing query part 0: 2718it [01:23, 31.68it/s]"
     ]
    },
    {
     "name": "stdout",
     "output_type": "stream",
     "text": [
      "3447 4344.02806122449\n",
      "3448 3945.263109410431\n",
      "3449 4093.7769982993195\n",
      "345 3951.7907454648525\n",
      "3450 3899.108347505669\n",
      "3451 4132.00460600907\n",
      "3452 4105.132582199546\n"
     ]
    },
    {
     "name": "stderr",
     "output_type": "stream",
     "text": [
      "\r",
      "Processing query part 0: 2722it [01:23, 32.11it/s]"
     ]
    },
    {
     "name": "stdout",
     "output_type": "stream",
     "text": [
      "3453 4042.8156887755104\n",
      "3454 4135.348568594104\n",
      "3455 4163.266156462585\n",
      "3456 3638.482497165533\n",
      "3457 4118.317318594104\n",
      "3458 4075.2106009070294\n",
      "3459 4319.086167800454\n"
     ]
    },
    {
     "name": "stderr",
     "output_type": "stream",
     "text": [
      "Processing query part 0: 2730it [01:23, 31.63it/s]"
     ]
    },
    {
     "name": "stdout",
     "output_type": "stream",
     "text": [
      "346 4043.37535430839\n",
      "3460 4031.0853883219957\n",
      "3461 3920.653840702948\n",
      "3462 4035.2423469387754\n",
      "3463 4210.297619047619\n",
      "3464 3892.9445153061224\n",
      "3465 4076.3093820861677\n"
     ]
    },
    {
     "name": "stderr",
     "output_type": "stream",
     "text": [
      "Processing query part 0: 2738it [01:23, 31.93it/s]"
     ]
    },
    {
     "name": "stdout",
     "output_type": "stream",
     "text": [
      "3466 4270.956207482993\n",
      "3467 4048.3772675736964\n",
      "3468 3814.277423469388\n",
      "3469 4238.347505668934\n",
      "347 3922.7120890022675\n",
      "3470 4290.952664399093\n",
      "3471 4275.032029478458\n"
     ]
    },
    {
     "name": "stderr",
     "output_type": "stream",
     "text": [
      "Processing query part 0: 2746it [01:23, 31.87it/s]"
     ]
    },
    {
     "name": "stdout",
     "output_type": "stream",
     "text": [
      "3472 4049.7589285714284\n",
      "3473 4120.5525793650795\n",
      "3474 4355.3716695011335\n",
      "3475 4119.141652494331\n",
      "3476 4026.994118480726\n",
      "3477 3997.701814058957\n",
      "3478 4124.91227324263\n"
     ]
    },
    {
     "name": "stderr",
     "output_type": "stream",
     "text": [
      "\r",
      "Processing query part 0: 2750it [01:24, 31.63it/s]"
     ]
    },
    {
     "name": "stdout",
     "output_type": "stream",
     "text": [
      "3479 3874.5274943310656\n",
      "348 4147.6027494331065\n",
      "3480 4221.726686507936\n",
      "3481 4275.506519274377\n",
      "3482 4167.673752834467\n",
      "3483 4095.386763038549\n"
     ]
    },
    {
     "name": "stderr",
     "output_type": "stream",
     "text": [
      "Processing query part 0: 2758it [01:24, 32.59it/s]"
     ]
    },
    {
     "name": "stdout",
     "output_type": "stream",
     "text": [
      "3484 4327.397604875284\n",
      "3485 4096.005527210885\n",
      "3486 4026.901431405896\n",
      "3487 3855.4040532879817\n",
      "3488 4151.155470521542\n",
      "3489 3815.235756802721\n",
      "349 4095.91014739229\n"
     ]
    },
    {
     "name": "stderr",
     "output_type": "stream",
     "text": [
      "Processing query part 0: 2766it [01:24, 32.51it/s]"
     ]
    },
    {
     "name": "stdout",
     "output_type": "stream",
     "text": [
      "3490 4144.797193877551\n",
      "3491 3927.187003968254\n",
      "3492 3891.625070861678\n",
      "3493 4008.855867346939\n",
      "3494 4102.077735260771\n",
      "3495 3899.968466553288\n",
      "3496 4063.409226190476\n"
     ]
    },
    {
     "name": "stderr",
     "output_type": "stream",
     "text": [
      "\r",
      "Processing query part 0: 2770it [01:24, 32.70it/s]"
     ]
    },
    {
     "name": "stdout",
     "output_type": "stream",
     "text": [
      "3497 3966.5860969387754\n",
      "3498 4081.2911706349205\n",
      "3499 4074.669288548753\n",
      "350 4251.557681405896\n",
      "3500 3849.7103174603176\n",
      "3501 4293.77628968254\n",
      "3503 4193.388180272109\n"
     ]
    },
    {
     "name": "stderr",
     "output_type": "stream",
     "text": [
      "Processing query part 0: 2778it [01:24, 32.65it/s]"
     ]
    },
    {
     "name": "stdout",
     "output_type": "stream",
     "text": [
      "3504 3912.1935232426304\n",
      "3505 4021.1792800453513\n",
      "3506 4117.925524376417\n",
      "3507 3961.051799886621\n",
      "3508 4025.1471088435374\n",
      "3509 4096.3783304988665\n",
      "351 4107.820932539683\n"
     ]
    },
    {
     "name": "stderr",
     "output_type": "stream",
     "text": [
      "Processing query part 0: 2786it [01:25, 32.77it/s]"
     ]
    },
    {
     "name": "stdout",
     "output_type": "stream",
     "text": [
      "3510 4453.389951814059\n",
      "3511 3969.4494047619046\n",
      "3512 4092.6623441043084\n",
      "3513 4186.977678571428\n",
      "3514 4315.845450680272\n",
      "3515 4169.075184240362\n",
      "3516 4599.258503401361\n"
     ]
    },
    {
     "name": "stderr",
     "output_type": "stream",
     "text": [
      "Processing query part 0: 2794it [01:25, 32.29it/s]"
     ]
    },
    {
     "name": "stdout",
     "output_type": "stream",
     "text": [
      "3517 3968.6649659863947\n",
      "3518 3880.5741213151928\n",
      "3519 3977.7725340136053\n",
      "352 4237.18927154195\n",
      "3520 4130.164399092971\n",
      "3521 3935.6939484126983\n",
      "3522 4034.1755243764173\n"
     ]
    },
    {
     "name": "stderr",
     "output_type": "stream",
     "text": [
      "\r",
      "Processing query part 0: 2798it [01:25, 31.47it/s]"
     ]
    },
    {
     "name": "stdout",
     "output_type": "stream",
     "text": [
      "3523 4100.609197845805\n",
      "3524 3889.1475340136053\n",
      "3525 4105.0828373015875\n",
      "3526 4089.2306547619046\n",
      "3527 4255.151431405896\n",
      "3528 4064.859552154195\n"
     ]
    },
    {
     "name": "stderr",
     "output_type": "stream",
     "text": [
      "Processing query part 0: 2806it [01:25, 31.87it/s]"
     ]
    },
    {
     "name": "stdout",
     "output_type": "stream",
     "text": [
      "3529 4166.024872448979\n",
      "353 4149.796414399093\n",
      "3530 3869.999433106576\n",
      "3531 4161.145904195011\n",
      "3532 4121.096442743764\n",
      "3533 4037.8680555555557\n",
      "3534 3942.1951530612246\n"
     ]
    },
    {
     "name": "stderr",
     "output_type": "stream",
     "text": [
      "Processing query part 0: 2814it [01:25, 32.67it/s]"
     ]
    },
    {
     "name": "stdout",
     "output_type": "stream",
     "text": [
      "3535 4084.2723214285716\n",
      "3536 4042.015589569161\n",
      "3537 4124.938704648526\n",
      "3538 4069.1451955782313\n",
      "3539 4057.5295493197277\n",
      "354 4119.948767006803\n",
      "3540 4290.059807256236\n",
      "3541 4233.691964285715\n"
     ]
    },
    {
     "name": "stderr",
     "output_type": "stream",
     "text": [
      "Processing query part 0: 2822it [01:26, 31.81it/s]"
     ]
    },
    {
     "name": "stdout",
     "output_type": "stream",
     "text": [
      "3542 4217.087655895692\n",
      "3543 3857.9584041950116\n",
      "3544 4023.5867346938776\n",
      "3545 4344.057327097506\n",
      "3546 4202.1131660997735\n",
      "3547 3866.562003968254\n",
      "3548 4005.0248015873017\n"
     ]
    },
    {
     "name": "stderr",
     "output_type": "stream",
     "text": [
      "\r",
      "Processing query part 0: 2826it [01:26, 32.07it/s]"
     ]
    },
    {
     "name": "stdout",
     "output_type": "stream",
     "text": [
      "3549 4226.677083333333\n",
      "355 4080.4299886621316\n",
      "3550 4021.15660430839\n",
      "3551 4065.891298185941\n",
      "3552 3967.296910430839\n",
      "3553 4426.479166666667\n"
     ]
    },
    {
     "name": "stderr",
     "output_type": "stream",
     "text": [
      "Processing query part 0: 2834it [01:26, 32.26it/s]"
     ]
    },
    {
     "name": "stdout",
     "output_type": "stream",
     "text": [
      "3554 4057.6183390022675\n",
      "3555 4281.707553854875\n",
      "3556 4394.738095238095\n",
      "3558 3899.9618764172337\n",
      "3559 3848.7996031746034\n",
      "356 3903.9883786848072\n",
      "3560 4285.484623015873\n",
      "3561 4383.200751133787\n"
     ]
    },
    {
     "name": "stderr",
     "output_type": "stream",
     "text": [
      "Processing query part 0: 2842it [01:26, 31.92it/s]"
     ]
    },
    {
     "name": "stdout",
     "output_type": "stream",
     "text": [
      "3562 3927.2915958049884\n",
      "3563 4027.7142148526077\n",
      "3564 3891.9478458049884\n",
      "3565 4410.200042517007\n",
      "3566 4173.59835600907\n",
      "3567 4112.568452380952\n",
      "3568 4055.2701247165533\n"
     ]
    },
    {
     "name": "stderr",
     "output_type": "stream",
     "text": [
      "Processing query part 0: 2850it [01:27, 32.97it/s]"
     ]
    },
    {
     "name": "stdout",
     "output_type": "stream",
     "text": [
      "3569 4094.9954648526077\n",
      "357 4102.3527494331065\n",
      "3570 3990.731434240363\n",
      "3571 3880.9908588435374\n",
      "3572 4101.7533304988665\n",
      "3573 4317.420422335601\n",
      "3574 4118.062358276644\n"
     ]
    },
    {
     "name": "stderr",
     "output_type": "stream",
     "text": [
      "\r",
      "Processing query part 0: 2854it [01:27, 32.19it/s]"
     ]
    },
    {
     "name": "stdout",
     "output_type": "stream",
     "text": [
      "3575 4036.1150793650795\n",
      "3576 3971.096726190476\n",
      "3577 4107.804138321995\n",
      "3578 4119.423965419501\n",
      "3579 4179.381944444444\n",
      "358 4085.780612244898\n"
     ]
    },
    {
     "name": "stderr",
     "output_type": "stream",
     "text": [
      "Processing query part 0: 2862it [01:27, 31.60it/s]"
     ]
    },
    {
     "name": "stdout",
     "output_type": "stream",
     "text": [
      "3580 4127.419075963719\n",
      "3581 4334.810303287982\n",
      "3582 4205.592616213152\n",
      "3583 3917.740221088435\n",
      "3584 3944.8553713151928\n",
      "3585 4141.55364229025\n",
      "3586 3939.577168367347\n"
     ]
    },
    {
     "name": "stderr",
     "output_type": "stream",
     "text": [
      "Processing query part 0: 2870it [01:27, 33.40it/s]"
     ]
    },
    {
     "name": "stdout",
     "output_type": "stream",
     "text": [
      "3587 4161.089073129252\n",
      "3588 4094.340277777778\n",
      "3589 4279.480725623583\n",
      "359 4058.042942176871\n",
      "3590 4355.955286281179\n",
      "3591 3897.0573270975055\n",
      "3592 3939.793509070295\n",
      "3593 3966.0894982993195\n"
     ]
    },
    {
     "name": "stderr",
     "output_type": "stream",
     "text": [
      "Processing query part 0: 2878it [01:27, 33.05it/s]"
     ]
    },
    {
     "name": "stdout",
     "output_type": "stream",
     "text": [
      "3594 4151.293296485261\n",
      "3595 3899.625070861678\n",
      "3596 4052.8516865079364\n",
      "3597 4008.0997732426304\n",
      "3598 4209.322987528345\n",
      "3599 4023.7223639455783\n",
      "36 4157.567389455782\n"
     ]
    },
    {
     "name": "stderr",
     "output_type": "stream",
     "text": [
      "\r",
      "Processing query part 0: 2882it [01:28, 32.19it/s]"
     ]
    },
    {
     "name": "stdout",
     "output_type": "stream",
     "text": [
      "360 3998.2876275510203\n",
      "3600 3984.9615221088434\n",
      "3601 4174.134353741497\n",
      "3602 4038.3858418367345\n",
      "3603 4099.961876417234\n",
      "3604 4322.704648526077\n",
      "3605 3976.316326530612\n"
     ]
    },
    {
     "name": "stderr",
     "output_type": "stream",
     "text": [
      "Processing query part 0: 2890it [01:28, 33.33it/s]"
     ]
    },
    {
     "name": "stdout",
     "output_type": "stream",
     "text": [
      "3606 4057.1631235827663\n",
      "3607 4164.566609977324\n",
      "3608 4041.9739937641725\n",
      "3609 4245.958545918367\n",
      "361 4013.1375425170068\n",
      "3610 4023.0734835600906\n",
      "3611 4147.377196712018\n"
     ]
    },
    {
     "name": "stderr",
     "output_type": "stream",
     "text": [
      "Processing query part 0: 2898it [01:28, 32.43it/s]"
     ]
    },
    {
     "name": "stdout",
     "output_type": "stream",
     "text": [
      "3612 3889.1329365079364\n",
      "3613 4098.262046485261\n",
      "3614 3828.5128968253966\n",
      "3615 4007.667517006803\n",
      "3616 4226.352465986394\n",
      "3617 4251.936649659864\n",
      "3618 4109.55576814059\n",
      "3619 3884.6198270975055\n"
     ]
    },
    {
     "name": "stderr",
     "output_type": "stream",
     "text": [
      "Processing query part 0: 2906it [01:28, 32.49it/s]"
     ]
    },
    {
     "name": "stdout",
     "output_type": "stream",
     "text": [
      "362 4071.0845379818593\n",
      "3620 4031.455002834467\n",
      "3621 4219.920068027211\n",
      "3622 4083.5973639455783\n",
      "3623 4329.798044217687\n",
      "3624 4327.040320294785\n",
      "3625 3921.580428004535\n"
     ]
    },
    {
     "name": "stderr",
     "output_type": "stream",
     "text": [
      "Processing query part 0: 2914it [01:29, 32.91it/s]"
     ]
    },
    {
     "name": "stdout",
     "output_type": "stream",
     "text": [
      "3626 4106.867063492064\n",
      "3627 4404.013888888889\n",
      "3628 4172.225977891157\n",
      "3629 3808.3874007936506\n",
      "363 4173.1804138321995\n",
      "3630 3893.705073696145\n",
      "3631 3938.8842120181407\n"
     ]
    },
    {
     "name": "stderr",
     "output_type": "stream",
     "text": [
      "\r",
      "Processing query part 0: 2918it [01:29, 32.49it/s]"
     ]
    },
    {
     "name": "stdout",
     "output_type": "stream",
     "text": [
      "3632 3945.9816468253966\n",
      "3633 4059.9387046485263\n",
      "3634 4116.335459183673\n",
      "3635 4296.90554138322\n",
      "3636 4070.8708191609976\n",
      "3637 4182.487315759638\n",
      "3638 4343.334112811792\n"
     ]
    },
    {
     "name": "stderr",
     "output_type": "stream",
     "text": [
      "Processing query part 0: 2926it [01:29, 32.05it/s]"
     ]
    },
    {
     "name": "stdout",
     "output_type": "stream",
     "text": [
      "3639 4105.74397675737\n",
      "364 4028.9646400226757\n",
      "3640 4206.590136054422\n",
      "3641 4112.749007936508\n",
      "3642 4394.758290816327\n",
      "3643 4128.799248866213\n"
     ]
    },
    {
     "name": "stderr",
     "output_type": "stream",
     "text": [
      "Processing query part 0: 2934it [01:29, 30.74it/s]"
     ]
    },
    {
     "name": "stdout",
     "output_type": "stream",
     "text": [
      "3644 4125.402210884354\n",
      "3645 4254.161635487529\n",
      "3646 4476.820082199546\n",
      "3647 4030.1453373015875\n",
      "3648 3956.2693452380954\n",
      "3649 4186.315547052154\n",
      "365 4160.082553854875\n",
      "3650 3895.4963151927436\n"
     ]
    },
    {
     "name": "stderr",
     "output_type": "stream",
     "text": [
      "Processing query part 0: 2942it [01:29, 32.03it/s]"
     ]
    },
    {
     "name": "stdout",
     "output_type": "stream",
     "text": [
      "3651 4023.2582908163267\n",
      "3652 4042.967970521542\n",
      "3653 4004.0529336734694\n",
      "3654 4008.3234835600906\n",
      "3655 4545.335034013606\n",
      "3656 4203.646258503401\n",
      "3657 4116.796768707483\n"
     ]
    },
    {
     "name": "stderr",
     "output_type": "stream",
     "text": [
      "Processing query part 0: 2950it [01:30, 34.14it/s]"
     ]
    },
    {
     "name": "stdout",
     "output_type": "stream",
     "text": [
      "3658 4154.383219954649\n",
      "3659 4016.1164257369614\n",
      "366 4260.533092403628\n",
      "3660 4020.892502834467\n",
      "3661 4097.968891723356\n",
      "3662 4224.585813492064\n",
      "3663 4090.655753968254\n",
      "3664 4064.9489795918366\n"
     ]
    },
    {
     "name": "stderr",
     "output_type": "stream",
     "text": [
      "\r",
      "Processing query part 0: 2954it [01:30, 34.69it/s]"
     ]
    },
    {
     "name": "stdout",
     "output_type": "stream",
     "text": [
      "3665 4131.568452380952\n",
      "3666 4279.413619614513\n",
      "3667 3905.2521967120183\n",
      "3668 4326.0894982993195\n",
      "3669 4208.441468253968\n",
      "367 4031.6519982993195\n"
     ]
    },
    {
     "name": "stderr",
     "output_type": "stream",
     "text": [
      "Processing query part 0: 2962it [01:30, 32.27it/s]"
     ]
    },
    {
     "name": "stdout",
     "output_type": "stream",
     "text": [
      "3670 4245.5932539682535\n",
      "3671 3938.1966411564626\n",
      "3672 4181.36720521542\n",
      "3673 4236.463931405896\n",
      "3674 4039.5376984126983\n",
      "3675 4142.019132653061\n",
      "3676 4024.8073270975055\n"
     ]
    },
    {
     "name": "stderr",
     "output_type": "stream",
     "text": [
      "Processing query part 0: 2970it [01:30, 32.80it/s]"
     ]
    },
    {
     "name": "stdout",
     "output_type": "stream",
     "text": [
      "3677 4155.571145124716\n",
      "3678 4219.020762471655\n",
      "3679 4061.4630102040815\n",
      "368 4036.9764030612246\n",
      "3680 4314.763959750567\n",
      "3681 4093.609552154195\n",
      "3682 3886.3349631519272\n"
     ]
    },
    {
     "name": "stderr",
     "output_type": "stream",
     "text": [
      "\r",
      "Processing query part 0: 2974it [01:30, 30.96it/s]"
     ]
    },
    {
     "name": "stdout",
     "output_type": "stream",
     "text": [
      "3683 4155.627976190476\n",
      "3684 4025.2732426303855\n",
      "3685 4208.902210884354\n",
      "3686 4127.696853741497\n",
      "3687 3961.5899943310656\n",
      "3688 4008.0826955782313\n",
      "3689 4195.685515873016\n"
     ]
    },
    {
     "name": "stderr",
     "output_type": "stream",
     "text": [
      "Processing query part 0: 2982it [01:31, 31.72it/s]"
     ]
    },
    {
     "name": "stdout",
     "output_type": "stream",
     "text": [
      "369 4206.848568594104\n",
      "3690 4128.0024092970525\n",
      "3691 4168.171556122449\n",
      "3692 3989.9742063492063\n",
      "3693 4252.142148526077\n",
      "3694 4034.657596371882\n",
      "3695 3841.15447845805\n",
      "3696 4304.245110544218\n"
     ]
    },
    {
     "name": "stderr",
     "output_type": "stream",
     "text": [
      "Processing query part 0: 2990it [01:31, 33.80it/s]"
     ]
    },
    {
     "name": "stdout",
     "output_type": "stream",
     "text": [
      "3697 3991.675382653061\n",
      "3698 4139.248724489796\n",
      "3699 4530.049815759638\n",
      "37 3874.144557823129\n",
      "370 4103.979308390023\n",
      "3700 4032.99858276644\n",
      "3701 4056.9284297052154\n"
     ]
    },
    {
     "name": "stderr",
     "output_type": "stream",
     "text": [
      "Processing query part 0: 2998it [01:31, 32.80it/s]"
     ]
    },
    {
     "name": "stdout",
     "output_type": "stream",
     "text": [
      "3702 3974.8870464852607\n",
      "3703 3974.3045634920636\n",
      "3704 4082.1442743764173\n",
      "3705 3916.1287556689344\n",
      "3706 4089.7085459183672\n",
      "3707 4297.510274943311\n",
      "3708 4015.9263747165533\n"
     ]
    },
    {
     "name": "stderr",
     "output_type": "stream",
     "text": [
      "Processing query part 0: 3006it [01:31, 31.55it/s]"
     ]
    },
    {
     "name": "stdout",
     "output_type": "stream",
     "text": [
      "3709 4189.880385487529\n",
      "371 4149.074829931973\n",
      "3710 4157.280045351474\n",
      "3711 4058.139526643991\n",
      "3712 4098.419217687075\n",
      "3713 4623.654407596372\n",
      "3714 4191.072562358277\n"
     ]
    },
    {
     "name": "stderr",
     "output_type": "stream",
     "text": [
      "\r",
      "Processing query part 0: 3010it [01:32, 31.83it/s]"
     ]
    },
    {
     "name": "stdout",
     "output_type": "stream",
     "text": [
      "3715 4092.9630810657595\n",
      "3716 4171.7580782312925\n",
      "3717 4078.109552154195\n",
      "3718 4052.965277777778\n",
      "3719 4111.383928571428\n",
      "372 3892.7947137188207\n",
      "3720 4049.9313350340135\n"
     ]
    },
    {
     "name": "stderr",
     "output_type": "stream",
     "text": [
      "Processing query part 0: 3018it [01:32, 31.65it/s]"
     ]
    },
    {
     "name": "stdout",
     "output_type": "stream",
     "text": [
      "3721 3958.3781179138323\n",
      "3722 4068.393565759637\n",
      "3723 4046.94281462585\n",
      "3724 4104.537060657596\n",
      "3725 4301.570790816327\n",
      "3726 4297.373795351474\n",
      "3727 4085.0526502267576\n"
     ]
    },
    {
     "name": "stderr",
     "output_type": "stream",
     "text": [
      "Processing query part 0: 3026it [01:32, 32.00it/s]"
     ]
    },
    {
     "name": "stdout",
     "output_type": "stream",
     "text": [
      "3728 3928.3245464852607\n",
      "3729 4043.5870181405894\n",
      "373 4133.197137188208\n",
      "3730 3922.2911706349205\n",
      "3731 4135.589640022676\n",
      "3732 3990.482284580499\n"
     ]
    },
    {
     "name": "stderr",
     "output_type": "stream",
     "text": [
      "\r",
      "Processing query part 0: 3030it [01:32, 30.69it/s]"
     ]
    },
    {
     "name": "stdout",
     "output_type": "stream",
     "text": [
      "3733 4232.353032879819\n",
      "3734 4196.230513038548\n",
      "3735 4279.041808390023\n",
      "3736 4083.9774659863947\n",
      "3737 4125.566113945578\n",
      "3738 4292.925382653061\n",
      "3739 4186.328302154195\n"
     ]
    },
    {
     "name": "stderr",
     "output_type": "stream",
     "text": [
      "Processing query part 0: 3038it [01:32, 30.14it/s]"
     ]
    },
    {
     "name": "stdout",
     "output_type": "stream",
     "text": [
      "374 4047.9943310657595\n",
      "3740 4296.222718253968\n",
      "3741 4077.5875850340135\n",
      "3742 3914.0714994331065\n",
      "3743 3924.2375992063494\n",
      "3744 4172.226190476191\n",
      "3745 4154.593820861678\n"
     ]
    },
    {
     "name": "stderr",
     "output_type": "stream",
     "text": [
      "Processing query part 0: 3046it [01:33, 33.00it/s]"
     ]
    },
    {
     "name": "stdout",
     "output_type": "stream",
     "text": [
      "3746 4080.9793083900227\n",
      "3747 3879.374929138322\n",
      "3748 4113.512046485261\n",
      "3749 4053.2616213151928\n",
      "375 4115.360969387755\n",
      "3750 4067.7619756235827\n",
      "3751 4075.5381235827663\n"
     ]
    },
    {
     "name": "stderr",
     "output_type": "stream",
     "text": [
      "Processing query part 0: 3054it [01:33, 33.35it/s]"
     ]
    },
    {
     "name": "stdout",
     "output_type": "stream",
     "text": [
      "3752 3807.2833758503402\n",
      "3753 4275.517644557823\n",
      "3754 4182.585175736962\n",
      "3755 3917.9328939909296\n",
      "3756 4255.385274943311\n",
      "3757 3803.2008928571427\n",
      "3758 4091.6945861678005\n",
      "3759 4307.422335600907\n"
     ]
    },
    {
     "name": "stderr",
     "output_type": "stream",
     "text": [
      "Processing query part 0: 3062it [01:33, 33.28it/s]"
     ]
    },
    {
     "name": "stdout",
     "output_type": "stream",
     "text": [
      "376 3931.464781746032\n",
      "3760 4282.058106575963\n",
      "3761 4142.363024376417\n",
      "3762 4079.9147534013605\n",
      "3763 4080.142219387755\n",
      "3764 4263.895266439909\n",
      "3765 3914.115221088435\n"
     ]
    },
    {
     "name": "stderr",
     "output_type": "stream",
     "text": [
      "\r",
      "Processing query part 0: 3066it [01:33, 31.99it/s]"
     ]
    },
    {
     "name": "stdout",
     "output_type": "stream",
     "text": [
      "3766 4062.3165391156463\n",
      "3767 4421.499149659864\n",
      "3768 3983.861323696145\n",
      "3769 4022.579152494331\n",
      "377 4257.814342403628\n",
      "3770 4036.5376275510203\n",
      "3771 4122.156108276644\n",
      "3772 4486.358276643991\n"
     ]
    },
    {
     "name": "stderr",
     "output_type": "stream",
     "text": [
      "Processing query part 0: 3074it [01:34, 33.47it/s]"
     ]
    },
    {
     "name": "stdout",
     "output_type": "stream",
     "text": [
      "3773 4084.3501275510203\n",
      "3774 4199.817885487529\n",
      "3775 3985.918367346939\n",
      "3776 4016.482355442177\n",
      "3777 4233.707979024944\n",
      "3778 4114.703798185941\n",
      "3779 4240.477820294785\n"
     ]
    },
    {
     "name": "stderr",
     "output_type": "stream",
     "text": [
      "Processing query part 0: 3082it [01:34, 33.80it/s]"
     ]
    },
    {
     "name": "stdout",
     "output_type": "stream",
     "text": [
      "378 4038.7791241496598\n",
      "3780 4120.110189909297\n",
      "3781 4446.902636054422\n",
      "3782 4163.181760204082\n",
      "3783 4144.5771683673465\n",
      "3784 4021.7736678004535\n",
      "3785 3812.5637046485263\n"
     ]
    },
    {
     "name": "stderr",
     "output_type": "stream",
     "text": [
      "Processing query part 0: 3090it [01:34, 32.89it/s]"
     ]
    },
    {
     "name": "stdout",
     "output_type": "stream",
     "text": [
      "3786 4006.9579081632655\n",
      "3787 4508.133928571428\n",
      "3788 3916.1301020408164\n",
      "3789 4152.769770408163\n",
      "379 3922.079152494331\n",
      "3790 4149.304350907029\n",
      "3791 4243.731575963719\n"
     ]
    },
    {
     "name": "stderr",
     "output_type": "stream",
     "text": [
      "Processing query part 0: 3098it [01:34, 31.86it/s]"
     ]
    },
    {
     "name": "stdout",
     "output_type": "stream",
     "text": [
      "3792 4193.488874716553\n",
      "3793 3975.97052154195\n",
      "3794 3922.3176020408164\n",
      "3795 4215.975056689343\n",
      "3796 4021.142998866213\n",
      "3797 4192.724064625851\n",
      "3798 4155.084608843537\n",
      "3799 4726.121527777777\n"
     ]
    },
    {
     "name": "stderr",
     "output_type": "stream",
     "text": [
      "Processing query part 0: 3106it [01:35, 33.25it/s]"
     ]
    },
    {
     "name": "stdout",
     "output_type": "stream",
     "text": [
      "38 3852.2424178004535\n",
      "380 4059.4250283446713\n",
      "3800 3963.669784580499\n",
      "3801 4191.362953514739\n",
      "3802 4069.1735402494332\n",
      "3803 4191.619968820862\n",
      "3804 4211.732851473923\n",
      "3805 4144.065405328798\n"
     ]
    },
    {
     "name": "stderr",
     "output_type": "stream",
     "text": [
      "Processing query part 0: 3114it [01:35, 33.11it/s]"
     ]
    },
    {
     "name": "stdout",
     "output_type": "stream",
     "text": [
      "3806 4401.34410430839\n",
      "3807 4181.271187641723\n",
      "3808 4045.739299886621\n",
      "3809 4138.146825396825\n",
      "381 4155.22193877551\n",
      "3810 4189.3849206349205\n",
      "3811 4010.182114512472\n",
      "3812 4151.050311791383\n"
     ]
    },
    {
     "name": "stderr",
     "output_type": "stream",
     "text": [
      "Processing query part 0: 3122it [01:35, 32.85it/s]"
     ]
    },
    {
     "name": "stdout",
     "output_type": "stream",
     "text": [
      "3813 4004.8571428571427\n",
      "3814 3988.8669217687075\n",
      "3815 4151.891935941043\n",
      "3816 4060.3382936507937\n",
      "3817 4084.513109410431\n",
      "3818 4146.356717687075\n",
      "3819 4226.786352040816\n",
      "382 4005.926162131519\n"
     ]
    },
    {
     "name": "stderr",
     "output_type": "stream",
     "text": [
      "Processing query part 0: 3130it [01:35, 33.50it/s]"
     ]
    },
    {
     "name": "stdout",
     "output_type": "stream",
     "text": [
      "3820 4225.846017573696\n",
      "3821 3939.166028911565\n",
      "3822 3917.8689767573696\n",
      "3823 4250.784155328798\n",
      "3824 3993.391935941043\n",
      "3825 4234.585530045351\n",
      "3826 4117.543721655329\n"
     ]
    },
    {
     "name": "stderr",
     "output_type": "stream",
     "text": [
      "\r",
      "Processing query part 0: 3134it [01:35, 33.85it/s]"
     ]
    },
    {
     "name": "stdout",
     "output_type": "stream",
     "text": [
      "3827 3995.4827097505668\n",
      "3828 4145.457199546485\n",
      "3829 4183.21556122449\n",
      "383 4047.453939909297\n",
      "3830 4217.547264739229\n",
      "3831 4082.5788690476193\n",
      "3832 4325.1765873015875\n"
     ]
    },
    {
     "name": "stderr",
     "output_type": "stream",
     "text": [
      "Processing query part 0: 3142it [01:36, 34.25it/s]"
     ]
    },
    {
     "name": "stdout",
     "output_type": "stream",
     "text": [
      "3834 3977.642715419501\n",
      "3835 4051.59481292517\n",
      "3836 4115.680484693878\n",
      "3837 4263.309523809524\n",
      "3838 4094.3205782312925\n",
      "3839 4102.946074263038\n",
      "384 4244.763888888889\n",
      "3840 4059.935515873016\n"
     ]
    },
    {
     "name": "stderr",
     "output_type": "stream",
     "text": [
      "Processing query part 0: 3150it [01:36, 34.23it/s]"
     ]
    },
    {
     "name": "stdout",
     "output_type": "stream",
     "text": [
      "3841 4058.192389455782\n",
      "3842 4069.129393424036\n",
      "3843 3895.4132653061224\n",
      "3844 4109.711167800454\n",
      "3845 4148.594529478458\n",
      "3846 4405.290532879819\n",
      "3847 4336.095592403628\n",
      "3848 4004.838860544218\n"
     ]
    },
    {
     "name": "stderr",
     "output_type": "stream",
     "text": [
      "Processing query part 0: 3158it [01:36, 33.89it/s]"
     ]
    },
    {
     "name": "stdout",
     "output_type": "stream",
     "text": [
      "3849 4286.39455782313\n",
      "385 4023.3815192743764\n",
      "3850 3979.137188208617\n",
      "3851 3979.3827947845807\n",
      "3852 4059.1033871882087\n",
      "3853 3891.9148242630386\n",
      "3854 3988.2916666666665\n"
     ]
    },
    {
     "name": "stderr",
     "output_type": "stream",
     "text": [
      "Processing query part 0: 3166it [01:36, 32.31it/s]"
     ]
    },
    {
     "name": "stdout",
     "output_type": "stream",
     "text": [
      "3855 3969.0049603174602\n",
      "3856 4467.1150793650795\n",
      "3857 3945.8533163265306\n",
      "3858 4100.512117346939\n",
      "3859 4307.023100907029\n",
      "386 4192.5383361678005\n",
      "3860 3907.2131519274376\n"
     ]
    },
    {
     "name": "stderr",
     "output_type": "stream",
     "text": [
      "Processing query part 0: 3174it [01:37, 33.36it/s]"
     ]
    },
    {
     "name": "stdout",
     "output_type": "stream",
     "text": [
      "3861 4217.66794217687\n",
      "3862 3956.549674036281\n",
      "3863 4148.381094104308\n",
      "3864 4224.49929138322\n",
      "3865 3951.935657596372\n",
      "3866 3925.457553854875\n",
      "3867 4102.693735827665\n",
      "3868 4148.977891156463\n"
     ]
    },
    {
     "name": "stderr",
     "output_type": "stream",
     "text": [
      "Processing query part 0: 3182it [01:37, 32.67it/s]"
     ]
    },
    {
     "name": "stdout",
     "output_type": "stream",
     "text": [
      "3869 4083.9407596371884\n",
      "387 4071.5535005668935\n",
      "3870 4017.1319444444443\n",
      "3871 4055.6077097505668\n",
      "3872 3987.62535430839\n",
      "3873 4051.1338577097504\n",
      "3874 4217.869118480726\n"
     ]
    },
    {
     "name": "stderr",
     "output_type": "stream",
     "text": [
      "\r",
      "Processing query part 0: 3186it [01:37, 33.13it/s]"
     ]
    },
    {
     "name": "stdout",
     "output_type": "stream",
     "text": [
      "3875 4021.3239087301586\n",
      "3876 3901.2199546485263\n",
      "3877 3999.2414965986395\n",
      "3878 4011.6786422902496\n",
      "3879 4193.057397959184\n",
      "388 4141.162840136054\n",
      "3880 4636.676516439909\n"
     ]
    },
    {
     "name": "stderr",
     "output_type": "stream",
     "text": [
      "Processing query part 0: 3194it [01:37, 33.54it/s]"
     ]
    },
    {
     "name": "stdout",
     "output_type": "stream",
     "text": [
      "3881 3998.5499574829932\n",
      "3882 3903.4866071428573\n",
      "3883 4133.834467120181\n",
      "3884 4517.2324263038545\n",
      "3885 4056.2728883219957\n",
      "3886 3920.65625\n",
      "3887 4089.097151360544\n",
      "3888 3960.281675170068\n"
     ]
    },
    {
     "name": "stderr",
     "output_type": "stream",
     "text": [
      "Processing query part 0: 3202it [01:37, 33.63it/s]"
     ]
    },
    {
     "name": "stdout",
     "output_type": "stream",
     "text": [
      "3889 4119.889314058957\n",
      "389 3902.4582624716554\n",
      "3890 4389.312712585034\n",
      "3891 4357.594954648526\n",
      "3892 4132.938775510204\n",
      "3893 4319.4228316326535\n",
      "3894 3906.6965702947846\n",
      "3895 4021.7101757369614\n"
     ]
    },
    {
     "name": "stderr",
     "output_type": "stream",
     "text": [
      "Processing query part 0: 3210it [01:38, 32.72it/s]"
     ]
    },
    {
     "name": "stdout",
     "output_type": "stream",
     "text": [
      "3896 4144.354450113378\n",
      "3897 4213.940121882086\n",
      "3898 4013.8815192743764\n",
      "3899 4273.357993197279\n",
      "39 4180.552721088436\n",
      "390 4151.810870181406\n",
      "3900 4402.3669217687075\n"
     ]
    },
    {
     "name": "stderr",
     "output_type": "stream",
     "text": [
      "Processing query part 0: 3218it [01:38, 34.46it/s]"
     ]
    },
    {
     "name": "stdout",
     "output_type": "stream",
     "text": [
      "3901 4179.504747732426\n",
      "3902 4016.7412131519272\n",
      "3903 3995.809594671202\n",
      "3904 3970.844529478458\n",
      "3905 4294.430697278912\n",
      "3907 3810.2895408163267\n",
      "3908 3806.517431972789\n"
     ]
    },
    {
     "name": "stderr",
     "output_type": "stream",
     "text": [
      "Processing query part 0: 3226it [01:38, 33.36it/s]"
     ]
    },
    {
     "name": "stdout",
     "output_type": "stream",
     "text": [
      "3909 3839.7242772108843\n",
      "391 4070.4593962585036\n",
      "3910 4056.676729024943\n",
      "3911 3944.6489512471653\n",
      "3912 4110.696145124716\n",
      "3913 4147.265447845805\n",
      "3914 4078.7278911564626\n"
     ]
    },
    {
     "name": "stderr",
     "output_type": "stream",
     "text": [
      "\r",
      "Processing query part 0: 3230it [01:38, 34.01it/s]"
     ]
    },
    {
     "name": "stdout",
     "output_type": "stream",
     "text": [
      "3915 4221.266865079365\n",
      "3916 4224.938421201814\n",
      "3917 4117.3129960317465\n",
      "3918 3914.671060090703\n",
      "3919 4039.080073696145\n",
      "392 3891.9126984126983\n"
     ]
    },
    {
     "name": "stderr",
     "output_type": "stream",
     "text": [
      "Processing query part 0: 3238it [01:38, 33.04it/s]"
     ]
    },
    {
     "name": "stdout",
     "output_type": "stream",
     "text": [
      "3920 4032.09552154195\n",
      "3921 3925.892219387755\n",
      "3922 4199.924957482993\n",
      "3923 4055.922052154195\n",
      "3924 4042.794784580499\n",
      "3925 4360.451459750567\n",
      "3926 3970.0862386621316\n",
      "3927 3888.7805413832198\n"
     ]
    },
    {
     "name": "stderr",
     "output_type": "stream",
     "text": [
      "Processing query part 0: 3246it [01:39, 33.80it/s]"
     ]
    },
    {
     "name": "stdout",
     "output_type": "stream",
     "text": [
      "3928 3952.643920068027\n",
      "3929 3961.2155612244896\n",
      "393 3983.861748866213\n",
      "3930 4152.8574263038545\n",
      "3931 4038.1476048752834\n",
      "3932 3942.2118764172337\n",
      "3933 4070.578231292517\n",
      "3934 4118.954010770975\n"
     ]
    },
    {
     "name": "stderr",
     "output_type": "stream",
     "text": [
      "Processing query part 0: 3254it [01:39, 34.09it/s]"
     ]
    },
    {
     "name": "stdout",
     "output_type": "stream",
     "text": [
      "3935 4442.5544926303855\n",
      "3936 4205.225410997732\n",
      "3937 4268.028628117914\n",
      "3938 4286.231009070295\n",
      "3939 4172.859764739229\n",
      "394 4057.4821428571427\n",
      "3940 4281.520975056689\n"
     ]
    },
    {
     "name": "stderr",
     "output_type": "stream",
     "text": [
      "Processing query part 0: 3262it [01:39, 34.39it/s]"
     ]
    },
    {
     "name": "stdout",
     "output_type": "stream",
     "text": [
      "3941 3907.6755243764173\n",
      "3942 4097.604166666667\n",
      "3943 3900.2604875283446\n",
      "3944 4235.078514739229\n",
      "3945 4129.944302721088\n",
      "3946 4123.700680272109\n",
      "3947 4103.269628684808\n",
      "3948 4272.652210884354\n"
     ]
    },
    {
     "name": "stderr",
     "output_type": "stream",
     "text": [
      "Processing query part 0: 3270it [01:39, 32.68it/s]"
     ]
    },
    {
     "name": "stdout",
     "output_type": "stream",
     "text": [
      "3949 4040.59481292517\n",
      "395 4056.419926303855\n",
      "3950 4227.41014739229\n",
      "3951 4236.8785430839\n",
      "3952 3929.844529478458\n",
      "3953 3907.640731292517\n",
      "3954 4109.0980017006805\n"
     ]
    },
    {
     "name": "stderr",
     "output_type": "stream",
     "text": [
      "\r",
      "Processing query part 0: 3274it [01:40, 31.87it/s]"
     ]
    },
    {
     "name": "stdout",
     "output_type": "stream",
     "text": [
      "3955 4505.157525510204\n",
      "3956 4040.265589569161\n",
      "3957 4127.097505668934\n",
      "3958 3985.40235260771\n",
      "3959 4036.234481292517\n",
      "396 4117.066255668934\n"
     ]
    },
    {
     "name": "stderr",
     "output_type": "stream",
     "text": [
      "Processing query part 0: 3282it [01:40, 30.45it/s]"
     ]
    },
    {
     "name": "stdout",
     "output_type": "stream",
     "text": [
      "3960 4652.826105442177\n",
      "3961 4112.027069160998\n",
      "3962 4180.808106575963\n",
      "3963 4137.87287414966\n",
      "3964 4131.456561791383\n",
      "3965 4722.666808390023\n",
      "3966 3994.81356292517\n"
     ]
    },
    {
     "name": "stderr",
     "output_type": "stream",
     "text": [
      "Processing query part 0: 3290it [01:40, 32.00it/s]"
     ]
    },
    {
     "name": "stdout",
     "output_type": "stream",
     "text": [
      "3967 3873.1789965986395\n",
      "3968 4083.3489937641725\n",
      "3969 4052.3425453514737\n",
      "397 4109.001275510204\n",
      "3970 3980.8191609977325\n",
      "3971 4125.037556689343\n",
      "3972 3862.4579081632655\n"
     ]
    },
    {
     "name": "stderr",
     "output_type": "stream",
     "text": [
      "\r",
      "Processing query part 0: 3294it [01:40, 33.12it/s]"
     ]
    },
    {
     "name": "stdout",
     "output_type": "stream",
     "text": [
      "3973 4084.6670918367345\n",
      "3974 3837.451530612245\n",
      "3975 4049.2923752834467\n",
      "3976 4211.33489229025\n",
      "3977 4016.081490929705\n",
      "3978 4086.6479591836733\n",
      "3979 3974.5073696145123\n"
     ]
    },
    {
     "name": "stderr",
     "output_type": "stream",
     "text": [
      "Processing query part 0: 3303it [01:40, 34.58it/s]"
     ]
    },
    {
     "name": "stdout",
     "output_type": "stream",
     "text": [
      "398 3901.609693877551\n",
      "3980 4093.298185941043\n",
      "3981 4264.793225623583\n",
      "3982 4145.43572845805\n",
      "3983 4228.441680839002\n",
      "3984 4074.079081632653\n",
      "3985 3941.0305413832198\n"
     ]
    },
    {
     "name": "stderr",
     "output_type": "stream",
     "text": [
      "Processing query part 0: 3311it [01:41, 33.84it/s]"
     ]
    },
    {
     "name": "stdout",
     "output_type": "stream",
     "text": [
      "3986 4115.623299319728\n",
      "3987 4099.217757936508\n",
      "3988 4135.491213151928\n",
      "3989 3833.0552721088434\n",
      "399 4253.285997732426\n",
      "3990 3940.8854875283446\n",
      "3991 3770.956490929705\n"
     ]
    },
    {
     "name": "stderr",
     "output_type": "stream",
     "text": [
      "\r",
      "Processing query part 0: 3315it [01:41, 34.25it/s]"
     ]
    },
    {
     "name": "stdout",
     "output_type": "stream",
     "text": [
      "3992 4295.001275510204\n",
      "3993 4259.077806122449\n",
      "3994 4008.02876984127\n",
      "3995 4115.456065759638\n",
      "3996 4315.003117913832\n",
      "3997 4287.414682539683\n",
      "3998 4087.6678713151928\n"
     ]
    },
    {
     "name": "stderr",
     "output_type": "stream",
     "text": [
      "Processing query part 0: 3323it [01:41, 34.33it/s]"
     ]
    },
    {
     "name": "stdout",
     "output_type": "stream",
     "text": [
      "3999 4069.479520975057\n",
      "4 4328.045564058957\n",
      "40 4171.206986961452\n",
      "400 4094.7106009070294\n",
      "4000 3924.0853883219957\n",
      "4001 3874.047902494331\n",
      "4002 3975.5172902494332\n",
      "4003 4057.5680980725624\n"
     ]
    },
    {
     "name": "stderr",
     "output_type": "stream",
     "text": [
      "Processing query part 0: 3331it [01:41, 33.80it/s]"
     ]
    },
    {
     "name": "stdout",
     "output_type": "stream",
     "text": [
      "4004 4129.615858843537\n",
      "4005 4331.974631519274\n",
      "4006 4008.9299178004535\n",
      "4007 4275.274234693878\n",
      "4008 3905.260274943311\n",
      "4009 4004.0813492063494\n",
      "401 3905.360827664399\n",
      "4010 4294.656391723356\n"
     ]
    },
    {
     "name": "stderr",
     "output_type": "stream",
     "text": [
      "Processing query part 0: 3339it [01:41, 34.65it/s]"
     ]
    },
    {
     "name": "stdout",
     "output_type": "stream",
     "text": [
      "4011 4037.7295918367345\n",
      "4012 4183.112670068027\n",
      "4013 4034.6177721088434\n",
      "4014 4052.6631944444443\n",
      "4015 4325.85048185941\n",
      "4016 3841.174815759637\n",
      "4017 3872.0093537414964\n",
      "4018 4300.399659863946\n"
     ]
    },
    {
     "name": "stderr",
     "output_type": "stream",
     "text": [
      "Processing query part 0: 3347it [01:42, 33.72it/s]"
     ]
    },
    {
     "name": "stdout",
     "output_type": "stream",
     "text": [
      "4019 4102.671130952381\n",
      "402 3938.764314058957\n",
      "4020 4244.215702947846\n",
      "4021 4130.2069160997735\n",
      "4022 4214.0743339002265\n",
      "4023 4090.1134495464853\n",
      "4024 4096.14951814059\n",
      "4025 4042.3350340136053\n",
      "4026 4265.630598072562\n"
     ]
    },
    {
     "name": "stderr",
     "output_type": "stream",
     "text": [
      "Processing query part 0: 3359it [01:42, 34.54it/s]"
     ]
    },
    {
     "name": "stdout",
     "output_type": "stream",
     "text": [
      "4027 4039.421697845805\n",
      "4028 4030.7266865079364\n",
      "4029 3963.3171060090704\n",
      "403 4060.499220521542\n",
      "4030 4144.955002834467\n",
      "4031 3912.6983418367345\n",
      "4032 4118.552862811792\n",
      "4033 3927.8669217687075\n"
     ]
    },
    {
     "name": "stderr",
     "output_type": "stream",
     "text": [
      "\r",
      "Processing query part 0: 3363it [01:42, 34.58it/s]"
     ]
    },
    {
     "name": "stdout",
     "output_type": "stream",
     "text": [
      "4034 4072.5899943310656\n",
      "4035 4163.18076814059\n",
      "4036 3972.862315759637\n",
      "4037 3998.297052154195\n",
      "4038 4331.747378117914\n",
      "4039 3942.049178004535\n",
      "404 4136.319090136054\n",
      "4040 3889.157808956916\n"
     ]
    },
    {
     "name": "stderr",
     "output_type": "stream",
     "text": [
      "Processing query part 0: 3371it [01:42, 32.85it/s]"
     ]
    },
    {
     "name": "stdout",
     "output_type": "stream",
     "text": [
      "4041 4282.943381519274\n",
      "4042 3868.669571995465\n",
      "4043 4309.577026643991\n",
      "4044 3927.987740929705\n",
      "4045 4260.314129818594\n",
      "4046 3968.1825396825398\n",
      "4047 3953.4441609977325\n"
     ]
    },
    {
     "name": "stderr",
     "output_type": "stream",
     "text": [
      "Processing query part 0: 3379it [01:43, 32.91it/s]"
     ]
    },
    {
     "name": "stdout",
     "output_type": "stream",
     "text": [
      "4048 3921.0055980725624\n",
      "4049 4041.6374716553287\n",
      "405 4013.9577664399094\n",
      "4050 4057.949617346939\n",
      "4051 4216.512400793651\n",
      "4052 4138.782879818594\n",
      "4053 4123.559452947846\n"
     ]
    },
    {
     "name": "stderr",
     "output_type": "stream",
     "text": [
      "Processing query part 0: 3387it [01:43, 33.35it/s]"
     ]
    },
    {
     "name": "stdout",
     "output_type": "stream",
     "text": [
      "4054 4104.660714285715\n",
      "4055 3809.0068735827663\n",
      "4056 3923.7123015873017\n",
      "4057 4319.37464569161\n",
      "4058 4089.015235260771\n",
      "4059 4100.977465986394\n",
      "406 3898.2437641723354\n",
      "4060 4087.5831916099773\n"
     ]
    },
    {
     "name": "stderr",
     "output_type": "stream",
     "text": [
      "Processing query part 0: 3395it [01:43, 33.17it/s]"
     ]
    },
    {
     "name": "stdout",
     "output_type": "stream",
     "text": [
      "4061 4193.792658730159\n",
      "4062 4117.2296626984125\n",
      "4063 3886.5573270975055\n",
      "4064 4584.412627551021\n",
      "4065 3991.795776643991\n",
      "4066 4318.143211451247\n",
      "4067 4176.225977891157\n"
     ]
    },
    {
     "name": "stderr",
     "output_type": "stream",
     "text": [
      "Processing query part 0: 3403it [01:43, 34.95it/s]"
     ]
    },
    {
     "name": "stdout",
     "output_type": "stream",
     "text": [
      "4068 4250.597930839002\n",
      "4069 4100.450042517007\n",
      "407 4170.701743197279\n",
      "4070 4097.559027777777\n",
      "4071 3999.917587868481\n",
      "4072 3930.8185232426304\n",
      "4073 4052.233772675737\n",
      "4074 4312.221655328798\n"
     ]
    },
    {
     "name": "stderr",
     "output_type": "stream",
     "text": [
      "Processing query part 0: 3411it [01:44, 33.37it/s]"
     ]
    },
    {
     "name": "stdout",
     "output_type": "stream",
     "text": [
      "4075 3979.5739087301586\n",
      "4076 4140.551091269841\n",
      "4077 3982.093962585034\n",
      "4078 4035.231788548753\n",
      "4079 4105.878826530612\n",
      "408 4248.966128117914\n",
      "4080 4148.492559523809\n"
     ]
    },
    {
     "name": "stderr",
     "output_type": "stream",
     "text": [
      "\r",
      "Processing query part 0: 3415it [01:44, 33.61it/s]"
     ]
    },
    {
     "name": "stdout",
     "output_type": "stream",
     "text": [
      "4081 3877.934594671202\n",
      "4082 3872.1930980725624\n",
      "4083 4230.761904761905\n",
      "4084 3869.2864229024945\n",
      "4085 4011.7714002267576\n",
      "4086 4280.756802721088\n",
      "4087 3892.5204081632655\n"
     ]
    },
    {
     "name": "stderr",
     "output_type": "stream",
     "text": [
      "Processing query part 0: 3423it [01:44, 33.91it/s]"
     ]
    },
    {
     "name": "stdout",
     "output_type": "stream",
     "text": [
      "4088 4201.71945861678\n",
      "4089 4294.553075396825\n",
      "409 4082.730867346939\n",
      "4090 4219.742276077098\n",
      "4091 4320.690121882086\n",
      "4092 4073.5548469387754\n",
      "4093 4145.009778911564\n"
     ]
    },
    {
     "name": "stderr",
     "output_type": "stream",
     "text": [
      "Processing query part 0: 3431it [01:44, 32.25it/s]"
     ]
    },
    {
     "name": "stdout",
     "output_type": "stream",
     "text": [
      "4094 4214.4389172335605\n",
      "4095 4489.387967687075\n",
      "4096 4229.40837585034\n",
      "4097 4485.238024376417\n",
      "4098 4087.8562216553287\n",
      "4099 3815.37889739229\n",
      "41 3992.015518707483\n"
     ]
    },
    {
     "name": "stderr",
     "output_type": "stream",
     "text": [
      "Processing query part 0: 3439it [01:44, 33.00it/s]"
     ]
    },
    {
     "name": "stdout",
     "output_type": "stream",
     "text": [
      "410 4262.8820861678005\n",
      "4100 4079.2082624716554\n",
      "4101 3929.590348639456\n",
      "4102 4095.765306122449\n",
      "4103 3948.8089569160998\n",
      "4104 3998.717616213152\n",
      "4105 4245.888251133787\n",
      "4106 4266.416099773242\n"
     ]
    },
    {
     "name": "stderr",
     "output_type": "stream",
     "text": [
      "Processing query part 0: 3447it [01:45, 33.86it/s]"
     ]
    },
    {
     "name": "stdout",
     "output_type": "stream",
     "text": [
      "4107 4089.0528628117913\n",
      "4108 4143.032029478458\n",
      "4109 3926.6152919501133\n",
      "411 4082.9900793650795\n",
      "4110 4208.082695578231\n",
      "4111 3997.5690901360545\n",
      "4112 4090.668083900227\n"
     ]
    },
    {
     "name": "stderr",
     "output_type": "stream",
     "text": [
      "\r",
      "Processing query part 0: 3451it [01:45, 32.69it/s]"
     ]
    },
    {
     "name": "stdout",
     "output_type": "stream",
     "text": [
      "4113 4199.422264739229\n",
      "4114 4243.298327664399\n",
      "4115 4011.332482993197\n",
      "4116 4049.206632653061\n",
      "4117 4237.651856575963\n",
      "4118 4120.146258503401\n"
     ]
    },
    {
     "name": "stderr",
     "output_type": "stream",
     "text": [
      "Processing query part 0: 3459it [01:45, 32.53it/s]"
     ]
    },
    {
     "name": "stdout",
     "output_type": "stream",
     "text": [
      "4119 4232.531887755102\n",
      "412 4058.245535714286\n",
      "4120 4016.8819444444443\n",
      "4121 4159.728387188208\n",
      "4122 4183.797123015873\n",
      "4123 4173.65518707483\n",
      "4124 4147.9863236961455\n"
     ]
    },
    {
     "name": "stderr",
     "output_type": "stream",
     "text": [
      "Processing query part 0: 3467it [01:45, 32.29it/s]"
     ]
    },
    {
     "name": "stdout",
     "output_type": "stream",
     "text": [
      "4125 4521.789824263038\n",
      "4126 4204.643353174603\n",
      "4127 4217.722576530612\n",
      "4128 4371.642644557823\n",
      "4129 3894.2852891156463\n",
      "413 4159.043225623583\n",
      "4130 4104.424461451247\n"
     ]
    },
    {
     "name": "stderr",
     "output_type": "stream",
     "text": [
      "\r",
      "Processing query part 0: 3471it [01:45, 31.70it/s]"
     ]
    },
    {
     "name": "stdout",
     "output_type": "stream",
     "text": [
      "4131 4002.967120181406\n",
      "4132 4105.427791950114\n",
      "4133 4275.6043792517\n",
      "4134 4159.9579081632655\n",
      "4135 4030.1502976190477\n",
      "4136 4040.704719387755\n",
      "4137 4170.346230158731\n"
     ]
    },
    {
     "name": "stderr",
     "output_type": "stream",
     "text": [
      "Processing query part 0: 3479it [01:46, 33.05it/s]"
     ]
    },
    {
     "name": "stdout",
     "output_type": "stream",
     "text": [
      "4138 3985.2222930839002\n",
      "4139 4094.1646825396824\n",
      "414 4305.915462018141\n",
      "4140 3875.582412131519\n",
      "4141 4186.674036281179\n",
      "4142 4155.5488236961455\n",
      "4143 4154.33914399093\n"
     ]
    },
    {
     "name": "stderr",
     "output_type": "stream",
     "text": [
      "Processing query part 0: 3487it [01:46, 32.91it/s]"
     ]
    },
    {
     "name": "stdout",
     "output_type": "stream",
     "text": [
      "4144 4116.866284013606\n",
      "4145 4102.1330782312925\n",
      "4146 4234.640235260771\n",
      "4147 3968.7526218820863\n",
      "4148 4376.037131519274\n",
      "4149 4253.61330782313\n",
      "415 4028.624503968254\n",
      "4150 4377.884424603175\n"
     ]
    },
    {
     "name": "stderr",
     "output_type": "stream",
     "text": [
      "Processing query part 0: 3495it [01:46, 32.34it/s]"
     ]
    },
    {
     "name": "stdout",
     "output_type": "stream",
     "text": [
      "4151 4409.524589002268\n",
      "4152 3922.9934098639455\n",
      "4153 3935.138747165533\n",
      "4154 4100.6680839002265\n",
      "4155 4068.6153628117913\n",
      "4156 4096.621598639455\n",
      "4157 4146.120110544218\n"
     ]
    },
    {
     "name": "stderr",
     "output_type": "stream",
     "text": [
      "Processing query part 0: 3503it [01:46, 33.48it/s]"
     ]
    },
    {
     "name": "stdout",
     "output_type": "stream",
     "text": [
      "4158 4097.88385770975\n",
      "4159 4311.456703514739\n",
      "416 4103.033730158731\n",
      "4160 4164.5554138321995\n",
      "4161 3987.418934240363\n",
      "4162 4271.921981292517\n",
      "4163 3977.968112244898\n"
     ]
    },
    {
     "name": "stderr",
     "output_type": "stream",
     "text": [
      "\r",
      "Processing query part 0: 3507it [01:47, 31.50it/s]"
     ]
    },
    {
     "name": "stdout",
     "output_type": "stream",
     "text": [
      "4164 4086.2550311791383\n",
      "4165 4185.368905895692\n",
      "4166 3987.245606575964\n",
      "4167 4028.1471797052154\n",
      "4168 3942.529761904762\n",
      "4169 3986.595238095238\n"
     ]
    },
    {
     "name": "stderr",
     "output_type": "stream",
     "text": [
      "Processing query part 0: 3515it [01:47, 31.49it/s]"
     ]
    },
    {
     "name": "stdout",
     "output_type": "stream",
     "text": [
      "417 4115.980654761905\n",
      "4170 4157.348143424037\n",
      "4171 4216.350269274377\n",
      "4172 3982.0063775510203\n",
      "4173 4028.0853883219957\n",
      "4174 4132.486252834467\n",
      "4175 4176.990787981859\n"
     ]
    },
    {
     "name": "stderr",
     "output_type": "stream",
     "text": [
      "Processing query part 0: 3523it [01:47, 34.10it/s]"
     ]
    },
    {
     "name": "stdout",
     "output_type": "stream",
     "text": [
      "4176 4050.675240929705\n",
      "4177 4024.751346371882\n",
      "4178 4137.196570294785\n",
      "4179 4565.725623582766\n",
      "418 4092.5705073696145\n",
      "4180 3975.406108276644\n",
      "4181 4121.59056122449\n",
      "4182 4152.1850907029475\n"
     ]
    },
    {
     "name": "stderr",
     "output_type": "stream",
     "text": [
      "Processing query part 0: 3531it [01:47, 32.87it/s]"
     ]
    },
    {
     "name": "stdout",
     "output_type": "stream",
     "text": [
      "4183 4128.607213718821\n",
      "4184 4106.621173469388\n",
      "4185 4074.0222505668935\n",
      "4186 3994.0987811791383\n",
      "4187 4181.427225056689\n",
      "4188 3980.203585600907\n",
      "4189 3988.6973497732424\n",
      "419 4156.1870039682535\n"
     ]
    },
    {
     "name": "stderr",
     "output_type": "stream",
     "text": [
      "Processing query part 0: 3539it [01:48, 33.73it/s]"
     ]
    },
    {
     "name": "stdout",
     "output_type": "stream",
     "text": [
      "4190 4080.520479024943\n",
      "4191 3898.46697845805\n",
      "4192 4229.726899092971\n",
      "4193 4202.0327380952385\n",
      "4194 4077.6952239229026\n",
      "4195 4170.5828373015875\n",
      "4196 3866.2145691609976\n",
      "4197 3866.0860260770974\n"
     ]
    },
    {
     "name": "stderr",
     "output_type": "stream",
     "text": [
      "Processing query part 0: 3547it [01:48, 32.53it/s]"
     ]
    },
    {
     "name": "stdout",
     "output_type": "stream",
     "text": [
      "4198 4065.421485260771\n",
      "4199 4141.481859410431\n",
      "42 4144.542800453515\n",
      "420 3931.4567743764173\n",
      "4200 3987.0369897959185\n",
      "4201 4232.861536281179\n",
      "4202 4090.668579931973\n"
     ]
    },
    {
     "name": "stderr",
     "output_type": "stream",
     "text": [
      "\r",
      "Processing query part 0: 3551it [01:48, 31.71it/s]"
     ]
    },
    {
     "name": "stdout",
     "output_type": "stream",
     "text": [
      "4203 4135.364512471655\n",
      "4204 4048.9783871882087\n",
      "4205 3978.8825113378684\n",
      "4206 4068.611465419501\n",
      "4207 4243.193239795918\n",
      "4208 4037.548185941043\n",
      "4209 3980.577735260771\n"
     ]
    },
    {
     "name": "stderr",
     "output_type": "stream",
     "text": [
      "Processing query part 0: 3559it [01:48, 31.50it/s]"
     ]
    },
    {
     "name": "stdout",
     "output_type": "stream",
     "text": [
      "421 4703.300240929705\n",
      "4210 4205.504818594104\n",
      "4211 4145.864299886622\n",
      "4212 4127.680130385487\n",
      "4213 4442.627621882086\n",
      "4214 3919.1300311791383\n"
     ]
    },
    {
     "name": "stderr",
     "output_type": "stream",
     "text": [
      "Processing query part 0: 3567it [01:48, 32.82it/s]"
     ]
    },
    {
     "name": "stdout",
     "output_type": "stream",
     "text": [
      "4215 4078.474560657596\n",
      "4216 3818.104946145125\n",
      "4217 4321.132440476191\n",
      "4218 4465.181972789115\n",
      "4219 3994.983701814059\n",
      "422 4087.28231292517\n",
      "4220 3863.8957624716554\n"
     ]
    },
    {
     "name": "stderr",
     "output_type": "stream",
     "text": [
      "\r",
      "Processing query part 0: 3572it [01:49, 32.95it/s]"
     ]
    },
    {
     "name": "stdout",
     "output_type": "stream",
     "text": [
      "4221 4028.1682256235827\n",
      "4222 4202.0544926303855\n",
      "4223 3963.8878968253966\n",
      "4224 4092.0084325396824\n",
      "4225 4151.124929138322\n",
      "4226 3879.724135487528\n",
      "4227 3730.074617346939\n"
     ]
    },
    {
     "name": "stderr",
     "output_type": "stream",
     "text": [
      "Processing query part 0: 3580it [01:49, 32.06it/s]"
     ]
    },
    {
     "name": "stdout",
     "output_type": "stream",
     "text": [
      "4228 4081.3337585034014\n",
      "4229 4228.019274376417\n",
      "423 4287.708333333333\n",
      "4230 4064.949829931973\n",
      "4231 4199.285643424037\n",
      "4232 3928.389810090703\n",
      "4233 4308.664611678005\n"
     ]
    },
    {
     "name": "stderr",
     "output_type": "stream",
     "text": [
      "Processing query part 0: 3588it [01:49, 31.99it/s]"
     ]
    },
    {
     "name": "stdout",
     "output_type": "stream",
     "text": [
      "4234 3948.247590702948\n",
      "4235 4176.53727324263\n",
      "4236 3900.029336734694\n",
      "4237 4266.465702947846\n",
      "4238 4084.8073979591836\n",
      "4239 3977.019982993197\n",
      "424 4023.9000850340135\n"
     ]
    },
    {
     "name": "stderr",
     "output_type": "stream",
     "text": [
      "\r",
      "Processing query part 0: 3592it [01:49, 30.71it/s]"
     ]
    },
    {
     "name": "stdout",
     "output_type": "stream",
     "text": [
      "4240 4187.599985827665\n",
      "4241 4084.7341269841268\n",
      "4242 4019.902281746032\n",
      "4243 4159.159155328798\n",
      "4244 4254.361394557823\n",
      "4245 4163.499220521542\n",
      "4246 4063.954223356009\n"
     ]
    },
    {
     "name": "stderr",
     "output_type": "stream",
     "text": [
      "Processing query part 0: 3600it [01:49, 31.94it/s]"
     ]
    },
    {
     "name": "stdout",
     "output_type": "stream",
     "text": [
      "4247 3911.6306689342405\n",
      "4248 4109.678004535147\n",
      "4249 4083.1912556689344\n",
      "425 4113.8149092970525\n",
      "4250 4013.248370181406\n",
      "4251 3998.932681405896\n",
      "4252 4013.605442176871\n",
      "4253 4311.086947278912\n"
     ]
    },
    {
     "name": "stderr",
     "output_type": "stream",
     "text": [
      "Processing query part 0: 3608it [01:50, 33.46it/s]"
     ]
    },
    {
     "name": "stdout",
     "output_type": "stream",
     "text": [
      "4254 4160.657242063492\n",
      "4255 4004.966340702948\n",
      "4256 1945.0856009070294\n",
      "4257 4006.374503968254\n",
      "4258 3958.8827239229026\n",
      "4259 3885.547548185941\n",
      "426 4126.880527210885\n",
      "4260 4320.454294217687\n"
     ]
    },
    {
     "name": "stderr",
     "output_type": "stream",
     "text": [
      "Processing query part 0: 3616it [01:50, 32.47it/s]"
     ]
    },
    {
     "name": "stdout",
     "output_type": "stream",
     "text": [
      "4261 4031.9957482993195\n",
      "4262 4226.506377551021\n",
      "4263 4203.758503401361\n",
      "4264 4148.859552154195\n",
      "4265 3987.218820861678\n",
      "4266 4105.932397959184\n"
     ]
    },
    {
     "name": "stderr",
     "output_type": "stream",
     "text": [
      "Processing query part 0: 3624it [01:50, 32.94it/s]"
     ]
    },
    {
     "name": "stdout",
     "output_type": "stream",
     "text": [
      "4267 3979.427721088435\n",
      "4268 3963.0707908163267\n",
      "4269 4077.8662131519272\n",
      "427 3935.182681405896\n",
      "4270 3879.154974489796\n",
      "4271 3948.983985260771\n",
      "4272 3933.862244897959\n",
      "4273 4264.5961592970525\n"
     ]
    },
    {
     "name": "stderr",
     "output_type": "stream",
     "text": [
      "Processing query part 0: 3632it [01:50, 33.61it/s]"
     ]
    },
    {
     "name": "stdout",
     "output_type": "stream",
     "text": [
      "4274 3788.307681405896\n",
      "4275 3824.3556547619046\n",
      "4276 3801.6186224489797\n",
      "4277 4178.059523809524\n",
      "4278 3989.3016581632655\n",
      "4279 3875.500637755102\n",
      "428 4350.832624716553\n",
      "4280 4318.943948412699\n"
     ]
    },
    {
     "name": "stderr",
     "output_type": "stream",
     "text": [
      "Processing query part 0: 3640it [01:51, 32.40it/s]"
     ]
    },
    {
     "name": "stdout",
     "output_type": "stream",
     "text": [
      "4281 3948.969387755102\n",
      "4282 4337.671697845805\n",
      "4283 4017.7397959183672\n",
      "4284 4091.7918792517007\n",
      "4285 4096.729095804989\n",
      "4286 3900.545989229025\n",
      "4287 4245.172477324263\n"
     ]
    },
    {
     "name": "stderr",
     "output_type": "stream",
     "text": [
      "\r",
      "Processing query part 0: 3644it [01:51, 32.04it/s]"
     ]
    },
    {
     "name": "stdout",
     "output_type": "stream",
     "text": [
      "4288 4010.02876984127\n",
      "4289 3864.655257936508\n",
      "429 4032.2255527210887\n",
      "4290 4160.903486394558\n",
      "4291 3929.6842403628116\n",
      "4292 4072.7537556689344\n",
      "4293 4258.012684240362\n"
     ]
    },
    {
     "name": "stderr",
     "output_type": "stream",
     "text": [
      "Processing query part 0: 3652it [01:51, 33.84it/s]"
     ]
    },
    {
     "name": "stdout",
     "output_type": "stream",
     "text": [
      "4294 4395.010274943311\n",
      "4295 4217.081490929705\n",
      "4296 4021.6339285714284\n",
      "4297 4372.08878968254\n",
      "4298 4003.0725623582766\n",
      "4299 3992.62358276644\n",
      "43 3999.1076388888887\n"
     ]
    },
    {
     "name": "stderr",
     "output_type": "stream",
     "text": [
      "Processing query part 0: 3660it [01:51, 32.28it/s]"
     ]
    },
    {
     "name": "stdout",
     "output_type": "stream",
     "text": [
      "430 4355.889172335601\n",
      "4300 3929.5081490929706\n",
      "4301 4308.513463718821\n",
      "4302 4477.12216553288\n",
      "4303 4145.572137188208\n",
      "4304 4080.9272959183672\n",
      "4305 4224.433531746032\n"
     ]
    },
    {
     "name": "stderr",
     "output_type": "stream",
     "text": [
      "Processing query part 0: 3668it [01:52, 31.94it/s]"
     ]
    },
    {
     "name": "stdout",
     "output_type": "stream",
     "text": [
      "4306 4231.993197278912\n",
      "4307 4166.819444444444\n",
      "4308 4001.497945011338\n",
      "4309 4091.1811224489797\n",
      "431 4276.193594104308\n",
      "4310 4130.6964994331065\n",
      "4311 3814.3222080498867\n"
     ]
    },
    {
     "name": "stderr",
     "output_type": "stream",
     "text": [
      "\r",
      "Processing query part 0: 3672it [01:52, 32.64it/s]"
     ]
    },
    {
     "name": "stdout",
     "output_type": "stream",
     "text": [
      "4312 4078.8644416099773\n",
      "4313 4041.6716269841268\n",
      "4314 4067.359552154195\n",
      "4315 3976.5973639455783\n",
      "4316 4384.811366213152\n",
      "4317 4132.216198979592\n",
      "4318 4123.412060657596\n"
     ]
    },
    {
     "name": "stderr",
     "output_type": "stream",
     "text": [
      "Processing query part 0: 3680it [01:52, 32.26it/s]"
     ]
    },
    {
     "name": "stdout",
     "output_type": "stream",
     "text": [
      "4319 4022.2908163265306\n",
      "432 3975.7748015873017\n",
      "4320 4169.619260204082\n",
      "4321 4068.907242063492\n",
      "4322 4182.335317460317\n",
      "4323 3842.859977324263\n",
      "4324 3914.9796626984125\n"
     ]
    },
    {
     "name": "stderr",
     "output_type": "stream",
     "text": [
      "Processing query part 0: 3688it [01:52, 32.44it/s]"
     ]
    },
    {
     "name": "stdout",
     "output_type": "stream",
     "text": [
      "4325 4210.330711451247\n",
      "4326 4171.674532312925\n",
      "4327 4133.663052721088\n",
      "4328 4057.736181972789\n",
      "4329 3958.895479024943\n",
      "433 4047.998157596372\n",
      "4330 4097.915178571428\n"
     ]
    },
    {
     "name": "stderr",
     "output_type": "stream",
     "text": [
      "Processing query part 0: 3696it [01:52, 33.59it/s]"
     ]
    },
    {
     "name": "stdout",
     "output_type": "stream",
     "text": [
      "4331 4218.475623582766\n",
      "4332 4105.831561791383\n",
      "4333 4103.128968253968\n",
      "4334 4264.518849206349\n",
      "4335 4265.900510204082\n",
      "4336 4045.124716553288\n",
      "4337 4084.4910714285716\n"
     ]
    },
    {
     "name": "stderr",
     "output_type": "stream",
     "text": [
      "\r",
      "Processing query part 0: 3700it [01:53, 33.14it/s]"
     ]
    },
    {
     "name": "stdout",
     "output_type": "stream",
     "text": [
      "4338 4261.762967687075\n",
      "4339 4275.374929138322\n",
      "434 3831.9582624716554\n",
      "4340 4123.980796485261\n",
      "4341 4395.918863378684\n",
      "4342 4125.493551587301\n",
      "4343 4610.989654195011\n"
     ]
    },
    {
     "name": "stderr",
     "output_type": "stream",
     "text": [
      "Processing query part 0: 3708it [01:53, 32.03it/s]"
     ]
    },
    {
     "name": "stdout",
     "output_type": "stream",
     "text": [
      "4344 4294.343820861678\n",
      "4345 4137.579152494331\n",
      "4346 4140.171343537415\n",
      "4347 4052.5344387755104\n",
      "4348 4085.190051020408\n",
      "4349 4175.680839002268\n",
      "435 4148.957128684808\n"
     ]
    },
    {
     "name": "stderr",
     "output_type": "stream",
     "text": [
      "Processing query part 0: 3716it [01:53, 32.98it/s]"
     ]
    },
    {
     "name": "stdout",
     "output_type": "stream",
     "text": [
      "4350 3842.5084325396824\n",
      "4351 4105.153769841269\n",
      "4352 3910.8387896825398\n",
      "4353 4076.418013038549\n",
      "4355 3953.658304988662\n",
      "4356 4116.104733560091\n",
      "4357 3915.5892148526077\n",
      "4358 4073.188988095238\n"
     ]
    },
    {
     "name": "stderr",
     "output_type": "stream",
     "text": [
      "Processing query part 0: 3724it [01:53, 32.92it/s]"
     ]
    },
    {
     "name": "stdout",
     "output_type": "stream",
     "text": [
      "4359 4331.623724489796\n",
      "436 4137.656533446712\n",
      "4360 4091.107497165533\n",
      "4361 3987.3509070294785\n",
      "4362 4082.8833616780043\n",
      "4363 3923.4097930839002\n"
     ]
    },
    {
     "name": "stderr",
     "output_type": "stream",
     "text": [
      "\r",
      "Processing query part 0: 3728it [01:53, 31.99it/s]"
     ]
    },
    {
     "name": "stdout",
     "output_type": "stream",
     "text": [
      "4364 4088.792517006803\n",
      "4365 3968.891794217687\n",
      "4366 4086.971797052154\n",
      "4367 4027.3061224489797\n",
      "4368 4139.917800453515\n",
      "4369 4133.451318027211\n"
     ]
    },
    {
     "name": "stderr",
     "output_type": "stream",
     "text": [
      "Processing query part 0: 3736it [01:54, 32.20it/s]"
     ]
    },
    {
     "name": "stdout",
     "output_type": "stream",
     "text": [
      "437 4119.3953373015875\n",
      "4370 3886.9959608843537\n",
      "4371 4062.4216269841268\n",
      "4372 4121.3725907029475\n",
      "4373 4301.297619047619\n",
      "4374 3991.3125\n",
      "4375 4110.104237528345\n"
     ]
    },
    {
     "name": "stderr",
     "output_type": "stream",
     "text": [
      "Processing query part 0: 3744it [01:54, 33.27it/s]"
     ]
    },
    {
     "name": "stdout",
     "output_type": "stream",
     "text": [
      "4376 3793.0281320861677\n",
      "4377 4058.0676020408164\n",
      "4378 4159.00070861678\n",
      "4379 3987.1349914965986\n",
      "438 4130.197704081633\n",
      "4380 4129.0109126984125\n",
      "4381 3867.6451955782313\n",
      "4382 4076.4292091836733\n"
     ]
    },
    {
     "name": "stderr",
     "output_type": "stream",
     "text": [
      "Processing query part 0: 3752it [01:54, 33.22it/s]"
     ]
    },
    {
     "name": "stdout",
     "output_type": "stream",
     "text": [
      "4383 4246.2106717687075\n",
      "4384 3896.0379109977325\n",
      "4385 4224.298681972789\n",
      "4386 4187.343324829932\n",
      "4387 3980.692318594104\n",
      "4388 3966.9606009070294\n",
      "4389 3971.095663265306\n"
     ]
    },
    {
     "name": "stderr",
     "output_type": "stream",
     "text": [
      "\r",
      "Processing query part 0: 3756it [01:54, 32.40it/s]"
     ]
    },
    {
     "name": "stdout",
     "output_type": "stream",
     "text": [
      "439 3929.298752834467\n",
      "4390 4410.689413265306\n",
      "4391 4420.075184240362\n",
      "4392 4097.266227324263\n",
      "4393 4034.90802154195\n",
      "4394 3970.517573696145\n",
      "4395 3947.5992772108843\n",
      "4396 4007.9406179138323\n"
     ]
    },
    {
     "name": "stderr",
     "output_type": "stream",
     "text": [
      "Processing query part 0: 3764it [01:54, 33.30it/s]"
     ]
    },
    {
     "name": "stdout",
     "output_type": "stream",
     "text": [
      "4397 4190.957412131519\n",
      "4398 4142.374433106576\n",
      "4399 3994.5829081632655\n",
      "44 4234.911848072562\n",
      "440 3872.37677154195\n",
      "4400 4204.875\n",
      "4401 4234.6918225623585\n"
     ]
    },
    {
     "name": "stderr",
     "output_type": "stream",
     "text": [
      "Processing query part 0: 3772it [01:55, 33.71it/s]"
     ]
    },
    {
     "name": "stdout",
     "output_type": "stream",
     "text": [
      "4402 4120.516014739229\n",
      "4403 4152.986040249433\n",
      "4404 3979.8082482993195\n",
      "4405 3878.512259070295\n",
      "4406 3932.2703373015875\n",
      "4407 4093.5652636054424\n",
      "4408 3997.2209467120183\n"
     ]
    },
    {
     "name": "stderr",
     "output_type": "stream",
     "text": [
      "Processing query part 0: 3780it [01:55, 32.95it/s]"
     ]
    },
    {
     "name": "stdout",
     "output_type": "stream",
     "text": [
      "4409 3977.1956490929706\n",
      "441 4198.331349206349\n",
      "4410 4066.8846371882087\n",
      "4411 4098.328231292517\n",
      "4412 4251.072278911564\n",
      "4413 4092.139597505669\n",
      "4414 4323.267715419501\n"
     ]
    },
    {
     "name": "stderr",
     "output_type": "stream",
     "text": [
      "Processing query part 0: 3788it [01:55, 33.73it/s]"
     ]
    },
    {
     "name": "stdout",
     "output_type": "stream",
     "text": [
      "4415 4156.113803854875\n",
      "4416 4190.238945578231\n",
      "4417 4120.31179138322\n",
      "4418 4161.756094104308\n",
      "4419 4279.524659863946\n",
      "442 3964.8195861678005\n",
      "4420 3950.520975056689\n",
      "4421 3983.238166099773\n"
     ]
    },
    {
     "name": "stderr",
     "output_type": "stream",
     "text": [
      "Processing query part 0: 3796it [01:55, 31.96it/s]"
     ]
    },
    {
     "name": "stdout",
     "output_type": "stream",
     "text": [
      "4422 4033.0345096371884\n",
      "4423 4252.109906462585\n",
      "4424 4242.4682539682535\n",
      "4425 4125.572704081633\n",
      "4426 3949.810515873016\n",
      "4427 4345.493693310657\n",
      "4428 3979.3837868480728\n"
     ]
    },
    {
     "name": "stderr",
     "output_type": "stream",
     "text": [
      "\r",
      "Processing query part 0: 3800it [01:56, 32.71it/s]"
     ]
    },
    {
     "name": "stdout",
     "output_type": "stream",
     "text": [
      "4429 4138.361819727891\n",
      "443 4295.351119614513\n",
      "4430 3995.0694444444443\n",
      "4431 4101.988732993197\n",
      "4432 4212.1339994331065\n",
      "4433 3956.4192176870747\n",
      "4434 4100.508715986394\n"
     ]
    },
    {
     "name": "stderr",
     "output_type": "stream",
     "text": [
      "Processing query part 0: 3808it [01:56, 33.45it/s]"
     ]
    },
    {
     "name": "stdout",
     "output_type": "stream",
     "text": [
      "4435 4163.698908730159\n",
      "4436 3974.4949688208617\n",
      "4437 4237.238236961452\n",
      "4438 3954.4608843537417\n",
      "4439 4273.412698412699\n",
      "444 4118.783517573696\n",
      "4440 4063.955144557823\n",
      "4441 4082.263038548753\n"
     ]
    },
    {
     "name": "stderr",
     "output_type": "stream",
     "text": [
      "Processing query part 0: 3816it [01:56, 33.43it/s]"
     ]
    },
    {
     "name": "stdout",
     "output_type": "stream",
     "text": [
      "4442 4452.969671201814\n",
      "4443 4044.5570436507937\n",
      "4444 4093.4576955782313\n",
      "4446 3969.1666666666665\n",
      "4447 4135.463647959184\n",
      "4448 4435.873299319728\n"
     ]
    },
    {
     "name": "stderr",
     "output_type": "stream",
     "text": [
      "Processing query part 0: 3824it [01:56, 32.28it/s]"
     ]
    },
    {
     "name": "stdout",
     "output_type": "stream",
     "text": [
      "4449 4059.828302154195\n",
      "445 3908.7605583900227\n",
      "4450 4167.141865079365\n",
      "4451 4018.908588435374\n",
      "4452 4215.134637188208\n",
      "4453 3924.812216553288\n",
      "4454 3990.871598639456\n"
     ]
    },
    {
     "name": "stderr",
     "output_type": "stream",
     "text": [
      "\r",
      "Processing query part 0: 3828it [01:56, 33.22it/s]"
     ]
    },
    {
     "name": "stdout",
     "output_type": "stream",
     "text": [
      "4455 4124.203160430839\n",
      "4456 3954.4558531746034\n",
      "4457 4008.346088435374\n",
      "4458 3946.766652494331\n",
      "4459 3933.236819727891\n",
      "446 4195.119047619048\n",
      "4460 4041.517573696145\n"
     ]
    },
    {
     "name": "stderr",
     "output_type": "stream",
     "text": [
      "Processing query part 0: 3836it [01:57, 34.85it/s]"
     ]
    },
    {
     "name": "stdout",
     "output_type": "stream",
     "text": [
      "4461 4152.417446145125\n",
      "4462 4088.575609410431\n",
      "4463 4068.2594954648525\n",
      "4464 4327.998370181406\n",
      "4465 4047.1595096371884\n",
      "4466 4074.7867063492063\n",
      "4467 3864.9631519274376\n",
      "4468 3879.266935941043\n"
     ]
    },
    {
     "name": "stderr",
     "output_type": "stream",
     "text": [
      "Processing query part 0: 3844it [01:57, 33.01it/s]"
     ]
    },
    {
     "name": "stdout",
     "output_type": "stream",
     "text": [
      "4469 4111.317956349207\n",
      "447 3848.9777494331065\n",
      "4470 3912.7151360544217\n",
      "4471 3912.9124858276646\n",
      "4472 3951.7429138321995\n",
      "4473 3978.0978599773243\n",
      "4474 3966.1296060090704\n"
     ]
    },
    {
     "name": "stderr",
     "output_type": "stream",
     "text": [
      "Processing query part 0: 3852it [01:57, 34.04it/s]"
     ]
    },
    {
     "name": "stdout",
     "output_type": "stream",
     "text": [
      "4475 4029.535643424036\n",
      "4476 4324.44068877551\n",
      "4477 4021.1741071428573\n",
      "4478 4093.876558956916\n",
      "4479 4155.229095804989\n",
      "448 7947.816326530612\n",
      "4480 3874.859056122449\n",
      "4481 3953.2038690476193\n"
     ]
    },
    {
     "name": "stderr",
     "output_type": "stream",
     "text": [
      "Processing query part 0: 3860it [01:57, 35.49it/s]"
     ]
    },
    {
     "name": "stdout",
     "output_type": "stream",
     "text": [
      "4482 4152.467191043084\n",
      "4483 4106.903557256236\n",
      "4484 3941.344529478458\n",
      "4485 4215.882865646258\n",
      "4486 4230.445223922902\n",
      "4487 3878.7932964852607\n",
      "4488 4274.56710600907\n",
      "4489 4015.2840136054424\n"
     ]
    },
    {
     "name": "stderr",
     "output_type": "stream",
     "text": [
      "Processing query part 0: 3868it [01:58, 32.16it/s]"
     ]
    },
    {
     "name": "stdout",
     "output_type": "stream",
     "text": [
      "449 4161.333900226758\n",
      "4490 4098.392290249433\n",
      "4491 4116.0831207483\n",
      "4492 4106.5070861678005\n",
      "4493 3817.2840136054424\n",
      "4494 4458.424107142857\n",
      "4495 4227.510133219955\n"
     ]
    },
    {
     "name": "stderr",
     "output_type": "stream",
     "text": [
      "Processing query part 0: 3876it [01:58, 32.67it/s]"
     ]
    },
    {
     "name": "stdout",
     "output_type": "stream",
     "text": [
      "4496 3997.938775510204\n",
      "4497 4427.136196145125\n",
      "4498 4131.420634920635\n",
      "4499 3888.7449688208617\n",
      "45 4007.299674036281\n",
      "450 4143.844954648526\n",
      "4500 4039.0902069160998\n"
     ]
    },
    {
     "name": "stderr",
     "output_type": "stream",
     "text": [
      "\r",
      "Processing query part 0: 3880it [01:58, 32.48it/s]"
     ]
    },
    {
     "name": "stdout",
     "output_type": "stream",
     "text": [
      "4501 4171.343183106576\n",
      "4502 4058.702522675737\n",
      "4503 4075.8338293650795\n",
      "4504 4047.7881944444443\n",
      "4505 4140.820861678005\n",
      "4506 4170.347859977324\n",
      "4507 3977.264668367347\n",
      "4508 4135.137613378684\n"
     ]
    },
    {
     "name": "stderr",
     "output_type": "stream",
     "text": [
      "Processing query part 0: 3888it [01:58, 31.90it/s]"
     ]
    },
    {
     "name": "stdout",
     "output_type": "stream",
     "text": [
      "4509 3886.2668650793653\n",
      "451 4023.8489229024945\n",
      "4510 4085.4632936507937\n",
      "4511 3876.499149659864\n",
      "4512 4300.2552437641725\n",
      "4513 4273.6832482993195\n",
      "4514 3733.529620181406\n"
     ]
    },
    {
     "name": "stderr",
     "output_type": "stream",
     "text": [
      "Processing query part 0: 3896it [01:58, 34.01it/s]"
     ]
    },
    {
     "name": "stdout",
     "output_type": "stream",
     "text": [
      "4515 4221.216907596372\n",
      "4516 4145.037060657596\n",
      "4517 4291.462230725623\n",
      "4518 3991.298965419501\n",
      "4519 4046.5707908163267\n",
      "452 3921.1053713151928\n",
      "4520 4052.1316609977325\n",
      "4521 4041.7706916099773\n"
     ]
    },
    {
     "name": "stderr",
     "output_type": "stream",
     "text": [
      "Processing query part 0: 3904it [01:59, 33.54it/s]"
     ]
    },
    {
     "name": "stdout",
     "output_type": "stream",
     "text": [
      "4522 4164.380385487529\n",
      "4523 4074.9914257369614\n",
      "4524 4375.418792517007\n",
      "4525 4172.58595521542\n",
      "4526 4090.7629676870747\n",
      "4527 4002.126984126984\n",
      "4528 4173.799461451247\n"
     ]
    },
    {
     "name": "stderr",
     "output_type": "stream",
     "text": [
      "Processing query part 0: 3912it [01:59, 33.36it/s]"
     ]
    },
    {
     "name": "stdout",
     "output_type": "stream",
     "text": [
      "4529 4137.34941893424\n",
      "453 3922.8884637188207\n",
      "4530 4151.616638321995\n",
      "4531 3857.8616071428573\n",
      "4532 3879.178217120181\n",
      "4533 4192.021967120181\n",
      "4534 4258.851403061224\n"
     ]
    },
    {
     "name": "stderr",
     "output_type": "stream",
     "text": [
      "Processing query part 0: 3920it [01:59, 32.18it/s]"
     ]
    },
    {
     "name": "stdout",
     "output_type": "stream",
     "text": [
      "4535 4196.479733560091\n",
      "4536 4034.594033446712\n",
      "4537 4158.98044217687\n",
      "4538 4065.9635770975055\n",
      "4539 4100.05931122449\n",
      "454 3877.9392006802723\n",
      "4540 4234.951672335601\n"
     ]
    },
    {
     "name": "stderr",
     "output_type": "stream",
     "text": [
      "\r",
      "Processing query part 0: 3924it [01:59, 30.24it/s]"
     ]
    },
    {
     "name": "stdout",
     "output_type": "stream",
     "text": [
      "4541 4257.4418225623585\n",
      "4542 3907.7098214285716\n",
      "4543 4183.268849206349\n",
      "4544 4155.171272675737\n",
      "4545 4085.199192176871\n",
      "4546 4273.803571428572\n",
      "4547 4079.674886621315\n"
     ]
    },
    {
     "name": "stderr",
     "output_type": "stream",
     "text": [
      "Processing query part 0: 3932it [02:00, 31.45it/s]"
     ]
    },
    {
     "name": "stdout",
     "output_type": "stream",
     "text": [
      "4548 4028.9666241496598\n",
      "4549 3833.1017573696145\n",
      "455 4203.457482993197\n",
      "4550 4180.349348072562\n",
      "4551 4054.0555555555557\n",
      "4552 3979.699192176871\n",
      "4553 4333.607071995465\n"
     ]
    },
    {
     "name": "stderr",
     "output_type": "stream",
     "text": [
      "Processing query part 0: 3940it [02:00, 31.20it/s]"
     ]
    },
    {
     "name": "stdout",
     "output_type": "stream",
     "text": [
      "4554 3888.544005102041\n",
      "4555 4128.111181972789\n",
      "4556 3983.301799886621\n",
      "4557 4283.643353174603\n",
      "4558 4165.739299886622\n",
      "4559 4019.0389030612246\n",
      "456 4243.431689342404\n"
     ]
    },
    {
     "name": "stderr",
     "output_type": "stream",
     "text": [
      "Processing query part 0: 3948it [02:00, 33.21it/s]"
     ]
    },
    {
     "name": "stdout",
     "output_type": "stream",
     "text": [
      "4560 4322.897179705215\n",
      "4561 3977.4724348072564\n",
      "4562 4593.095096371882\n",
      "4563 4224.878401360545\n",
      "4564 4277.228954081633\n",
      "4565 3804.9734268707484\n",
      "4566 4169.8125\n"
     ]
    },
    {
     "name": "stderr",
     "output_type": "stream",
     "text": [
      "Processing query part 0: 3956it [02:00, 34.22it/s]"
     ]
    },
    {
     "name": "stdout",
     "output_type": "stream",
     "text": [
      "4567 4267.485756802721\n",
      "4568 4055.2634637188207\n",
      "4569 3789.890306122449\n",
      "457 4009.113166099773\n",
      "4570 4103.851332199546\n",
      "4571 4064.8762046485263\n",
      "4572 4392.885345804989\n",
      "4573 3832.2366071428573\n"
     ]
    },
    {
     "name": "stderr",
     "output_type": "stream",
     "text": [
      "\r",
      "Processing query part 0: 3960it [02:00, 34.30it/s]"
     ]
    },
    {
     "name": "stdout",
     "output_type": "stream",
     "text": [
      "4574 3875.955428004535\n",
      "4575 4163.19210600907\n",
      "4576 4086.782596371882\n",
      "4577 4062.3640164399094\n",
      "4578 4222.565263605442\n",
      "4579 3823.297760770975\n",
      "458 4016.4178713151928\n"
     ]
    },
    {
     "name": "stderr",
     "output_type": "stream",
     "text": [
      "Processing query part 0: 3968it [02:01, 33.13it/s]"
     ]
    },
    {
     "name": "stdout",
     "output_type": "stream",
     "text": [
      "4580 4156.037627551021\n",
      "4581 4056.0255810657595\n",
      "4582 4185.3697562358275\n",
      "4583 4153.7883361678005\n",
      "4584 4180.641794217687\n",
      "4585 4277.207412131519\n",
      "4586 4003.9417517006805\n"
     ]
    },
    {
     "name": "stderr",
     "output_type": "stream",
     "text": [
      "Processing query part 0: 3976it [02:01, 33.86it/s]"
     ]
    },
    {
     "name": "stdout",
     "output_type": "stream",
     "text": [
      "4587 4295.765589569161\n",
      "4588 4234.396541950114\n",
      "4589 4271.554067460317\n",
      "459 4326.186578798186\n",
      "4590 4275.791028911564\n",
      "4591 3980.810161564626\n",
      "4592 4176.016085600907\n"
     ]
    },
    {
     "name": "stderr",
     "output_type": "stream",
     "text": [
      "Processing query part 0: 3984it [02:01, 31.90it/s]"
     ]
    },
    {
     "name": "stdout",
     "output_type": "stream",
     "text": [
      "4593 4067.2289540816328\n",
      "4594 4267.461947278912\n",
      "4595 4166.696924603175\n",
      "4596 4079.3827239229026\n",
      "4597 4144.729166666667\n",
      "4598 4319.562216553288\n",
      "4599 4057.217261904762\n"
     ]
    },
    {
     "name": "stderr",
     "output_type": "stream",
     "text": [
      "Processing query part 0: 3992it [02:01, 33.01it/s]"
     ]
    },
    {
     "name": "stdout",
     "output_type": "stream",
     "text": [
      "46 4016.4953231292516\n",
      "460 4225.652636054422\n",
      "4600 3989.1322278911566\n",
      "4601 3981.18714569161\n",
      "4602 4276.903769841269\n",
      "4603 3912.530966553288\n",
      "4604 3827.423965419501\n",
      "4605 3948.375637755102\n"
     ]
    },
    {
     "name": "stderr",
     "output_type": "stream",
     "text": [
      "\r",
      "Processing query part 0: 3996it [02:02, 31.96it/s]"
     ]
    },
    {
     "name": "stdout",
     "output_type": "stream",
     "text": [
      "4606 4148.282242063492\n",
      "4607 4246.117701247165\n",
      "4608 3877.5036848072564\n",
      "4609 4120.491496598639\n",
      "461 4074.473639455782\n",
      "4610 4138.496527777777\n",
      "4611 4218.138321995465\n"
     ]
    },
    {
     "name": "stderr",
     "output_type": "stream",
     "text": [
      "Processing query part 0: 4004it [02:02, 32.23it/s]"
     ]
    },
    {
     "name": "stdout",
     "output_type": "stream",
     "text": [
      "4612 4106.223568594104\n",
      "4613 3895.3970379818593\n",
      "4614 4080.299461451247\n",
      "4615 3959.518920068027\n",
      "4616 3742.531320861678\n",
      "4617 4135.8125\n",
      "4618 3905.3015164399094\n",
      "4619 3823.825184240363\n"
     ]
    },
    {
     "name": "stderr",
     "output_type": "stream",
     "text": [
      "Processing query part 0: 4012it [02:02, 32.30it/s]"
     ]
    },
    {
     "name": "stdout",
     "output_type": "stream",
     "text": [
      "462 3948.337939342404\n",
      "4620 4066.612740929705\n",
      "4621 4381.046768707483\n",
      "4622 4051.7412840136053\n",
      "4623 4058.5836876417234\n",
      "4624 3908.987740929705\n",
      "4625 4771.313137755102\n"
     ]
    },
    {
     "name": "stderr",
     "output_type": "stream",
     "text": [
      "Processing query part 0: 4020it [02:02, 32.51it/s]"
     ]
    },
    {
     "name": "stdout",
     "output_type": "stream",
     "text": [
      "4626 4047.5196995464853\n",
      "4627 4024.2472363945576\n",
      "4628 3945.09516723356\n",
      "4629 4156.546839569161\n",
      "463 4034.393494897959\n",
      "4630 3866.436011904762\n",
      "4631 4263.959041950114\n",
      "4632 4096.536422902494\n"
     ]
    },
    {
     "name": "stderr",
     "output_type": "stream",
     "text": [
      "Processing query part 0: 4028it [02:03, 33.33it/s]"
     ]
    },
    {
     "name": "stdout",
     "output_type": "stream",
     "text": [
      "4633 4351.328939909297\n",
      "4634 4101.767644557823\n",
      "4635 4105.43183106576\n",
      "4636 3990.391298185941\n",
      "4637 4337.798611111111\n",
      "4638 3936.8638747165533\n",
      "4639 4117.916666666667\n",
      "464 4174.789186507936\n"
     ]
    },
    {
     "name": "stderr",
     "output_type": "stream",
     "text": [
      "Processing query part 0: 4036it [02:03, 33.81it/s]"
     ]
    },
    {
     "name": "stdout",
     "output_type": "stream",
     "text": [
      "4640 4188.0430839002265\n",
      "4641 3875.78514739229\n",
      "4642 4068.299248866213\n",
      "4643 4298.497448979592\n",
      "4644 3999.7835175736964\n",
      "4645 4054.464427437642\n",
      "4646 4105.456065759638\n",
      "4647 3983.1330073696145\n"
     ]
    },
    {
     "name": "stderr",
     "output_type": "stream",
     "text": [
      "Processing query part 0: 4044it [02:03, 34.37it/s]"
     ]
    },
    {
     "name": "stdout",
     "output_type": "stream",
     "text": [
      "4648 4198.969954648526\n",
      "4649 4021.842403628118\n",
      "465 4015.4294926303855\n",
      "4650 3936.1766581632655\n",
      "4651 4117.70989229025\n",
      "4652 4268.24539399093\n",
      "4653 4000.6971371882087\n",
      "4654 3977.5386904761904\n"
     ]
    },
    {
     "name": "stderr",
     "output_type": "stream",
     "text": [
      "Processing query part 0: 4052it [02:03, 32.58it/s]"
     ]
    },
    {
     "name": "stdout",
     "output_type": "stream",
     "text": [
      "4655 3975.571782879819\n",
      "4656 4126.976190476191\n",
      "4657 4098.8631660997735\n",
      "4658 4169.27806122449\n",
      "4659 4345.789469954649\n",
      "466 4068.417587868481\n",
      "4660 4057.3186649659865\n"
     ]
    },
    {
     "name": "stderr",
     "output_type": "stream",
     "text": [
      "Processing query part 0: 4060it [02:03, 33.72it/s]"
     ]
    },
    {
     "name": "stdout",
     "output_type": "stream",
     "text": [
      "4661 3998.248866213152\n",
      "4662 3865.3082482993195\n",
      "4663 4579.608985260771\n",
      "4664 4063.0379818594106\n",
      "4665 4234.051232993197\n",
      "4666 4024.515306122449\n",
      "4667 3969.1155753968255\n"
     ]
    },
    {
     "name": "stderr",
     "output_type": "stream",
     "text": [
      "\r",
      "Processing query part 0: 4064it [02:04, 33.76it/s]"
     ]
    },
    {
     "name": "stdout",
     "output_type": "stream",
     "text": [
      "4668 4411.920564058957\n",
      "4669 3895.967899659864\n",
      "467 3887.043934240363\n",
      "4670 4110.824688208617\n",
      "4671 3940.43856292517\n",
      "4672 4158.444869614513\n",
      "4673 4225.874078798186\n"
     ]
    },
    {
     "name": "stderr",
     "output_type": "stream",
     "text": [
      "Processing query part 0: 4072it [02:04, 33.77it/s]"
     ]
    },
    {
     "name": "stdout",
     "output_type": "stream",
     "text": [
      "4674 4142.636408730159\n",
      "4675 4014.954152494331\n",
      "4676 4396.233914399093\n",
      "4677 4478.023951247165\n",
      "4678 4027.2918792517007\n",
      "4679 3940.0086451247166\n",
      "468 3901.7151360544217\n"
     ]
    },
    {
     "name": "stderr",
     "output_type": "stream",
     "text": [
      "Processing query part 0: 4080it [02:04, 31.88it/s]"
     ]
    },
    {
     "name": "stdout",
     "output_type": "stream",
     "text": [
      "4680 4040.797760770975\n",
      "4681 3951.1442743764173\n",
      "4682 3994.968466553288\n",
      "4683 4116.116354875284\n",
      "4684 3889.2152069160998\n",
      "4685 4125.991071428572\n",
      "4686 4264.008219954649\n",
      "4687 3983.5228174603176\n"
     ]
    },
    {
     "name": "stderr",
     "output_type": "stream",
     "text": [
      "Processing query part 0: 4088it [02:04, 32.29it/s]"
     ]
    },
    {
     "name": "stdout",
     "output_type": "stream",
     "text": [
      "4688 4079.235898526077\n",
      "4689 4389.583616780045\n",
      "469 4022.739299886621\n",
      "4690 3887.2429138321995\n",
      "4691 4262.297477324263\n",
      "4692 4064.548256802721\n",
      "4693 3985.901360544218\n",
      "4694 4229.576318027211\n"
     ]
    },
    {
     "name": "stderr",
     "output_type": "stream",
     "text": [
      "Processing query part 0: 4096it [02:05, 33.51it/s]"
     ]
    },
    {
     "name": "stdout",
     "output_type": "stream",
     "text": [
      "4695 4089.858843537415\n",
      "4696 3728.3836451247166\n",
      "4697 4198.01955782313\n",
      "4698 3943.4255243764173\n",
      "4699 3993.6388888888887\n",
      "47 4086.5202664399094\n",
      "470 4007.328585600907\n",
      "4700 3948.839285714286\n"
     ]
    },
    {
     "name": "stderr",
     "output_type": "stream",
     "text": [
      "Processing query part 0: 4104it [02:05, 32.93it/s]"
     ]
    },
    {
     "name": "stdout",
     "output_type": "stream",
     "text": [
      "4701 3994.797689909297\n",
      "4702 4159.405257936508\n",
      "4703 4320.623015873016\n",
      "4704 3988.31285430839\n",
      "4705 3891.8668509070294\n",
      "4706 4220.941539115646\n",
      "4707 4217.062358276644\n"
     ]
    },
    {
     "name": "stderr",
     "output_type": "stream",
     "text": [
      "Processing query part 0: 4112it [02:05, 33.19it/s]"
     ]
    },
    {
     "name": "stdout",
     "output_type": "stream",
     "text": [
      "4708 4132.069940476191\n",
      "4709 3926.1664540816328\n",
      "471 4023.4440192743764\n",
      "4710 4242.718962585034\n",
      "4711 3921.3514030612246\n",
      "4712 4221.692531179138\n",
      "4713 4165.143636621316\n"
     ]
    },
    {
     "name": "stderr",
     "output_type": "stream",
     "text": [
      "\r",
      "Processing query part 0: 4116it [02:05, 31.88it/s]"
     ]
    },
    {
     "name": "stdout",
     "output_type": "stream",
     "text": [
      "4714 3954.9729308390024\n",
      "4715 4089.1022534013605\n",
      "4717 3917.468962585034\n",
      "4718 4061.956490929705\n",
      "4719 4182.361181972789\n",
      "472 4077.3329081632655\n",
      "4720 4108.493764172335\n"
     ]
    },
    {
     "name": "stderr",
     "output_type": "stream",
     "text": [
      "Processing query part 0: 4124it [02:05, 32.24it/s]"
     ]
    },
    {
     "name": "stdout",
     "output_type": "stream",
     "text": [
      "4721 4362.559452947846\n",
      "4722 4640.102820294785\n",
      "4723 4144.588010204082\n",
      "4724 4068.8483560090704\n",
      "4725 4305.112882653061\n",
      "4726 4215.293863378684\n",
      "4727 4257.074404761905\n"
     ]
    },
    {
     "name": "stderr",
     "output_type": "stream",
     "text": [
      "Processing query part 0: 4132it [02:06, 32.28it/s]"
     ]
    },
    {
     "name": "stdout",
     "output_type": "stream",
     "text": [
      "4728 3860.167020975057\n",
      "4729 4171.914611678005\n",
      "473 4542.203585600907\n",
      "4730 3936.212443310658\n",
      "4731 3890.2876275510203\n",
      "4732 4173.055342970521\n",
      "4733 3977.7453231292516\n"
     ]
    },
    {
     "name": "stderr",
     "output_type": "stream",
     "text": [
      "Processing query part 0: 4140it [02:06, 31.98it/s]"
     ]
    },
    {
     "name": "stdout",
     "output_type": "stream",
     "text": [
      "4734 3785.03018707483\n",
      "4735 4063.527423469388\n",
      "4736 3910.7872023809523\n",
      "4737 3818.565972222222\n",
      "4738 4298.082270408163\n",
      "4739 4182.092191043084\n",
      "474 4377.138109410431\n"
     ]
    },
    {
     "name": "stderr",
     "output_type": "stream",
     "text": [
      "\r",
      "Processing query part 0: 4144it [02:06, 32.32it/s]"
     ]
    },
    {
     "name": "stdout",
     "output_type": "stream",
     "text": [
      "4740 4223.732142857143\n",
      "4741 4124.516085600907\n",
      "4742 4160.3319160997735\n",
      "4743 4122.697704081633\n",
      "4744 4445.5052437641725\n",
      "4745 4041.4921343537417\n",
      "4746 4060.0798611111113\n"
     ]
    },
    {
     "name": "stderr",
     "output_type": "stream",
     "text": [
      "Processing query part 0: 4152it [02:06, 33.70it/s]"
     ]
    },
    {
     "name": "stdout",
     "output_type": "stream",
     "text": [
      "4747 4290.116213151928\n",
      "4748 4071.4659863945576\n",
      "4749 4079.9641439909296\n",
      "475 4316.081420068027\n",
      "4750 3911.467616213152\n",
      "4751 4233.541241496599\n",
      "4752 4279.267219387755\n",
      "4753 4127.32029478458\n"
     ]
    },
    {
     "name": "stderr",
     "output_type": "stream",
     "text": [
      "Processing query part 0: 4160it [02:07, 33.37it/s]"
     ]
    },
    {
     "name": "stdout",
     "output_type": "stream",
     "text": [
      "4754 4007.7141439909296\n",
      "4755 4001.455711451247\n",
      "4756 4309.159509637188\n",
      "4757 3934.208049886621\n",
      "4758 4044.910572562358\n",
      "4759 4028.2096797052154\n",
      "476 4408.751275510204\n",
      "4760 4163.508361678005\n"
     ]
    },
    {
     "name": "stderr",
     "output_type": "stream",
     "text": [
      "Processing query part 0: 4168it [02:07, 32.88it/s]"
     ]
    },
    {
     "name": "stdout",
     "output_type": "stream",
     "text": [
      "4761 4216.049815759638\n",
      "4762 4228.62960600907\n",
      "4763 4054.9422477324265\n",
      "4764 4259.764314058957\n",
      "4765 4212.863662131519\n",
      "4766 4128.007369614513\n",
      "4767 4257.457695578231\n"
     ]
    },
    {
     "name": "stderr",
     "output_type": "stream",
     "text": [
      "Processing query part 0: 4176it [02:07, 33.39it/s]"
     ]
    },
    {
     "name": "stdout",
     "output_type": "stream",
     "text": [
      "4768 4058.0255102040815\n",
      "4769 4125.584537981859\n",
      "477 4077.8993764172337\n",
      "4770 4131.279549319728\n",
      "4771 4220.701247165533\n",
      "4772 3974.998086734694\n",
      "4773 4053.5427295918366\n"
     ]
    },
    {
     "name": "stderr",
     "output_type": "stream",
     "text": [
      "Processing query part 0: 4184it [02:07, 31.37it/s]"
     ]
    },
    {
     "name": "stdout",
     "output_type": "stream",
     "text": [
      "4774 4224.019486961452\n",
      "4775 4106.37322845805\n",
      "4776 3765.09126984127\n",
      "4777 4104.736607142857\n",
      "4778 4147.770266439909\n",
      "4779 4137.421697845805\n",
      "478 3959.449688208617\n"
     ]
    },
    {
     "name": "stderr",
     "output_type": "stream",
     "text": [
      "\r",
      "Processing query part 0: 4188it [02:07, 31.15it/s]"
     ]
    },
    {
     "name": "stdout",
     "output_type": "stream",
     "text": [
      "4780 3995.6195436507937\n",
      "4781 4389.40837585034\n",
      "4782 4088.5984977324265\n",
      "4783 4033.65093537415\n",
      "4784 4014.154265873016\n",
      "4785 4195.750070861678\n"
     ]
    },
    {
     "name": "stderr",
     "output_type": "stream",
     "text": [
      "Processing query part 0: 4196it [02:08, 29.75it/s]"
     ]
    },
    {
     "name": "stdout",
     "output_type": "stream",
     "text": [
      "4786 4243.322774943311\n",
      "4787 4026.2399376417234\n",
      "4788 3936.1853032879817\n",
      "4789 4209.1356292517\n",
      "479 4328.233064058957\n",
      "4790 3972.170280612245\n",
      "4791 4262.908517573696\n"
     ]
    },
    {
     "name": "stderr",
     "output_type": "stream",
     "text": [
      "\r",
      "Processing query part 0: 4200it [02:08, 31.08it/s]"
     ]
    },
    {
     "name": "stdout",
     "output_type": "stream",
     "text": [
      "4792 3898.121598639456\n",
      "4793 4294.927154195011\n",
      "4794 4205.209254535147\n",
      "4795 4166.8252551020405\n",
      "4796 4500.392219387755\n",
      "4797 4089.1639739229026\n"
     ]
    },
    {
     "name": "stderr",
     "output_type": "stream",
     "text": [
      "Processing query part 0: 4208it [02:08, 30.86it/s]"
     ]
    },
    {
     "name": "stdout",
     "output_type": "stream",
     "text": [
      "4798 3983.388321995465\n",
      "4799 4317.045634920635\n",
      "48 4136.4692460317465\n",
      "480 4014.9940476190477\n",
      "4800 4144.590277777777\n",
      "4801 4183.584467120181\n",
      "4802 3935.6328656462583\n"
     ]
    },
    {
     "name": "stderr",
     "output_type": "stream",
     "text": [
      "Processing query part 0: 4216it [02:08, 31.86it/s]"
     ]
    },
    {
     "name": "stdout",
     "output_type": "stream",
     "text": [
      "4803 4026.590773809524\n",
      "4804 4224.685799319728\n",
      "4805 3783.495110544218\n",
      "4806 4029.3685515873017\n",
      "4807 3966.518494897959\n",
      "4808 3870.331561791383\n",
      "4809 3839.013109410431\n",
      "481 4075.0250141723354\n"
     ]
    },
    {
     "name": "stderr",
     "output_type": "stream",
     "text": [
      "Processing query part 0: 4224it [02:09, 32.53it/s]"
     ]
    },
    {
     "name": "stdout",
     "output_type": "stream",
     "text": [
      "4810 4379.642998866213\n",
      "4811 3978.1660997732424\n",
      "4812 4674.910430839002\n",
      "4813 4104.669784580499\n",
      "4814 4292.425099206349\n",
      "4815 4095.109197845805\n",
      "4816 4207.231221655329\n"
     ]
    },
    {
     "name": "stderr",
     "output_type": "stream",
     "text": [
      "Processing query part 0: 4232it [02:09, 33.08it/s]"
     ]
    },
    {
     "name": "stdout",
     "output_type": "stream",
     "text": [
      "4817 4247.606150793651\n",
      "4818 4337.670564058957\n",
      "4819 4238.097434807256\n",
      "482 4185.480654761905\n",
      "4820 4338.764172335601\n",
      "4821 4020.1299603174602\n",
      "4822 3845.875141723356\n"
     ]
    },
    {
     "name": "stderr",
     "output_type": "stream",
     "text": [
      "\r",
      "Processing query part 0: 4236it [02:09, 33.34it/s]"
     ]
    },
    {
     "name": "stdout",
     "output_type": "stream",
     "text": [
      "4823 4340.805342970521\n",
      "4824 4099.771825396825\n",
      "4825 4198.787769274377\n",
      "4826 4271.332412131519\n",
      "4827 4020.842616213152\n",
      "4828 4210.126275510204\n",
      "4829 3970.464427437642\n",
      "483 3971.745677437642\n"
     ]
    },
    {
     "name": "stderr",
     "output_type": "stream",
     "text": [
      "Processing query part 0: 4244it [02:09, 31.47it/s]"
     ]
    },
    {
     "name": "stdout",
     "output_type": "stream",
     "text": [
      "4830 4084.106859410431\n",
      "4831 4090.9296343537417\n",
      "4832 4535.538265306122\n",
      "4833 3792.7276785714284\n",
      "4834 3939.7704081632655\n",
      "4835 4087.8250425170068\n",
      "4836 4000.2452522675735\n"
     ]
    },
    {
     "name": "stderr",
     "output_type": "stream",
     "text": [
      "Processing query part 0: 4252it [02:09, 31.47it/s]"
     ]
    },
    {
     "name": "stdout",
     "output_type": "stream",
     "text": [
      "4837 3933.3249007936506\n",
      "4838 4088.8227040816328\n",
      "4839 3966.6188350340135\n",
      "484 4049.4807964852607\n",
      "4840 4181.976119614513\n",
      "4841 4163.69068877551\n",
      "4842 4360.668013038548\n",
      "4843 4050.9718679138323\n"
     ]
    },
    {
     "name": "stderr",
     "output_type": "stream",
     "text": [
      "Processing query part 0: 4260it [02:10, 32.06it/s]"
     ]
    },
    {
     "name": "stdout",
     "output_type": "stream",
     "text": [
      "4844 4153.815476190476\n",
      "4845 3929.236890589569\n",
      "4846 4325.521400226758\n",
      "4847 4299.9957482993195\n",
      "4848 4415.0525793650795\n",
      "4849 3924.9694586167802\n",
      "485 3976.281675170068\n"
     ]
    },
    {
     "name": "stderr",
     "output_type": "stream",
     "text": [
      "Processing query part 0: 4268it [02:10, 32.84it/s]"
     ]
    },
    {
     "name": "stdout",
     "output_type": "stream",
     "text": [
      "4850 4069.106434240363\n",
      "4851 3985.2692743764173\n",
      "4852 4012.0881519274376\n",
      "4853 4082.2115929705215\n",
      "4854 4099.513038548753\n",
      "4855 4094.6612103174602\n",
      "4856 4139.525935374149\n"
     ]
    },
    {
     "name": "stderr",
     "output_type": "stream",
     "text": [
      "Processing query part 0: 4276it [02:10, 31.94it/s]"
     ]
    },
    {
     "name": "stdout",
     "output_type": "stream",
     "text": [
      "4857 3927.294784580499\n",
      "4858 4241.946924603175\n",
      "4859 4165.281533446712\n",
      "486 4135.186295351474\n",
      "4860 4133.375425170068\n",
      "4861 4064.919005102041\n",
      "4862 4378.655045351474\n"
     ]
    },
    {
     "name": "stderr",
     "output_type": "stream",
     "text": [
      "\r",
      "Processing query part 0: 4280it [02:10, 30.69it/s]"
     ]
    },
    {
     "name": "stdout",
     "output_type": "stream",
     "text": [
      "4863 4508.257298752835\n",
      "4864 4218.294571995465\n",
      "4865 4064.3810232426304\n",
      "4866 4221.3785430839\n",
      "4867 4503.351969954649\n",
      "4868 4252.452522675737\n"
     ]
    },
    {
     "name": "stderr",
     "output_type": "stream",
     "text": [
      "Processing query part 0: 4288it [02:11, 30.75it/s]"
     ]
    },
    {
     "name": "stdout",
     "output_type": "stream",
     "text": [
      "4869 3900.1597930839002\n",
      "487 3918.7434098639455\n",
      "4870 4096.257865646258\n",
      "4871 3941.748653628118\n",
      "4872 4296.541950113378\n",
      "4873 4016.0847505668935\n",
      "4874 4300.642644557823\n"
     ]
    },
    {
     "name": "stderr",
     "output_type": "stream",
     "text": [
      "Processing query part 0: 4296it [02:11, 32.22it/s]"
     ]
    },
    {
     "name": "stdout",
     "output_type": "stream",
     "text": [
      "4875 4180.323625283447\n",
      "4876 4260.027069160998\n",
      "4877 4185.71485260771\n",
      "4878 4229.838151927438\n",
      "4879 3914.2420634920636\n",
      "488 4053.8360260770974\n",
      "4880 4038.0549886621316\n"
     ]
    },
    {
     "name": "stderr",
     "output_type": "stream",
     "text": [
      "\r",
      "Processing query part 0: 4300it [02:11, 31.94it/s]"
     ]
    },
    {
     "name": "stdout",
     "output_type": "stream",
     "text": [
      "4881 4072.1847363945576\n",
      "4882 3925.87677154195\n",
      "4883 4192.8451672335605\n",
      "4884 4377.983843537415\n",
      "4885 3877.18714569161\n",
      "4886 3930.2712585034014\n",
      "4887 4230.181405895692\n"
     ]
    },
    {
     "name": "stderr",
     "output_type": "stream",
     "text": [
      "Processing query part 0: 4308it [02:11, 31.53it/s]"
     ]
    },
    {
     "name": "stdout",
     "output_type": "stream",
     "text": [
      "4888 4046.261196145125\n",
      "4889 3997.873015873016\n",
      "489 4005.1471797052154\n",
      "4890 4171.002480158731\n",
      "4891 4088.0231009070294\n",
      "4892 4024.137613378685\n",
      "4893 4018.24716553288\n",
      "4894 3965.1437074829932\n"
     ]
    },
    {
     "name": "stderr",
     "output_type": "stream",
     "text": [
      "Processing query part 0: 4316it [02:12, 32.23it/s]"
     ]
    },
    {
     "name": "stdout",
     "output_type": "stream",
     "text": [
      "4895 4025.0049603174602\n",
      "4896 4003.5427295918366\n",
      "4897 4149.729308390023\n",
      "4898 4090.2624007936506\n",
      "4899 4130.359197845805\n",
      "49 3855.8859126984125\n",
      "490 4164.575325963719\n",
      "4900 3912.462939342404\n"
     ]
    },
    {
     "name": "stderr",
     "output_type": "stream",
     "text": [
      "Processing query part 0: 4324it [02:12, 33.27it/s]"
     ]
    },
    {
     "name": "stdout",
     "output_type": "stream",
     "text": [
      "4901 4125.6633361678005\n",
      "4902 4099.732922335601\n",
      "4903 3846.9929138321995\n",
      "4904 4070.7156320861677\n",
      "4905 4077.2213718820863\n",
      "4906 4179.488378684808\n",
      "4907 4339.184098639455\n",
      "4908 4379.7552437641725\n"
     ]
    },
    {
     "name": "stderr",
     "output_type": "stream",
     "text": [
      "Processing query part 0: 4332it [02:12, 33.95it/s]"
     ]
    },
    {
     "name": "stdout",
     "output_type": "stream",
     "text": [
      "4909 4433.826743197279\n",
      "491 3906.8368764172337\n",
      "4910 3981.3203656462583\n",
      "4911 4231.918296485261\n",
      "4912 4144.936578798186\n",
      "4913 3946.142502834467\n",
      "4914 3973.467899659864\n"
     ]
    },
    {
     "name": "stderr",
     "output_type": "stream",
     "text": [
      "Processing query part 0: 4340it [02:12, 33.93it/s]"
     ]
    },
    {
     "name": "stdout",
     "output_type": "stream",
     "text": [
      "4915 4061.2542517006805\n",
      "4916 4280.387046485261\n",
      "4917 3960.356788548753\n",
      "4918 3843.1763747165533\n",
      "4919 4086.844175170068\n",
      "492 4316.350269274377\n",
      "4920 3884.2693452380954\n"
     ]
    },
    {
     "name": "stderr",
     "output_type": "stream",
     "text": [
      "Processing query part 0: 4348it [02:12, 33.82it/s]"
     ]
    },
    {
     "name": "stdout",
     "output_type": "stream",
     "text": [
      "4921 3983.730513038549\n",
      "4922 3990.219883786848\n",
      "4923 3963.7557397959185\n",
      "4924 3991.282596371882\n",
      "4925 4320.201672335601\n",
      "4926 4007.940051020408\n",
      "4927 3855.2850056689344\n",
      "4928 4253.915391156463\n"
     ]
    },
    {
     "name": "stderr",
     "output_type": "stream",
     "text": [
      "Processing query part 0: 4356it [02:13, 33.54it/s]"
     ]
    },
    {
     "name": "stdout",
     "output_type": "stream",
     "text": [
      "493 3969.016227324263\n",
      "4930 3987.359481292517\n",
      "4931 4183.630031179138\n",
      "4932 4108.827735260771\n",
      "4933 4150.701884920635\n",
      "4934 5646.980725623583\n",
      "4935 4139.919855442177\n",
      "4936 4017.905470521542\n"
     ]
    },
    {
     "name": "stderr",
     "output_type": "stream",
     "text": [
      "Processing query part 0: 4364it [02:13, 33.44it/s]"
     ]
    },
    {
     "name": "stdout",
     "output_type": "stream",
     "text": [
      "4937 3814.591907596372\n",
      "4938 3960.716907596372\n",
      "4939 4134.28231292517\n",
      "494 4348.967757936508\n",
      "4940 4012.221301020408\n",
      "4941 4133.106434240362\n",
      "4942 4094.0055980725624\n"
     ]
    },
    {
     "name": "stderr",
     "output_type": "stream",
     "text": [
      "\r",
      "Processing query part 0: 4368it [02:13, 34.29it/s]"
     ]
    },
    {
     "name": "stdout",
     "output_type": "stream",
     "text": [
      "4943 4031.481788548753\n",
      "4944 4022.8195861678005\n",
      "4945 4188.494472789115\n",
      "4946 3929.1607851473923\n",
      "4947 4100.946074263038\n",
      "4948 3970.4612386621316\n",
      "4949 4292.78089569161\n"
     ]
    },
    {
     "name": "stderr",
     "output_type": "stream",
     "text": [
      "Processing query part 0: 4376it [02:13, 33.31it/s]"
     ]
    },
    {
     "name": "stdout",
     "output_type": "stream",
     "text": [
      "495 4396.681193310657\n",
      "4950 4174.671626984127\n",
      "4951 4029.4910005668935\n",
      "4952 3926.955640589569\n",
      "4953 4276.752551020408\n",
      "4954 4195.250070861678\n",
      "4955 4113.839781746032\n"
     ]
    },
    {
     "name": "stderr",
     "output_type": "stream",
     "text": [
      "Processing query part 0: 4384it [02:14, 32.63it/s]"
     ]
    },
    {
     "name": "stdout",
     "output_type": "stream",
     "text": [
      "4956 4320.750425170068\n",
      "4957 4154.4168792517\n",
      "4958 4276.564767573696\n",
      "4959 4211.675311791383\n",
      "496 4190.888180272109\n",
      "4960 4103.379535147393\n",
      "4961 4321.475198412699\n"
     ]
    },
    {
     "name": "stderr",
     "output_type": "stream",
     "text": [
      "Processing query part 0: 4392it [02:14, 32.97it/s]"
     ]
    },
    {
     "name": "stdout",
     "output_type": "stream",
     "text": [
      "4962 3932.418367346939\n",
      "4963 4051.2448979591836\n",
      "4964 4233.9350907029475\n",
      "4965 3792.71591553288\n",
      "4966 4093.858489229025\n",
      "4967 3966.7160572562357\n",
      "4968 4237.845734126984\n"
     ]
    },
    {
     "name": "stderr",
     "output_type": "stream",
     "text": [
      "\r",
      "Processing query part 0: 4396it [02:14, 31.71it/s]"
     ]
    },
    {
     "name": "stdout",
     "output_type": "stream",
     "text": [
      "4969 3911.2281037414964\n",
      "497 4257.389243197279\n",
      "4970 4118.102536848072\n",
      "4971 4011.918083900227\n",
      "4972 4208.405683106576\n",
      "4973 4142.748157596372\n",
      "4974 3938.205073696145\n"
     ]
    },
    {
     "name": "stderr",
     "output_type": "stream",
     "text": [
      "Processing query part 0: 4404it [02:14, 33.45it/s]"
     ]
    },
    {
     "name": "stdout",
     "output_type": "stream",
     "text": [
      "4975 4034.061507936508\n",
      "4976 4254.290745464853\n",
      "4977 3954.620606575964\n",
      "4978 4635.784722222223\n",
      "4979 3778.78302154195\n",
      "498 4286.254676870748\n",
      "4980 4199.25283446712\n",
      "4981 3964.6972080498867\n"
     ]
    },
    {
     "name": "stderr",
     "output_type": "stream",
     "text": [
      "Processing query part 0: 4412it [02:14, 32.28it/s]"
     ]
    },
    {
     "name": "stdout",
     "output_type": "stream",
     "text": [
      "4982 4391.754676870748\n",
      "4983 4062.1799178004535\n",
      "4984 4085.269912131519\n",
      "4985 4174.2334183673465\n",
      "4986 4166.374220521542\n",
      "4987 4491.7485119047615\n",
      "4988 3929.3977465986395\n"
     ]
    },
    {
     "name": "stderr",
     "output_type": "stream",
     "text": [
      "Processing query part 0: 4420it [02:15, 32.33it/s]"
     ]
    },
    {
     "name": "stdout",
     "output_type": "stream",
     "text": [
      "4989 4297.4019982993195\n",
      "499 3811.7579365079364\n",
      "4990 4007.560657596372\n",
      "4991 3956.4099348072564\n",
      "4992 4162.3714569161\n",
      "4993 4295.275439342404\n",
      "4994 4141.88066893424\n",
      "4995 3889.7589285714284\n"
     ]
    },
    {
     "name": "stderr",
     "output_type": "stream",
     "text": [
      "Processing query part 0: 4428it [02:15, 32.72it/s]"
     ]
    },
    {
     "name": "stdout",
     "output_type": "stream",
     "text": [
      "4996 4047.5647675736964\n",
      "4997 4055.6682964852607\n",
      "4998 4091.3677012471653\n",
      "4999 4052.580569727891\n",
      "5 4078.4992913832198\n",
      "50 4307.012896825397\n",
      "500 4155.153698979592\n"
     ]
    },
    {
     "name": "stderr",
     "output_type": "stream",
     "text": [
      "Processing query part 0: 4437it [02:15, 34.85it/s]"
     ]
    },
    {
     "name": "stdout",
     "output_type": "stream",
     "text": [
      "5000 4190.967757936508\n",
      "5001 4070.282100340136\n",
      "5002 4178.354237528345\n",
      "5003 3849.722718253968\n",
      "5004 4071.328514739229\n",
      "5005 4222.320082199546\n",
      "5006 3976.316326530612\n",
      "5007 3912.9597505668935\n"
     ]
    },
    {
     "name": "stderr",
     "output_type": "stream",
     "text": [
      "\r",
      "Processing query part 0: 4441it [02:15, 33.25it/s]"
     ]
    },
    {
     "name": "stdout",
     "output_type": "stream",
     "text": [
      "5008 4053.0255102040815\n",
      "5009 4236.08985260771\n",
      "501 4012.1483843537417\n",
      "5010 3941.2714002267576\n",
      "5011 3994.4761904761904\n",
      "5012 3796.1917517006805\n",
      "5013 4072.5222505668935\n"
     ]
    },
    {
     "name": "stderr",
     "output_type": "stream",
     "text": [
      "Processing query part 0: 4449it [02:16, 33.66it/s]"
     ]
    },
    {
     "name": "stdout",
     "output_type": "stream",
     "text": [
      "5014 4328.608489229025\n",
      "5015 4063.970308956916\n",
      "5016 4134.4786706349205\n",
      "5017 3821.7108134920636\n",
      "5018 3917.5857426303855\n",
      "5019 4061.940405328798\n",
      "502 4038.421201814059\n"
     ]
    },
    {
     "name": "stderr",
     "output_type": "stream",
     "text": [
      "Processing query part 0: 4457it [02:16, 31.79it/s]"
     ]
    },
    {
     "name": "stdout",
     "output_type": "stream",
     "text": [
      "503 3988.9445153061224\n",
      "504 3767.200751133787\n",
      "505 4328.647817460317\n",
      "506 4025.1665958049884\n",
      "507 4028.6135912698414\n",
      "508 4490.28125\n",
      "509 4040.936862244898\n"
     ]
    },
    {
     "name": "stderr",
     "output_type": "stream",
     "text": [
      "Processing query part 0: 4465it [02:16, 32.71it/s]"
     ]
    },
    {
     "name": "stdout",
     "output_type": "stream",
     "text": [
      "51 4328.517998866213\n",
      "510 4021.0091411564626\n",
      "511 4160.365221088436\n",
      "512 4282.602536848072\n",
      "513 4475.90625\n",
      "514 3930.541950113379\n",
      "515 4593.161281179138\n"
     ]
    },
    {
     "name": "stderr",
     "output_type": "stream",
     "text": [
      "\r",
      "Processing query part 0: 4469it [02:16, 31.25it/s]"
     ]
    },
    {
     "name": "stdout",
     "output_type": "stream",
     "text": [
      "516 4140.4673327664395\n",
      "517 4326.412769274377\n",
      "518 4035.8073979591836\n",
      "519 4112.011408730159\n",
      "52 4136.573270975056\n",
      "520 3890.9642148526077\n",
      "521 4076.7219387755104\n"
     ]
    },
    {
     "name": "stderr",
     "output_type": "stream",
     "text": [
      "Processing query part 0: 4477it [02:16, 31.82it/s]"
     ]
    },
    {
     "name": "stdout",
     "output_type": "stream",
     "text": [
      "522 4375.051232993197\n",
      "523 4170.299603174603\n",
      "524 4135.374787414966\n",
      "525 3951.62216553288\n",
      "526 3914.3213577097504\n",
      "527 4261.992772108843\n",
      "528 4143.579648526077\n",
      "529 4118.65625\n"
     ]
    },
    {
     "name": "stderr",
     "output_type": "stream",
     "text": [
      "Processing query part 0: 4485it [02:17, 32.52it/s]"
     ]
    },
    {
     "name": "stdout",
     "output_type": "stream",
     "text": [
      "53 4153.571782879819\n",
      "530 4007.769132653061\n",
      "531 4077.8737953514737\n",
      "532 4091.9557823129253\n",
      "533 4555.93679138322\n",
      "534 4197.3480017006805\n",
      "535 3999.1480300453513\n",
      "536 4235.777565192744\n"
     ]
    },
    {
     "name": "stderr",
     "output_type": "stream",
     "text": [
      "Processing query part 0: 4493it [02:17, 34.24it/s]"
     ]
    },
    {
     "name": "stdout",
     "output_type": "stream",
     "text": [
      "537 3899.544501133787\n",
      "538 4126.663265306122\n",
      "539 4244.16014739229\n",
      "54 4280.069160997732\n",
      "540 4093.6641156462583\n",
      "541 4603.085104875284\n",
      "542 4075.168013038549\n",
      "543 3820.9159580498867\n"
     ]
    },
    {
     "name": "stderr",
     "output_type": "stream",
     "text": [
      "Processing query part 0: 4501it [02:17, 33.67it/s]"
     ]
    },
    {
     "name": "stdout",
     "output_type": "stream",
     "text": [
      "544 4022.8878968253966\n",
      "545 4153.146045918367\n",
      "546 4271.132015306122\n",
      "547 4018.6276927437643\n",
      "548 3883.0407454648525\n",
      "549 4044.057681405896\n",
      "55 3838.5877267573696\n"
     ]
    },
    {
     "name": "stderr",
     "output_type": "stream",
     "text": [
      "Processing query part 0: 4509it [02:17, 32.00it/s]"
     ]
    },
    {
     "name": "stdout",
     "output_type": "stream",
     "text": [
      "550 4467.195861678005\n",
      "551 4039.590348639456\n",
      "552 3828.6110402494332\n",
      "553 4466.533588435374\n",
      "554 4154.485048185941\n",
      "555 4019.9737811791383\n"
     ]
    },
    {
     "name": "stderr",
     "output_type": "stream",
     "text": [
      "Processing query part 0: 4517it [02:18, 31.70it/s]"
     ]
    },
    {
     "name": "stdout",
     "output_type": "stream",
     "text": [
      "556 4114.368693310657\n",
      "557 4126.94210600907\n",
      "558 3847.515022675737\n",
      "559 4221.033234126984\n",
      "56 4258.959254535147\n",
      "560 4365.708758503401\n",
      "561 4116.012684240362\n",
      "562 4276.809948979592\n"
     ]
    },
    {
     "name": "stderr",
     "output_type": "stream",
     "text": [
      "\r",
      "Processing query part 0: 4521it [02:18, 32.51it/s]"
     ]
    },
    {
     "name": "stdout",
     "output_type": "stream",
     "text": [
      "563 4235.244189342404\n",
      "564 4134.822916666667\n",
      "565 3907.0246598639455\n",
      "566 4157.889597505669\n",
      "567 4135.545209750567\n",
      "568 4206.237174036281\n",
      "569 4067.5456349206347\n"
     ]
    },
    {
     "name": "stderr",
     "output_type": "stream",
     "text": [
      "Processing query part 0: 4529it [02:18, 31.81it/s]"
     ]
    },
    {
     "name": "stdout",
     "output_type": "stream",
     "text": [
      "57 4072.6422902494332\n",
      "570 4043.9315476190477\n",
      "571 3893.197774943311\n",
      "572 4188.075751133787\n",
      "573 4128.343183106576\n",
      "574 3919.236323696145\n",
      "575 3972.3648667800453\n"
     ]
    },
    {
     "name": "stderr",
     "output_type": "stream",
     "text": [
      "Processing query part 0: 4537it [02:18, 32.32it/s]"
     ]
    },
    {
     "name": "stdout",
     "output_type": "stream",
     "text": [
      "576 4086.113732993197\n",
      "577 3922.136196145125\n",
      "578 4554.918225623583\n",
      "579 4344.468962585034\n",
      "58 4117.726261337869\n",
      "580 4588.055272108843\n",
      "581 4610.728741496599\n"
     ]
    },
    {
     "name": "stderr",
     "output_type": "stream",
     "text": [
      "Processing query part 0: 4545it [02:19, 31.14it/s]"
     ]
    },
    {
     "name": "stdout",
     "output_type": "stream",
     "text": [
      "582 4079.373724489796\n",
      "583 4248.603458049886\n",
      "584 4211.125425170068\n",
      "585 4145.443735827665\n",
      "586 4039.8157596371884\n",
      "587 3951.7739512471653\n",
      "588 3820.171343537415\n"
     ]
    },
    {
     "name": "stderr",
     "output_type": "stream",
     "text": [
      "\r",
      "Processing query part 0: 4549it [02:19, 31.42it/s]"
     ]
    },
    {
     "name": "stdout",
     "output_type": "stream",
     "text": [
      "589 3980.9627976190477\n",
      "59 4063.7741638321995\n",
      "590 4296.812074829932\n",
      "591 4125.890447845805\n",
      "592 4083.573200113379\n",
      "593 3938.777919501134\n",
      "594 4240.038903061224\n"
     ]
    },
    {
     "name": "stderr",
     "output_type": "stream",
     "text": [
      "Processing query part 0: 4557it [02:19, 32.88it/s]"
     ]
    },
    {
     "name": "stdout",
     "output_type": "stream",
     "text": [
      "595 3888.408234126984\n",
      "596 3889.8641581632655\n",
      "597 4111.157808956916\n",
      "598 4008.0690192743764\n",
      "599 4026.533234126984\n",
      "6 4076.923256802721\n",
      "60 4226.051941609977\n",
      "600 4036.013534580499\n"
     ]
    },
    {
     "name": "stderr",
     "output_type": "stream",
     "text": [
      "Processing query part 0: 4565it [02:19, 32.78it/s]"
     ]
    },
    {
     "name": "stdout",
     "output_type": "stream",
     "text": [
      "601 4269.445011337869\n",
      "602 4364.462939342404\n",
      "603 4323.9900793650795\n",
      "604 3931.388818027211\n",
      "605 4045.765518707483\n",
      "606 4023.564909297052\n",
      "607 4088.3484268707484\n"
     ]
    },
    {
     "name": "stderr",
     "output_type": "stream",
     "text": [
      "Processing query part 0: 4573it [02:19, 32.36it/s]"
     ]
    },
    {
     "name": "stdout",
     "output_type": "stream",
     "text": [
      "608 4040.7247023809523\n",
      "609 3996.389030612245\n",
      "61 4165.516369047619\n",
      "610 4051.6320861678005\n",
      "611 3996.903840702948\n",
      "612 3862.5575396825398\n",
      "613 4322.474348072562\n"
     ]
    },
    {
     "name": "stderr",
     "output_type": "stream",
     "text": [
      "Processing query part 0: 4581it [02:20, 32.49it/s]"
     ]
    },
    {
     "name": "stdout",
     "output_type": "stream",
     "text": [
      "614 4002.691468253968\n",
      "615 4104.150651927438\n",
      "616 4133.895904195011\n",
      "617 3969.1906179138323\n",
      "618 4063.8057681405894\n",
      "619 4027.0209041950116\n",
      "62 3883.0710034013605\n"
     ]
    },
    {
     "name": "stderr",
     "output_type": "stream",
     "text": [
      "\r",
      "Processing query part 0: 4585it [02:20, 32.71it/s]"
     ]
    },
    {
     "name": "stdout",
     "output_type": "stream",
     "text": [
      "620 4255.796626984127\n",
      "621 4194.885983560091\n",
      "622 4203.202806122449\n",
      "623 4303.452664399093\n",
      "624 3955.8036422902496\n",
      "625 4366.5932539682535\n",
      "626 3941.599560657596\n"
     ]
    },
    {
     "name": "stderr",
     "output_type": "stream",
     "text": [
      "Processing query part 0: 4593it [02:20, 32.22it/s]"
     ]
    },
    {
     "name": "stdout",
     "output_type": "stream",
     "text": [
      "627 4372.093820861678\n",
      "628 4154.073483560091\n",
      "629 4019.43360260771\n",
      "63 3951.795989229025\n",
      "630 4021.3400651927436\n",
      "631 4024.4866071428573\n",
      "632 3992.125425170068\n"
     ]
    },
    {
     "name": "stderr",
     "output_type": "stream",
     "text": [
      "Processing query part 0: 4601it [02:20, 31.12it/s]"
     ]
    },
    {
     "name": "stdout",
     "output_type": "stream",
     "text": [
      "633 4287.694302721088\n",
      "634 3888.455569727891\n",
      "635 4121.103032879819\n",
      "636 4105.109268707483\n",
      "637 4092.309452947846\n",
      "638 3919.0970096371884\n",
      "639 4515.853103741497\n"
     ]
    },
    {
     "name": "stderr",
     "output_type": "stream",
     "text": [
      "Processing query part 0: 4609it [02:20, 33.02it/s]"
     ]
    },
    {
     "name": "stdout",
     "output_type": "stream",
     "text": [
      "64 3914.15093537415\n",
      "640 3981.6338577097504\n",
      "641 4103.644628684808\n",
      "642 3829.6765873015875\n",
      "643 3895.3157596371884\n",
      "644 4120.577947845805\n",
      "645 3935.7990362811793\n",
      "646 4096.146612811792\n"
     ]
    },
    {
     "name": "stderr",
     "output_type": "stream",
     "text": [
      "Processing query part 0: 4617it [02:21, 33.33it/s]"
     ]
    },
    {
     "name": "stdout",
     "output_type": "stream",
     "text": [
      "647 3897.9917091836733\n",
      "648 3853.761267006803\n",
      "649 4048.219387755102\n",
      "65 4025.886833900227\n",
      "650 4074.110402494331\n",
      "651 4084.2219387755104\n",
      "652 4255.277494331066\n",
      "653 4035.62748015873\n"
     ]
    },
    {
     "name": "stderr",
     "output_type": "stream",
     "text": [
      "Processing query part 0: 4625it [02:21, 33.91it/s]"
     ]
    },
    {
     "name": "stdout",
     "output_type": "stream",
     "text": [
      "654 3988.557114512472\n",
      "655 3906.4779620181407\n",
      "656 4045.4756235827663\n",
      "657 4134.253968253968\n",
      "658 4160.564200680272\n",
      "659 4240.915887188208\n",
      "66 4248.715136054422\n"
     ]
    },
    {
     "name": "stderr",
     "output_type": "stream",
     "text": [
      "\r",
      "Processing query part 0: 4629it [02:21, 32.83it/s]"
     ]
    },
    {
     "name": "stdout",
     "output_type": "stream",
     "text": [
      "660 4128.812287414966\n",
      "661 3836.236678004535\n",
      "662 4161.563350340136\n",
      "663 4445.195223922902\n",
      "664 4182.340632086168\n",
      "665 4216.950821995465\n",
      "666 4133.510062358277\n"
     ]
    },
    {
     "name": "stderr",
     "output_type": "stream",
     "text": [
      "Processing query part 0: 4637it [02:21, 32.74it/s]"
     ]
    },
    {
     "name": "stdout",
     "output_type": "stream",
     "text": [
      "667 4262.745252267574\n",
      "668 4007.6481009070294\n",
      "669 4163.004180839002\n",
      "67 3858.8493480725624\n",
      "670 4328.598143424037\n",
      "671 4046.2155612244896\n",
      "672 3867.1160714285716\n",
      "673 4124.361748866213\n"
     ]
    },
    {
     "name": "stderr",
     "output_type": "stream",
     "text": [
      "Processing query part 0: 4645it [02:22, 32.00it/s]"
     ]
    },
    {
     "name": "stdout",
     "output_type": "stream",
     "text": [
      "674 3830.998370181406\n",
      "675 3931.406816893424\n",
      "676 3880.673752834467\n",
      "677 4036.081136621315\n",
      "678 4316.050949546485\n",
      "679 4269.582695578231\n",
      "68 3954.6349914965986\n"
     ]
    },
    {
     "name": "stderr",
     "output_type": "stream",
     "text": [
      "Processing query part 0: 4653it [02:22, 33.25it/s]"
     ]
    },
    {
     "name": "stdout",
     "output_type": "stream",
     "text": [
      "680 3845.531391723356\n",
      "681 4119.062358276644\n",
      "682 4012.7594954648525\n",
      "683 4030.455994897959\n",
      "684 4212.876842403628\n",
      "685 4117.094600340136\n",
      "686 4285.427083333333\n"
     ]
    },
    {
     "name": "stderr",
     "output_type": "stream",
     "text": [
      "Processing query part 0: 4661it [02:22, 33.04it/s]"
     ]
    },
    {
     "name": "stdout",
     "output_type": "stream",
     "text": [
      "687 4181.428358843537\n",
      "688 3968.231505102041\n",
      "689 4132.47158446712\n",
      "69 4113.030966553288\n",
      "690 4187.8347505668935\n",
      "691 3939.7108134920636\n",
      "692 4150.8802437641725\n",
      "693 4058.215419501134\n"
     ]
    },
    {
     "name": "stderr",
     "output_type": "stream",
     "text": [
      "Processing query part 0: 4669it [02:22, 32.86it/s]"
     ]
    },
    {
     "name": "stdout",
     "output_type": "stream",
     "text": [
      "694 4407.65908446712\n",
      "695 4304.940051020408\n",
      "696 4123.001913265306\n",
      "697 4088.1789257369614\n",
      "698 4082.6947987528347\n",
      "699 4087.5245890022675\n",
      "7 4188.910430839002\n"
     ]
    },
    {
     "name": "stderr",
     "output_type": "stream",
     "text": [
      "\r",
      "Processing query part 0: 4673it [02:22, 33.28it/s]"
     ]
    },
    {
     "name": "stdout",
     "output_type": "stream",
     "text": [
      "70 3903.691964285714\n",
      "700 3967.5841128117913\n",
      "701 3999.545776643991\n",
      "702 4243.659297052154\n",
      "703 4132.493764172335\n",
      "704 3948.625496031746\n",
      "705 4151.983914399093\n"
     ]
    },
    {
     "name": "stderr",
     "output_type": "stream",
     "text": [
      "Processing query part 0: 4681it [02:23, 33.75it/s]"
     ]
    },
    {
     "name": "stdout",
     "output_type": "stream",
     "text": [
      "706 4026.837443310658\n",
      "707 3839.309594671202\n",
      "708 3969.5049603174602\n",
      "709 3924.9143282312925\n",
      "71 4039.0843962585036\n",
      "710 4329.688492063492\n",
      "711 4100.750425170068\n",
      "712 4195.0904195011335\n"
     ]
    },
    {
     "name": "stderr",
     "output_type": "stream",
     "text": [
      "Processing query part 0: 4689it [02:23, 34.26it/s]"
     ]
    },
    {
     "name": "stdout",
     "output_type": "stream",
     "text": [
      "713 4151.2002551020405\n",
      "714 3903.3525368480728\n",
      "715 4134.586238662131\n",
      "716 4317.138959750567\n",
      "717 4106.8714569161\n",
      "718 4148.274447278912\n",
      "719 4042.936011904762\n"
     ]
    },
    {
     "name": "stderr",
     "output_type": "stream",
     "text": [
      "Processing query part 0: 4697it [02:23, 32.14it/s]"
     ]
    },
    {
     "name": "stdout",
     "output_type": "stream",
     "text": [
      "72 4189.536068594104\n",
      "720 4064.794926303855\n",
      "721 4038.9143282312925\n",
      "722 4115.952593537415\n",
      "723 4073.7829506802723\n",
      "724 4162.9389172335605\n"
     ]
    },
    {
     "name": "stderr",
     "output_type": "stream",
     "text": [
      "Processing query part 0: 4705it [02:23, 32.43it/s]"
     ]
    },
    {
     "name": "stdout",
     "output_type": "stream",
     "text": [
      "725 4074.1590136054424\n",
      "726 4099.313421201814\n",
      "727 5175.090702947846\n",
      "728 4049.292517006803\n",
      "729 4189.067814625851\n",
      "73 4131.421060090703\n",
      "730 4154.799674036281\n",
      "731 4164.135345804989\n"
     ]
    },
    {
     "name": "stderr",
     "output_type": "stream",
     "text": [
      "Processing query part 0: 4713it [02:24, 33.30it/s]"
     ]
    },
    {
     "name": "stdout",
     "output_type": "stream",
     "text": [
      "732 3886.4641439909296\n",
      "733 3948.8229166666665\n",
      "734 3982.5202664399094\n",
      "735 4015.188066893424\n",
      "736 4276.6671626984125\n",
      "737 4171.910218253968\n",
      "738 3997.5783730158732\n",
      "739 4170.072208049886\n"
     ]
    },
    {
     "name": "stderr",
     "output_type": "stream",
     "text": [
      "Processing query part 0: 4721it [02:24, 34.51it/s]"
     ]
    },
    {
     "name": "stdout",
     "output_type": "stream",
     "text": [
      "74 4097.514880952381\n",
      "740 3992.750496031746\n",
      "741 4083.230442176871\n",
      "742 4052.9357993197277\n",
      "743 3921.641510770975\n",
      "744 4246.693735827665\n",
      "745 4105.7606292517\n",
      "746 4306.637471655329\n"
     ]
    },
    {
     "name": "stderr",
     "output_type": "stream",
     "text": [
      "\r",
      "Processing query part 0: 4725it [02:24, 34.77it/s]"
     ]
    },
    {
     "name": "stdout",
     "output_type": "stream",
     "text": [
      "747 3942.203302154195\n",
      "748 4034.812783446712\n",
      "749 4112.61933106576\n",
      "75 4078.1038123582766\n",
      "750 4285.759495464853\n",
      "751 3989.0744756235827\n",
      "752 4193.791666666667\n"
     ]
    },
    {
     "name": "stderr",
     "output_type": "stream",
     "text": [
      "Processing query part 0: 4733it [02:24, 34.19it/s]"
     ]
    },
    {
     "name": "stdout",
     "output_type": "stream",
     "text": [
      "753 4055.626275510204\n",
      "754 4008.9645691609976\n",
      "755 4112.008290816327\n",
      "756 4227.489299886622\n",
      "757 3953.528344671202\n",
      "758 4154.622307256236\n",
      "759 4312.603174603175\n"
     ]
    },
    {
     "name": "stderr",
     "output_type": "stream",
     "text": [
      "Processing query part 0: 4741it [02:24, 32.71it/s]"
     ]
    },
    {
     "name": "stdout",
     "output_type": "stream",
     "text": [
      "76 3911.223568594104\n",
      "760 3979.049886621315\n",
      "761 4192.780116213152\n",
      "762 4013.778202947846\n",
      "763 3983.1310941043084\n",
      "764 3979.2137896825398\n",
      "765 4152.657242063492\n"
     ]
    },
    {
     "name": "stderr",
     "output_type": "stream",
     "text": [
      "Processing query part 0: 4749it [02:25, 32.52it/s]"
     ]
    },
    {
     "name": "stdout",
     "output_type": "stream",
     "text": [
      "766 4052.1916808390024\n",
      "767 4103.616354875284\n",
      "768 3941.595804988662\n",
      "769 4344.360260770975\n",
      "77 4154.330357142857\n",
      "770 4064.0\n",
      "771 4161.553571428572\n"
     ]
    },
    {
     "name": "stderr",
     "output_type": "stream",
     "text": [
      "\r",
      "Processing query part 0: 4753it [02:25, 32.74it/s]"
     ]
    },
    {
     "name": "stdout",
     "output_type": "stream",
     "text": [
      "772 3943.7408588435374\n",
      "773 4017.502338435374\n",
      "774 3950.6005527210887\n",
      "775 4121.934452947846\n",
      "777 4123.1197562358275\n",
      "778 4044.5520833333335\n",
      "779 4191.11720521542\n"
     ]
    },
    {
     "name": "stderr",
     "output_type": "stream",
     "text": [
      "Processing query part 0: 4761it [02:25, 34.91it/s]"
     ]
    },
    {
     "name": "stdout",
     "output_type": "stream",
     "text": [
      "78 4162.6283304988665\n",
      "780 4092.550807823129\n",
      "781 3916.8046343537417\n",
      "782 4454.226686507936\n",
      "783 4088.466340702948\n",
      "784 3899.3465136054424\n",
      "785 4211.709325396825\n",
      "786 4116.860544217687\n"
     ]
    },
    {
     "name": "stderr",
     "output_type": "stream",
     "text": [
      "Processing query part 0: 4769it [02:25, 33.48it/s]"
     ]
    },
    {
     "name": "stdout",
     "output_type": "stream",
     "text": [
      "787 4205.37889739229\n",
      "788 4231.127763605442\n",
      "789 3878.9114937641725\n",
      "79 4255.4436649659865\n",
      "790 4183.100340136054\n",
      "791 3877.394132653061\n",
      "792 4041.21910430839\n"
     ]
    },
    {
     "name": "stderr",
     "output_type": "stream",
     "text": [
      "Processing query part 0: 4777it [02:26, 33.40it/s]"
     ]
    },
    {
     "name": "stdout",
     "output_type": "stream",
     "text": [
      "793 4035.2845096371884\n",
      "794 4156.905683106576\n",
      "795 3826.2237811791383\n",
      "796 4047.7073412698414\n",
      "797 4219.881873582766\n",
      "798 4270.921201814059\n",
      "799 4571.888251133787\n"
     ]
    },
    {
     "name": "stderr",
     "output_type": "stream",
     "text": [
      "Processing query part 0: 4785it [02:26, 34.32it/s]"
     ]
    },
    {
     "name": "stdout",
     "output_type": "stream",
     "text": [
      "8 3953.447278911565\n",
      "80 3992.4625141723354\n",
      "800 3840.375141723356\n",
      "801 4048.924674036281\n",
      "802 3964.282808956916\n",
      "803 4195.418296485261\n",
      "804 4038.8536706349205\n"
     ]
    },
    {
     "name": "stderr",
     "output_type": "stream",
     "text": [
      "\r",
      "Processing query part 0: 4789it [02:26, 32.29it/s]"
     ]
    },
    {
     "name": "stdout",
     "output_type": "stream",
     "text": [
      "805 4289.221655328798\n",
      "806 3999.7391581632655\n",
      "807 3949.2697704081634\n",
      "808 4085.7443310657595\n",
      "809 4050.4126984126983\n",
      "81 3904.5084325396824\n",
      "810 4405.893636621316\n"
     ]
    },
    {
     "name": "stderr",
     "output_type": "stream",
     "text": [
      "Processing query part 0: 4797it [02:26, 31.30it/s]"
     ]
    },
    {
     "name": "stdout",
     "output_type": "stream",
     "text": [
      "811 4138.87996031746\n",
      "812 4027.9153911564626\n",
      "813 4336.526077097506\n",
      "814 4029.017077664399\n",
      "815 4062.721655328798\n",
      "816 3960.560090702948\n",
      "817 4174.96556122449\n"
     ]
    },
    {
     "name": "stderr",
     "output_type": "stream",
     "text": [
      "Processing query part 0: 4805it [02:26, 32.34it/s]"
     ]
    },
    {
     "name": "stdout",
     "output_type": "stream",
     "text": [
      "818 4128.077026643991\n",
      "819 4024.501346371882\n",
      "82 4263.442531179138\n",
      "820 4178.848285147393\n",
      "821 3832.6034580498867\n",
      "822 4083.81533446712\n",
      "823 4182.220804988662\n",
      "824 4157.62110260771\n"
     ]
    },
    {
     "name": "stderr",
     "output_type": "stream",
     "text": [
      "Processing query part 0: 4813it [02:27, 32.85it/s]"
     ]
    },
    {
     "name": "stdout",
     "output_type": "stream",
     "text": [
      "825 4067.0386196145123\n",
      "826 4124.036352040816\n",
      "827 4028.8224914965986\n",
      "828 4080.7991071428573\n",
      "829 4325.461451247165\n",
      "83 4491.594175170068\n",
      "830 4105.3953373015875\n"
     ]
    },
    {
     "name": "stderr",
     "output_type": "stream",
     "text": [
      "Processing query part 0: 4821it [02:27, 33.20it/s]"
     ]
    },
    {
     "name": "stdout",
     "output_type": "stream",
     "text": [
      "831 4024.1180555555557\n",
      "832 4000.172689909297\n",
      "833 4165.474064625851\n",
      "834 3966.8835742630386\n",
      "835 4124.167729591837\n",
      "836 3796.7259070294785\n",
      "837 4140.01169217687\n",
      "838 4099.55753968254\n"
     ]
    },
    {
     "name": "stderr",
     "output_type": "stream",
     "text": [
      "Processing query part 0: 4829it [02:27, 31.86it/s]"
     ]
    },
    {
     "name": "stdout",
     "output_type": "stream",
     "text": [
      "839 4289.817956349207\n",
      "84 3855.9802295918366\n",
      "840 4193.186507936508\n",
      "841 4141.116638321995\n",
      "842 4178.427650226758\n",
      "843 3993.513676303855\n",
      "844 4340.259566326531\n"
     ]
    },
    {
     "name": "stderr",
     "output_type": "stream",
     "text": [
      "\r",
      "Processing query part 0: 4833it [02:27, 31.97it/s]"
     ]
    },
    {
     "name": "stdout",
     "output_type": "stream",
     "text": [
      "845 4076.498866213152\n",
      "846 4000.6169926303855\n",
      "847 4108.548681972789\n",
      "848 4061.9280045351475\n",
      "849 3915.312216553288\n",
      "85 4261.46910430839\n",
      "850 3940.3263888888887\n"
     ]
    },
    {
     "name": "stderr",
     "output_type": "stream",
     "text": [
      "Processing query part 0: 4841it [02:28, 29.61it/s]"
     ]
    },
    {
     "name": "stdout",
     "output_type": "stream",
     "text": [
      "851 4030.4766156462583\n",
      "852 4111.865221088436\n",
      "853 4100.774447278912\n",
      "854 4187.715844671202\n",
      "855 4026.420847505669\n",
      "856 3935.7765731292516\n"
     ]
    },
    {
     "name": "stderr",
     "output_type": "stream",
     "text": [
      "Processing query part 0: 4849it [02:28, 29.82it/s]"
     ]
    },
    {
     "name": "stdout",
     "output_type": "stream",
     "text": [
      "857 3975.0408163265306\n",
      "858 3935.636267006803\n",
      "859 4152.741638321995\n",
      "86 4005.919784580499\n",
      "860 4176.487953514739\n",
      "861 4410.171485260771\n",
      "862 4194.592403628118\n"
     ]
    },
    {
     "name": "stderr",
     "output_type": "stream",
     "text": [
      "\r",
      "Processing query part 0: 4853it [02:28, 31.11it/s]"
     ]
    },
    {
     "name": "stdout",
     "output_type": "stream",
     "text": [
      "863 4171.482993197279\n",
      "864 4045.4715136054424\n",
      "865 4269.757015306122\n",
      "866 3981.2507086167802\n",
      "867 4112.164186507936\n",
      "868 4336.275297619048\n",
      "869 4096.8669217687075\n"
     ]
    },
    {
     "name": "stderr",
     "output_type": "stream",
     "text": [
      "Processing query part 0: 4861it [02:28, 32.44it/s]"
     ]
    },
    {
     "name": "stdout",
     "output_type": "stream",
     "text": [
      "87 4159.3981717687075\n",
      "870 4016.7592120181407\n",
      "871 4183.149659863946\n",
      "872 4023.066893424036\n",
      "873 4022.455073696145\n",
      "874 4120.429563492064\n",
      "875 4220.9805839002265\n"
     ]
    },
    {
     "name": "stderr",
     "output_type": "stream",
     "text": [
      "Processing query part 0: 4869it [02:28, 32.53it/s]"
     ]
    },
    {
     "name": "stdout",
     "output_type": "stream",
     "text": [
      "876 4164.200184240362\n",
      "877 4290.902281746032\n",
      "878 4208.3214994331065\n",
      "879 4202.217757936508\n",
      "88 4059.769557823129\n",
      "880 4255.073696145125\n",
      "881 4192.544997165533\n"
     ]
    },
    {
     "name": "stderr",
     "output_type": "stream",
     "text": [
      "Processing query part 0: 4877it [02:29, 32.44it/s]"
     ]
    },
    {
     "name": "stdout",
     "output_type": "stream",
     "text": [
      "882 4150.399872448979\n",
      "883 4444.629393424037\n",
      "884 4174.124787414966\n",
      "885 4095.795776643991\n",
      "886 4019.642928004535\n",
      "887 4156.980017006803\n",
      "888 4420.476261337869\n"
     ]
    },
    {
     "name": "stderr",
     "output_type": "stream",
     "text": [
      "\r",
      "Processing query part 0: 4881it [02:29, 32.78it/s]"
     ]
    },
    {
     "name": "stdout",
     "output_type": "stream",
     "text": [
      "889 4230.480513038548\n",
      "89 4057.5949546485263\n",
      "890 4001.886337868481\n",
      "891 4067.841340702948\n",
      "892 4216.175382653061\n",
      "893 4305.031391723356\n",
      "894 4241.852465986394\n"
     ]
    },
    {
     "name": "stderr",
     "output_type": "stream",
     "text": [
      "Processing query part 0: 4889it [02:29, 31.83it/s]"
     ]
    },
    {
     "name": "stdout",
     "output_type": "stream",
     "text": [
      "895 4141.184098639455\n",
      "896 3932.485544217687\n",
      "897 4177.395124716553\n",
      "898 4083.9153202947846\n",
      "899 4040.9439484126983\n",
      "9 3966.4626558956916\n",
      "90 3941.498086734694\n"
     ]
    },
    {
     "name": "stderr",
     "output_type": "stream",
     "text": [
      "Processing query part 0: 4897it [02:29, 32.93it/s]"
     ]
    },
    {
     "name": "stdout",
     "output_type": "stream",
     "text": [
      "900 3881.3799603174602\n",
      "901 3970.734977324263\n",
      "902 4283.188704648526\n",
      "903 3960.244189342404\n",
      "904 4126.307327097506\n",
      "905 4250.301232993197\n",
      "906 4159.135204081633\n"
     ]
    },
    {
     "name": "stderr",
     "output_type": "stream",
     "text": [
      "Processing query part 0: 4905it [02:30, 32.41it/s]"
     ]
    },
    {
     "name": "stdout",
     "output_type": "stream",
     "text": [
      "907 3918.7824546485263\n",
      "908 4522.6804138321995\n",
      "909 4290.575963718821\n",
      "91 3988.4885912698414\n",
      "910 3886.2278202947846\n",
      "911 4476.189413265306\n",
      "912 4096.237032312925\n"
     ]
    },
    {
     "name": "stderr",
     "output_type": "stream",
     "text": [
      "\r",
      "Processing query part 0: 4909it [02:30, 33.15it/s]"
     ]
    },
    {
     "name": "stdout",
     "output_type": "stream",
     "text": [
      "913 4138.978387188208\n",
      "914 4019.3245464852607\n",
      "915 4173.340702947846\n",
      "916 4157.218537414966\n",
      "917 4101.279407596372\n",
      "918 4145.614512471655\n",
      "919 3938.6843112244896\n"
     ]
    },
    {
     "name": "stderr",
     "output_type": "stream",
     "text": [
      "Processing query part 0: 4917it [02:30, 31.82it/s]"
     ]
    },
    {
     "name": "stdout",
     "output_type": "stream",
     "text": [
      "92 4153.211522108843\n",
      "920 4172.870252267574\n",
      "921 3976.4085175736964\n",
      "922 4037.0491071428573\n",
      "923 4273.232568027211\n",
      "924 4082.8670634920636\n",
      "925 4084.6209608843537\n"
     ]
    },
    {
     "name": "stderr",
     "output_type": "stream",
     "text": [
      "Processing query part 0: 4925it [02:30, 33.60it/s]"
     ]
    },
    {
     "name": "stdout",
     "output_type": "stream",
     "text": [
      "926 4125.942389455782\n",
      "927 3963.026856575964\n",
      "928 4024.850056689342\n",
      "929 4138.448270975056\n",
      "93 4199.83985260771\n",
      "930 4119.770904195011\n",
      "931 4174.796272675737\n"
     ]
    },
    {
     "name": "stderr",
     "output_type": "stream",
     "text": [
      "Processing query part 0: 4933it [02:30, 32.85it/s]"
     ]
    },
    {
     "name": "stdout",
     "output_type": "stream",
     "text": [
      "932 3898.4891581632655\n",
      "933 4153.565547052154\n",
      "934 4042.2595663265306\n",
      "935 4284.138959750567\n",
      "936 4411.290320294785\n",
      "937 3916.0949546485263\n",
      "938 4084.843253968254\n"
     ]
    },
    {
     "name": "stderr",
     "output_type": "stream",
     "text": [
      "\r",
      "Processing query part 0: 4937it [02:31, 31.90it/s]"
     ]
    },
    {
     "name": "stdout",
     "output_type": "stream",
     "text": [
      "939 3904.6617063492063\n",
      "94 4007.448200113379\n",
      "940 4295.2704081632655\n",
      "941 4266.129109977324\n",
      "942 4262.982142857143\n",
      "943 3905.7728174603176\n",
      "944 3936.168367346939\n"
     ]
    },
    {
     "name": "stderr",
     "output_type": "stream",
     "text": [
      "Processing query part 0: 4945it [02:31, 33.44it/s]"
     ]
    },
    {
     "name": "stdout",
     "output_type": "stream",
     "text": [
      "945 4368.575538548753\n",
      "946 4069.668367346939\n",
      "947 4115.574971655329\n",
      "948 3887.1354166666665\n",
      "949 3856.4604591836733\n",
      "95 4247.7949263038545\n",
      "950 4265.347009637188\n",
      "951 3946.4533730158732\n"
     ]
    },
    {
     "name": "stderr",
     "output_type": "stream",
     "text": [
      "Processing query part 0: 4953it [02:31, 33.19it/s]"
     ]
    },
    {
     "name": "stdout",
     "output_type": "stream",
     "text": [
      "952 4011.6819727891157\n",
      "953 3990.3338293650795\n",
      "954 3966.698270975057\n",
      "955 4168.516935941043\n",
      "956 4575.273738662131\n",
      "957 3902.6822562358275\n",
      "958 4340.28408446712\n",
      "959 4234.365008503401\n"
     ]
    },
    {
     "name": "stderr",
     "output_type": "stream",
     "text": [
      "Processing query part 0: 4961it [02:31, 33.54it/s]"
     ]
    },
    {
     "name": "stdout",
     "output_type": "stream",
     "text": [
      "96 4045.9142573696145\n",
      "960 4041.7761479591836\n",
      "961 3912.65660430839\n",
      "962 4080.096159297052\n",
      "963 4190.797193877551\n",
      "964 4217.942318594104\n",
      "965 4236.525439342404\n"
     ]
    },
    {
     "name": "stderr",
     "output_type": "stream",
     "text": [
      "Processing query part 0: 4969it [02:32, 32.82it/s]"
     ]
    },
    {
     "name": "stdout",
     "output_type": "stream",
     "text": [
      "966 4098.185799319728\n",
      "967 3958.252409297052\n",
      "968 3997.2901785714284\n",
      "969 3926.021967120181\n",
      "97 3979.7583616780043\n",
      "970 4079.518565759637\n",
      "971 3959.8165391156463\n"
     ]
    },
    {
     "name": "stderr",
     "output_type": "stream",
     "text": [
      "Processing query part 0: 4977it [02:32, 31.81it/s]"
     ]
    },
    {
     "name": "stdout",
     "output_type": "stream",
     "text": [
      "972 4223.551799886622\n",
      "973 4155.118551587301\n",
      "974 4008.6631944444443\n",
      "975 4202.143565759638\n",
      "976 3935.767502834467\n",
      "977 4163.4625850340135\n",
      "978 4269.491709183673\n"
     ]
    },
    {
     "name": "stderr",
     "output_type": "stream",
     "text": [
      "Processing query part 0: 4985it [02:32, 34.62it/s]"
     ]
    },
    {
     "name": "stdout",
     "output_type": "stream",
     "text": [
      "979 4141.362457482993\n",
      "98 4027.7072704081634\n",
      "980 4026.765589569161\n",
      "981 3783.8516156462583\n",
      "982 3955.736323696145\n",
      "983 4006.534580498866\n",
      "984 3860.656816893424\n",
      "985 3962.2397959183672\n"
     ]
    },
    {
     "name": "stderr",
     "output_type": "stream",
     "text": [
      "\r",
      "Processing query part 0: 4989it [02:32, 33.14it/s]"
     ]
    },
    {
     "name": "stdout",
     "output_type": "stream",
     "text": [
      "986 4145.747023809524\n",
      "987 4083.2412840136053\n",
      "988 4149.24929138322\n",
      "989 4109.0856717687075\n",
      "99 3831.0717120181407\n",
      "990 4185.302721088436\n",
      "991 4140.657879818594\n"
     ]
    },
    {
     "name": "stderr",
     "output_type": "stream",
     "text": [
      "Processing query part 0: 4997it [02:32, 33.46it/s]"
     ]
    },
    {
     "name": "stdout",
     "output_type": "stream",
     "text": [
      "992 4023.876842403628\n",
      "993 4000.7379535147393\n",
      "994 3921.0257936507937\n",
      "995 3903.8073270975055\n",
      "996 4098.181972789115\n",
      "997 4524.84587585034\n",
      "998 4241.294997165533\n"
     ]
    },
    {
     "name": "stderr",
     "output_type": "stream",
     "text": [
      "Processing query part 0: 5000it [02:32, 32.69it/s]\n"
     ]
    },
    {
     "name": "stdout",
     "output_type": "stream",
     "text": [
      "999 4303.707341269841\n",
      "retrieval time for query 2714 is 156.60904812812805s\n",
      "For query image No. 2714, the top ranked similar image No. is 4256.\n"
     ]
    }
   ],
   "source": [
    "# the iteration loop for query \n",
    "# iteration times is 2 here, only for the demonstration\n",
    "for i, query_img_no in enumerate(query_imgs_no[0:1]):\n",
    "    \n",
    "    time_s = time.time()\n",
    "    dist_record=[]\n",
    "    per_query_name=path_query+'/'+str(query_img_no)+'.jpg'\n",
    "    per_query=cv2.imread(per_query_name)\n",
    "    gallery_imgs_no_desc=[]\n",
    "    \n",
    "    # read boundary from text file\n",
    "    queryfilename = path_query_txt+'/'+str(query_img_no)+'.txt'\n",
    "    boundary_file = open(queryfilename, 'r')\n",
    "    boundary = boundary_file.readline().strip().split(' ')\n",
    "    boundary = [int(b) for b in boundary]\n",
    "    boundary_file.close()\n",
    "    \n",
    "    # crop the image\n",
    "    x ,y, w, h = boundary\n",
    "    query_boundary = per_query[y:y+h, x:x+w]\n",
    "    \n",
    "    # feature extraction for per query\n",
    "    # the bounding box information is not considered\n",
    "    # quite naive, just an example\n",
    "    per_query_kp, per_query_des = sift.detectAndCompute(query_boundary,None)\n",
    "    \n",
    "    # the iteration loop for gallery\n",
    "    for j, gallery_img_no in tqdm(enumerate(gallery_imgs_no), desc=f\"Processing query part {i}\"):\n",
    "        per_gallery_name = path_gallery+'/'+str(gallery_img_no)+'.jpg'\n",
    "        per_gallery=cv2.imread(per_gallery_name)\n",
    "        \n",
    "        # feature extraction for per gallery\n",
    "        per_gallery_kp, per_gallery_des = sift.detectAndCompute(per_gallery,None)\n",
    "        \n",
    "        # use part of the features to make the calculation feasible\n",
    "        # quite naive, just an example\n",
    "#         matches = bf.knnMatch(np.asarray(per_query_des,np.float32),np.asarray(per_gallery_des,np.float32),k=2)\n",
    "        matches = flann.knnMatch(per_query_des.astype(np.float32),per_gallery_des.astype(np.float32),k=2)\n",
    "    \n",
    "        # Compute similarity score for each match\n",
    "        sim_scores = []\n",
    "        for match in matches:\n",
    "            if len(match) == 2:\n",
    "                (m,n) = match\n",
    "                query_desc = per_query_des[m.queryIdx]\n",
    "                gallery_desc = per_gallery_des[m.trainIdx]\n",
    "                sim_score = np.sum((np.double(query_desc)-np.double(gallery_desc))**2)/np.prod(np.shape(query_desc))\n",
    "                if np.isnan(sim_score):  # Check if similarity score is NaN\n",
    "                    continue\n",
    "                sim_scores.append(sim_score)\n",
    "\n",
    "        # Compute average similarity score for all matches\n",
    "        avg_sim_score = np.mean(sim_scores)\n",
    "        dist_record.append(avg_sim_score)\n",
    "#         cv2.imshow('result',per_result_img)\n",
    "#         cv2.waitKey(0)\n",
    "#         cv2.destroyAllWindows()\n",
    "\n",
    "    # find the indexes with descending similarity order\n",
    "    ascend_index=sorted(range(len(dist_record)), key=lambda k: dist_record[k])\n",
    "    # update the results for one query\n",
    "    for k in range(len(ascend_index)):\n",
    "        gallery_imgs_no_desc.append(np.array(gallery_imgs_no)[ascend_index[k]])\n",
    "    record_all[i,:]= gallery_imgs_no_desc\n",
    "    time_e = time.time()\n",
    "    sorted(dist_record)\n",
    "    print('retrieval time for query {} is {}s'.format(query_img_no, time_e-time_s))\n",
    "    query_idx = i\n",
    "    print(f'For query image No. {query_imgs_no[query_idx]}, the top ranked similar image No. is {gallery_imgs_no_desc[0]}.')"
   ]
  },
  {
   "cell_type": "markdown",
   "id": "ef9d3349",
   "metadata": {},
   "source": [
    "Output \n",
    "\n",
    "Save the rank list file."
   ]
  },
  {
   "cell_type": "code",
   "execution_count": 225,
   "id": "5e5c8170",
   "metadata": {},
   "outputs": [],
   "source": [
    "# write the output file following the example\n",
    "f=open(r'./rank_list.txt','w')\n",
    "for i in range(num_query):\n",
    "    f.write('Q'+str(i+1)+': ')\n",
    "    for j in range(len(name_gallery)):\n",
    "        f.write(str(np.int32(record_all[i,j]))+' ')\n",
    "    f.write('\\n')\n",
    "f.close()"
   ]
  }
 ],
 "metadata": {
  "kernelspec": {
   "display_name": "Python 3 (ipykernel)",
   "language": "python",
   "name": "python3"
  },
  "language_info": {
   "codemirror_mode": {
    "name": "ipython",
    "version": 3
   },
   "file_extension": ".py",
   "mimetype": "text/x-python",
   "name": "python",
   "nbconvert_exporter": "python",
   "pygments_lexer": "ipython3",
   "version": "3.9.13"
  },
  "vscode": {
   "interpreter": {
    "hash": "837b4ffd63ad5f8bd5765fb566d5ddb5232b205bbcd69cfbb0e2de9f87d13d59"
   }
  }
 },
 "nbformat": 4,
 "nbformat_minor": 5
}
