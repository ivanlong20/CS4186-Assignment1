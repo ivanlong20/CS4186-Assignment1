{
 "cells": [
  {
   "cell_type": "markdown",
   "id": "f22e4061",
   "metadata": {},
   "source": [
    "**Simple example for Asg1 with handcrafted feature**\n",
    "\n",
    "An example diagram for instance search.\n",
    "Please read the slide \"Information for Asg1\" first.\n",
    "\n",
    "In every bounding box file (the txt files), each line records the coordinates of one bounding box in format: x of top-left point, y of top-left point, width, height.\n",
    "\n",
    "The bounding box information is only provided for the query images.\n",
    "\n",
    "Notes: it's possible that there are more than one instances in a query image (see the annotation(s) in the corresponding txt file), you should find the most similar image rank list in the gallery by considering all the instances."
   ]
  },
  {
   "cell_type": "code",
   "execution_count": 19,
   "id": "2a23afb4",
   "metadata": {},
   "outputs": [],
   "source": [
    "import numpy as np \n",
    "import cv2 \n",
    "import pandas as pd\n",
    "import glob\n",
    "import time \n",
    "import matplotlib.pyplot as plt\n",
    "from tqdm import tqdm"
   ]
  },
  {
   "cell_type": "markdown",
   "id": "e51e5e91",
   "metadata": {},
   "source": [
    " Download the dataset from this linke [onedrive link](https://portland-my.sharepoint.com/:u:/g/personal/srwang3-c_my_cityu_edu_hk/EZ0BIZatMIJMoiCG4-uy6okBSlXLJD7TUyIDG1lbKUJ0eA?e=lbKz4a).\n",
    "And unzip the downloaded file into some path. \n",
    "> In this tutorial, the path is `/Users/txsing/datasets_4186`, please replace to your own accordingly.\n",
    "\n",
    "Initialize the necessary parameters, including paths, feature extractors."
   ]
  },
  {
   "cell_type": "code",
   "execution_count": 20,
   "id": "61bae164",
   "metadata": {
    "scrolled": true
   },
   "outputs": [],
   "source": [
    "download_path='D:/Users/KLIVANCHAN/Desktop/CityU' # change to your own download path\n",
    "path_query=download_path+'/query_4186'\n",
    "path_query_txt=download_path+'/query_txt_4186'\n",
    "\n",
    "# path_query_txt is the directory to the bounding box information of the instance(s) for the query images\n",
    "path_gallery=download_path+'/gallery_4186'\n",
    "\n",
    "name_query=glob.glob(path_query+'/*.jpg')\n",
    "num_query=len(name_query)\n",
    "name_gallery=glob.glob(path_gallery+'/*.jpg')\n",
    "num_gallery=len(name_gallery)\n",
    "sift = cv2.ORB_create()\n",
    "record_all=np.zeros((num_query,len(name_gallery)))\n",
    "\n",
    "query_imgs_no = [x.split('\\\\')[-1] for x in glob.glob(path_query+'/*.jpg')]\n",
    "query_imgs_no = [x[:-4] for x in query_imgs_no]\n",
    "\n",
    "gallery_imgs_no = [x.split('\\\\')[-1] for x in glob.glob(path_gallery+'/*.jpg')]\n",
    "gallery_imgs_no = [x[:-4] for x in gallery_imgs_no]"
   ]
  },
  {
   "cell_type": "markdown",
   "id": "33233d03",
   "metadata": {},
   "source": [
    "Process\n",
    "\n",
    "Feature extraction -> calculate distance -> compare"
   ]
  },
  {
   "cell_type": "code",
   "execution_count": 21,
   "id": "c2968b28",
   "metadata": {
    "scrolled": true
   },
   "outputs": [
    {
     "name": "stderr",
     "output_type": "stream",
     "text": [
      "Processing query part 0: 0it [00:00, ?it/s]"
     ]
    },
    {
     "name": "stdout",
     "output_type": "stream",
     "text": [
      "((< cv2.DMatch 0000016BCEAB07F0>, < cv2.DMatch 0000016BCEC52090>), (< cv2.DMatch 0000016BCEC52AD0>, < cv2.DMatch 0000016BCEC4D830>), (< cv2.DMatch 0000016BCEC4D290>, < cv2.DMatch 0000016BCEC4D330>), (< cv2.DMatch 0000016BCEC4D250>, < cv2.DMatch 0000016BCEC4DCF0>), (< cv2.DMatch 0000016BCEC4D1F0>, < cv2.DMatch 0000016BCEC4DCB0>), (< cv2.DMatch 0000016BCEC4D410>, < cv2.DMatch 0000016BCEC4D8D0>), (< cv2.DMatch 0000016BCEC4D3F0>, < cv2.DMatch 0000016BCEC4DB10>), (< cv2.DMatch 0000016BCEC4DC90>, < cv2.DMatch 0000016BCEC4DCD0>), (< cv2.DMatch 0000016BCEC4D650>, < cv2.DMatch 0000016BCEC4D430>), (< cv2.DMatch 0000016BCEC4D7F0>, < cv2.DMatch 0000016BCEC4D8B0>), (< cv2.DMatch 0000016BCEC4DBB0>, < cv2.DMatch 0000016BCEC4D1D0>), (< cv2.DMatch 0000016BCEC4DC70>, < cv2.DMatch 0000016BCEC4D890>), (< cv2.DMatch 0000016BCEC4D2D0>, < cv2.DMatch 0000016BCEC4D9B0>), (< cv2.DMatch 0000016BCEC4D750>, < cv2.DMatch 0000016BCEC4D630>), (< cv2.DMatch 0000016BCEC4D9F0>, < cv2.DMatch 0000016BCEC4D850>), (< cv2.DMatch 0000016BCEC4DD70>, < cv2.DMatch 0000016BCEC4D090>), (< cv2.DMatch 0000016BCEC4DFD0>, < cv2.DMatch 0000016BCEB2E4D0>), (< cv2.DMatch 0000016BCEB2ED70>, < cv2.DMatch 0000016BCEB2E050>), (< cv2.DMatch 0000016BCEB2E370>, < cv2.DMatch 0000016BCEB2E390>), (< cv2.DMatch 0000016BCEB2EA30>, < cv2.DMatch 0000016BCEB2ED50>), (< cv2.DMatch 0000016BCEB2EA90>, < cv2.DMatch 0000016BCEB2EC50>), (< cv2.DMatch 0000016BCEB2E330>, < cv2.DMatch 0000016BCEB2E2D0>), (< cv2.DMatch 0000016BCEB2E230>, < cv2.DMatch 0000016BCEB2EB70>), (< cv2.DMatch 0000016BCEB2E710>, < cv2.DMatch 0000016BCEB2E1B0>), (< cv2.DMatch 0000016BCEB2E2F0>, < cv2.DMatch 0000016BCEB2E290>), (< cv2.DMatch 0000016BCEB2E3D0>, < cv2.DMatch 0000016BCEB2EAD0>), (< cv2.DMatch 0000016BCEB2E4B0>, < cv2.DMatch 0000016BCEB2E610>), (< cv2.DMatch 0000016BCEB2E350>, < cv2.DMatch 0000016BCEB2E0D0>), (< cv2.DMatch 0000016BCEB2ED10>, < cv2.DMatch 0000016BCEB2E690>), (< cv2.DMatch 0000016BCEB2E170>, < cv2.DMatch 0000016BCEB2EAB0>), (< cv2.DMatch 0000016BCEB2E530>, < cv2.DMatch 0000016BCEB2E8B0>), (< cv2.DMatch 0000016BCEB2E2B0>, < cv2.DMatch 0000016BCEB2EDB0>), (< cv2.DMatch 0000016BCEB2ED30>, < cv2.DMatch 0000016BCEB2EBD0>), (< cv2.DMatch 0000016BCEB2E250>, < cv2.DMatch 0000016BCEB2E4F0>), (< cv2.DMatch 0000016BCEB2E6F0>, < cv2.DMatch 0000016BCEB2EB90>), (< cv2.DMatch 0000016BCEB2E510>, < cv2.DMatch 0000016BCEB2E750>), (< cv2.DMatch 0000016BCEB2E090>, < cv2.DMatch 0000016BCEB2EA70>), (< cv2.DMatch 0000016BCEB2E950>, < cv2.DMatch 0000016BCEB2E9F0>), (< cv2.DMatch 0000016BCEB2EC70>, < cv2.DMatch 0000016BCEB2E870>), (< cv2.DMatch 0000016BCEB2E5B0>, < cv2.DMatch 0000016BCEB2EB50>), (< cv2.DMatch 0000016BCEB2E770>, < cv2.DMatch 0000016BCEB2EA10>), (< cv2.DMatch 0000016BCEB2E830>, < cv2.DMatch 0000016BCEB2E410>), (< cv2.DMatch 0000016BCEB2EC30>, < cv2.DMatch 0000016BCEB2E810>), (< cv2.DMatch 0000016BCEB2E650>, < cv2.DMatch 0000016BCEB2E150>), (< cv2.DMatch 0000016BCEB2E930>, < cv2.DMatch 0000016BCEB2E630>), (< cv2.DMatch 0000016BCEB2E0F0>, < cv2.DMatch 0000016BCEB2E8F0>), (< cv2.DMatch 0000016BCEB2ED90>, < cv2.DMatch 0000016BCEB2E730>), (< cv2.DMatch 0000016BCEB2E0B0>, < cv2.DMatch 0000016BCEB2E9D0>), (< cv2.DMatch 0000016BCEB2E910>, < cv2.DMatch 0000016BCEB2E6B0>), (< cv2.DMatch 0000016BCEB2E5D0>, < cv2.DMatch 0000016BCEB2E110>), (< cv2.DMatch 0000016BCEB2E070>, < cv2.DMatch 0000016BCEB2E550>), (< cv2.DMatch 0000016BCEB2E190>, < cv2.DMatch 0000016BCEB2E3B0>), (< cv2.DMatch 0000016BCEB2E7F0>, < cv2.DMatch 0000016BCEB2E270>), (< cv2.DMatch 0000016BCEB2E030>, < cv2.DMatch 0000016BCEB2E430>), (< cv2.DMatch 0000016BCEB2E790>, < cv2.DMatch 0000016BCEB2EC10>), (< cv2.DMatch 0000016BCEB2EB10>, < cv2.DMatch 0000016BCEB2EA50>), (< cv2.DMatch 0000016BCEB2EC90>, < cv2.DMatch 0000016BCEB2E7B0>), (< cv2.DMatch 0000016BCEB2E490>, < cv2.DMatch 0000016BCEB2E9B0>), (< cv2.DMatch 0000016BCEB2EBB0>, < cv2.DMatch 0000016BCEB2ECF0>), (< cv2.DMatch 0000016BCEB2E990>, < cv2.DMatch 0000016BCEB2E570>), (< cv2.DMatch 0000016BCEB2E890>, < cv2.DMatch 0000016BD38542B0>), (< cv2.DMatch 0000016BD3854D90>, < cv2.DMatch 0000016BD38548B0>), (< cv2.DMatch 0000016BD3854210>, < cv2.DMatch 0000016BD3854C30>), (< cv2.DMatch 0000016BD3854A90>, < cv2.DMatch 0000016BD3854AB0>), (< cv2.DMatch 0000016BD3854D50>, < cv2.DMatch 0000016BD3854BD0>), (< cv2.DMatch 0000016BD3854030>, < cv2.DMatch 0000016BD38546B0>), (< cv2.DMatch 0000016BD3854E50>, < cv2.DMatch 0000016BD38545B0>), (< cv2.DMatch 0000016BD3854710>, < cv2.DMatch 0000016BD3854510>), (< cv2.DMatch 0000016BD38546F0>, < cv2.DMatch 0000016BD38540D0>), (< cv2.DMatch 0000016BD3854EB0>, < cv2.DMatch 0000016BD38541B0>), (< cv2.DMatch 0000016BD38545D0>, < cv2.DMatch 0000016BD3854A30>), (< cv2.DMatch 0000016BD3854C50>, < cv2.DMatch 0000016BD3854BF0>), (< cv2.DMatch 0000016BD3854CD0>, < cv2.DMatch 0000016BD3854170>), (< cv2.DMatch 0000016BD3854470>, < cv2.DMatch 0000016BD3854330>), (< cv2.DMatch 0000016BD38547D0>, < cv2.DMatch 0000016BD3854450>), (< cv2.DMatch 0000016BD3854270>, < cv2.DMatch 0000016BD3854650>), (< cv2.DMatch 0000016BD3854430>, < cv2.DMatch 0000016BD3854610>), (< cv2.DMatch 0000016BD3854370>, < cv2.DMatch 0000016BD38548F0>), (< cv2.DMatch 0000016BD3854930>, < cv2.DMatch 0000016BD38542F0>), (< cv2.DMatch 0000016BD3854970>, < cv2.DMatch 0000016BD3854BB0>), (< cv2.DMatch 0000016BD3854250>, < cv2.DMatch 0000016BD38545F0>), (< cv2.DMatch 0000016BD3854B90>, < cv2.DMatch 0000016BD38547F0>), (< cv2.DMatch 0000016BD3854A50>, < cv2.DMatch 0000016BD38549F0>), (< cv2.DMatch 0000016BD3854AD0>, < cv2.DMatch 0000016BD3854750>), (< cv2.DMatch 0000016BD3854150>, < cv2.DMatch 0000016BD38541F0>), (< cv2.DMatch 0000016BD3854B10>, < cv2.DMatch 0000016BD3854310>), (< cv2.DMatch 0000016BD3854290>, < cv2.DMatch 0000016BD38543F0>), (< cv2.DMatch 0000016BD38541D0>, < cv2.DMatch 0000016BD3854390>), (< cv2.DMatch 0000016BD38544F0>, < cv2.DMatch 0000016BD3854230>), (< cv2.DMatch 0000016BD3854350>, < cv2.DMatch 0000016BD3854550>), (< cv2.DMatch 0000016BD3854D10>, < cv2.DMatch 0000016BD38540F0>), (< cv2.DMatch 0000016BD38540B0>, < cv2.DMatch 0000016BD3854590>), (< cv2.DMatch 0000016BD3854A10>, < cv2.DMatch 0000016BD3854DB0>), (< cv2.DMatch 0000016BD38547B0>, < cv2.DMatch 0000016BD3854B70>), (< cv2.DMatch 0000016BD3854490>, < cv2.DMatch 0000016BD3854C90>), (< cv2.DMatch 0000016BD3854770>, < cv2.DMatch 0000016BD38549B0>), (< cv2.DMatch 0000016BD38549D0>, < cv2.DMatch 0000016BD3854090>), (< cv2.DMatch 0000016BD3854730>, < cv2.DMatch 0000016BD3854070>), (< cv2.DMatch 0000016BD3854950>, < cv2.DMatch 0000016BD3854C70>), (< cv2.DMatch 0000016BD38546D0>, < cv2.DMatch 0000016BD38542D0>), (< cv2.DMatch 0000016BD3854AF0>, < cv2.DMatch 0000016BD3854190>), (< cv2.DMatch 0000016BD3854810>, < cv2.DMatch 0000016BD3854D30>), (< cv2.DMatch 0000016BD3854690>, < cv2.DMatch 0000016BD3854850>), (< cv2.DMatch 0000016BD3854830>, < cv2.DMatch 0000016BD3854790>), (< cv2.DMatch 0000016BD3854050>, < cv2.DMatch 0000016BD3854870>), (< cv2.DMatch 0000016BD38544B0>, < cv2.DMatch 0000016BD3854910>), (< cv2.DMatch 0000016BD3854410>, < cv2.DMatch 0000016BD3854670>), (< cv2.DMatch 0000016BD38543B0>, < cv2.DMatch 0000016BD38544D0>), (< cv2.DMatch 0000016BD3854D70>, < cv2.DMatch 0000016BD3854990>), (< cv2.DMatch 0000016BD3854570>, < cv2.DMatch 0000016BCEB2D0D0>), (< cv2.DMatch 0000016BCEB2D8B0>, < cv2.DMatch 0000016BCEB2D2D0>), (< cv2.DMatch 0000016BCEB2DA90>, < cv2.DMatch 0000016BCEB2D1B0>), (< cv2.DMatch 0000016BCEB2D5F0>, < cv2.DMatch 0000016BCEB2D5B0>), (< cv2.DMatch 0000016BCEB2DD90>, < cv2.DMatch 0000016BCEB2D850>), (< cv2.DMatch 0000016BCEB2D910>, < cv2.DMatch 0000016BCEB2D7D0>), (< cv2.DMatch 0000016BCEB2D550>, < cv2.DMatch 0000016BCEB2D610>), (< cv2.DMatch 0000016BCEB2D4D0>, < cv2.DMatch 0000016BCEB2DA30>), (< cv2.DMatch 0000016BCEB2DD30>, < cv2.DMatch 0000016BCEB2DCF0>), (< cv2.DMatch 0000016BCEB2D5D0>, < cv2.DMatch 0000016BCEB2D810>), (< cv2.DMatch 0000016BCEB2D750>, < cv2.DMatch 0000016BCEB2D350>), (< cv2.DMatch 0000016BCEB2D470>, < cv2.DMatch 0000016BCEB2D9F0>), (< cv2.DMatch 0000016BCEB2D070>, < cv2.DMatch 0000016BCEB2D2F0>), (< cv2.DMatch 0000016BCEB2DC10>, < cv2.DMatch 0000016BCEB2D3B0>), (< cv2.DMatch 0000016BCEB2D530>, < cv2.DMatch 0000016BCEB2D990>), (< cv2.DMatch 0000016BCEB2D8D0>, < cv2.DMatch 0000016BCEB2DC50>), (< cv2.DMatch 0000016BCEB2DA10>, < cv2.DMatch 0000016BCEB2DCD0>), (< cv2.DMatch 0000016BCEB2D3F0>, < cv2.DMatch 0000016BCEB2DA50>), (< cv2.DMatch 0000016BCEB2DCB0>, < cv2.DMatch 0000016BCEB2D330>), (< cv2.DMatch 0000016BCEB2D050>, < cv2.DMatch 0000016BCEB2D430>), (< cv2.DMatch 0000016BCEB2D6F0>, < cv2.DMatch 0000016BCEB2D570>), (< cv2.DMatch 0000016BCEB2DBD0>, < cv2.DMatch 0000016BCEB2D250>), (< cv2.DMatch 0000016BCEB2D270>, < cv2.DMatch 0000016BCEB2D710>), (< cv2.DMatch 0000016BCEB2D590>, < cv2.DMatch 0000016BCEB2D770>), (< cv2.DMatch 0000016BCEB2DD10>, < cv2.DMatch 0000016BCEB2DD70>), (< cv2.DMatch 0000016BCEB2D290>, < cv2.DMatch 0000016BCEB2D630>), (< cv2.DMatch 0000016BCEB2D390>, < cv2.DMatch 0000016BCEB2D650>), (< cv2.DMatch 0000016BCEB2D210>, < cv2.DMatch 0000016BCEB2D930>), (< cv2.DMatch 0000016BCEB2D130>, < cv2.DMatch 0000016BCEB2DB30>), (< cv2.DMatch 0000016BCEB2D9B0>, < cv2.DMatch 0000016BCEB2DAB0>), (< cv2.DMatch 0000016BCEB2D730>, < cv2.DMatch 0000016BCEB2D2B0>), (< cv2.DMatch 0000016BCEB2D7B0>, < cv2.DMatch 0000016BCEB2DC90>), (< cv2.DMatch 0000016BCEB2DA70>, < cv2.DMatch 0000016BCEB2D310>), (< cv2.DMatch 0000016BCEB2DC30>, < cv2.DMatch 0000016BCEB2D7F0>), (< cv2.DMatch 0000016BCEB2DBF0>, < cv2.DMatch 0000016BCEB2D510>), (< cv2.DMatch 0000016BCEB2D0B0>, < cv2.DMatch 0000016BCEB2D150>), (< cv2.DMatch 0000016BCEB2D1F0>, < cv2.DMatch 0000016BCEB2D790>), (< cv2.DMatch 0000016BCEB2D170>, < cv2.DMatch 0000016BCEB2D110>), (< cv2.DMatch 0000016BCEB2D1D0>, < cv2.DMatch 0000016BCEB2D490>), (< cv2.DMatch 0000016BCEB2D410>, < cv2.DMatch 0000016BCEB2D030>), (< cv2.DMatch 0000016BCEB2DD50>, < cv2.DMatch 0000016BCEB2D3D0>), (< cv2.DMatch 0000016BCEB2D190>, < cv2.DMatch 0000016BCEB2DB50>), (< cv2.DMatch 0000016BCEB2DB70>, < cv2.DMatch 0000016BCEB2D090>), (< cv2.DMatch 0000016BCEB2D970>, < cv2.DMatch 0000016BCEB2D0F0>), (< cv2.DMatch 0000016BCEB2D870>, < cv2.DMatch 0000016BCEB2DAF0>), (< cv2.DMatch 0000016BCEB2DB90>, < cv2.DMatch 0000016BCEB2D670>), (< cv2.DMatch 0000016BCEB2D450>, < cv2.DMatch 0000016BCEB2D370>), (< cv2.DMatch 0000016BCEB2D830>, < cv2.DMatch 0000016BCEB2D690>), (< cv2.DMatch 0000016BCEB2DB10>, < cv2.DMatch 0000016BCEB2D230>), (< cv2.DMatch 0000016BCEB2D6D0>, < cv2.DMatch 0000016BCEB2D4F0>), (< cv2.DMatch 0000016BCEB2DC70>, < cv2.DMatch 0000016BCEB2D6B0>), (< cv2.DMatch 0000016BCEB2D950>, < cv2.DMatch 0000016BCEB2DBB0>), (< cv2.DMatch 0000016BCEB2D4B0>, < cv2.DMatch 0000016BCEB2D890>), (< cv2.DMatch 0000016BCEB2D8F0>, < cv2.DMatch 0000016BCEB2D9D0>), (< cv2.DMatch 0000016BCEB2DAD0>, < cv2.DMatch 0000016BCEB2DF70>), (< cv2.DMatch 0000016BCEB2DDD0>, < cv2.DMatch 0000016BCEB2DFD0>), (< cv2.DMatch 0000016BCEB2DF90>, < cv2.DMatch 0000016BCEC6E870>), (< cv2.DMatch 0000016BCEC6EBB0>, < cv2.DMatch 0000016BCEC6EAF0>), (< cv2.DMatch 0000016BCEC6E6F0>, < cv2.DMatch 0000016BCEC6ECD0>), (< cv2.DMatch 0000016BCEC6E210>, < cv2.DMatch 0000016BCEC6E270>), (< cv2.DMatch 0000016BCEC6E5D0>, < cv2.DMatch 0000016BCEC6E150>), (< cv2.DMatch 0000016BCEC6E930>, < cv2.DMatch 0000016BCEC6ED70>), (< cv2.DMatch 0000016BCEC6EC10>, < cv2.DMatch 0000016BCEC6E370>), (< cv2.DMatch 0000016BCEC6E1D0>, < cv2.DMatch 0000016BCEC6E750>), (< cv2.DMatch 0000016BCEC6EDB0>, < cv2.DMatch 0000016BCEC6ED30>), (< cv2.DMatch 0000016BCEC6E3F0>, < cv2.DMatch 0000016BCEC6E9F0>), (< cv2.DMatch 0000016BCEC6EC70>, < cv2.DMatch 0000016BCEC6EA70>), (< cv2.DMatch 0000016BCEC6E650>, < cv2.DMatch 0000016BCEC6E8B0>), (< cv2.DMatch 0000016BCEC6E830>, < cv2.DMatch 0000016BCEC6EC50>), (< cv2.DMatch 0000016BCEC6ED90>, < cv2.DMatch 0000016BCEC6E030>), (< cv2.DMatch 0000016BCEC6E050>, < cv2.DMatch 0000016BCEC6E070>), (< cv2.DMatch 0000016BCEC6E090>, < cv2.DMatch 0000016BCEC6E0B0>), (< cv2.DMatch 0000016BCEC6E0D0>, < cv2.DMatch 0000016BCEC6E0F0>), (< cv2.DMatch 0000016BCEC6E110>, < cv2.DMatch 0000016BCEC6E130>), (< cv2.DMatch 0000016BCEC6E170>, < cv2.DMatch 0000016BCEC6E190>), (< cv2.DMatch 0000016BCEC6E1B0>, < cv2.DMatch 0000016BCEC6E1F0>), (< cv2.DMatch 0000016BCEC6E230>, < cv2.DMatch 0000016BCEC6E250>), (< cv2.DMatch 0000016BCEC6E290>, < cv2.DMatch 0000016BCEC6E2B0>), (< cv2.DMatch 0000016BCEC6E2D0>, < cv2.DMatch 0000016BCEC6E2F0>), (< cv2.DMatch 0000016BCEC6E310>, < cv2.DMatch 0000016BCEC6E330>), (< cv2.DMatch 0000016BCEC6E350>, < cv2.DMatch 0000016BCEC6E390>), (< cv2.DMatch 0000016BCEC6E3B0>, < cv2.DMatch 0000016BCEC6E3D0>), (< cv2.DMatch 0000016BCEC6E410>, < cv2.DMatch 0000016BCEC6E430>), (< cv2.DMatch 0000016BCEC6E450>, < cv2.DMatch 0000016BCEC6E470>), (< cv2.DMatch 0000016BCEC6E490>, < cv2.DMatch 0000016BCEC6E4B0>), (< cv2.DMatch 0000016BCEC6E4D0>, < cv2.DMatch 0000016BCEC6E4F0>), (< cv2.DMatch 0000016BCEC6E510>, < cv2.DMatch 0000016BCEC6E530>), (< cv2.DMatch 0000016BCEC6E550>, < cv2.DMatch 0000016BCEC6E570>), (< cv2.DMatch 0000016BCEC6E590>, < cv2.DMatch 0000016BCEC6E5B0>), (< cv2.DMatch 0000016BCEC6E5F0>, < cv2.DMatch 0000016BCEC6E610>), (< cv2.DMatch 0000016BCEC6E630>, < cv2.DMatch 0000016BCEC6E670>), (< cv2.DMatch 0000016BCEC6E690>, < cv2.DMatch 0000016BCEC6E6B0>), (< cv2.DMatch 0000016BCEC6E6D0>, < cv2.DMatch 0000016BCEC6E710>), (< cv2.DMatch 0000016BCEC6E730>, < cv2.DMatch 0000016BCEC6E770>), (< cv2.DMatch 0000016BCEC6E790>, < cv2.DMatch 0000016BCEC6E7B0>), (< cv2.DMatch 0000016BCEC6E7D0>, < cv2.DMatch 0000016BCEC6E7F0>), (< cv2.DMatch 0000016BCEC6E810>, < cv2.DMatch 0000016BCEC6E850>), (< cv2.DMatch 0000016BCEC6E890>, < cv2.DMatch 0000016BCEC6E8D0>), (< cv2.DMatch 0000016BCEC6E8F0>, < cv2.DMatch 0000016BCEC6E910>), (< cv2.DMatch 0000016BCEC6E950>, < cv2.DMatch 0000016BCEC6E970>), (< cv2.DMatch 0000016BCEC6E990>, < cv2.DMatch 0000016BCEC6E9B0>), (< cv2.DMatch 0000016BCEC6E9D0>, < cv2.DMatch 0000016BCEC6EA10>), (< cv2.DMatch 0000016BCEC6EA30>, < cv2.DMatch 0000016BCEC6EA50>), (< cv2.DMatch 0000016BCEC6EA90>, < cv2.DMatch 0000016BCEC6EAB0>), (< cv2.DMatch 0000016BCEC6EAD0>, < cv2.DMatch 0000016BCEC6EB10>), (< cv2.DMatch 0000016BCEC6EB30>, < cv2.DMatch 0000016BCEC6EB50>), (< cv2.DMatch 0000016BCEC6EB70>, < cv2.DMatch 0000016BCEC6EB90>), (< cv2.DMatch 0000016BCEC6EBD0>, < cv2.DMatch 0000016BCEC6EBF0>), (< cv2.DMatch 0000016BCEC6EC30>, < cv2.DMatch 0000016BCEC6EC90>), (< cv2.DMatch 0000016BCEC6ECB0>, < cv2.DMatch 0000016BCEC6ECF0>), (< cv2.DMatch 0000016BCEC6ED10>, < cv2.DMatch 0000016BCEC6ED50>), (< cv2.DMatch 0000016BCEB920D0>, < cv2.DMatch 0000016BCEB92D70>), (< cv2.DMatch 0000016BCEB92E70>, < cv2.DMatch 0000016BCEB92CF0>), (< cv2.DMatch 0000016BCEB92F90>, < cv2.DMatch 0000016BCEB92FB0>), (< cv2.DMatch 0000016BCEB92EB0>, < cv2.DMatch 0000016BCEB929F0>), (< cv2.DMatch 0000016BCEB922D0>, < cv2.DMatch 0000016BCEB92CD0>), (< cv2.DMatch 0000016BCEB923D0>, < cv2.DMatch 0000016BCEB92DB0>), (< cv2.DMatch 0000016BCEB92DF0>, < cv2.DMatch 0000016BCEB92F10>), (< cv2.DMatch 0000016BCEB92F50>, < cv2.DMatch 0000016BCEB92990>), (< cv2.DMatch 0000016BCEB92BB0>, < cv2.DMatch 0000016BCEB92BD0>), (< cv2.DMatch 0000016BCEB92B30>, < cv2.DMatch 0000016BCEB92D90>), (< cv2.DMatch 0000016BCEB92DD0>, < cv2.DMatch 0000016BCEB92E10>), (< cv2.DMatch 0000016BCEB92E30>, < cv2.DMatch 0000016BCEB92E50>), (< cv2.DMatch 0000016BCEB92E90>, < cv2.DMatch 0000016BCEB92ED0>), (< cv2.DMatch 0000016BCEB92EF0>, < cv2.DMatch 0000016BCEB92F30>), (< cv2.DMatch 0000016BCEB92F70>, < cv2.DMatch 0000016BCEB92FD0>), (< cv2.DMatch 0000016BCEB92C50>, < cv2.DMatch 0000016BCEB92C70>), (< cv2.DMatch 0000016BCEB92BF0>, < cv2.DMatch 0000016BCEB92AD0>), (< cv2.DMatch 0000016BCEB92A70>, < cv2.DMatch 0000016BCEB92A10>), (< cv2.DMatch 0000016BCEB92930>, < cv2.DMatch 0000016BCEB928B0>), (< cv2.DMatch 0000016BCEB928D0>, < cv2.DMatch 0000016BCEB92830>), (< cv2.DMatch 0000016BCEB927D0>, < cv2.DMatch 0000016BCEB92730>), (< cv2.DMatch 0000016BCEB925D0>, < cv2.DMatch 0000016BCEB925F0>), (< cv2.DMatch 0000016BCEB92610>, < cv2.DMatch 0000016BCEB92570>), (< cv2.DMatch 0000016BCEB92490>, < cv2.DMatch 0000016BCEB924B0>), (< cv2.DMatch 0000016BCEB923F0>, < cv2.DMatch 0000016BCEB92430>), (< cv2.DMatch 0000016BCEB922B0>, < cv2.DMatch 0000016BCEB921F0>), (< cv2.DMatch 0000016BCEB92110>, < cv2.DMatch 0000016BCEB92130>), (< cv2.DMatch 0000016BCEB92150>, < cv2.DMatch 0000016BCEB92090>), (< cv2.DMatch 0000016BCEB92D10>, < cv2.DMatch 0000016BCEB92CB0>), (< cv2.DMatch 0000016BCEB92C30>, < cv2.DMatch 0000016BCEB92C10>), (< cv2.DMatch 0000016BCEB92B50>, < cv2.DMatch 0000016BCEB92B90>), (< cv2.DMatch 0000016BCEB92AB0>, < cv2.DMatch 0000016BCEB92A90>), (< cv2.DMatch 0000016BCEB92970>, < cv2.DMatch 0000016BCEB92810>), (< cv2.DMatch 0000016BCEB92770>, < cv2.DMatch 0000016BCEB927B0>), (< cv2.DMatch 0000016BCEB92670>, < cv2.DMatch 0000016BCEB92530>), (< cv2.DMatch 0000016BCEB92210>, < cv2.DMatch 0000016BCEB924D0>), (< cv2.DMatch 0000016BCEB92390>, < cv2.DMatch 0000016BCEB92470>), (< cv2.DMatch 0000016BCEB92370>, < cv2.DMatch 0000016BCEB920B0>), (< cv2.DMatch 0000016BCEB68030>, < cv2.DMatch 0000016BCEB68050>), (< cv2.DMatch 0000016BCEB68070>, < cv2.DMatch 0000016BCEB68090>), (< cv2.DMatch 0000016BCEB680B0>, < cv2.DMatch 0000016BCEB680D0>), (< cv2.DMatch 0000016BCEB680F0>, < cv2.DMatch 0000016BCEB68110>), (< cv2.DMatch 0000016BCEB68130>, < cv2.DMatch 0000016BCEB68150>), (< cv2.DMatch 0000016BCEB68170>, < cv2.DMatch 0000016BCEB68190>), (< cv2.DMatch 0000016BCEB681B0>, < cv2.DMatch 0000016BCEB681D0>), (< cv2.DMatch 0000016BCEB681F0>, < cv2.DMatch 0000016BCEB68210>), (< cv2.DMatch 0000016BCEB68230>, < cv2.DMatch 0000016BCEB68250>), (< cv2.DMatch 0000016BCEB68270>, < cv2.DMatch 0000016BCEB68290>), (< cv2.DMatch 0000016BCEB682B0>, < cv2.DMatch 0000016BCEB682D0>), (< cv2.DMatch 0000016BCEB682F0>, < cv2.DMatch 0000016BCEB68310>), (< cv2.DMatch 0000016BCEB68330>, < cv2.DMatch 0000016BCEB68350>), (< cv2.DMatch 0000016BCEB68370>, < cv2.DMatch 0000016BCEB68390>), (< cv2.DMatch 0000016BCEB683B0>, < cv2.DMatch 0000016BCEB683D0>), (< cv2.DMatch 0000016BCEB683F0>, < cv2.DMatch 0000016BCEB68410>), (< cv2.DMatch 0000016BCEB68430>, < cv2.DMatch 0000016BCEB68450>), (< cv2.DMatch 0000016BCEB68470>, < cv2.DMatch 0000016BCEB68490>), (< cv2.DMatch 0000016BCEB684B0>, < cv2.DMatch 0000016BCEB684D0>), (< cv2.DMatch 0000016BCEB684F0>, < cv2.DMatch 0000016BCEB68510>), (< cv2.DMatch 0000016BCEB68530>, < cv2.DMatch 0000016BCEB68550>), (< cv2.DMatch 0000016BCEB68570>, < cv2.DMatch 0000016BCEB68590>), (< cv2.DMatch 0000016BCEB685B0>, < cv2.DMatch 0000016BCEB685D0>), (< cv2.DMatch 0000016BCEB685F0>, < cv2.DMatch 0000016BCEB68610>), (< cv2.DMatch 0000016BCEB68630>, < cv2.DMatch 0000016BCEB68650>), (< cv2.DMatch 0000016BCEB68670>, < cv2.DMatch 0000016BCEB68690>), (< cv2.DMatch 0000016BCEB686B0>, < cv2.DMatch 0000016BCEB686D0>), (< cv2.DMatch 0000016BCEB686F0>, < cv2.DMatch 0000016BCEB68710>), (< cv2.DMatch 0000016BCEB68730>, < cv2.DMatch 0000016BCEB68750>), (< cv2.DMatch 0000016BCEB68770>, < cv2.DMatch 0000016BCEB68790>), (< cv2.DMatch 0000016BCEB687B0>, < cv2.DMatch 0000016BCEB687D0>), (< cv2.DMatch 0000016BCEB687F0>, < cv2.DMatch 0000016BCEB68810>), (< cv2.DMatch 0000016BCEB68830>, < cv2.DMatch 0000016BCEB68850>), (< cv2.DMatch 0000016BCEB68870>, < cv2.DMatch 0000016BCEB68890>), (< cv2.DMatch 0000016BCEB688B0>, < cv2.DMatch 0000016BCEB688D0>), (< cv2.DMatch 0000016BCEB688F0>, < cv2.DMatch 0000016BCEB68910>), (< cv2.DMatch 0000016BCEB68930>, < cv2.DMatch 0000016BCEB68950>), (< cv2.DMatch 0000016BCEB68970>, < cv2.DMatch 0000016BCEB68990>), (< cv2.DMatch 0000016BCEB689B0>, < cv2.DMatch 0000016BCEB689D0>), (< cv2.DMatch 0000016BCEB689F0>, < cv2.DMatch 0000016BCEB68A10>), (< cv2.DMatch 0000016BCEB68A30>, < cv2.DMatch 0000016BCEB68A50>), (< cv2.DMatch 0000016BCEB68A70>, < cv2.DMatch 0000016BCEB68A90>), (< cv2.DMatch 0000016BCEB68AB0>, < cv2.DMatch 0000016BCEB68AD0>), (< cv2.DMatch 0000016BCEB68AF0>, < cv2.DMatch 0000016BCEB68B10>), (< cv2.DMatch 0000016BCEB68B30>, < cv2.DMatch 0000016BCEB68B50>), (< cv2.DMatch 0000016BCEB68B70>, < cv2.DMatch 0000016BCEB68B90>), (< cv2.DMatch 0000016BCEB68BB0>, < cv2.DMatch 0000016BCEB68BD0>), (< cv2.DMatch 0000016BCEB68BF0>, < cv2.DMatch 0000016BCEB68C10>), (< cv2.DMatch 0000016BCEB68C30>, < cv2.DMatch 0000016BCEB68C50>), (< cv2.DMatch 0000016BCEB68C70>, < cv2.DMatch 0000016BCEB68C90>), (< cv2.DMatch 0000016BCEB68CB0>, < cv2.DMatch 0000016BCEB68CD0>), (< cv2.DMatch 0000016BCEB68CF0>, < cv2.DMatch 0000016BCEB68D10>), (< cv2.DMatch 0000016BCEB68D30>, < cv2.DMatch 0000016BCEB68D50>), (< cv2.DMatch 0000016BCEB68D70>, < cv2.DMatch 0000016BCEB68D90>), (< cv2.DMatch 0000016BCEB68DB0>, < cv2.DMatch 0000016BCEB68DD0>), (< cv2.DMatch 0000016BCEB68DF0>, < cv2.DMatch 0000016BCEB68E10>), (< cv2.DMatch 0000016BCEB68E30>, < cv2.DMatch 0000016BCEB68E50>), (< cv2.DMatch 0000016BCEB68E70>, < cv2.DMatch 0000016BCEB68E90>), (< cv2.DMatch 0000016BCEB68EB0>, < cv2.DMatch 0000016BCEB68ED0>), (< cv2.DMatch 0000016BCEB68EF0>, < cv2.DMatch 0000016BCEB68F10>), (< cv2.DMatch 0000016BCEB68F30>, < cv2.DMatch 0000016BCEB68F50>), (< cv2.DMatch 0000016BCEB68F70>, < cv2.DMatch 0000016BCEB68F90>), (< cv2.DMatch 0000016BCEB68FB0>, < cv2.DMatch 0000016BCEB68FD0>), (< cv2.DMatch 0000016BCEB69030>, < cv2.DMatch 0000016BCEB69050>), (< cv2.DMatch 0000016BCEB69070>, < cv2.DMatch 0000016BCEB69090>), (< cv2.DMatch 0000016BCEB690B0>, < cv2.DMatch 0000016BCEB690D0>), (< cv2.DMatch 0000016BCEB690F0>, < cv2.DMatch 0000016BCEB69110>), (< cv2.DMatch 0000016BCEB69130>, < cv2.DMatch 0000016BCEB69150>), (< cv2.DMatch 0000016BCEB69170>, < cv2.DMatch 0000016BCEB69190>), (< cv2.DMatch 0000016BCEB691B0>, < cv2.DMatch 0000016BCEB691D0>), (< cv2.DMatch 0000016BCEB691F0>, < cv2.DMatch 0000016BCEB69210>), (< cv2.DMatch 0000016BCEB69230>, < cv2.DMatch 0000016BCEB69250>), (< cv2.DMatch 0000016BCEB69270>, < cv2.DMatch 0000016BCEB69290>), (< cv2.DMatch 0000016BCEB692B0>, < cv2.DMatch 0000016BCEB692D0>), (< cv2.DMatch 0000016BCEB692F0>, < cv2.DMatch 0000016BCEB69310>), (< cv2.DMatch 0000016BCEB69330>, < cv2.DMatch 0000016BCEB69350>), (< cv2.DMatch 0000016BCEB69370>, < cv2.DMatch 0000016BCEB69390>), (< cv2.DMatch 0000016BCEB693B0>, < cv2.DMatch 0000016BCEB693D0>), (< cv2.DMatch 0000016BCEB693F0>, < cv2.DMatch 0000016BCEB69410>), (< cv2.DMatch 0000016BCEB69430>, < cv2.DMatch 0000016BCEB69450>), (< cv2.DMatch 0000016BCEB69470>, < cv2.DMatch 0000016BCEB69490>), (< cv2.DMatch 0000016BCEB694B0>, < cv2.DMatch 0000016BCEB694D0>), (< cv2.DMatch 0000016BCEB694F0>, < cv2.DMatch 0000016BCEB69510>), (< cv2.DMatch 0000016BCEB69530>, < cv2.DMatch 0000016BCEB69550>), (< cv2.DMatch 0000016BCEB69570>, < cv2.DMatch 0000016BCEB69590>), (< cv2.DMatch 0000016BCEB695B0>, < cv2.DMatch 0000016BCEB695D0>), (< cv2.DMatch 0000016BCEB695F0>, < cv2.DMatch 0000016BCEB69610>), (< cv2.DMatch 0000016BCEB69630>, < cv2.DMatch 0000016BCEB69650>), (< cv2.DMatch 0000016BCEB69670>, < cv2.DMatch 0000016BCEB69690>), (< cv2.DMatch 0000016BCEB696B0>, < cv2.DMatch 0000016BCEB696D0>), (< cv2.DMatch 0000016BCEB696F0>, < cv2.DMatch 0000016BCEB69710>), (< cv2.DMatch 0000016BCEB69730>, < cv2.DMatch 0000016BCEB69750>), (< cv2.DMatch 0000016BCEB69770>, < cv2.DMatch 0000016BCEB69790>), (< cv2.DMatch 0000016BCEB697B0>, < cv2.DMatch 0000016BCEB697D0>), (< cv2.DMatch 0000016BCEB697F0>, < cv2.DMatch 0000016BCEB69810>), (< cv2.DMatch 0000016BCEB69830>, < cv2.DMatch 0000016BCEB69850>), (< cv2.DMatch 0000016BCEB69870>, < cv2.DMatch 0000016BCEB69890>), (< cv2.DMatch 0000016BCEB698B0>, < cv2.DMatch 0000016BCEB698D0>), (< cv2.DMatch 0000016BCEB698F0>, < cv2.DMatch 0000016BCEB69910>), (< cv2.DMatch 0000016BCEB69930>, < cv2.DMatch 0000016BCEB69950>), (< cv2.DMatch 0000016BCEB69970>, < cv2.DMatch 0000016BCEB69990>), (< cv2.DMatch 0000016BCEB699B0>, < cv2.DMatch 0000016BCEB699D0>), (< cv2.DMatch 0000016BCEB699F0>, < cv2.DMatch 0000016BCEB69A10>), (< cv2.DMatch 0000016BCEB69A30>, < cv2.DMatch 0000016BCEB69A50>), (< cv2.DMatch 0000016BCEB69A70>, < cv2.DMatch 0000016BCEB69A90>), (< cv2.DMatch 0000016BCEB69AB0>, < cv2.DMatch 0000016BCEB69AD0>), (< cv2.DMatch 0000016BCEB69AF0>, < cv2.DMatch 0000016BCEB69B10>), (< cv2.DMatch 0000016BCEB69B30>, < cv2.DMatch 0000016BCEB69B50>), (< cv2.DMatch 0000016BCEB69B70>, < cv2.DMatch 0000016BCEB69B90>), (< cv2.DMatch 0000016BCEB69BB0>, < cv2.DMatch 0000016BCEB69BD0>), (< cv2.DMatch 0000016BCEB69BF0>, < cv2.DMatch 0000016BCEB69C10>), (< cv2.DMatch 0000016BCEB69C30>, < cv2.DMatch 0000016BCEB69C50>), (< cv2.DMatch 0000016BCEB69C70>, < cv2.DMatch 0000016BCEB69C90>), (< cv2.DMatch 0000016BCEB69CB0>, < cv2.DMatch 0000016BCEB69CD0>), (< cv2.DMatch 0000016BCEB69CF0>, < cv2.DMatch 0000016BCEB69D10>), (< cv2.DMatch 0000016BCEB69D30>, < cv2.DMatch 0000016BCEB69D50>), (< cv2.DMatch 0000016BCEB69D70>, < cv2.DMatch 0000016BCEB69D90>), (< cv2.DMatch 0000016BCEB69DB0>, < cv2.DMatch 0000016BCEB69DD0>), (< cv2.DMatch 0000016BCEB69DF0>, < cv2.DMatch 0000016BCEB69E10>), (< cv2.DMatch 0000016BCEB69E30>, < cv2.DMatch 0000016BCEB69E50>), (< cv2.DMatch 0000016BCEB69E70>, < cv2.DMatch 0000016BCEB69E90>), (< cv2.DMatch 0000016BCEB69EB0>, < cv2.DMatch 0000016BCEB69ED0>), (< cv2.DMatch 0000016BCEB69EF0>, < cv2.DMatch 0000016BCEB69F10>), (< cv2.DMatch 0000016BCEB69F30>, < cv2.DMatch 0000016BCEB69F50>), (< cv2.DMatch 0000016BCEB69F70>, < cv2.DMatch 0000016BCEB69F90>), (< cv2.DMatch 0000016BCEB69FB0>, < cv2.DMatch 0000016BCEB69FD0>), (< cv2.DMatch 0000016BCEB6A030>, < cv2.DMatch 0000016BCEB6A050>), (< cv2.DMatch 0000016BCEB6A070>, < cv2.DMatch 0000016BCEB6A090>), (< cv2.DMatch 0000016BCEB6A0B0>, < cv2.DMatch 0000016BCEB6A0D0>), (< cv2.DMatch 0000016BCEB6A0F0>, < cv2.DMatch 0000016BCEB6A110>), (< cv2.DMatch 0000016BCEB6A130>, < cv2.DMatch 0000016BCEB6A150>), (< cv2.DMatch 0000016BCEB6A170>, < cv2.DMatch 0000016BCEB6A190>), (< cv2.DMatch 0000016BCEB6A1B0>, < cv2.DMatch 0000016BCEB6A1D0>), (< cv2.DMatch 0000016BCEB6A1F0>, < cv2.DMatch 0000016BCEB6A210>), (< cv2.DMatch 0000016BCEB6A230>, < cv2.DMatch 0000016BCEB6A250>), (< cv2.DMatch 0000016BCEB6A270>, < cv2.DMatch 0000016BCEB6A290>), (< cv2.DMatch 0000016BCEB6A2B0>, < cv2.DMatch 0000016BCEB6A2D0>), (< cv2.DMatch 0000016BCEB6A2F0>, < cv2.DMatch 0000016BCEB6A310>), (< cv2.DMatch 0000016BCEB6A330>, < cv2.DMatch 0000016BCEB6A350>), (< cv2.DMatch 0000016BCEB6A370>, < cv2.DMatch 0000016BCEB6A390>), (< cv2.DMatch 0000016BCEB6A3B0>, < cv2.DMatch 0000016BCEB6A3D0>), (< cv2.DMatch 0000016BCEB6A3F0>, < cv2.DMatch 0000016BCEB6A410>), (< cv2.DMatch 0000016BCEB6A430>, < cv2.DMatch 0000016BCEB6A450>), (< cv2.DMatch 0000016BCEB6A470>, < cv2.DMatch 0000016BCEB6A490>), (< cv2.DMatch 0000016BCEB6A4B0>, < cv2.DMatch 0000016BCEB6A4D0>), (< cv2.DMatch 0000016BCEB6A4F0>, < cv2.DMatch 0000016BCEB6A510>), (< cv2.DMatch 0000016BCEB6A530>, < cv2.DMatch 0000016BCEB6A550>), (< cv2.DMatch 0000016BCEB6A570>, < cv2.DMatch 0000016BCEB6A590>), (< cv2.DMatch 0000016BCEB6A5B0>, < cv2.DMatch 0000016BCEB6A5D0>), (< cv2.DMatch 0000016BCEB6A5F0>, < cv2.DMatch 0000016BCEB6A610>), (< cv2.DMatch 0000016BCEB6A630>, < cv2.DMatch 0000016BCEB6A650>), (< cv2.DMatch 0000016BCEB6A670>, < cv2.DMatch 0000016BCEB6A690>), (< cv2.DMatch 0000016BCEB6A6B0>, < cv2.DMatch 0000016BCEB6A6D0>), (< cv2.DMatch 0000016BCEB6A6F0>, < cv2.DMatch 0000016BCEB6A710>), (< cv2.DMatch 0000016BCEB6A730>, < cv2.DMatch 0000016BCEB6A750>), (< cv2.DMatch 0000016BCEB6A770>, < cv2.DMatch 0000016BCEB6A790>), (< cv2.DMatch 0000016BCEB6A7B0>, < cv2.DMatch 0000016BCEB6A7D0>), (< cv2.DMatch 0000016BCEB6A7F0>, < cv2.DMatch 0000016BCEB6A810>), (< cv2.DMatch 0000016BCEB6A830>, < cv2.DMatch 0000016BCEB6A850>), (< cv2.DMatch 0000016BCEB6A870>, < cv2.DMatch 0000016BCEB6A890>), (< cv2.DMatch 0000016BCEB6A8B0>, < cv2.DMatch 0000016BCEB6A8D0>), (< cv2.DMatch 0000016BCEB6A8F0>, < cv2.DMatch 0000016BCEB6A910>), (< cv2.DMatch 0000016BCEB6A930>, < cv2.DMatch 0000016BCEB6A950>), (< cv2.DMatch 0000016BCEB6A970>, < cv2.DMatch 0000016BCEB6A990>), (< cv2.DMatch 0000016BCEB6A9B0>, < cv2.DMatch 0000016BCEB6A9D0>), (< cv2.DMatch 0000016BCEB6A9F0>, < cv2.DMatch 0000016BCEB6AA10>), (< cv2.DMatch 0000016BCEB6AA30>, < cv2.DMatch 0000016BCEB6AA50>), (< cv2.DMatch 0000016BCEB6AA70>, < cv2.DMatch 0000016BCEB6AA90>), (< cv2.DMatch 0000016BCEB6AAB0>, < cv2.DMatch 0000016BCEB6AAD0>), (< cv2.DMatch 0000016BCEB6AAF0>, < cv2.DMatch 0000016BCEB6AB10>), (< cv2.DMatch 0000016BCEB6AB30>, < cv2.DMatch 0000016BCEB6AB50>), (< cv2.DMatch 0000016BCEB6AB70>, < cv2.DMatch 0000016BCEB6AB90>), (< cv2.DMatch 0000016BCEB6ABB0>, < cv2.DMatch 0000016BCEB6ABD0>), (< cv2.DMatch 0000016BCEB6ABF0>, < cv2.DMatch 0000016BCEB6AC10>), (< cv2.DMatch 0000016BCEB6AC30>, < cv2.DMatch 0000016BCEB6AC50>), (< cv2.DMatch 0000016BCEB6AC70>, < cv2.DMatch 0000016BCEB6AC90>), (< cv2.DMatch 0000016BCEB6ACB0>, < cv2.DMatch 0000016BCEB6ACD0>), (< cv2.DMatch 0000016BCEB6ACF0>, < cv2.DMatch 0000016BCEB6AD10>), (< cv2.DMatch 0000016BCEB6AD30>, < cv2.DMatch 0000016BCEB6AD50>), (< cv2.DMatch 0000016BCEB6AD70>, < cv2.DMatch 0000016BCEB6AD90>), (< cv2.DMatch 0000016BCEB6ADB0>, < cv2.DMatch 0000016BCEB6ADD0>), (< cv2.DMatch 0000016BCEB6ADF0>, < cv2.DMatch 0000016BCEB6AE10>), (< cv2.DMatch 0000016BCEB6AE30>, < cv2.DMatch 0000016BCEB6AE50>))\n"
     ]
    },
    {
     "name": "stderr",
     "output_type": "stream",
     "text": [
      "\n"
     ]
    },
    {
     "ename": "AttributeError",
     "evalue": "'tuple' object has no attribute 'distance'",
     "output_type": "error",
     "traceback": [
      "\u001b[1;31m---------------------------------------------------------------------------\u001b[0m",
      "\u001b[1;31mAttributeError\u001b[0m                            Traceback (most recent call last)",
      "\u001b[1;32m~\\AppData\\Local\\Temp\\1\\ipykernel_14412\\1043749828.py\u001b[0m in \u001b[0;36m<module>\u001b[1;34m\u001b[0m\n\u001b[0;32m     53\u001b[0m         \u001b[1;31m#print(gallery_img_no,matches[j])\u001b[0m\u001b[1;33m\u001b[0m\u001b[1;33m\u001b[0m\u001b[0m\n\u001b[0;32m     54\u001b[0m \u001b[1;33m\u001b[0m\u001b[0m\n\u001b[1;32m---> 55\u001b[1;33m         \u001b[0mdist_record\u001b[0m\u001b[1;33m.\u001b[0m\u001b[0mappend\u001b[0m\u001b[1;33m(\u001b[0m\u001b[0mmatches\u001b[0m\u001b[1;33m.\u001b[0m\u001b[0mdistance\u001b[0m\u001b[1;33m)\u001b[0m\u001b[1;33m\u001b[0m\u001b[1;33m\u001b[0m\u001b[0m\n\u001b[0m\u001b[0;32m     56\u001b[0m     \u001b[1;31m# find the indexes with descending similarity order\u001b[0m\u001b[1;33m\u001b[0m\u001b[1;33m\u001b[0m\u001b[0m\n\u001b[0;32m     57\u001b[0m     \u001b[0mascend_index\u001b[0m\u001b[1;33m=\u001b[0m\u001b[0msorted\u001b[0m\u001b[1;33m(\u001b[0m\u001b[0mrange\u001b[0m\u001b[1;33m(\u001b[0m\u001b[0mlen\u001b[0m\u001b[1;33m(\u001b[0m\u001b[0mdist_record\u001b[0m\u001b[1;33m)\u001b[0m\u001b[1;33m)\u001b[0m\u001b[1;33m,\u001b[0m \u001b[0mkey\u001b[0m\u001b[1;33m=\u001b[0m\u001b[1;32mlambda\u001b[0m \u001b[0mk\u001b[0m\u001b[1;33m:\u001b[0m \u001b[0mdist_record\u001b[0m\u001b[1;33m[\u001b[0m\u001b[0mk\u001b[0m\u001b[1;33m]\u001b[0m\u001b[1;33m)\u001b[0m\u001b[1;33m\u001b[0m\u001b[1;33m\u001b[0m\u001b[0m\n",
      "\u001b[1;31mAttributeError\u001b[0m: 'tuple' object has no attribute 'distance'"
     ]
    }
   ],
   "source": [
    "# the iteration loop for query \n",
    "# iteration times is 2 here, only for the demonstration\n",
    "for i, query_img_no in enumerate(query_imgs_no[0:1]):\n",
    "    \n",
    "    time_s = time.time()\n",
    "    dist_record=[]\n",
    "    per_query_name=path_query+'/'+str(query_img_no)+'.jpg'\n",
    "    per_query=cv2.imread(per_query_name)\n",
    "    \n",
    "    # read boundary from text file\n",
    "    queryfilename = path_query_txt+'/'+str(query_img_no)+'.txt'\n",
    "    boundary_file = open(queryfilename, 'r')\n",
    "    boundary = boundary_file.readline().strip().split(' ')\n",
    "    boundary = [int(b) for b in boundary]\n",
    "    boundary_file.close()\n",
    "    \n",
    "    # crop the image\n",
    "    x ,y, w, h = boundary\n",
    "    query_boundary = per_query[y:y+h, x:x+w]\n",
    "    \n",
    "    # feature extraction for per query\n",
    "    # the bounding box information is not considered\n",
    "    # quite naive, just an example\n",
    "    per_query_kp, per_query_des = sift.detectAndCompute(query_boundary,None)\n",
    "    \n",
    "    # the iteration loop for gallery\n",
    "    for j, gallery_img_no in tqdm(enumerate(gallery_imgs_no), desc=f\"Processing query part {i}\"):\n",
    "        per_gallery_name = path_gallery+'/'+str(gallery_img_no)+'.jpg'\n",
    "        #print(j)\n",
    "        #print(per_gallery_name)\n",
    "        per_gallery=cv2.imread(per_gallery_name)\n",
    "        \n",
    "        # feature extraction for per gallery\n",
    "        per_gallery_kp, per_gallery_des = sift.detectAndCompute(per_gallery,None)\n",
    "        \n",
    "        # use part of the features to make the calculation feasible\n",
    "        # quite naive, just an example\n",
    "        bf = cv2.BFMatcher()\n",
    "        matches = bf.knnMatch(per_query_des,per_gallery_des,k=2)\n",
    "        distance = sum([match.distance for match in matches])/len(matches)\n",
    "        # filter good matches based on distance ratio test\n",
    "        good_matches = []\n",
    "        for m, n in matches:\n",
    "            if m.distance < 0.75 * n.distance:\n",
    "                good_matches.append(m)\n",
    "        \n",
    "        matches_sorted = sorted(good_matches,key = lambda x:x.distance)\n",
    "                \n",
    "        #per_result_img = cv2.drawMatches(query_boundary,per_query_kp,per_gallery,per_gallery_kp,matches_sorted[:10],None,flags=2)\n",
    "        #cv2.imshow('result',per_result_img)\n",
    "        #cv2.waitKey(0)\n",
    "        #cv2.destroyAllWindows()\n",
    "        #print(gallery_img_no,matches[j])\n",
    "        \n",
    "        dist_record.append(distance)\n",
    "    # find the indexes with descending similarity order\n",
    "    ascend_index=sorted(range(len(dist_record)), key=lambda k: dist_record[k])\n",
    "    \n",
    "    # update the results for one query \n",
    "    #ascend_index=sorted((matches), key=lambda k: k.distance)\n",
    "    record_all[i,:]= ascend_index\n",
    "\n",
    "    time_e = time.time()\n",
    "    print('retrieval time for query {} is {}s'.format(query_img_no, time_e-time_s))\n",
    "    query_idx = i\n",
    "    print(f'For query image No. {query_imgs_no[query_idx]}, the top ranked similar image No. is {gallery_imgs_no[int(record_all[query_idx][-1])]}.')"
   ]
  },
  {
   "cell_type": "markdown",
   "id": "ef9d3349",
   "metadata": {},
   "source": [
    "Output \n",
    "\n",
    "Save the rank list file."
   ]
  },
  {
   "cell_type": "code",
   "execution_count": null,
   "id": "5e5c8170",
   "metadata": {},
   "outputs": [],
   "source": [
    "# write the output file following the example\n",
    "f=open(r'./rank_list.txt','w')\n",
    "for i in range(num_query):\n",
    "    f.write('Q'+str(i+1)+': ')\n",
    "    for j in range(len(name_gallery)):\n",
    "        f.write(str(np.int32(record_all[i,j]))+' ')\n",
    "    f.write('\\n')\n",
    "f.close()"
   ]
  }
 ],
 "metadata": {
  "kernelspec": {
   "display_name": "Python 3 (ipykernel)",
   "language": "python",
   "name": "python3"
  },
  "language_info": {
   "codemirror_mode": {
    "name": "ipython",
    "version": 3
   },
   "file_extension": ".py",
   "mimetype": "text/x-python",
   "name": "python",
   "nbconvert_exporter": "python",
   "pygments_lexer": "ipython3",
   "version": "3.9.13"
  },
  "vscode": {
   "interpreter": {
    "hash": "837b4ffd63ad5f8bd5765fb566d5ddb5232b205bbcd69cfbb0e2de9f87d13d59"
   }
  }
 },
 "nbformat": 4,
 "nbformat_minor": 5
}
